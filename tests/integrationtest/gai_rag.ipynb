{
 "cells": [
  {
   "cell_type": "markdown",
   "metadata": {},
   "source": [
    "## 1. Install"
   ]
  },
  {
   "cell_type": "markdown",
   "metadata": {},
   "source": [
    "Create conda env `gai-rag-svr` and install gai-rag-svr package. After that, switch the kernel to `gai-rag-svr` before proceeding further.\n"
   ]
  },
  {
   "cell_type": "code",
   "execution_count": null,
   "metadata": {},
   "outputs": [],
   "source": [
    "%%bash\n",
    "conda create -n gai-rag-svr python=3.10.10 -y\n",
    "eval \"$(conda shell.bash hook)\" && conda activate gai-rag-svr\n",
    "cd ../..\n",
    "poetry install"
   ]
  },
  {
   "cell_type": "markdown",
   "metadata": {},
   "source": [
    "## 2. Load test configuration"
   ]
  },
  {
   "cell_type": "code",
   "execution_count": 3,
   "metadata": {},
   "outputs": [],
   "source": [
    "from gai.lib.server.singleton_host import SingletonHost\n",
    "from gai.lib.common.utils import free_mem\n",
    "from rich.console import Console\n",
    "console=Console()\n",
    "\n",
    "config = {\n",
    "    \"type\": \"rag\",\n",
    "    \"generator_name\": \"instructor-sentencepiece\",\n",
    "    \"chromadb\": {\n",
    "        \"path\": \"rag/chromadb\",\n",
    "        \"n_results\": 3\n",
    "    },\n",
    "    \"sqlite\": {\n",
    "        \"path\": \"rag/gai-rag.db\"\n",
    "    },\n",
    "    \"model_path\": \"models/instructor-large\",\n",
    "    \"device\": \"cuda\",\n",
    "    \"chunks\": {\n",
    "        \"size\": 1000,\n",
    "        \"overlap\": 100,\n",
    "        \"path\": \"chunks\"\n",
    "    },\n",
    "    \"module_name\": \"gai.rag.server.gai_rag\",\n",
    "    \"class_name\": \"RAG\",\n",
    "    \"init_args\": [],\n",
    "    \"init_kwargs\": {}\n",
    "}\n"
   ]
  },
  {
   "cell_type": "markdown",
   "metadata": {},
   "source": [
    "## 3. Load Model Test"
   ]
  },
  {
   "cell_type": "code",
   "execution_count": 4,
   "metadata": {},
   "outputs": [
    {
     "data": {
      "text/html": [
       "<pre style=\"white-space:pre;overflow-x:auto;line-height:normal;font-family:Menlo,'DejaVu Sans Mono',consolas,'Courier New',monospace\">Free memory: <span style=\"color: #00ff00; text-decoration-color: #00ff00; font-weight: bold\">5.57</span><span style=\"color: #00ff00; text-decoration-color: #00ff00\"> GB</span>\n",
       "</pre>\n"
      ],
      "text/plain": [
       "Free memory: \u001b[1;92m5.57\u001b[0m\u001b[92m GB\u001b[0m\n"
      ]
     },
     "metadata": {},
     "output_type": "display_data"
    },
    {
     "name": "stderr",
     "output_type": "stream",
     "text": [
      "\u001b[42m\u001b[30mINFO    \u001b[0m \u001b[32mRAG: device=cuda\u001b[0m\n",
      "\u001b[42m\u001b[30mINFO    \u001b[0m \u001b[32mRAG: sqlite=sqlite:///:memory:\u001b[0m\n"
     ]
    },
    {
     "name": "stdout",
     "output_type": "stream",
     "text": [
      "load INSTRUCTOR_Transformer\n",
      "max_seq_length  512\n"
     ]
    },
    {
     "data": {
      "text/html": [
       "<pre style=\"white-space:pre;overflow-x:auto;line-height:normal;font-family:Menlo,'DejaVu Sans Mono',consolas,'Courier New',monospace\"><span style=\"font-style: italic\">                         Performance load                          </span>\n",
       "┏━━━━━━━━━━━━━━━━━━━┳━━━━━━━━━━━━━━━┳━━━━━━━━━━━━━━┳━━━━━━━━━━━━━━┓\n",
       "┃<span style=\"color: #af00ff; text-decoration-color: #af00ff; font-weight: bold\"> Metric            </span>┃<span style=\"color: #af00ff; text-decoration-color: #af00ff; font-weight: bold\"> Initial Value </span>┃<span style=\"color: #af00ff; text-decoration-color: #af00ff; font-weight: bold\"> Change Value </span>┃<span style=\"color: #af00ff; text-decoration-color: #af00ff; font-weight: bold\">  Final Value </span>┃\n",
       "┡━━━━━━━━━━━━━━━━━━━╇━━━━━━━━━━━━━━━╇━━━━━━━━━━━━━━╇━━━━━━━━━━━━━━┩\n",
       "│<span style=\"color: #008080; text-decoration-color: #008080\"> Function Duration </span>│<span style=\"color: #008000; text-decoration-color: #008000\">             - </span>│<span style=\"color: #808000; text-decoration-color: #808000\"> 0.75 seconds </span>│<span style=\"color: #800080; text-decoration-color: #800080\"> 0.75 seconds </span>│\n",
       "│<span style=\"color: #008080; text-decoration-color: #008080\"> CPU Memory        </span>│<span style=\"color: #008000; text-decoration-color: #008000\">          - MB </span>│<span style=\"color: #808000; text-decoration-color: #808000\">      1.49 MB </span>│<span style=\"color: #800080; text-decoration-color: #800080\">      1.49 MB </span>│\n",
       "│<span style=\"color: #008080; text-decoration-color: #008080\"> CUDA Memory       </span>│<span style=\"color: #008000; text-decoration-color: #008000\">       5.56 GB </span>│<span style=\"color: #808000; text-decoration-color: #808000\">      0.00 GB </span>│<span style=\"color: #800080; text-decoration-color: #800080\">      5.56 GB </span>│\n",
       "└───────────────────┴───────────────┴──────────────┴──────────────┘\n",
       "</pre>\n"
      ],
      "text/plain": [
       "\u001b[3m                         Performance load                          \u001b[0m\n",
       "┏━━━━━━━━━━━━━━━━━━━┳━━━━━━━━━━━━━━━┳━━━━━━━━━━━━━━┳━━━━━━━━━━━━━━┓\n",
       "┃\u001b[1;38;5;129m \u001b[0m\u001b[1;38;5;129mMetric           \u001b[0m\u001b[1;38;5;129m \u001b[0m┃\u001b[1;38;5;129m \u001b[0m\u001b[1;38;5;129mInitial Value\u001b[0m\u001b[1;38;5;129m \u001b[0m┃\u001b[1;38;5;129m \u001b[0m\u001b[1;38;5;129mChange Value\u001b[0m\u001b[1;38;5;129m \u001b[0m┃\u001b[1;38;5;129m \u001b[0m\u001b[1;38;5;129m Final Value\u001b[0m\u001b[1;38;5;129m \u001b[0m┃\n",
       "┡━━━━━━━━━━━━━━━━━━━╇━━━━━━━━━━━━━━━╇━━━━━━━━━━━━━━╇━━━━━━━━━━━━━━┩\n",
       "│\u001b[36m \u001b[0m\u001b[36mFunction Duration\u001b[0m\u001b[36m \u001b[0m│\u001b[32m \u001b[0m\u001b[32m            -\u001b[0m\u001b[32m \u001b[0m│\u001b[33m \u001b[0m\u001b[33m0.75 seconds\u001b[0m\u001b[33m \u001b[0m│\u001b[35m \u001b[0m\u001b[35m0.75 seconds\u001b[0m\u001b[35m \u001b[0m│\n",
       "│\u001b[36m \u001b[0m\u001b[36mCPU Memory       \u001b[0m\u001b[36m \u001b[0m│\u001b[32m \u001b[0m\u001b[32m         - MB\u001b[0m\u001b[32m \u001b[0m│\u001b[33m \u001b[0m\u001b[33m     1.49 MB\u001b[0m\u001b[33m \u001b[0m│\u001b[35m \u001b[0m\u001b[35m     1.49 MB\u001b[0m\u001b[35m \u001b[0m│\n",
       "│\u001b[36m \u001b[0m\u001b[36mCUDA Memory      \u001b[0m\u001b[36m \u001b[0m│\u001b[32m \u001b[0m\u001b[32m      5.56 GB\u001b[0m\u001b[32m \u001b[0m│\u001b[33m \u001b[0m\u001b[33m     0.00 GB\u001b[0m\u001b[33m \u001b[0m│\u001b[35m \u001b[0m\u001b[35m     5.56 GB\u001b[0m\u001b[35m \u001b[0m│\n",
       "└───────────────────┴───────────────┴──────────────┴──────────────┘\n"
      ]
     },
     "metadata": {},
     "output_type": "display_data"
    },
    {
     "data": {
      "text/html": [
       "<pre style=\"white-space:pre;overflow-x:auto;line-height:normal;font-family:Menlo,'DejaVu Sans Mono',consolas,'Courier New',monospace\">Free memory: <span style=\"color: #00ff00; text-decoration-color: #00ff00; font-weight: bold\">5.56</span><span style=\"color: #00ff00; text-decoration-color: #00ff00\"> GB</span>\n",
       "</pre>\n"
      ],
      "text/plain": [
       "Free memory: \u001b[1;92m5.56\u001b[0m\u001b[92m GB\u001b[0m\n"
      ]
     },
     "metadata": {},
     "output_type": "display_data"
    },
    {
     "data": {
      "text/html": [
       "<pre style=\"white-space:pre;overflow-x:auto;line-height:normal;font-family:Menlo,'DejaVu Sans Mono',consolas,'Courier New',monospace\">Free memory: <span style=\"color: #00ff00; text-decoration-color: #00ff00; font-weight: bold\">5.56</span><span style=\"color: #00ff00; text-decoration-color: #00ff00\"> GB</span>\n",
       "</pre>\n"
      ],
      "text/plain": [
       "Free memory: \u001b[1;92m5.56\u001b[0m\u001b[92m GB\u001b[0m\n"
      ]
     },
     "metadata": {},
     "output_type": "display_data"
    }
   ],
   "source": [
    "# before loading\n",
    "free_mem()\n",
    "try:\n",
    "    with SingletonHost.GetInstanceFromConfig(config) as host:\n",
    "\n",
    "        # after loading\n",
    "        free_mem()\n",
    "except Exception as e:\n",
    "    raise e\n",
    "finally:\n",
    "    # after disposal\n",
    "    free_mem()\n",
    "    "
   ]
  },
  {
   "cell_type": "markdown",
   "metadata": {},
   "source": [
    "## Indexing"
   ]
  },
  {
   "cell_type": "code",
   "execution_count": 5,
   "metadata": {},
   "outputs": [
    {
     "name": "stderr",
     "output_type": "stream",
     "text": [
      "\u001b[42m\u001b[30mINFO    \u001b[0m \u001b[32mRAG: device=cuda\u001b[0m\n",
      "\u001b[42m\u001b[30mINFO    \u001b[0m \u001b[32mRAG: sqlite=sqlite:///:memory:\u001b[0m\n"
     ]
    },
    {
     "name": "stdout",
     "output_type": "stream",
     "text": [
      "load INSTRUCTOR_Transformer\n",
      "max_seq_length  512\n"
     ]
    },
    {
     "data": {
      "text/html": [
       "<pre style=\"white-space:pre;overflow-x:auto;line-height:normal;font-family:Menlo,'DejaVu Sans Mono',consolas,'Courier New',monospace\"><span style=\"font-style: italic\">                         Performance load                          </span>\n",
       "┏━━━━━━━━━━━━━━━━━━━┳━━━━━━━━━━━━━━━┳━━━━━━━━━━━━━━┳━━━━━━━━━━━━━━┓\n",
       "┃<span style=\"color: #af00ff; text-decoration-color: #af00ff; font-weight: bold\"> Metric            </span>┃<span style=\"color: #af00ff; text-decoration-color: #af00ff; font-weight: bold\"> Initial Value </span>┃<span style=\"color: #af00ff; text-decoration-color: #af00ff; font-weight: bold\"> Change Value </span>┃<span style=\"color: #af00ff; text-decoration-color: #af00ff; font-weight: bold\">  Final Value </span>┃\n",
       "┡━━━━━━━━━━━━━━━━━━━╇━━━━━━━━━━━━━━━╇━━━━━━━━━━━━━━╇━━━━━━━━━━━━━━┩\n",
       "│<span style=\"color: #008080; text-decoration-color: #008080\"> Function Duration </span>│<span style=\"color: #008000; text-decoration-color: #008000\">             - </span>│<span style=\"color: #808000; text-decoration-color: #808000\"> 0.75 seconds </span>│<span style=\"color: #800080; text-decoration-color: #800080\"> 0.75 seconds </span>│\n",
       "│<span style=\"color: #008080; text-decoration-color: #008080\"> CPU Memory        </span>│<span style=\"color: #008000; text-decoration-color: #008000\">          - MB </span>│<span style=\"color: #808000; text-decoration-color: #808000\">      1.49 MB </span>│<span style=\"color: #800080; text-decoration-color: #800080\">      1.49 MB </span>│\n",
       "│<span style=\"color: #008080; text-decoration-color: #008080\"> CUDA Memory       </span>│<span style=\"color: #008000; text-decoration-color: #008000\">       5.59 GB </span>│<span style=\"color: #808000; text-decoration-color: #808000\">      0.01 GB </span>│<span style=\"color: #800080; text-decoration-color: #800080\">      5.58 GB </span>│\n",
       "└───────────────────┴───────────────┴──────────────┴──────────────┘\n",
       "</pre>\n"
      ],
      "text/plain": [
       "\u001b[3m                         Performance load                          \u001b[0m\n",
       "┏━━━━━━━━━━━━━━━━━━━┳━━━━━━━━━━━━━━━┳━━━━━━━━━━━━━━┳━━━━━━━━━━━━━━┓\n",
       "┃\u001b[1;38;5;129m \u001b[0m\u001b[1;38;5;129mMetric           \u001b[0m\u001b[1;38;5;129m \u001b[0m┃\u001b[1;38;5;129m \u001b[0m\u001b[1;38;5;129mInitial Value\u001b[0m\u001b[1;38;5;129m \u001b[0m┃\u001b[1;38;5;129m \u001b[0m\u001b[1;38;5;129mChange Value\u001b[0m\u001b[1;38;5;129m \u001b[0m┃\u001b[1;38;5;129m \u001b[0m\u001b[1;38;5;129m Final Value\u001b[0m\u001b[1;38;5;129m \u001b[0m┃\n",
       "┡━━━━━━━━━━━━━━━━━━━╇━━━━━━━━━━━━━━━╇━━━━━━━━━━━━━━╇━━━━━━━━━━━━━━┩\n",
       "│\u001b[36m \u001b[0m\u001b[36mFunction Duration\u001b[0m\u001b[36m \u001b[0m│\u001b[32m \u001b[0m\u001b[32m            -\u001b[0m\u001b[32m \u001b[0m│\u001b[33m \u001b[0m\u001b[33m0.75 seconds\u001b[0m\u001b[33m \u001b[0m│\u001b[35m \u001b[0m\u001b[35m0.75 seconds\u001b[0m\u001b[35m \u001b[0m│\n",
       "│\u001b[36m \u001b[0m\u001b[36mCPU Memory       \u001b[0m\u001b[36m \u001b[0m│\u001b[32m \u001b[0m\u001b[32m         - MB\u001b[0m\u001b[32m \u001b[0m│\u001b[33m \u001b[0m\u001b[33m     1.49 MB\u001b[0m\u001b[33m \u001b[0m│\u001b[35m \u001b[0m\u001b[35m     1.49 MB\u001b[0m\u001b[35m \u001b[0m│\n",
       "│\u001b[36m \u001b[0m\u001b[36mCUDA Memory      \u001b[0m\u001b[36m \u001b[0m│\u001b[32m \u001b[0m\u001b[32m      5.59 GB\u001b[0m\u001b[32m \u001b[0m│\u001b[33m \u001b[0m\u001b[33m     0.01 GB\u001b[0m\u001b[33m \u001b[0m│\u001b[35m \u001b[0m\u001b[35m     5.58 GB\u001b[0m\u001b[35m \u001b[0m│\n",
       "└───────────────────┴───────────────┴──────────────┴──────────────┘\n"
      ]
     },
     "metadata": {},
     "output_type": "display_data"
    },
    {
     "name": "stderr",
     "output_type": "stream",
     "text": [
      "\u001b[42m\u001b[30mINFO    \u001b[0m \u001b[32mrag.index_document_header_async: request started. collection_name=demo file_path=./pm_long_speech_2023.txt title=2023 National Day Rally Speech source=https://www.pmo.gov.sg/Newsroom/2023-National-Day-Rally-Speech abstract=None authors=None publisher=None published_date=None comments=None keywords=None\u001b[0m\n",
      "\u001b[45m\u001b[30mDEBUG   \u001b[0m \u001b[35mrag.index_document_header_async: creating doc header with id=PwR6VmXqAfwjn84ZM6dePsLWTldPv8cNS5dESYlsY2U.\u001b[0m\n",
      "\u001b[45m\u001b[30mDEBUG   \u001b[0m \u001b[35mrag.index_document_header_async: document_header created. id=PwR6VmXqAfwjn84ZM6dePsLWTldPv8cNS5dESYlsY2U\u001b[0m\n",
      "\u001b[42m\u001b[30mINFO    \u001b[0m \u001b[32mrag.index_document_split_async: splitting chunks\u001b[0m\n",
      "\u001b[42m\u001b[30mINFO    \u001b[0m \u001b[32mrag.index_document_split_async: chunkgroup created. chunkgroup_id=3e2c4af8-3313-4d95-840e-4a368790017b\u001b[0m\n",
      "100%|██████████| 66/66 [00:00<00:00, 635.66it/s]\n",
      "\u001b[42m\u001b[30mINFO    \u001b[0m \u001b[32mrag.index_document_split_async: chunks created. count=66\u001b[0m\n",
      "\u001b[42m\u001b[30mINFO    \u001b[0m \u001b[32mRAG.index_document_index_async: Start indexing...\u001b[0m\n",
      "0it [00:00, ?it/s]\u001b[45m\u001b[30mDEBUG   \u001b[0m \u001b[35mRAG.index_document_index_async: Indexed 1/66 chunk 615a7dae-fd0e-44c9-9613-d944aab9253c into collection demo\u001b[0m\n",
      "1it [00:04,  4.07s/it]\u001b[45m\u001b[30mDEBUG   \u001b[0m \u001b[35mRAG.index_document_index_async: Indexed 2/66 chunk a1df20ab-bf6e-4d00-af5b-1765496e45ac into collection demo\u001b[0m\n",
      "\u001b[45m\u001b[30mDEBUG   \u001b[0m \u001b[35mRAG.index_document_index_async: Indexed 3/66 chunk 4e21035b-70db-4b65-96d2-ebbc38402d48 into collection demo\u001b[0m\n",
      "\u001b[45m\u001b[30mDEBUG   \u001b[0m \u001b[35mRAG.index_document_index_async: Indexed 4/66 chunk e531428e-b45f-458c-a47d-e3ad13d70fbf into collection demo\u001b[0m\n",
      "4it [00:04,  1.23it/s]\u001b[45m\u001b[30mDEBUG   \u001b[0m \u001b[35mRAG.index_document_index_async: Indexed 5/66 chunk a8eef753-f59c-441d-80ca-1fd3d8693e0d into collection demo\u001b[0m\n",
      "\u001b[45m\u001b[30mDEBUG   \u001b[0m \u001b[35mRAG.index_document_index_async: Indexed 6/66 chunk 52441e13-77e5-41e9-967e-01cf709153c3 into collection demo\u001b[0m\n",
      "6it [00:04,  2.06it/s]\u001b[45m\u001b[30mDEBUG   \u001b[0m \u001b[35mRAG.index_document_index_async: Indexed 7/66 chunk a8111c48-485b-4b79-bbe1-8b30ac27d543 into collection demo\u001b[0m\n",
      "\u001b[45m\u001b[30mDEBUG   \u001b[0m \u001b[35mRAG.index_document_index_async: Indexed 8/66 chunk 6fe07301-145e-461e-a5b9-baed6fb2fef4 into collection demo\u001b[0m\n",
      "8it [00:04,  3.07it/s]\u001b[45m\u001b[30mDEBUG   \u001b[0m \u001b[35mRAG.index_document_index_async: Indexed 9/66 chunk e921b2af-0618-4906-9833-94c55552f43f into collection demo\u001b[0m\n",
      "\u001b[45m\u001b[30mDEBUG   \u001b[0m \u001b[35mRAG.index_document_index_async: Indexed 10/66 chunk c8ce61d7-b449-4645-9267-f989751370e7 into collection demo\u001b[0m\n",
      "\u001b[45m\u001b[30mDEBUG   \u001b[0m \u001b[35mRAG.index_document_index_async: Indexed 11/66 chunk 086539ff-2aa7-4398-ae5c-8905e4a56c86 into collection demo\u001b[0m\n",
      "11it [00:04,  5.00it/s]\u001b[45m\u001b[30mDEBUG   \u001b[0m \u001b[35mRAG.index_document_index_async: Indexed 12/66 chunk c3653255-04b4-46ee-a86f-006944073fba into collection demo\u001b[0m\n",
      "\u001b[45m\u001b[30mDEBUG   \u001b[0m \u001b[35mRAG.index_document_index_async: Indexed 13/66 chunk 7d379542-3c76-4d62-844d-795e5c0dfe60 into collection demo\u001b[0m\n",
      "13it [00:04,  6.33it/s]\u001b[45m\u001b[30mDEBUG   \u001b[0m \u001b[35mRAG.index_document_index_async: Indexed 14/66 chunk c37e743d-4c98-4a91-9ab3-f4007f42c9c5 into collection demo\u001b[0m\n",
      "\u001b[45m\u001b[30mDEBUG   \u001b[0m \u001b[35mRAG.index_document_index_async: Indexed 15/66 chunk 56a67eea-566f-4375-8fc3-d56966c6f514 into collection demo\u001b[0m\n",
      "\u001b[45m\u001b[30mDEBUG   \u001b[0m \u001b[35mRAG.index_document_index_async: Indexed 16/66 chunk 203e651f-463f-49b5-832b-2805daff1b36 into collection demo\u001b[0m\n",
      "16it [00:04,  8.59it/s]\u001b[45m\u001b[30mDEBUG   \u001b[0m \u001b[35mRAG.index_document_index_async: Indexed 17/66 chunk 69027dc3-0652-45cc-b3a2-5f0f9584c4bf into collection demo\u001b[0m\n",
      "\u001b[45m\u001b[30mDEBUG   \u001b[0m \u001b[35mRAG.index_document_index_async: Indexed 18/66 chunk 50aef592-3c7b-4ba5-ad2a-8d803fed6b08 into collection demo\u001b[0m\n",
      "18it [00:05,  9.85it/s]\u001b[45m\u001b[30mDEBUG   \u001b[0m \u001b[35mRAG.index_document_index_async: Indexed 19/66 chunk 332a806f-2866-4538-8d2d-f846e255fcd3 into collection demo\u001b[0m\n",
      "\u001b[45m\u001b[30mDEBUG   \u001b[0m \u001b[35mRAG.index_document_index_async: Indexed 20/66 chunk bd1e36e2-998f-43e2-9547-3c78dd91a682 into collection demo\u001b[0m\n",
      "20it [00:05, 11.45it/s]\u001b[45m\u001b[30mDEBUG   \u001b[0m \u001b[35mRAG.index_document_index_async: Indexed 21/66 chunk f305d8ad-a38b-48e6-a2b2-f8cecdf62be1 into collection demo\u001b[0m\n",
      "\u001b[45m\u001b[30mDEBUG   \u001b[0m \u001b[35mRAG.index_document_index_async: Indexed 22/66 chunk 584170aa-ae17-436e-8786-de4a6117a42b into collection demo\u001b[0m\n",
      "22it [00:05, 12.76it/s]\u001b[45m\u001b[30mDEBUG   \u001b[0m \u001b[35mRAG.index_document_index_async: Indexed 23/66 chunk 91a2e1fb-9623-49a8-b69b-13b937657464 into collection demo\u001b[0m\n",
      "\u001b[45m\u001b[30mDEBUG   \u001b[0m \u001b[35mRAG.index_document_index_async: Indexed 24/66 chunk a60a1d36-09e9-4c04-b085-01a9632cbf46 into collection demo\u001b[0m\n",
      "24it [00:05, 14.26it/s]\u001b[45m\u001b[30mDEBUG   \u001b[0m \u001b[35mRAG.index_document_index_async: Indexed 25/66 chunk bc3fec24-04b1-4c45-b56b-6caf48fcd936 into collection demo\u001b[0m\n",
      "\u001b[45m\u001b[30mDEBUG   \u001b[0m \u001b[35mRAG.index_document_index_async: Indexed 26/66 chunk 54bd8af8-ae15-4764-9fb3-fffd74aae0b7 into collection demo\u001b[0m\n",
      "26it [00:05, 14.80it/s]\u001b[45m\u001b[30mDEBUG   \u001b[0m \u001b[35mRAG.index_document_index_async: Indexed 27/66 chunk 78a4e776-fd5e-4292-ab9b-9c286c367a1f into collection demo\u001b[0m\n",
      "\u001b[45m\u001b[30mDEBUG   \u001b[0m \u001b[35mRAG.index_document_index_async: Indexed 28/66 chunk 32d2943a-693b-4e5b-a0dd-0e4d5a5c41c9 into collection demo\u001b[0m\n",
      "\u001b[45m\u001b[30mDEBUG   \u001b[0m \u001b[35mRAG.index_document_index_async: Indexed 29/66 chunk 5bc647ab-23a2-48cc-8e5d-69f3caf0dacd into collection demo\u001b[0m\n",
      "29it [00:05, 16.59it/s]\u001b[45m\u001b[30mDEBUG   \u001b[0m \u001b[35mRAG.index_document_index_async: Indexed 30/66 chunk 49271049-18c6-48e5-a701-1aedd4d794bb into collection demo\u001b[0m\n",
      "\u001b[45m\u001b[30mDEBUG   \u001b[0m \u001b[35mRAG.index_document_index_async: Indexed 31/66 chunk 2829a216-cc12-4e4e-bb5c-e1fad1fd9243 into collection demo\u001b[0m\n",
      "\u001b[45m\u001b[30mDEBUG   \u001b[0m \u001b[35mRAG.index_document_index_async: Indexed 32/66 chunk 3eacc86f-facf-4cbe-8ff6-718273b80ff8 into collection demo\u001b[0m\n",
      "32it [00:05, 18.36it/s]\u001b[45m\u001b[30mDEBUG   \u001b[0m \u001b[35mRAG.index_document_index_async: Indexed 33/66 chunk 9455d07a-29c0-4296-9d5c-cc6d10aa2fbc into collection demo\u001b[0m\n",
      "\u001b[45m\u001b[30mDEBUG   \u001b[0m \u001b[35mRAG.index_document_index_async: Indexed 34/66 chunk 2dea5221-e15c-4156-9744-f61cd2d70999 into collection demo\u001b[0m\n",
      "34it [00:05, 18.71it/s]\u001b[45m\u001b[30mDEBUG   \u001b[0m \u001b[35mRAG.index_document_index_async: Indexed 35/66 chunk 95681271-8e50-49f6-937b-60d63630192a into collection demo\u001b[0m\n",
      "\u001b[45m\u001b[30mDEBUG   \u001b[0m \u001b[35mRAG.index_document_index_async: Indexed 36/66 chunk 1b900d2b-2134-4134-bdc7-086ffd108015 into collection demo\u001b[0m\n",
      "36it [00:05, 17.67it/s]\u001b[45m\u001b[30mDEBUG   \u001b[0m \u001b[35mRAG.index_document_index_async: Indexed 37/66 chunk de5cfaef-8ad0-4c2d-8faa-917a8bd3c6b7 into collection demo\u001b[0m\n",
      "\u001b[45m\u001b[30mDEBUG   \u001b[0m \u001b[35mRAG.index_document_index_async: Indexed 38/66 chunk 9fb11adb-116a-4a48-8452-9e7cf434d35e into collection demo\u001b[0m\n",
      "38it [00:06, 17.37it/s]\u001b[45m\u001b[30mDEBUG   \u001b[0m \u001b[35mRAG.index_document_index_async: Indexed 39/66 chunk a788c792-de33-49d8-b30a-5d755cd32e3c into collection demo\u001b[0m\n",
      "\u001b[45m\u001b[30mDEBUG   \u001b[0m \u001b[35mRAG.index_document_index_async: Indexed 40/66 chunk d873bc71-ebef-4a63-b3a3-41067d59e43b into collection demo\u001b[0m\n",
      "40it [00:06, 17.95it/s]\u001b[45m\u001b[30mDEBUG   \u001b[0m \u001b[35mRAG.index_document_index_async: Indexed 41/66 chunk a4c2535b-b32b-4a1e-84f0-f4706c0c5563 into collection demo\u001b[0m\n",
      "\u001b[45m\u001b[30mDEBUG   \u001b[0m \u001b[35mRAG.index_document_index_async: Indexed 42/66 chunk 311ae1ca-1577-4180-81d4-b979739296ba into collection demo\u001b[0m\n",
      "42it [00:06, 18.30it/s]\u001b[45m\u001b[30mDEBUG   \u001b[0m \u001b[35mRAG.index_document_index_async: Indexed 43/66 chunk 22b31bbd-2f9d-4924-bf3d-9a41aa298105 into collection demo\u001b[0m\n",
      "\u001b[45m\u001b[30mDEBUG   \u001b[0m \u001b[35mRAG.index_document_index_async: Indexed 44/66 chunk c2c71ae9-869c-4f40-a826-a2930905c043 into collection demo\u001b[0m\n",
      "44it [00:06, 18.49it/s]\u001b[45m\u001b[30mDEBUG   \u001b[0m \u001b[35mRAG.index_document_index_async: Indexed 45/66 chunk f5f4c7d6-01ff-4ac6-9059-c810014a9436 into collection demo\u001b[0m\n",
      "\u001b[45m\u001b[30mDEBUG   \u001b[0m \u001b[35mRAG.index_document_index_async: Indexed 46/66 chunk 380d326f-5b43-4640-8042-fabf34e9da03 into collection demo\u001b[0m\n",
      "46it [00:06, 18.88it/s]\u001b[45m\u001b[30mDEBUG   \u001b[0m \u001b[35mRAG.index_document_index_async: Indexed 47/66 chunk ba233036-272f-4716-8d9d-ea680779f99e into collection demo\u001b[0m\n",
      "\u001b[45m\u001b[30mDEBUG   \u001b[0m \u001b[35mRAG.index_document_index_async: Indexed 48/66 chunk 306c4670-3ae7-471e-8b37-b4c16f4449e3 into collection demo\u001b[0m\n",
      "48it [00:06, 18.87it/s]\u001b[45m\u001b[30mDEBUG   \u001b[0m \u001b[35mRAG.index_document_index_async: Indexed 49/66 chunk ce971f47-4ce4-4fd4-859c-125609bf7148 into collection demo\u001b[0m\n",
      "\u001b[45m\u001b[30mDEBUG   \u001b[0m \u001b[35mRAG.index_document_index_async: Indexed 50/66 chunk 52be2632-d8e2-4b17-ba79-04c231a47b52 into collection demo\u001b[0m\n",
      "50it [00:06, 17.92it/s]\u001b[45m\u001b[30mDEBUG   \u001b[0m \u001b[35mRAG.index_document_index_async: Indexed 51/66 chunk db56049a-82ac-422a-a3a9-f3bb2c9a1c12 into collection demo\u001b[0m\n",
      "\u001b[45m\u001b[30mDEBUG   \u001b[0m \u001b[35mRAG.index_document_index_async: Indexed 52/66 chunk 2b144122-8dc7-4847-8df5-638f63e1d07e into collection demo\u001b[0m\n",
      "52it [00:06, 18.25it/s]\u001b[45m\u001b[30mDEBUG   \u001b[0m \u001b[35mRAG.index_document_index_async: Indexed 53/66 chunk 120c2956-817a-4c91-a261-36c2da424201 into collection demo\u001b[0m\n",
      "\u001b[45m\u001b[30mDEBUG   \u001b[0m \u001b[35mRAG.index_document_index_async: Indexed 54/66 chunk a98446dd-fc7c-4a55-bb30-9e491e448635 into collection demo\u001b[0m\n",
      "54it [00:06, 17.85it/s]\u001b[45m\u001b[30mDEBUG   \u001b[0m \u001b[35mRAG.index_document_index_async: Indexed 55/66 chunk 1dee4a63-a721-4001-a6df-b672296fd41b into collection demo\u001b[0m\n",
      "\u001b[45m\u001b[30mDEBUG   \u001b[0m \u001b[35mRAG.index_document_index_async: Indexed 56/66 chunk dba33313-af06-4ac7-80c6-03b1d78a38a9 into collection demo\u001b[0m\n",
      "56it [00:07, 18.09it/s]\u001b[45m\u001b[30mDEBUG   \u001b[0m \u001b[35mRAG.index_document_index_async: Indexed 57/66 chunk 3dddc339-a0a5-4a95-927e-2e140a3d1364 into collection demo\u001b[0m\n",
      "\u001b[45m\u001b[30mDEBUG   \u001b[0m \u001b[35mRAG.index_document_index_async: Indexed 58/66 chunk 879677ee-ec7f-46b0-8f18-1ef8f5fed095 into collection demo\u001b[0m\n",
      "58it [00:07, 18.56it/s]\u001b[45m\u001b[30mDEBUG   \u001b[0m \u001b[35mRAG.index_document_index_async: Indexed 59/66 chunk 94bd6022-d880-4861-bc0b-5f29aba1171c into collection demo\u001b[0m\n",
      "\u001b[45m\u001b[30mDEBUG   \u001b[0m \u001b[35mRAG.index_document_index_async: Indexed 60/66 chunk 178ecf37-acc1-480f-9e8b-ceabbf194dd9 into collection demo\u001b[0m\n",
      "\u001b[45m\u001b[30mDEBUG   \u001b[0m \u001b[35mRAG.index_document_index_async: Indexed 61/66 chunk ac19c69c-5b85-46bf-8903-b92b2974d249 into collection demo\u001b[0m\n",
      "61it [00:07, 19.35it/s]\u001b[45m\u001b[30mDEBUG   \u001b[0m \u001b[35mRAG.index_document_index_async: Indexed 62/66 chunk de39a004-716e-4ac8-b4e1-99e6a24c6a37 into collection demo\u001b[0m\n",
      "\u001b[45m\u001b[30mDEBUG   \u001b[0m \u001b[35mRAG.index_document_index_async: Indexed 63/66 chunk a3a69601-225b-438b-9c64-dfa0ea2536db into collection demo\u001b[0m\n",
      "\u001b[45m\u001b[30mDEBUG   \u001b[0m \u001b[35mRAG.index_document_index_async: Indexed 64/66 chunk ba596692-0127-4d4f-b7c8-ba8adcab612f into collection demo\u001b[0m\n",
      "64it [00:07, 20.21it/s]\u001b[45m\u001b[30mDEBUG   \u001b[0m \u001b[35mRAG.index_document_index_async: Indexed 65/66 chunk 4875ffd7-c7b9-4a57-a72a-3a08784494f4 into collection demo\u001b[0m\n",
      "\u001b[45m\u001b[30mDEBUG   \u001b[0m \u001b[35mRAG.index_document_index_async: Indexed 66/66 chunk 6196633b-e173-476b-ab8b-2aac887fa49e into collection demo\u001b[0m\n",
      "66it [00:07,  8.71it/s]\n",
      "\u001b[42m\u001b[30mINFO    \u001b[0m \u001b[32mRAG.index_async: indexing...done\u001b[0m\n"
     ]
    },
    {
     "data": {
      "text/html": [
       "<pre style=\"white-space:pre;overflow-x:auto;line-height:normal;font-family:Menlo,'DejaVu Sans Mono',consolas,'Courier New',monospace\">Free memory: <span style=\"color: #00ff00; text-decoration-color: #00ff00; font-weight: bold\">5.45</span><span style=\"color: #00ff00; text-decoration-color: #00ff00\"> GB</span>\n",
       "</pre>\n"
      ],
      "text/plain": [
       "Free memory: \u001b[1;92m5.45\u001b[0m\u001b[92m GB\u001b[0m\n"
      ]
     },
     "metadata": {},
     "output_type": "display_data"
    }
   ],
   "source": [
    "from gai.rag.server.gai_rag import RAG\n",
    "\n",
    "try:\n",
    "    with SingletonHost.GetInstanceFromConfig(config) as host:\n",
    "        rag = host.generator\n",
    "\n",
    "        # Index\n",
    "        doc_id = await rag.index_async(\n",
    "            collection_name='demo',\n",
    "            file_path=\"./pm_long_speech_2023.txt\",\n",
    "            file_type='txt',\n",
    "            source=\"https://www.pmo.gov.sg/Newsroom/2023-National-Day-Rally-Speech\",\n",
    "            title=\"2023 National Day Rally Speech\"\n",
    "            )\n",
    "\n",
    "except Exception as e:\n",
    "    raise e\n",
    "finally:\n",
    "    # after disposal\n",
    "    free_mem()\n"
   ]
  },
  {
   "cell_type": "code",
   "execution_count": 5,
   "metadata": {},
   "outputs": [
    {
     "name": "stderr",
     "output_type": "stream",
     "text": [
      "\u001b[42m\u001b[30mINFO    \u001b[0m \u001b[32mRAG: device=cuda\u001b[0m\n",
      "\u001b[42m\u001b[30mINFO    \u001b[0m \u001b[32mRAG: sqlite=sqlite:///:memory:\u001b[0m\n"
     ]
    },
    {
     "name": "stdout",
     "output_type": "stream",
     "text": [
      "load INSTRUCTOR_Transformer\n",
      "max_seq_length  512\n"
     ]
    },
    {
     "name": "stderr",
     "output_type": "stream",
     "text": [
      "/home/roylai/miniconda/envs/gai-rag-svr/lib/python3.10/site-packages/transformers/tokenization_utils_base.py:1601: FutureWarning: `clean_up_tokenization_spaces` was not set. It will be set to `True` by default. This behavior will be depracted in transformers v4.45, and will be then set to `False` by default. For more details check this issue: https://github.com/huggingface/transformers/issues/31884\n",
      "  warnings.warn(\n",
      "/home/roylai/miniconda/envs/gai-rag-svr/lib/python3.10/site-packages/sentence_transformers/models/Dense.py:63: FutureWarning: You are using `torch.load` with `weights_only=False` (the current default value), which uses the default pickle module implicitly. It is possible to construct malicious pickle data which will execute arbitrary code during unpickling (See https://github.com/pytorch/pytorch/blob/main/SECURITY.md#untrusted-models for more details). In a future release, the default value for `weights_only` will be flipped to `True`. This limits the functions that could be executed during unpickling. Arbitrary objects will no longer be allowed to be loaded via this mode unless they are explicitly allowlisted by the user via `torch.serialization.add_safe_globals`. We recommend you start setting `weights_only=True` for any use case where you don't have full control of the loaded file. Please open an issue on GitHub for any issues related to this experimental feature.\n",
      "  model.load_state_dict(torch.load(os.path.join(input_path, 'pytorch_model.bin'), map_location=torch.device('cpu')))\n"
     ]
    },
    {
     "data": {
      "text/html": [
       "<pre style=\"white-space:pre;overflow-x:auto;line-height:normal;font-family:Menlo,'DejaVu Sans Mono',consolas,'Courier New',monospace\"><span style=\"font-style: italic\">                         Performance load                          </span>\n",
       "┏━━━━━━━━━━━━━━━━━━━┳━━━━━━━━━━━━━━━┳━━━━━━━━━━━━━━┳━━━━━━━━━━━━━━┓\n",
       "┃<span style=\"color: #af00ff; text-decoration-color: #af00ff; font-weight: bold\"> Metric            </span>┃<span style=\"color: #af00ff; text-decoration-color: #af00ff; font-weight: bold\"> Initial Value </span>┃<span style=\"color: #af00ff; text-decoration-color: #af00ff; font-weight: bold\"> Change Value </span>┃<span style=\"color: #af00ff; text-decoration-color: #af00ff; font-weight: bold\">  Final Value </span>┃\n",
       "┡━━━━━━━━━━━━━━━━━━━╇━━━━━━━━━━━━━━━╇━━━━━━━━━━━━━━╇━━━━━━━━━━━━━━┩\n",
       "│<span style=\"color: #008080; text-decoration-color: #008080\"> Function Duration </span>│<span style=\"color: #008000; text-decoration-color: #008000\">             - </span>│<span style=\"color: #808000; text-decoration-color: #808000\"> 0.79 seconds </span>│<span style=\"color: #800080; text-decoration-color: #800080\"> 0.79 seconds </span>│\n",
       "│<span style=\"color: #008080; text-decoration-color: #008080\"> CPU Memory        </span>│<span style=\"color: #008000; text-decoration-color: #008000\">          - MB </span>│<span style=\"color: #808000; text-decoration-color: #808000\">      1.49 MB </span>│<span style=\"color: #800080; text-decoration-color: #800080\">      1.49 MB </span>│\n",
       "│<span style=\"color: #008080; text-decoration-color: #008080\"> CUDA Memory       </span>│<span style=\"color: #008000; text-decoration-color: #008000\">       5.74 GB </span>│<span style=\"color: #808000; text-decoration-color: #808000\">      0.01 GB </span>│<span style=\"color: #800080; text-decoration-color: #800080\">      5.73 GB </span>│\n",
       "└───────────────────┴───────────────┴──────────────┴──────────────┘\n",
       "</pre>\n"
      ],
      "text/plain": [
       "\u001b[3m                         Performance load                          \u001b[0m\n",
       "┏━━━━━━━━━━━━━━━━━━━┳━━━━━━━━━━━━━━━┳━━━━━━━━━━━━━━┳━━━━━━━━━━━━━━┓\n",
       "┃\u001b[1;38;5;129m \u001b[0m\u001b[1;38;5;129mMetric           \u001b[0m\u001b[1;38;5;129m \u001b[0m┃\u001b[1;38;5;129m \u001b[0m\u001b[1;38;5;129mInitial Value\u001b[0m\u001b[1;38;5;129m \u001b[0m┃\u001b[1;38;5;129m \u001b[0m\u001b[1;38;5;129mChange Value\u001b[0m\u001b[1;38;5;129m \u001b[0m┃\u001b[1;38;5;129m \u001b[0m\u001b[1;38;5;129m Final Value\u001b[0m\u001b[1;38;5;129m \u001b[0m┃\n",
       "┡━━━━━━━━━━━━━━━━━━━╇━━━━━━━━━━━━━━━╇━━━━━━━━━━━━━━╇━━━━━━━━━━━━━━┩\n",
       "│\u001b[36m \u001b[0m\u001b[36mFunction Duration\u001b[0m\u001b[36m \u001b[0m│\u001b[32m \u001b[0m\u001b[32m            -\u001b[0m\u001b[32m \u001b[0m│\u001b[33m \u001b[0m\u001b[33m0.79 seconds\u001b[0m\u001b[33m \u001b[0m│\u001b[35m \u001b[0m\u001b[35m0.79 seconds\u001b[0m\u001b[35m \u001b[0m│\n",
       "│\u001b[36m \u001b[0m\u001b[36mCPU Memory       \u001b[0m\u001b[36m \u001b[0m│\u001b[32m \u001b[0m\u001b[32m         - MB\u001b[0m\u001b[32m \u001b[0m│\u001b[33m \u001b[0m\u001b[33m     1.49 MB\u001b[0m\u001b[33m \u001b[0m│\u001b[35m \u001b[0m\u001b[35m     1.49 MB\u001b[0m\u001b[35m \u001b[0m│\n",
       "│\u001b[36m \u001b[0m\u001b[36mCUDA Memory      \u001b[0m\u001b[36m \u001b[0m│\u001b[32m \u001b[0m\u001b[32m      5.74 GB\u001b[0m\u001b[32m \u001b[0m│\u001b[33m \u001b[0m\u001b[33m     0.01 GB\u001b[0m\u001b[33m \u001b[0m│\u001b[35m \u001b[0m\u001b[35m     5.73 GB\u001b[0m\u001b[35m \u001b[0m│\n",
       "└───────────────────┴───────────────┴──────────────┴──────────────┘\n"
      ]
     },
     "metadata": {},
     "output_type": "display_data"
    },
    {
     "name": "stderr",
     "output_type": "stream",
     "text": [
      "\u001b[42m\u001b[30mINFO    \u001b[0m \u001b[32mRAG.retrieve: Retrieving by query Who are the young seniors?...\u001b[0m\n"
     ]
    },
    {
     "data": {
      "text/html": [
       "<pre style=\"white-space:pre;overflow-x:auto;line-height:normal;font-family:Menlo,'DejaVu Sans Mono',consolas,'Courier New',monospace\"><span style=\"font-weight: bold\">[</span>\n",
       "    <span style=\"font-weight: bold\">{</span>\n",
       "        <span style=\"color: #008000; text-decoration-color: #008000\">'documents'</span>: <span style=\"color: #008000; text-decoration-color: #008000\">'Especially for those in their 50s and early 60s. Let us call them the “Young Seniors”. </span>\n",
       "<span style=\"color: #008000; text-decoration-color: #008000\">\"Young”, because you are younger than the Pioneer Generation and the Merdeka Generation; “Seniors”, because you </span>\n",
       "<span style=\"color: #008000; text-decoration-color: #008000\">will soon retire, or maybe you have recently retired.'</span>,\n",
       "        <span style=\"color: #008000; text-decoration-color: #008000\">'metadatas'</span>: <span style=\"font-weight: bold\">{</span>\n",
       "            <span style=\"color: #008000; text-decoration-color: #008000\">'Abstract'</span>: <span style=\"color: #008000; text-decoration-color: #008000\">''</span>,\n",
       "            <span style=\"color: #008000; text-decoration-color: #008000\">'ChunkGroupId'</span>: <span style=\"color: #008000; text-decoration-color: #008000\">'b254f366-3723-4d67-a0bf-25154f3ec3bb'</span>,\n",
       "            <span style=\"color: #008000; text-decoration-color: #008000\">'DocumentId'</span>: <span style=\"color: #008000; text-decoration-color: #008000\">'PwR6VmXqAfwjn84ZM6dePsLWTldPv8cNS5dESYlsY2U'</span>,\n",
       "            <span style=\"color: #008000; text-decoration-color: #008000\">'Keywords'</span>: <span style=\"color: #008000; text-decoration-color: #008000\">''</span>,\n",
       "            <span style=\"color: #008000; text-decoration-color: #008000\">'PublishedDate'</span>: <span style=\"color: #008000; text-decoration-color: #008000\">''</span>,\n",
       "            <span style=\"color: #008000; text-decoration-color: #008000\">'Source'</span>: <span style=\"color: #008000; text-decoration-color: #008000\">'https://www.pmo.gov.sg/Newsroom/2023-National-Day-Rally-Speech'</span>,\n",
       "            <span style=\"color: #008000; text-decoration-color: #008000\">'Title'</span>: <span style=\"color: #008000; text-decoration-color: #008000\">'2023 National Day Rally Speech'</span>\n",
       "        <span style=\"font-weight: bold\">}</span>,\n",
       "        <span style=\"color: #008000; text-decoration-color: #008000\">'distances'</span>: <span style=\"color: #008080; text-decoration-color: #008080; font-weight: bold\">0.09020859003067017</span>,\n",
       "        <span style=\"color: #008000; text-decoration-color: #008000\">'ids'</span>: <span style=\"color: #008000; text-decoration-color: #008000\">'ed850a5d-86b0-4fa4-b348-800c10377f47'</span>\n",
       "    <span style=\"font-weight: bold\">}</span>,\n",
       "    <span style=\"font-weight: bold\">{</span>\n",
       "        <span style=\"color: #008000; text-decoration-color: #008000\">'documents'</span>: <span style=\"color: #008000; text-decoration-color: #008000\">'Young Seniors are in a unique position today. Compared to the Pioneer and Merdeka </span>\n",
       "<span style=\"color: #008000; text-decoration-color: #008000\">Generations, you have benefited more from Singapore’s growth, and generally done better in life. But compared to </span>\n",
       "<span style=\"color: #008000; text-decoration-color: #008000\">workers younger than you, in their 30s and 40s today, you have generally earned less over your lifetimes. You have </span>\n",
       "<span style=\"color: #008000; text-decoration-color: #008000\">also had less time to benefit from improvements to the CPF system, and so have built up less retirement savings. </span>\n",
       "<span style=\"color: #008000; text-decoration-color: #008000\">Young Seniors are also in a particularly sandwiched phase of your lives. You have to shoulder the responsibility of</span>\n",
       "<span style=\"color: #008000; text-decoration-color: #008000\">caring for both the young and old in your families. Your kids may be young adults, but often are not yet fully </span>\n",
       "<span style=\"color: #008000; text-decoration-color: #008000\">independent and still live in the same household. Many of you Young Seniors also have elderly parents at home, who </span>\n",
       "<span style=\"color: #008000; text-decoration-color: #008000\">may be beset with the infirmities of old age. You have to shuttle them to medical appointments and hospital visits,</span>\n",
       "<span style=\"color: #008000; text-decoration-color: #008000\">plus attend to their everyday needs. All this, while watching your own health, because you are not so youthful'</span>,\n",
       "        <span style=\"color: #008000; text-decoration-color: #008000\">'metadatas'</span>: <span style=\"font-weight: bold\">{</span>\n",
       "            <span style=\"color: #008000; text-decoration-color: #008000\">'Abstract'</span>: <span style=\"color: #008000; text-decoration-color: #008000\">''</span>,\n",
       "            <span style=\"color: #008000; text-decoration-color: #008000\">'ChunkGroupId'</span>: <span style=\"color: #008000; text-decoration-color: #008000\">'b254f366-3723-4d67-a0bf-25154f3ec3bb'</span>,\n",
       "            <span style=\"color: #008000; text-decoration-color: #008000\">'DocumentId'</span>: <span style=\"color: #008000; text-decoration-color: #008000\">'PwR6VmXqAfwjn84ZM6dePsLWTldPv8cNS5dESYlsY2U'</span>,\n",
       "            <span style=\"color: #008000; text-decoration-color: #008000\">'Keywords'</span>: <span style=\"color: #008000; text-decoration-color: #008000\">''</span>,\n",
       "            <span style=\"color: #008000; text-decoration-color: #008000\">'PublishedDate'</span>: <span style=\"color: #008000; text-decoration-color: #008000\">''</span>,\n",
       "            <span style=\"color: #008000; text-decoration-color: #008000\">'Source'</span>: <span style=\"color: #008000; text-decoration-color: #008000\">'https://www.pmo.gov.sg/Newsroom/2023-National-Day-Rally-Speech'</span>,\n",
       "            <span style=\"color: #008000; text-decoration-color: #008000\">'Title'</span>: <span style=\"color: #008000; text-decoration-color: #008000\">'2023 National Day Rally Speech'</span>\n",
       "        <span style=\"font-weight: bold\">}</span>,\n",
       "        <span style=\"color: #008000; text-decoration-color: #008000\">'distances'</span>: <span style=\"color: #008080; text-decoration-color: #008080; font-weight: bold\">0.11518943309783936</span>,\n",
       "        <span style=\"color: #008000; text-decoration-color: #008000\">'ids'</span>: <span style=\"color: #008000; text-decoration-color: #008000\">'6bc556c2-066f-4c1e-9307-246cd483984f'</span>\n",
       "    <span style=\"font-weight: bold\">}</span>,\n",
       "    <span style=\"font-weight: bold\">{</span>\n",
       "        <span style=\"color: #008000; text-decoration-color: #008000\">'documents'</span>: <span style=\"color: #008000; text-decoration-color: #008000\">'to their everyday needs. All this, while watching your own health, because you are not so </span>\n",
       "<span style=\"color: #008000; text-decoration-color: #008000\">youthful yourselves. Responsibilities on all these fronts multiply your burdens. So, as Young Seniors, you are </span>\n",
       "<span style=\"color: #008000; text-decoration-color: #008000\">understandably anxious about your retirement needs. Beyond the daily cost of living pressures, you know that </span>\n",
       "<span style=\"color: #008000; text-decoration-color: #008000\">retirement is creeping up on you. You wonder: Will I have enough to get by? Can I cope? But do not worry – the </span>\n",
       "<span style=\"color: #008000; text-decoration-color: #008000\">Government will help you. You will not be left behind.'</span>,\n",
       "        <span style=\"color: #008000; text-decoration-color: #008000\">'metadatas'</span>: <span style=\"font-weight: bold\">{</span>\n",
       "            <span style=\"color: #008000; text-decoration-color: #008000\">'Abstract'</span>: <span style=\"color: #008000; text-decoration-color: #008000\">''</span>,\n",
       "            <span style=\"color: #008000; text-decoration-color: #008000\">'ChunkGroupId'</span>: <span style=\"color: #008000; text-decoration-color: #008000\">'b254f366-3723-4d67-a0bf-25154f3ec3bb'</span>,\n",
       "            <span style=\"color: #008000; text-decoration-color: #008000\">'DocumentId'</span>: <span style=\"color: #008000; text-decoration-color: #008000\">'PwR6VmXqAfwjn84ZM6dePsLWTldPv8cNS5dESYlsY2U'</span>,\n",
       "            <span style=\"color: #008000; text-decoration-color: #008000\">'Keywords'</span>: <span style=\"color: #008000; text-decoration-color: #008000\">''</span>,\n",
       "            <span style=\"color: #008000; text-decoration-color: #008000\">'PublishedDate'</span>: <span style=\"color: #008000; text-decoration-color: #008000\">''</span>,\n",
       "            <span style=\"color: #008000; text-decoration-color: #008000\">'Source'</span>: <span style=\"color: #008000; text-decoration-color: #008000\">'https://www.pmo.gov.sg/Newsroom/2023-National-Day-Rally-Speech'</span>,\n",
       "            <span style=\"color: #008000; text-decoration-color: #008000\">'Title'</span>: <span style=\"color: #008000; text-decoration-color: #008000\">'2023 National Day Rally Speech'</span>\n",
       "        <span style=\"font-weight: bold\">}</span>,\n",
       "        <span style=\"color: #008000; text-decoration-color: #008000\">'distances'</span>: <span style=\"color: #008080; text-decoration-color: #008080; font-weight: bold\">0.11691617965698242</span>,\n",
       "        <span style=\"color: #008000; text-decoration-color: #008000\">'ids'</span>: <span style=\"color: #008000; text-decoration-color: #008000\">'d5892a42-07cc-4890-9829-ab1b3efa1640'</span>\n",
       "    <span style=\"font-weight: bold\">}</span>\n",
       "<span style=\"font-weight: bold\">]</span>\n",
       "</pre>\n"
      ],
      "text/plain": [
       "\u001b[1m[\u001b[0m\n",
       "    \u001b[1m{\u001b[0m\n",
       "        \u001b[32m'documents'\u001b[0m: \u001b[32m'Especially for those in their 50s and early 60s. Let us call them the “Young Seniors”. \u001b[0m\n",
       "\u001b[32m\"Young”, because you are younger than the Pioneer Generation and the Merdeka Generation; “Seniors”, because you \u001b[0m\n",
       "\u001b[32mwill soon retire, or maybe you have recently retired.'\u001b[0m,\n",
       "        \u001b[32m'metadatas'\u001b[0m: \u001b[1m{\u001b[0m\n",
       "            \u001b[32m'Abstract'\u001b[0m: \u001b[32m''\u001b[0m,\n",
       "            \u001b[32m'ChunkGroupId'\u001b[0m: \u001b[32m'b254f366-3723-4d67-a0bf-25154f3ec3bb'\u001b[0m,\n",
       "            \u001b[32m'DocumentId'\u001b[0m: \u001b[32m'PwR6VmXqAfwjn84ZM6dePsLWTldPv8cNS5dESYlsY2U'\u001b[0m,\n",
       "            \u001b[32m'Keywords'\u001b[0m: \u001b[32m''\u001b[0m,\n",
       "            \u001b[32m'PublishedDate'\u001b[0m: \u001b[32m''\u001b[0m,\n",
       "            \u001b[32m'Source'\u001b[0m: \u001b[32m'https://www.pmo.gov.sg/Newsroom/2023-National-Day-Rally-Speech'\u001b[0m,\n",
       "            \u001b[32m'Title'\u001b[0m: \u001b[32m'2023 National Day Rally Speech'\u001b[0m\n",
       "        \u001b[1m}\u001b[0m,\n",
       "        \u001b[32m'distances'\u001b[0m: \u001b[1;36m0.09020859003067017\u001b[0m,\n",
       "        \u001b[32m'ids'\u001b[0m: \u001b[32m'ed850a5d-86b0-4fa4-b348-800c10377f47'\u001b[0m\n",
       "    \u001b[1m}\u001b[0m,\n",
       "    \u001b[1m{\u001b[0m\n",
       "        \u001b[32m'documents'\u001b[0m: \u001b[32m'Young Seniors are in a unique position today. Compared to the Pioneer and Merdeka \u001b[0m\n",
       "\u001b[32mGenerations, you have benefited more from Singapore’s growth, and generally done better in life. But compared to \u001b[0m\n",
       "\u001b[32mworkers younger than you, in their 30s and 40s today, you have generally earned less over your lifetimes. You have \u001b[0m\n",
       "\u001b[32malso had less time to benefit from improvements to the CPF system, and so have built up less retirement savings. \u001b[0m\n",
       "\u001b[32mYoung Seniors are also in a particularly sandwiched phase of your lives. You have to shoulder the responsibility of\u001b[0m\n",
       "\u001b[32mcaring for both the young and old in your families. Your kids may be young adults, but often are not yet fully \u001b[0m\n",
       "\u001b[32mindependent and still live in the same household. Many of you Young Seniors also have elderly parents at home, who \u001b[0m\n",
       "\u001b[32mmay be beset with the infirmities of old age. You have to shuttle them to medical appointments and hospital visits,\u001b[0m\n",
       "\u001b[32mplus attend to their everyday needs. All this, while watching your own health, because you are not so youthful'\u001b[0m,\n",
       "        \u001b[32m'metadatas'\u001b[0m: \u001b[1m{\u001b[0m\n",
       "            \u001b[32m'Abstract'\u001b[0m: \u001b[32m''\u001b[0m,\n",
       "            \u001b[32m'ChunkGroupId'\u001b[0m: \u001b[32m'b254f366-3723-4d67-a0bf-25154f3ec3bb'\u001b[0m,\n",
       "            \u001b[32m'DocumentId'\u001b[0m: \u001b[32m'PwR6VmXqAfwjn84ZM6dePsLWTldPv8cNS5dESYlsY2U'\u001b[0m,\n",
       "            \u001b[32m'Keywords'\u001b[0m: \u001b[32m''\u001b[0m,\n",
       "            \u001b[32m'PublishedDate'\u001b[0m: \u001b[32m''\u001b[0m,\n",
       "            \u001b[32m'Source'\u001b[0m: \u001b[32m'https://www.pmo.gov.sg/Newsroom/2023-National-Day-Rally-Speech'\u001b[0m,\n",
       "            \u001b[32m'Title'\u001b[0m: \u001b[32m'2023 National Day Rally Speech'\u001b[0m\n",
       "        \u001b[1m}\u001b[0m,\n",
       "        \u001b[32m'distances'\u001b[0m: \u001b[1;36m0.11518943309783936\u001b[0m,\n",
       "        \u001b[32m'ids'\u001b[0m: \u001b[32m'6bc556c2-066f-4c1e-9307-246cd483984f'\u001b[0m\n",
       "    \u001b[1m}\u001b[0m,\n",
       "    \u001b[1m{\u001b[0m\n",
       "        \u001b[32m'documents'\u001b[0m: \u001b[32m'to their everyday needs. All this, while watching your own health, because you are not so \u001b[0m\n",
       "\u001b[32myouthful yourselves. Responsibilities on all these fronts multiply your burdens. So, as Young Seniors, you are \u001b[0m\n",
       "\u001b[32munderstandably anxious about your retirement needs. Beyond the daily cost of living pressures, you know that \u001b[0m\n",
       "\u001b[32mretirement is creeping up on you. You wonder: Will I have enough to get by? Can I cope? But do not worry – the \u001b[0m\n",
       "\u001b[32mGovernment will help you. You will not be left behind.'\u001b[0m,\n",
       "        \u001b[32m'metadatas'\u001b[0m: \u001b[1m{\u001b[0m\n",
       "            \u001b[32m'Abstract'\u001b[0m: \u001b[32m''\u001b[0m,\n",
       "            \u001b[32m'ChunkGroupId'\u001b[0m: \u001b[32m'b254f366-3723-4d67-a0bf-25154f3ec3bb'\u001b[0m,\n",
       "            \u001b[32m'DocumentId'\u001b[0m: \u001b[32m'PwR6VmXqAfwjn84ZM6dePsLWTldPv8cNS5dESYlsY2U'\u001b[0m,\n",
       "            \u001b[32m'Keywords'\u001b[0m: \u001b[32m''\u001b[0m,\n",
       "            \u001b[32m'PublishedDate'\u001b[0m: \u001b[32m''\u001b[0m,\n",
       "            \u001b[32m'Source'\u001b[0m: \u001b[32m'https://www.pmo.gov.sg/Newsroom/2023-National-Day-Rally-Speech'\u001b[0m,\n",
       "            \u001b[32m'Title'\u001b[0m: \u001b[32m'2023 National Day Rally Speech'\u001b[0m\n",
       "        \u001b[1m}\u001b[0m,\n",
       "        \u001b[32m'distances'\u001b[0m: \u001b[1;36m0.11691617965698242\u001b[0m,\n",
       "        \u001b[32m'ids'\u001b[0m: \u001b[32m'd5892a42-07cc-4890-9829-ab1b3efa1640'\u001b[0m\n",
       "    \u001b[1m}\u001b[0m\n",
       "\u001b[1m]\u001b[0m\n"
      ]
     },
     "metadata": {},
     "output_type": "display_data"
    },
    {
     "data": {
      "text/html": [
       "<pre style=\"white-space:pre;overflow-x:auto;line-height:normal;font-family:Menlo,'DejaVu Sans Mono',consolas,'Courier New',monospace\">Free memory: <span style=\"color: #00ff00; text-decoration-color: #00ff00; font-weight: bold\">5.73</span><span style=\"color: #00ff00; text-decoration-color: #00ff00\"> GB</span>\n",
       "</pre>\n"
      ],
      "text/plain": [
       "Free memory: \u001b[1;92m5.73\u001b[0m\u001b[92m GB\u001b[0m\n"
      ]
     },
     "metadata": {},
     "output_type": "display_data"
    }
   ],
   "source": [
    "try:\n",
    "    with SingletonHost.GetInstanceFromConfig(config) as host:\n",
    "        rag=host.generator\n",
    "        # Index\n",
    "        result = rag.retrieve(collection_name=\"demo\",query_texts=\"Who are the young seniors?\")\n",
    "        console.print(result)\n",
    "\n",
    "except Exception as e:\n",
    "    raise e\n",
    "finally:\n",
    "    # after disposal\n",
    "    free_mem()\n"
   ]
  },
  {
   "cell_type": "markdown",
   "metadata": {},
   "source": [
    "## API"
   ]
  },
  {
   "cell_type": "markdown",
   "metadata": {},
   "source": [
    "#### a) List Collections"
   ]
  },
  {
   "cell_type": "code",
   "execution_count": 1,
   "metadata": {},
   "outputs": [
    {
     "name": "stdout",
     "output_type": "stream",
     "text": [
      "{\"collections\":[]}"
     ]
    }
   ],
   "source": [
    "%%bash\n",
    "curl -s http://localhost:12036/gen/v1/rag/collections"
   ]
  },
  {
   "cell_type": "markdown",
   "metadata": {},
   "source": [
    "#### b) Delete collection"
   ]
  },
  {
   "cell_type": "code",
   "execution_count": 2,
   "metadata": {},
   "outputs": [
    {
     "name": "stdout",
     "output_type": "stream",
     "text": [
      "{\"detail\":{\"code\":\"collections_not_found\",\"message\":\"Collection demo not found\"}}"
     ]
    }
   ],
   "source": [
    "%%bash\n",
    "curl -s -X DELETE http://localhost:12036/gen/v1/rag/collection/demo"
   ]
  },
  {
   "cell_type": "markdown",
   "metadata": {},
   "source": [
    "#### c) index"
   ]
  },
  {
   "cell_type": "code",
   "execution_count": 3,
   "metadata": {},
   "outputs": [
    {
     "name": "stdout",
     "output_type": "stream",
     "text": [
      "{\"document_id\":\"PwR6VmXqAfwjn84ZM6dePsLWTldPv8cNS5dESYlsY2U\",\"chunkgroup_id\":\"61c76834-8049-4ea3-ab0e-23caff6f04d9\",\"chunk_ids\":[\"e5c21cd8-9af3-451a-9c98-4b01dd2f8d89\",\"84e42f7f-7669-4cc9-b7de-4da45fab5363\",\"2a6e64c0-58b9-4f10-acda-a421735bfc83\",\"bb51ec69-9912-4cc4-8c91-73b60a109d69\",\"82c96e71-2b1c-4339-bbf2-273370e926bb\",\"bb13c0a4-bf8f-467c-bb7d-bdbf8aa27860\",\"b6e3565b-1673-4c74-b3d4-baeadeaf3781\",\"fb3bc31f-a12b-4af1-b2a9-88103a22edff\",\"490e7cf7-6c7a-4e28-a5f8-3bc6e7f98626\",\"867b0445-9c48-4a28-9fd0-568ed4a301c0\",\"9953ced9-8fc0-4666-9355-a6f3cb016ca4\",\"dc4624c9-a7c6-4158-b324-74d30f5c1e84\",\"be429ea3-2222-4765-ae48-4fbd11c400b3\",\"07c5977a-d8a9-45dd-a23b-41d384124b23\",\"c2970683-f388-4830-a828-2f7659bfe698\",\"2c2f0197-ad48-4f32-a071-f1fcd8f67609\",\"9d285dbc-ecd8-4d83-a3d2-348444066b7e\",\"b045ca88-29d4-4179-892e-d2f9234ae988\",\"3da07090-aed6-4518-8205-177872e18dc6\",\"d40d678d-318e-47c6-abcb-ecbdbc86be65\",\"655e585a-6c18-4542-979b-a64bb947c7d9\",\"99ac652b-6646-48c5-a2f6-909aedbfb2a5\",\"e23889ef-331d-43e5-b87d-0a28ac686a5c\",\"f94e358a-95be-4e0f-b5b4-4487c6873795\",\"2e581ba8-73b9-48a9-82d0-93bf710d1759\",\"b8fd22c2-d65f-477a-823f-0bab5436a3eb\",\"2505af91-01d8-45e2-8960-56fcad185abc\",\"d4d603bd-4247-46ce-9b7c-d18034ba9eb4\",\"af5fc4a7-7b58-47ff-8a47-0cefc01037e2\",\"bc9cad9e-0eb9-4e79-8014-7d0479f5415e\",\"fdb2db98-52cb-4bf0-9cc4-5dfd79674b0c\",\"c67ede86-3813-449e-903c-11a53c5916f1\",\"e5d31dc1-a650-4dee-a057-4888d03c0a90\",\"a9948bd8-84b4-42ef-ab1a-123082039f5b\",\"d67b3821-ef7c-470d-9fd9-a475e0c6424a\",\"b75462cd-976a-4969-baa6-26857bd019d9\",\"228b16d0-daf7-4470-bda5-922ea3005c0b\",\"24678a16-8a7b-4ff4-8466-cdcdfc92263c\",\"58facfb9-8639-4b5d-ade6-0dce03e195c6\",\"486b1a44-f04c-48dd-b106-0d6d1de7482c\",\"726a1872-eff9-4890-bbf0-af2405480745\",\"0386d7ae-792c-447d-86b1-a1e13423d9c7\",\"c52d13d7-ca21-4268-8e01-6cfe8763bea6\",\"6131cf0b-b29d-4623-a252-c128cc253568\",\"2a86c569-98d4-4a68-b230-0138fb4e6f89\",\"0981de5e-3d4a-43fe-a89a-1194e6d4fb53\",\"f14645f3-b2e8-4ecc-b2b1-fdbf9103af60\",\"cee3178f-3f65-4fcf-92c0-5ca7b99724d8\",\"a681dac3-2081-421b-b28b-5f41ea4c1cc6\",\"3deeabd4-288b-4f89-b89f-9ecbc7499d01\",\"092f3ab9-b12a-473b-b756-d452635868b6\",\"8fce9fab-dc7c-4890-a09f-d3d73e803f2c\",\"311f02bc-d45b-42be-8479-5fc63e6f4fbb\",\"a2cd766c-5c7d-449d-992b-88e32ca7583d\",\"ec9ee1ce-4670-4385-a1c9-d4ecea696742\",\"e345fd1e-8a73-4c57-8b09-855d34845987\",\"0dc73ed5-3d76-4e48-83db-69a5fc38d919\",\"44a78f74-922d-4c06-969b-ecdfc11861ec\",\"c47b6470-6b8d-432d-bd93-fc0fab87dcc9\",\"ccdccd44-e352-4472-b036-c8d286ab74fa\",\"90403097-356d-414d-ac67-87e729ca9a2e\",\"53284f54-b2ff-44e8-804f-01b22b03cc53\",\"c9e61cab-dcb7-4621-be03-2fb9f2718a62\",\"5674bf26-b70d-4e22-887b-0a787db6e46b\",\"b4494ed9-affc-4f8a-8abb-07cd88a4d977\",\"0bf95ca5-dcd5-4268-9d1e-0235659be1ac\"]}"
     ]
    }
   ],
   "source": [
    "%%bash\n",
    "curl -X POST 'http://localhost:12036/gen/v1/rag/index-file' \\\n",
    "    -H 'accept: application/json' \\\n",
    "    -H 'Content-Type: multipart/form-data' \\\n",
    "    -s \\\n",
    "    -F 'collection_name=demo' \\\n",
    "    -F 'file=@./pm_long_speech_2023.txt' \\\n",
    "    -F 'metadata={\"source\": \"https://www.pmo.gov.sg/Newsroom/National-Day-Rally-2023#:~:text=COVID%2D19%20was%20the%20most,indomitable%20spirit%20of%20our%20nation.\"}'"
   ]
  },
  {
   "cell_type": "markdown",
   "metadata": {},
   "source": [
    "#### d) verify document exists"
   ]
  },
  {
   "cell_type": "code",
   "execution_count": 4,
   "metadata": {},
   "outputs": [
    {
     "name": "stdout",
     "output_type": "stream",
     "text": [
      "{\"document\":{\"Id\":\"PwR6VmXqAfwjn84ZM6dePsLWTldPv8cNS5dESYlsY2U\",\"CollectionName\":\"demo\",\"ByteSize\":43352,\"FileName\":\"pm_long_speech_2023.txt\",\"FileType\":\"txt\",\"Source\":\"https://www.pmo.gov.sg/Newsroom/National-Day-Rally-2023#:~:text=COVID%2D19%20was%20the%20most,indomitable%20spirit%20of%20our%20nation.\",\"Abstract\":null,\"Authors\":\"\",\"Title\":\"\",\"Publisher\":\"\",\"PublishedDate\":null,\"Comments\":\"\",\"Keywords\":\"\",\"CreatedAt\":\"2024-08-12T23:39:10.069975\",\"UpdatedAt\":\"2024-08-12T23:39:10.069983\",\"IsActive\":true,\"ChunkGroups\":[{\"Id\":\"61c76834-8049-4ea3-ab0e-23caff6f04d9\",\"DocumentId\":\"PwR6VmXqAfwjn84ZM6dePsLWTldPv8cNS5dESYlsY2U\",\"SplitAlgo\":\"recursive_split\",\"ChunkCount\":66,\"ChunkSize\":1000,\"Overlap\":100,\"IsActive\":true,\"ChunksDir\":\"/tmp/chunks/31b4f1dcbe3d46ae94e72391de0dfb89\"}]}}"
     ]
    }
   ],
   "source": [
    "%%bash\n",
    "curl -X POST 'http://localhost:12036/gen/v1/rag/collection/demo/document/exists' \\\n",
    "    -H 'accept: application/json' \\\n",
    "    -H 'Content-Type: multipart/form-data' \\\n",
    "    -s \\\n",
    "    -F 'file=@./pm_long_speech_2023.txt' "
   ]
  },
  {
   "cell_type": "markdown",
   "metadata": {},
   "source": [
    "#### e) retrieve"
   ]
  },
  {
   "cell_type": "code",
   "execution_count": 5,
   "metadata": {},
   "outputs": [
    {
     "name": "stdout",
     "output_type": "stream",
     "text": [
      "{\"retrieved\":[{\"documents\":\"Especially for those in their 50s and early 60s. Let us call them the “Young Seniors”. \\\"Young”, because you are younger than the Pioneer Generation and the Merdeka Generation; “Seniors”, because you will soon retire, or maybe you have recently retired.\",\"metadatas\":{\"Abstract\":\"\",\"ChunkGroupId\":\"61c76834-8049-4ea3-ab0e-23caff6f04d9\",\"DocumentId\":\"PwR6VmXqAfwjn84ZM6dePsLWTldPv8cNS5dESYlsY2U\",\"Keywords\":\"\",\"PublishedDate\":\"\",\"Source\":\"https://www.pmo.gov.sg/Newsroom/National-Day-Rally-2023#:~:text=COVID%2D19%20was%20the%20most,indomitable%20spirit%20of%20our%20nation.\",\"Title\":\"\"},\"distances\":0.09020859003067017,\"ids\":\"092f3ab9-b12a-473b-b756-d452635868b6\"},{\"documents\":\"Young Seniors are in a unique position today. Compared to the Pioneer and Merdeka Generations, you have benefited more from Singapore’s growth, and generally done better in life. But compared to workers younger than you, in their 30s and 40s today, you have generally earned less over your lifetimes. You have also had less time to benefit from improvements to the CPF system, and so have built up less retirement savings. Young Seniors are also in a particularly sandwiched phase of your lives. You have to shoulder the responsibility of caring for both the young and old in your families. Your kids may be young adults, but often are not yet fully independent and still live in the same household. Many of you Young Seniors also have elderly parents at home, who may be beset with the infirmities of old age. You have to shuttle them to medical appointments and hospital visits, plus attend to their everyday needs. All this, while watching your own health, because you are not so youthful\",\"metadatas\":{\"Abstract\":\"\",\"ChunkGroupId\":\"61c76834-8049-4ea3-ab0e-23caff6f04d9\",\"DocumentId\":\"PwR6VmXqAfwjn84ZM6dePsLWTldPv8cNS5dESYlsY2U\",\"Keywords\":\"\",\"PublishedDate\":\"\",\"Source\":\"https://www.pmo.gov.sg/Newsroom/National-Day-Rally-2023#:~:text=COVID%2D19%20was%20the%20most,indomitable%20spirit%20of%20our%20nation.\",\"Title\":\"\"},\"distances\":0.11518943309783936,\"ids\":\"af5fc4a7-7b58-47ff-8a47-0cefc01037e2\"},{\"documents\":\"to their everyday needs. All this, while watching your own health, because you are not so youthful yourselves. Responsibilities on all these fronts multiply your burdens. So, as Young Seniors, you are understandably anxious about your retirement needs. Beyond the daily cost of living pressures, you know that retirement is creeping up on you. You wonder: Will I have enough to get by? Can I cope? But do not worry – the Government will help you. You will not be left behind.\",\"metadatas\":{\"Abstract\":\"\",\"ChunkGroupId\":\"61c76834-8049-4ea3-ab0e-23caff6f04d9\",\"DocumentId\":\"PwR6VmXqAfwjn84ZM6dePsLWTldPv8cNS5dESYlsY2U\",\"Keywords\":\"\",\"PublishedDate\":\"\",\"Source\":\"https://www.pmo.gov.sg/Newsroom/National-Day-Rally-2023#:~:text=COVID%2D19%20was%20the%20most,indomitable%20spirit%20of%20our%20nation.\",\"Title\":\"\"},\"distances\":0.11691617965698242,\"ids\":\"b6e3565b-1673-4c74-b3d4-baeadeaf3781\"},{\"documents\":\"What I found most encouraging was that many seniors were not just taking part in activities, but also helping to organise and run them – seniors for seniors. I met Mdm Goh, the one in the pink blouse, Mdm Karen, and Mdm Farida. They were preparing to deliver hot meals to frail seniors living in upstairs in the rental flats who could not come down to the AAC. They do this every day. It is a great way to build neighbourly bonds while staying active. Actually, besides meal deliveries, there are also communal meals downstairs at the AAC. The staff told me that these meals were a big draw and an important activity because they encourage the old folks to come down. When they gathered at the AACs for meals, they would socialise and make friends, and the staff could keep an eye on them, made sure they were alright. I also discovered that these meals are actually cooked by the seniors themselves, at least some of the seniors themselves! These three makciks – Mdm Aminah on the left, Mdm Rosnah,\",\"metadatas\":{\"Abstract\":\"\",\"ChunkGroupId\":\"61c76834-8049-4ea3-ab0e-23caff6f04d9\",\"DocumentId\":\"PwR6VmXqAfwjn84ZM6dePsLWTldPv8cNS5dESYlsY2U\",\"Keywords\":\"\",\"PublishedDate\":\"\",\"Source\":\"https://www.pmo.gov.sg/Newsroom/National-Day-Rally-2023#:~:text=COVID%2D19%20was%20the%20most,indomitable%20spirit%20of%20our%20nation.\",\"Title\":\"\"},\"distances\":0.11718982458114624,\"ids\":\"f94e358a-95be-4e0f-b5b4-4487c6873795\"}]}"
     ]
    }
   ],
   "source": [
    "%%bash\n",
    "curl -X POST 'http://localhost:12036/gen/v1/rag/retrieve' \\\n",
    "    -s \\\n",
    "    -H \"Content-Type: application/json\" \\\n",
    "    -d '{\"collection_name\":\"demo\",\"query_texts\":\"Who are the young seniors?\",\"n_results\":4}'\n"
   ]
  },
  {
   "cell_type": "markdown",
   "metadata": {},
   "source": [
    "g) list documents"
   ]
  },
  {
   "cell_type": "code",
   "execution_count": 6,
   "metadata": {},
   "outputs": [
    {
     "name": "stdout",
     "output_type": "stream",
     "text": [
      "{\"documents\":[{\"Id\":\"PwR6VmXqAfwjn84ZM6dePsLWTldPv8cNS5dESYlsY2U\",\"CollectionName\":\"demo\",\"ByteSize\":43352,\"FileName\":\"pm_long_speech_2023.txt\",\"FileType\":\"txt\",\"Source\":\"https://www.pmo.gov.sg/Newsroom/National-Day-Rally-2023#:~:text=COVID%2D19%20was%20the%20most,indomitable%20spirit%20of%20our%20nation.\",\"Abstract\":null,\"Authors\":\"\",\"Title\":\"\",\"Publisher\":\"\",\"PublishedDate\":null,\"Comments\":\"\",\"Keywords\":\"\",\"CreatedAt\":\"2024-08-12T23:39:10.069975\",\"UpdatedAt\":\"2024-08-12T23:39:10.069983\",\"IsActive\":true,\"ChunkGroups\":[{\"Id\":\"61c76834-8049-4ea3-ab0e-23caff6f04d9\",\"DocumentId\":\"PwR6VmXqAfwjn84ZM6dePsLWTldPv8cNS5dESYlsY2U\",\"SplitAlgo\":\"recursive_split\",\"ChunkCount\":66,\"ChunkSize\":1000,\"Overlap\":100,\"IsActive\":true,\"ChunksDir\":\"/tmp/chunks/31b4f1dcbe3d46ae94e72391de0dfb89\"}]}]}"
     ]
    }
   ],
   "source": [
    "%%bash\n",
    "curl -s 'http://localhost:12036/gen/v1/rag/collection/demo/documents'"
   ]
  },
  {
   "cell_type": "markdown",
   "metadata": {},
   "source": [
    "h) get document"
   ]
  },
  {
   "cell_type": "code",
   "execution_count": 7,
   "metadata": {},
   "outputs": [
    {
     "name": "stdout",
     "output_type": "stream",
     "text": [
      "{\"document\":{\"Id\":\"PwR6VmXqAfwjn84ZM6dePsLWTldPv8cNS5dESYlsY2U\",\"CollectionName\":\"demo\",\"ByteSize\":43352,\"FileName\":\"pm_long_speech_2023.txt\",\"FileType\":\"txt\",\"Source\":\"https://www.pmo.gov.sg/Newsroom/National-Day-Rally-2023#:~:text=COVID%2D19%20was%20the%20most,indomitable%20spirit%20of%20our%20nation.\",\"Abstract\":null,\"Authors\":\"\",\"Title\":\"\",\"Publisher\":\"\",\"PublishedDate\":null,\"Comments\":\"\",\"Keywords\":\"\",\"CreatedAt\":\"2024-08-12T23:39:10.069975\",\"UpdatedAt\":\"2024-08-12T23:39:10.069983\",\"IsActive\":true,\"ChunkGroups\":[{\"Id\":\"61c76834-8049-4ea3-ab0e-23caff6f04d9\",\"DocumentId\":\"PwR6VmXqAfwjn84ZM6dePsLWTldPv8cNS5dESYlsY2U\",\"SplitAlgo\":\"recursive_split\",\"ChunkCount\":66,\"ChunkSize\":1000,\"Overlap\":100,\"IsActive\":true,\"ChunksDir\":\"/tmp/chunks/31b4f1dcbe3d46ae94e72391de0dfb89\"}]}}"
     ]
    }
   ],
   "source": [
    "%%bash\n",
    "curl -s 'http://localhost:12036/gen/v1/rag/collection/demo/document/PwR6VmXqAfwjn84ZM6dePsLWTldPv8cNS5dESYlsY2U'"
   ]
  },
  {
   "cell_type": "markdown",
   "metadata": {},
   "source": [
    "i) update document"
   ]
  },
  {
   "cell_type": "code",
   "execution_count": 8,
   "metadata": {},
   "outputs": [
    {
     "name": "stdout",
     "output_type": "stream",
     "text": [
      "{\"message\":\"Document updated successfully\",\"document\":\"PwR6VmXqAfwjn84ZM6dePsLWTldPv8cNS5dESYlsY2U\"}"
     ]
    }
   ],
   "source": [
    "%%bash\n",
    "curl -X PUT \\\n",
    "    http://localhost:12036/gen/v1/rag/collection/demo/document/PwR6VmXqAfwjn84ZM6dePsLWTldPv8cNS5dESYlsY2U \\\n",
    "    -H 'Content-Type: application/json' \\\n",
    "    -s \\\n",
    "    -d '{\n",
    "            \"Publisher\": \"ABC\"\n",
    "        }'\n"
   ]
  },
  {
   "cell_type": "markdown",
   "metadata": {},
   "source": [
    "j) delete document"
   ]
  },
  {
   "cell_type": "code",
   "execution_count": 9,
   "metadata": {},
   "outputs": [
    {
     "name": "stdout",
     "output_type": "stream",
     "text": [
      "{\"message\":\"Document with id PwR6VmXqAfwjn84ZM6dePsLWTldPv8cNS5dESYlsY2U deleted successfully\"}"
     ]
    }
   ],
   "source": [
    "%%bash\n",
    "curl -s -X DELETE http://localhost:12036/gen/v1/rag/collection/demo/document/PwR6VmXqAfwjn84ZM6dePsLWTldPv8cNS5dESYlsY2U"
   ]
  },
  {
   "cell_type": "markdown",
   "metadata": {},
   "source": [
    "---\n",
    "#### Example : Index PDF using Multi-Step Indexing\n",
    "\n",
    "The purpose for multi-step is to support interactive status update so that the client can make use of the websocket manager to get the status of the indexing process in a step-by-step manner.\n",
    "\n",
    "NOTE: The same is achievable using the single-step indexing as well as before.\n",
    "\n",
    "```\n",
    "curl -X POST 'http://localhost:12036/gen/v1/rag/index-file' \\\n",
    "    -H 'accept: application/json' \\\n",
    "    -H 'Content-Type: multipart/form-data' \\\n",
    "    -s \\\n",
    "    -F 'collection_name=demo' \\\n",
    "    -F 'file=@./attention-is-all-you-need.pdf' \\\n",
    "    -F 'metadata={\"source\": \"https://arxiv.org/abs/1706.03762\"}'\n",
    "```\n"
   ]
  },
  {
   "cell_type": "markdown",
   "metadata": {},
   "source": [
    "##### Step 1: Index document header"
   ]
  },
  {
   "cell_type": "code",
   "execution_count": 10,
   "metadata": {},
   "outputs": [
    {
     "name": "stdout",
     "output_type": "stream",
     "text": [
      "{\"Id\":\"-Sc9eXzUiSlaFV3qEDaKam33Boamkvv4tea8YPsjpy0\",\"CollectionName\":\"demo\",\"ByteSize\":2215244,\"FileName\":\"attention-is-all-you-need.pdf\",\"FileType\":\"pdf\",\"Source\":\"https://arxiv.org/abs/1706.03762\",\"Abstract\":null,\"Authors\":\"\",\"Title\":\"\",\"Publisher\":\"\",\"PublishedDate\":null,\"Comments\":\"\",\"Keywords\":\"\",\"CreatedAt\":\"2024-08-12T23:40:31.521115\",\"UpdatedAt\":\"2024-08-12T23:40:31.521119\",\"IsActive\":true,\"ChunkGroups\":[]}"
     ]
    }
   ],
   "source": [
    "%%bash\n",
    "curl -X POST 'http://localhost:12036/gen/v1/rag/step/header' \\\n",
    "    -H 'accept: application/json' \\\n",
    "    -H 'Content-Type: multipart/form-data' \\\n",
    "    -s \\\n",
    "    -F 'collection_name=demo' \\\n",
    "    -F 'file=@./attention-is-all-you-need.pdf' \\\n",
    "    -F 'metadata={\"source\": \"https://arxiv.org/abs/1706.03762\"}'"
   ]
  },
  {
   "cell_type": "markdown",
   "metadata": {},
   "source": [
    "##### Step 2: Split document into a group of chunks"
   ]
  },
  {
   "cell_type": "code",
   "execution_count": 11,
   "metadata": {},
   "outputs": [
    {
     "name": "stdout",
     "output_type": "stream",
     "text": [
      "a9f538c6-bba6-4eef-8c6f-297369d0037e\n"
     ]
    }
   ],
   "source": [
    "import json\n",
    "import os\n",
    "\n",
    "# Execute the curl command and capture the response\n",
    "response = !curl -X POST 'http://localhost:12036/gen/v1/rag/step/split' \\\n",
    "    -H 'Content-Type: application/json' \\\n",
    "    -s \\\n",
    "    -d '{\\\n",
    "            \"collection_name\": \"demo\",\\\n",
    "            \"document_id\": \"-Sc9eXzUiSlaFV3qEDaKam33Boamkvv4tea8YPsjpy0\",\\\n",
    "            \"chunk_size\": 1000,\\\n",
    "            \"chunk_overlap\": 100\\\n",
    "        }'\n",
    "\n",
    "# Convert response to string, then load it as JSON\n",
    "response_json = json.loads(''.join(response))\n",
    "\n",
    "# Extract the Id\n",
    "document_id = response_json[\"Id\"]\n",
    "print(document_id)\n",
    "\n",
    "# Set environment variable\n",
    "os.environ['DOCUMENT_ID'] = document_id\n"
   ]
  },
  {
   "cell_type": "markdown",
   "metadata": {},
   "source": [
    "##### Step 3: Index each chunk in the database"
   ]
  },
  {
   "cell_type": "code",
   "execution_count": 3,
   "metadata": {},
   "outputs": [
    {
     "name": "stdout",
     "output_type": "stream",
     "text": [
      "6bfecce4-a05f-41e7-bb45-13b9dd0bb2de\n",
      "{\"chunk_ids\":[\"e5961863-9ac3-41fb-a73e-27912c7dfcea\",\"a28b3e09-168a-4317-8531-473c2c607e9c\",\"3549264b-4e8e-40b0-97d9-71c86ad8fc28\",\"f2829bb8-746b-4405-9819-205d7c56bbdd\",\"283a892a-86cf-49e9-923e-9f6db60d41ee\",\"d7dfdf28-3273-41be-8be9-9b194c189c7e\",\"2b6b440e-e28b-482a-a362-2e4dfae62f5f\",\"6558835a-72f6-49dc-b33e-d7bff7dfb6d3\",\"2109b7dc-82b6-48d4-8b95-9046017413e3\",\"0b9d9e09-a813-42b1-a1dd-54e245a7e0b5\",\"3acd9a82-ed25-47e5-8052-4f7639f4cf4e\",\"cd830486-6a45-4560-a4cc-9a6fe669e0a0\",\"6ecc8634-ad60-4bb4-b976-9f8cf3a18e46\",\"348968e2-a6c9-4629-b49c-6e453ace772f\",\"f776d0c4-2cf9-486a-975c-3b756dced6c1\",\"789b987e-7784-4338-9cbf-e3404150af15\",\"71b2fb41-48f8-4cbf-af12-a26b9ea9b5c1\",\"307052a1-6db9-4b2a-9e2b-311c434a0421\",\"1fd465d6-5f9e-4c8e-adc7-412b422fc5b0\",\"32851ae9-4c7b-49d8-b25d-43261b94d967\",\"a2e3decf-b72c-4226-a8ab-2cc7651b7fd8\",\"f16a7b72-11b6-45a2-9cd7-2b29f19ddec6\",\"ea6eb9d1-9600-49aa-942a-360ec881a28b\",\"a8f8c78d-89ab-45c4-9f6a-2245ec57ac64\",\"04e321c1-0aac-43b6-8487-ef8bb11a8758\",\"cec3a249-f5f9-4354-9406-3a5d9dd68f6d\",\"42a22dda-738f-499d-a29d-e6b9ccd381ed\",\"6a2ce8ad-30c2-467f-92b5-1e17b26d66bf\",\"370c293e-157e-40cf-bdae-421c48644d11\",\"799e9d0f-622f-48f1-aa89-5ead049d0763\",\"9affb80f-02fb-4b56-9419-583ae93b66c3\",\"187edddb-27a4-4ab0-af52-d1b12d260777\",\"de288e51-191e-4548-a196-199aa2492f74\",\"2fd2fed1-dbc4-4c37-a8d1-2a82b9c904f0\",\"4235aa33-4f13-4833-9b4a-9b9746e38127\",\"7fb8aa36-0acd-4f2c-89fb-ad025ad34ffb\",\"264544e2-c566-468e-8f24-5e3a8d96a060\",\"d30c97cd-6dbd-4d49-92f2-3d6a2bf7926e\",\"000615a2-93a8-4b7c-948d-f7f10c66a950\",\"f81b3aaf-532e-45bb-aded-95e11ac05f4e\",\"f7623ca0-75a4-41a5-9d54-6f8825a72b0f\",\"06051e1c-4fda-46b4-b87d-661301009a3d\",\"5a4c54ca-f18e-48e8-a8a5-8cbf7389ab45\",\"8a387c67-9891-4643-987f-6a1ef5ff0af2\"]}"
     ]
    }
   ],
   "source": [
    "%%bash\n",
    "echo $DOCUMENT_ID\n",
    "curl -X POST 'http://localhost:12036/gen/v1/rag/step/index' \\\n",
    "    -H 'Content-Type: application/json' \\\n",
    "    -s \\\n",
    "    -d '{\n",
    "            \"collection_name\": \"demo\",\n",
    "            \"document_id\": \"-Sc9eXzUiSlaFV3qEDaKam33Boamkvv4tea8YPsjpy0\",\n",
    "            \"chunkgroup_id\": \"'$DOCUMENT_ID'\"\n",
    "        }'"
   ]
  },
  {
   "cell_type": "markdown",
   "metadata": {},
   "source": [
    "## Docker"
   ]
  },
  {
   "cell_type": "markdown",
   "metadata": {},
   "source": [
    "#### Step 1. Build\n",
    "\n",
    "a) Open Visual Code\n",
    "\n",
    "b) Press `CTRL + SHIFT + P` and \"Tasks: Run Task\" > \"[gai-rag] build\""
   ]
  },
  {
   "cell_type": "markdown",
   "metadata": {},
   "source": []
  },
  {
   "cell_type": "markdown",
   "metadata": {},
   "source": [
    "#### Step 2. Run\n",
    "\n",
    "a) Open Visual Code\n",
    "\n",
    "b) Press `CTRL + SHIFT + P` and \"Tasks: Run Task\" > \"[gai-rag] run\"\n",
    "\n",
    "c) Check the docker logs to confirm the model is ready.\n",
    "\n",
    "d) Repeat all the tests above."
   ]
  }
 ],
 "metadata": {
  "kernelspec": {
   "display_name": "gai-rag-svr",
   "language": "python",
   "name": "python3"
  },
  "language_info": {
   "codemirror_mode": {
    "name": "ipython",
    "version": 3
   },
   "file_extension": ".py",
   "mimetype": "text/x-python",
   "name": "python",
   "nbconvert_exporter": "python",
   "pygments_lexer": "ipython3",
   "version": "3.10.14"
  }
 },
 "nbformat": 4,
 "nbformat_minor": 2
}
