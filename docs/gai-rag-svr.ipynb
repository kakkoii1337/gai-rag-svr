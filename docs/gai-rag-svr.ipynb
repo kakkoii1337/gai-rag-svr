{
 "cells": [
  {
   "cell_type": "markdown",
   "metadata": {},
   "source": [
    "# Retrieval Augmented Generation (RAG) Server\n",
    "\n",
    "## 1. Setup\n",
    "\n",
    "**Instructions:**\n",
    "\n",
    "a) Download model\n",
    "\n",
    "```bash\n",
    "huggingface-cli download hkunlp/instructor-large \\\n",
    "    --revision 54e5ffb8d484de506e59443b07dc819fb15c7233 \\\n",
    "    --local-dir ~/.gai/models/instructor-large \\\n",
    "    --local-dir-use-symlinks False\n",
    "```\n"
   ]
  },
  {
   "cell_type": "markdown",
   "metadata": {},
   "source": [
    "---\n",
    "\n",
    "## 2. Load test configuration"
   ]
  },
  {
   "cell_type": "code",
   "execution_count": 2,
   "metadata": {},
   "outputs": [],
   "source": [
    "from gai.lib.server.singleton_host import SingletonHost\n",
    "from gai.lib.common.utils import free_mem\n",
    "from rich.console import Console\n",
    "console=Console()\n",
    "\n",
    "config = {\n",
    "    \"type\": \"rag\",\n",
    "    \"generator_name\": \"instructor-sentencepiece\",\n",
    "    \"chromadb\": {\n",
    "        \"path\": \"rag/chromadb\",\n",
    "        \"n_results\": 3\n",
    "    },\n",
    "    \"sqlite\": {\n",
    "        \"path\": \"rag/gai-rag.db\"\n",
    "    },\n",
    "    \"model_path\": \"models/instructor-large\",\n",
    "    \"device\": \"cuda\",\n",
    "    \"chunks\": {\n",
    "        \"size\": 1000,\n",
    "        \"overlap\": 100,\n",
    "        \"path\": \"chunks\"\n",
    "    },\n",
    "    \"module_name\": \"gai.rag.server.gai_rag\",\n",
    "    \"class_name\": \"RAG\",\n",
    "    \"init_args\": [],\n",
    "    \"init_kwargs\": {}\n",
    "}\n"
   ]
  },
  {
   "cell_type": "markdown",
   "metadata": {},
   "source": [
    "## 3. Load Model Test"
   ]
  },
  {
   "cell_type": "code",
   "execution_count": 2,
   "metadata": {},
   "outputs": [
    {
     "data": {
      "text/html": [
       "<pre style=\"white-space:pre;overflow-x:auto;line-height:normal;font-family:Menlo,'DejaVu Sans Mono',consolas,'Courier New',monospace\">Free memory: <span style=\"color: #ff0000; text-decoration-color: #ff0000; font-weight: bold\">4.00</span><span style=\"color: #ff0000; text-decoration-color: #ff0000\"> GB</span>\n",
       "</pre>\n"
      ],
      "text/plain": [
       "Free memory: \u001b[1;91m4.00\u001b[0m\u001b[91m GB\u001b[0m\n"
      ]
     },
     "metadata": {},
     "output_type": "display_data"
    },
    {
     "name": "stderr",
     "output_type": "stream",
     "text": [
      "\u001b[42m\u001b[30mINFO    \u001b[0m \u001b[32mRAG: device=cuda\u001b[0m\n",
      "\u001b[42m\u001b[30mINFO    \u001b[0m \u001b[32mRAG: sqlite=sqlite:///:memory:\u001b[0m\n"
     ]
    },
    {
     "name": "stdout",
     "output_type": "stream",
     "text": [
      "load INSTRUCTOR_Transformer\n"
     ]
    },
    {
     "name": "stderr",
     "output_type": "stream",
     "text": [
      "/home/kakkoii1337/.venv/lib/python3.10/site-packages/transformers/tokenization_utils_base.py:1601: FutureWarning: `clean_up_tokenization_spaces` was not set. It will be set to `True` by default. This behavior will be depracted in transformers v4.45, and will be then set to `False` by default. For more details check this issue: https://github.com/huggingface/transformers/issues/31884\n",
      "  warnings.warn(\n"
     ]
    },
    {
     "name": "stdout",
     "output_type": "stream",
     "text": [
      "max_seq_length  512\n"
     ]
    },
    {
     "data": {
      "text/html": [
       "<pre style=\"white-space:pre;overflow-x:auto;line-height:normal;font-family:Menlo,'DejaVu Sans Mono',consolas,'Courier New',monospace\"><span style=\"font-style: italic\">                         Performance load                          </span>\n",
       "┏━━━━━━━━━━━━━━━━━━━┳━━━━━━━━━━━━━━━┳━━━━━━━━━━━━━━┳━━━━━━━━━━━━━━┓\n",
       "┃<span style=\"color: #af00ff; text-decoration-color: #af00ff; font-weight: bold\"> Metric            </span>┃<span style=\"color: #af00ff; text-decoration-color: #af00ff; font-weight: bold\"> Initial Value </span>┃<span style=\"color: #af00ff; text-decoration-color: #af00ff; font-weight: bold\"> Change Value </span>┃<span style=\"color: #af00ff; text-decoration-color: #af00ff; font-weight: bold\">  Final Value </span>┃\n",
       "┡━━━━━━━━━━━━━━━━━━━╇━━━━━━━━━━━━━━━╇━━━━━━━━━━━━━━╇━━━━━━━━━━━━━━┩\n",
       "│<span style=\"color: #008080; text-decoration-color: #008080\"> Function Duration </span>│<span style=\"color: #008000; text-decoration-color: #008000\">             - </span>│<span style=\"color: #808000; text-decoration-color: #808000\"> 1.70 seconds </span>│<span style=\"color: #800080; text-decoration-color: #800080\"> 1.70 seconds </span>│\n",
       "│<span style=\"color: #008080; text-decoration-color: #008080\"> CPU Memory        </span>│<span style=\"color: #008000; text-decoration-color: #008000\">          - MB </span>│<span style=\"color: #808000; text-decoration-color: #808000\">      5.67 MB </span>│<span style=\"color: #800080; text-decoration-color: #800080\">      5.67 MB </span>│\n",
       "│<span style=\"color: #008080; text-decoration-color: #008080\"> CUDA Memory       </span>│<span style=\"color: #008000; text-decoration-color: #008000\">       4.04 GB </span>│<span style=\"color: #808000; text-decoration-color: #808000\">      0.00 GB </span>│<span style=\"color: #800080; text-decoration-color: #800080\">      4.03 GB </span>│\n",
       "└───────────────────┴───────────────┴──────────────┴──────────────┘\n",
       "</pre>\n"
      ],
      "text/plain": [
       "\u001b[3m                         Performance load                          \u001b[0m\n",
       "┏━━━━━━━━━━━━━━━━━━━┳━━━━━━━━━━━━━━━┳━━━━━━━━━━━━━━┳━━━━━━━━━━━━━━┓\n",
       "┃\u001b[1;38;5;129m \u001b[0m\u001b[1;38;5;129mMetric           \u001b[0m\u001b[1;38;5;129m \u001b[0m┃\u001b[1;38;5;129m \u001b[0m\u001b[1;38;5;129mInitial Value\u001b[0m\u001b[1;38;5;129m \u001b[0m┃\u001b[1;38;5;129m \u001b[0m\u001b[1;38;5;129mChange Value\u001b[0m\u001b[1;38;5;129m \u001b[0m┃\u001b[1;38;5;129m \u001b[0m\u001b[1;38;5;129m Final Value\u001b[0m\u001b[1;38;5;129m \u001b[0m┃\n",
       "┡━━━━━━━━━━━━━━━━━━━╇━━━━━━━━━━━━━━━╇━━━━━━━━━━━━━━╇━━━━━━━━━━━━━━┩\n",
       "│\u001b[36m \u001b[0m\u001b[36mFunction Duration\u001b[0m\u001b[36m \u001b[0m│\u001b[32m \u001b[0m\u001b[32m            -\u001b[0m\u001b[32m \u001b[0m│\u001b[33m \u001b[0m\u001b[33m1.70 seconds\u001b[0m\u001b[33m \u001b[0m│\u001b[35m \u001b[0m\u001b[35m1.70 seconds\u001b[0m\u001b[35m \u001b[0m│\n",
       "│\u001b[36m \u001b[0m\u001b[36mCPU Memory       \u001b[0m\u001b[36m \u001b[0m│\u001b[32m \u001b[0m\u001b[32m         - MB\u001b[0m\u001b[32m \u001b[0m│\u001b[33m \u001b[0m\u001b[33m     5.67 MB\u001b[0m\u001b[33m \u001b[0m│\u001b[35m \u001b[0m\u001b[35m     5.67 MB\u001b[0m\u001b[35m \u001b[0m│\n",
       "│\u001b[36m \u001b[0m\u001b[36mCUDA Memory      \u001b[0m\u001b[36m \u001b[0m│\u001b[32m \u001b[0m\u001b[32m      4.04 GB\u001b[0m\u001b[32m \u001b[0m│\u001b[33m \u001b[0m\u001b[33m     0.00 GB\u001b[0m\u001b[33m \u001b[0m│\u001b[35m \u001b[0m\u001b[35m     4.03 GB\u001b[0m\u001b[35m \u001b[0m│\n",
       "└───────────────────┴───────────────┴──────────────┴──────────────┘\n"
      ]
     },
     "metadata": {},
     "output_type": "display_data"
    },
    {
     "data": {
      "text/html": [
       "<pre style=\"white-space:pre;overflow-x:auto;line-height:normal;font-family:Menlo,'DejaVu Sans Mono',consolas,'Courier New',monospace\">Free memory: <span style=\"color: #00ff00; text-decoration-color: #00ff00; font-weight: bold\">4.03</span><span style=\"color: #00ff00; text-decoration-color: #00ff00\"> GB</span>\n",
       "</pre>\n"
      ],
      "text/plain": [
       "Free memory: \u001b[1;92m4.03\u001b[0m\u001b[92m GB\u001b[0m\n"
      ]
     },
     "metadata": {},
     "output_type": "display_data"
    },
    {
     "data": {
      "text/html": [
       "<pre style=\"white-space:pre;overflow-x:auto;line-height:normal;font-family:Menlo,'DejaVu Sans Mono',consolas,'Courier New',monospace\">Free memory: <span style=\"color: #00ff00; text-decoration-color: #00ff00; font-weight: bold\">4.03</span><span style=\"color: #00ff00; text-decoration-color: #00ff00\"> GB</span>\n",
       "</pre>\n"
      ],
      "text/plain": [
       "Free memory: \u001b[1;92m4.03\u001b[0m\u001b[92m GB\u001b[0m\n"
      ]
     },
     "metadata": {},
     "output_type": "display_data"
    }
   ],
   "source": [
    "# before loading\n",
    "free_mem()\n",
    "try:\n",
    "    with SingletonHost.GetInstanceFromConfig(config) as host:\n",
    "\n",
    "        # after loading\n",
    "        free_mem()\n",
    "except Exception as e:\n",
    "    raise e\n",
    "finally:\n",
    "    # after disposal\n",
    "    free_mem()\n",
    "    "
   ]
  },
  {
   "cell_type": "markdown",
   "metadata": {},
   "source": [
    "## Indexing"
   ]
  },
  {
   "cell_type": "code",
   "execution_count": 3,
   "metadata": {},
   "outputs": [
    {
     "name": "stderr",
     "output_type": "stream",
     "text": [
      "\u001b[42m\u001b[30mINFO    \u001b[0m \u001b[32mSingletonHost: Loading generator instructor-sentencepiece...\u001b[0m\n",
      "\u001b[42m\u001b[30mINFO    \u001b[0m \u001b[32mRAG: device=cuda\u001b[0m\n",
      "\u001b[42m\u001b[30mINFO    \u001b[0m \u001b[32mRAG: sqlite=sqlite:///:memory:\u001b[0m\n"
     ]
    },
    {
     "name": "stdout",
     "output_type": "stream",
     "text": [
      "load INSTRUCTOR_Transformer\n"
     ]
    },
    {
     "name": "stderr",
     "output_type": "stream",
     "text": [
      "/home/kakkoii1337/.venv/lib/python3.10/site-packages/transformers/tokenization_utils_base.py:1601: FutureWarning: `clean_up_tokenization_spaces` was not set. It will be set to `True` by default. This behavior will be depracted in transformers v4.45, and will be then set to `False` by default. For more details check this issue: https://github.com/huggingface/transformers/issues/31884\n",
      "  warnings.warn(\n"
     ]
    },
    {
     "name": "stdout",
     "output_type": "stream",
     "text": [
      "max_seq_length  512\n"
     ]
    },
    {
     "data": {
      "text/html": [
       "<pre style=\"white-space:pre;overflow-x:auto;line-height:normal;font-family:Menlo,'DejaVu Sans Mono',consolas,'Courier New',monospace\"><span style=\"font-style: italic\">                         Performance load                          </span>\n",
       "┏━━━━━━━━━━━━━━━━━━━┳━━━━━━━━━━━━━━━┳━━━━━━━━━━━━━━┳━━━━━━━━━━━━━━┓\n",
       "┃<span style=\"color: #af00ff; text-decoration-color: #af00ff; font-weight: bold\"> Metric            </span>┃<span style=\"color: #af00ff; text-decoration-color: #af00ff; font-weight: bold\"> Initial Value </span>┃<span style=\"color: #af00ff; text-decoration-color: #af00ff; font-weight: bold\"> Change Value </span>┃<span style=\"color: #af00ff; text-decoration-color: #af00ff; font-weight: bold\">  Final Value </span>┃\n",
       "┡━━━━━━━━━━━━━━━━━━━╇━━━━━━━━━━━━━━━╇━━━━━━━━━━━━━━╇━━━━━━━━━━━━━━┩\n",
       "│<span style=\"color: #008080; text-decoration-color: #008080\"> Function Duration </span>│<span style=\"color: #008000; text-decoration-color: #008000\">             - </span>│<span style=\"color: #808000; text-decoration-color: #808000\"> 1.23 seconds </span>│<span style=\"color: #800080; text-decoration-color: #800080\"> 1.23 seconds </span>│\n",
       "│<span style=\"color: #008080; text-decoration-color: #008080\"> CPU Memory        </span>│<span style=\"color: #008000; text-decoration-color: #008000\">          - MB </span>│<span style=\"color: #808000; text-decoration-color: #808000\">      5.65 MB </span>│<span style=\"color: #800080; text-decoration-color: #800080\">      5.65 MB </span>│\n",
       "│<span style=\"color: #008080; text-decoration-color: #008080\"> CUDA Memory       </span>│<span style=\"color: #008000; text-decoration-color: #008000\">       4.03 GB </span>│<span style=\"color: #808000; text-decoration-color: #808000\">      0.00 GB </span>│<span style=\"color: #800080; text-decoration-color: #800080\">      4.03 GB </span>│\n",
       "└───────────────────┴───────────────┴──────────────┴──────────────┘\n",
       "</pre>\n"
      ],
      "text/plain": [
       "\u001b[3m                         Performance load                          \u001b[0m\n",
       "┏━━━━━━━━━━━━━━━━━━━┳━━━━━━━━━━━━━━━┳━━━━━━━━━━━━━━┳━━━━━━━━━━━━━━┓\n",
       "┃\u001b[1;38;5;129m \u001b[0m\u001b[1;38;5;129mMetric           \u001b[0m\u001b[1;38;5;129m \u001b[0m┃\u001b[1;38;5;129m \u001b[0m\u001b[1;38;5;129mInitial Value\u001b[0m\u001b[1;38;5;129m \u001b[0m┃\u001b[1;38;5;129m \u001b[0m\u001b[1;38;5;129mChange Value\u001b[0m\u001b[1;38;5;129m \u001b[0m┃\u001b[1;38;5;129m \u001b[0m\u001b[1;38;5;129m Final Value\u001b[0m\u001b[1;38;5;129m \u001b[0m┃\n",
       "┡━━━━━━━━━━━━━━━━━━━╇━━━━━━━━━━━━━━━╇━━━━━━━━━━━━━━╇━━━━━━━━━━━━━━┩\n",
       "│\u001b[36m \u001b[0m\u001b[36mFunction Duration\u001b[0m\u001b[36m \u001b[0m│\u001b[32m \u001b[0m\u001b[32m            -\u001b[0m\u001b[32m \u001b[0m│\u001b[33m \u001b[0m\u001b[33m1.23 seconds\u001b[0m\u001b[33m \u001b[0m│\u001b[35m \u001b[0m\u001b[35m1.23 seconds\u001b[0m\u001b[35m \u001b[0m│\n",
       "│\u001b[36m \u001b[0m\u001b[36mCPU Memory       \u001b[0m\u001b[36m \u001b[0m│\u001b[32m \u001b[0m\u001b[32m         - MB\u001b[0m\u001b[32m \u001b[0m│\u001b[33m \u001b[0m\u001b[33m     5.65 MB\u001b[0m\u001b[33m \u001b[0m│\u001b[35m \u001b[0m\u001b[35m     5.65 MB\u001b[0m\u001b[35m \u001b[0m│\n",
       "│\u001b[36m \u001b[0m\u001b[36mCUDA Memory      \u001b[0m\u001b[36m \u001b[0m│\u001b[32m \u001b[0m\u001b[32m      4.03 GB\u001b[0m\u001b[32m \u001b[0m│\u001b[33m \u001b[0m\u001b[33m     0.00 GB\u001b[0m\u001b[33m \u001b[0m│\u001b[35m \u001b[0m\u001b[35m     4.03 GB\u001b[0m\u001b[35m \u001b[0m│\n",
       "└───────────────────┴───────────────┴──────────────┴──────────────┘\n"
      ]
     },
     "metadata": {},
     "output_type": "display_data"
    },
    {
     "name": "stderr",
     "output_type": "stream",
     "text": [
      "\u001b[42m\u001b[30mINFO    \u001b[0m \u001b[32mrag.index_document_header_async: request started. collection_name=demo file_path=./pm_long_speech_2023.txt title=2023 National Day Rally Speech source=https://www.pmo.gov.sg/Newsroom/2023-National-Day-Rally-Speech abstract=None authors=None publisher=None published_date=None comments=None keywords=None\u001b[0m\n",
      "\u001b[45m\u001b[30mDEBUG   \u001b[0m \u001b[35mrag.index_document_header_async: creating doc header with id=PwR6VmXqAfwjn84ZM6dePsLWTldPv8cNS5dESYlsY2U.\u001b[0m\n",
      "\u001b[45m\u001b[30mDEBUG   \u001b[0m \u001b[35mrag.index_document_header_async: document_header created. id=PwR6VmXqAfwjn84ZM6dePsLWTldPv8cNS5dESYlsY2U\u001b[0m\n",
      "\u001b[42m\u001b[30mINFO    \u001b[0m \u001b[32mrag.index_document_split_async: splitting chunks\u001b[0m\n",
      "\u001b[42m\u001b[30mINFO    \u001b[0m \u001b[32mrag.index_document_split_async: chunkgroup created. chunkgroup_id=0232f8fa-7d61-4613-825d-245596235a35\u001b[0m\n",
      "100%|██████████| 66/66 [00:00<00:00, 479.25it/s]\n",
      "\u001b[42m\u001b[30mINFO    \u001b[0m \u001b[32mrag.index_document_split_async: chunks created. count=66\u001b[0m\n",
      "\u001b[42m\u001b[30mINFO    \u001b[0m \u001b[32mRAG.index_document_index_async: Start indexing...\u001b[0m\n",
      "0it [00:00, ?it/s]\u001b[45m\u001b[30mDEBUG   \u001b[0m \u001b[35mRAG.index_document_index_async: Indexed 1/66 chunk 2159ce1f-03c6-429e-b9dc-3f26eeb3741a into collection demo\u001b[0m\n",
      "1it [00:01,  1.79s/it]\u001b[45m\u001b[30mDEBUG   \u001b[0m \u001b[35mRAG.index_document_index_async: Indexed 2/66 chunk 0b553019-b971-4e81-81ce-7612048a046f into collection demo\u001b[0m\n",
      "\u001b[45m\u001b[30mDEBUG   \u001b[0m \u001b[35mRAG.index_document_index_async: Indexed 3/66 chunk edcda417-544f-4ba9-9f70-efbbca138d75 into collection demo\u001b[0m\n",
      "3it [00:01,  1.91it/s]\u001b[45m\u001b[30mDEBUG   \u001b[0m \u001b[35mRAG.index_document_index_async: Indexed 4/66 chunk 9b9cd03e-bad4-4d3e-8fe7-c8776248e768 into collection demo\u001b[0m\n",
      "\u001b[45m\u001b[30mDEBUG   \u001b[0m \u001b[35mRAG.index_document_index_async: Indexed 5/66 chunk 5fcc8065-3b72-4f63-baaa-99d836eaa516 into collection demo\u001b[0m\n",
      "5it [00:02,  3.47it/s]\u001b[45m\u001b[30mDEBUG   \u001b[0m \u001b[35mRAG.index_document_index_async: Indexed 6/66 chunk 866a5fb9-caa5-4552-8c5f-98253ac1598d into collection demo\u001b[0m\n",
      "\u001b[45m\u001b[30mDEBUG   \u001b[0m \u001b[35mRAG.index_document_index_async: Indexed 7/66 chunk 7df7fc62-8fb1-4c4c-b424-430f07a8bf1e into collection demo\u001b[0m\n",
      "7it [00:02,  5.12it/s]\u001b[45m\u001b[30mDEBUG   \u001b[0m \u001b[35mRAG.index_document_index_async: Indexed 8/66 chunk 9dedf019-9901-4ea6-ab11-704ec913d9b0 into collection demo\u001b[0m\n",
      "\u001b[45m\u001b[30mDEBUG   \u001b[0m \u001b[35mRAG.index_document_index_async: Indexed 9/66 chunk 660ab798-628a-4d83-ad4d-27ad52b995d3 into collection demo\u001b[0m\n",
      "9it [00:02,  6.73it/s]\u001b[45m\u001b[30mDEBUG   \u001b[0m \u001b[35mRAG.index_document_index_async: Indexed 10/66 chunk df3c4c16-6209-4368-888a-fa1771b867e1 into collection demo\u001b[0m\n",
      "\u001b[45m\u001b[30mDEBUG   \u001b[0m \u001b[35mRAG.index_document_index_async: Indexed 11/66 chunk fdc98d13-6ef0-455e-a238-1a6d4f9af427 into collection demo\u001b[0m\n",
      "11it [00:02,  8.10it/s]\u001b[45m\u001b[30mDEBUG   \u001b[0m \u001b[35mRAG.index_document_index_async: Indexed 12/66 chunk c08d8c04-466d-491b-a024-777a06c254e3 into collection demo\u001b[0m\n",
      "\u001b[45m\u001b[30mDEBUG   \u001b[0m \u001b[35mRAG.index_document_index_async: Indexed 13/66 chunk 3c5f14fa-b671-41bc-b27f-249ac6ed4acf into collection demo\u001b[0m\n",
      "13it [00:02,  9.65it/s]\u001b[45m\u001b[30mDEBUG   \u001b[0m \u001b[35mRAG.index_document_index_async: Indexed 14/66 chunk a0d03b62-dbed-47e0-a3a4-8ecc42bae6c2 into collection demo\u001b[0m\n",
      "\u001b[45m\u001b[30mDEBUG   \u001b[0m \u001b[35mRAG.index_document_index_async: Indexed 15/66 chunk 6cf1ec32-b332-4a63-a479-97bbd88a74b1 into collection demo\u001b[0m\n",
      "15it [00:02, 10.44it/s]\u001b[45m\u001b[30mDEBUG   \u001b[0m \u001b[35mRAG.index_document_index_async: Indexed 16/66 chunk 6d967e57-a6ff-43a9-8539-98c94e524d49 into collection demo\u001b[0m\n",
      "\u001b[45m\u001b[30mDEBUG   \u001b[0m \u001b[35mRAG.index_document_index_async: Indexed 17/66 chunk c3fb5095-3ad6-4f88-935d-c0294e42b3bc into collection demo\u001b[0m\n",
      "17it [00:02, 11.46it/s]\u001b[45m\u001b[30mDEBUG   \u001b[0m \u001b[35mRAG.index_document_index_async: Indexed 18/66 chunk 24cd8d97-25d1-48c4-b77c-d8104b3343c8 into collection demo\u001b[0m\n",
      "\u001b[45m\u001b[30mDEBUG   \u001b[0m \u001b[35mRAG.index_document_index_async: Indexed 19/66 chunk da9fdea3-7863-4a09-9694-e172e6649b62 into collection demo\u001b[0m\n",
      "19it [00:03, 12.46it/s]\u001b[45m\u001b[30mDEBUG   \u001b[0m \u001b[35mRAG.index_document_index_async: Indexed 20/66 chunk b8d48b57-e374-45e6-9d8b-22ae39d8de31 into collection demo\u001b[0m\n",
      "\u001b[45m\u001b[30mDEBUG   \u001b[0m \u001b[35mRAG.index_document_index_async: Indexed 21/66 chunk 9f881320-ffa7-4e45-91ff-4977ad1cd165 into collection demo\u001b[0m\n",
      "21it [00:03, 11.82it/s]\u001b[45m\u001b[30mDEBUG   \u001b[0m \u001b[35mRAG.index_document_index_async: Indexed 22/66 chunk d5462c6c-e39a-44c4-9b4f-a875666f9a4b into collection demo\u001b[0m\n",
      "\u001b[45m\u001b[30mDEBUG   \u001b[0m \u001b[35mRAG.index_document_index_async: Indexed 23/66 chunk 91f8e7ac-105f-46a7-91c8-0bf522237b72 into collection demo\u001b[0m\n",
      "23it [00:03, 11.89it/s]\u001b[45m\u001b[30mDEBUG   \u001b[0m \u001b[35mRAG.index_document_index_async: Indexed 24/66 chunk 744264da-1c87-4ba9-9e5d-44424be739f6 into collection demo\u001b[0m\n",
      "\u001b[45m\u001b[30mDEBUG   \u001b[0m \u001b[35mRAG.index_document_index_async: Indexed 25/66 chunk b69fcb1c-6db4-44c6-80cf-2cb0e2187eef into collection demo\u001b[0m\n",
      "25it [00:03, 11.97it/s]\u001b[45m\u001b[30mDEBUG   \u001b[0m \u001b[35mRAG.index_document_index_async: Indexed 26/66 chunk 904680c0-ce9f-4ef9-8c61-9853a12e8990 into collection demo\u001b[0m\n",
      "\u001b[45m\u001b[30mDEBUG   \u001b[0m \u001b[35mRAG.index_document_index_async: Indexed 27/66 chunk 88450ac8-1e1e-4bd7-b9dd-9156024b61bb into collection demo\u001b[0m\n",
      "27it [00:03, 12.03it/s]\u001b[45m\u001b[30mDEBUG   \u001b[0m \u001b[35mRAG.index_document_index_async: Indexed 28/66 chunk c25eb4d5-5676-4bd4-988f-53a3bafd8fdb into collection demo\u001b[0m\n",
      "\u001b[45m\u001b[30mDEBUG   \u001b[0m \u001b[35mRAG.index_document_index_async: Indexed 29/66 chunk 63492e59-cdd1-4e32-841e-222d3808656d into collection demo\u001b[0m\n",
      "29it [00:03, 12.06it/s]\u001b[45m\u001b[30mDEBUG   \u001b[0m \u001b[35mRAG.index_document_index_async: Indexed 30/66 chunk f147e020-3900-48e1-9ce0-5364f131fa41 into collection demo\u001b[0m\n",
      "\u001b[45m\u001b[30mDEBUG   \u001b[0m \u001b[35mRAG.index_document_index_async: Indexed 31/66 chunk 52a5293d-804c-413c-96f3-0424cd0dda0e into collection demo\u001b[0m\n",
      "31it [00:04, 12.83it/s]\u001b[45m\u001b[30mDEBUG   \u001b[0m \u001b[35mRAG.index_document_index_async: Indexed 32/66 chunk e858e013-47e4-465a-b058-b4febd3c268c into collection demo\u001b[0m\n",
      "\u001b[45m\u001b[30mDEBUG   \u001b[0m \u001b[35mRAG.index_document_index_async: Indexed 33/66 chunk 3094025c-f48e-47f0-991b-c8463498c9f3 into collection demo\u001b[0m\n",
      "33it [00:04, 12.80it/s]\u001b[45m\u001b[30mDEBUG   \u001b[0m \u001b[35mRAG.index_document_index_async: Indexed 34/66 chunk 743b3f5e-9af7-4926-8295-c1e7eaa4cee5 into collection demo\u001b[0m\n",
      "\u001b[45m\u001b[30mDEBUG   \u001b[0m \u001b[35mRAG.index_document_index_async: Indexed 35/66 chunk eef78aaf-a335-4f38-be21-296d8a973402 into collection demo\u001b[0m\n",
      "35it [00:04, 13.34it/s]\u001b[45m\u001b[30mDEBUG   \u001b[0m \u001b[35mRAG.index_document_index_async: Indexed 36/66 chunk 73cddf7c-8a2f-452d-9fb0-ed3bffbc37c3 into collection demo\u001b[0m\n",
      "\u001b[45m\u001b[30mDEBUG   \u001b[0m \u001b[35mRAG.index_document_index_async: Indexed 37/66 chunk cbdec00c-f936-417e-a707-1c3b48ffd7b4 into collection demo\u001b[0m\n",
      "37it [00:04, 14.26it/s]\u001b[45m\u001b[30mDEBUG   \u001b[0m \u001b[35mRAG.index_document_index_async: Indexed 38/66 chunk 91723ae2-a043-4644-aeaa-85a12bbcadaa into collection demo\u001b[0m\n",
      "\u001b[45m\u001b[30mDEBUG   \u001b[0m \u001b[35mRAG.index_document_index_async: Indexed 39/66 chunk 53fb25c0-54d6-41c8-962d-c07324774d3e into collection demo\u001b[0m\n",
      "39it [00:04, 14.64it/s]\u001b[45m\u001b[30mDEBUG   \u001b[0m \u001b[35mRAG.index_document_index_async: Indexed 40/66 chunk e2ac63fe-3c4d-448d-83f5-37cab4d94e14 into collection demo\u001b[0m\n",
      "\u001b[45m\u001b[30mDEBUG   \u001b[0m \u001b[35mRAG.index_document_index_async: Indexed 41/66 chunk 7efabe59-9023-415c-a522-3f13fa919816 into collection demo\u001b[0m\n",
      "41it [00:04, 14.04it/s]\u001b[45m\u001b[30mDEBUG   \u001b[0m \u001b[35mRAG.index_document_index_async: Indexed 42/66 chunk fd221db5-868c-417a-9cba-e0400c9570e4 into collection demo\u001b[0m\n",
      "\u001b[45m\u001b[30mDEBUG   \u001b[0m \u001b[35mRAG.index_document_index_async: Indexed 43/66 chunk da1870ad-778f-4e1a-967b-6f2609d4320f into collection demo\u001b[0m\n",
      "43it [00:04, 13.97it/s]\u001b[45m\u001b[30mDEBUG   \u001b[0m \u001b[35mRAG.index_document_index_async: Indexed 44/66 chunk 8b53f156-306c-44ed-a250-40180577c586 into collection demo\u001b[0m\n",
      "\u001b[45m\u001b[30mDEBUG   \u001b[0m \u001b[35mRAG.index_document_index_async: Indexed 45/66 chunk bc2c4028-1976-4fe5-87b0-744aa25b227d into collection demo\u001b[0m\n",
      "45it [00:05, 13.68it/s]\u001b[45m\u001b[30mDEBUG   \u001b[0m \u001b[35mRAG.index_document_index_async: Indexed 46/66 chunk 34e5cfbf-d28e-41e8-86e8-0cb0b0a5dac4 into collection demo\u001b[0m\n",
      "\u001b[45m\u001b[30mDEBUG   \u001b[0m \u001b[35mRAG.index_document_index_async: Indexed 47/66 chunk f7bc6128-9c82-4cb4-a5f8-c07ad9fae6a5 into collection demo\u001b[0m\n",
      "47it [00:05, 13.79it/s]\u001b[45m\u001b[30mDEBUG   \u001b[0m \u001b[35mRAG.index_document_index_async: Indexed 48/66 chunk a720f5eb-acf1-483e-b47a-be69a9b270cb into collection demo\u001b[0m\n",
      "\u001b[45m\u001b[30mDEBUG   \u001b[0m \u001b[35mRAG.index_document_index_async: Indexed 49/66 chunk 65f11e28-6465-417f-b2ea-d01110beceb4 into collection demo\u001b[0m\n",
      "49it [00:05, 14.27it/s]\u001b[45m\u001b[30mDEBUG   \u001b[0m \u001b[35mRAG.index_document_index_async: Indexed 50/66 chunk bd3d61b1-cf3a-4c60-ad8f-563c93dfb983 into collection demo\u001b[0m\n",
      "\u001b[45m\u001b[30mDEBUG   \u001b[0m \u001b[35mRAG.index_document_index_async: Indexed 51/66 chunk e3f27469-20d8-4d3b-8bca-6f626738b251 into collection demo\u001b[0m\n",
      "51it [00:05, 13.60it/s]\u001b[45m\u001b[30mDEBUG   \u001b[0m \u001b[35mRAG.index_document_index_async: Indexed 52/66 chunk f0deccd7-a856-4aa4-b89d-30627273215f into collection demo\u001b[0m\n",
      "\u001b[45m\u001b[30mDEBUG   \u001b[0m \u001b[35mRAG.index_document_index_async: Indexed 53/66 chunk e1985751-5b50-4d11-a1a9-e9c643376f97 into collection demo\u001b[0m\n",
      "53it [00:05, 13.20it/s]\u001b[45m\u001b[30mDEBUG   \u001b[0m \u001b[35mRAG.index_document_index_async: Indexed 54/66 chunk b24a16b3-8bb7-4d51-a9d2-8e61819a80d3 into collection demo\u001b[0m\n",
      "\u001b[45m\u001b[30mDEBUG   \u001b[0m \u001b[35mRAG.index_document_index_async: Indexed 55/66 chunk 07a45056-4bf2-4e6f-b223-e16c3ac934cf into collection demo\u001b[0m\n",
      "55it [00:05, 13.31it/s]\u001b[45m\u001b[30mDEBUG   \u001b[0m \u001b[35mRAG.index_document_index_async: Indexed 56/66 chunk e89f3034-f5e4-4c97-af93-8c2509f1f3be into collection demo\u001b[0m\n",
      "\u001b[45m\u001b[30mDEBUG   \u001b[0m \u001b[35mRAG.index_document_index_async: Indexed 57/66 chunk 2c3eb894-9b2a-4bb9-a3b8-56752fb9abbd into collection demo\u001b[0m\n",
      "57it [00:05, 12.92it/s]\u001b[45m\u001b[30mDEBUG   \u001b[0m \u001b[35mRAG.index_document_index_async: Indexed 58/66 chunk b22fdf80-e9b3-440c-bf6d-65d2c5e608d8 into collection demo\u001b[0m\n",
      "\u001b[45m\u001b[30mDEBUG   \u001b[0m \u001b[35mRAG.index_document_index_async: Indexed 59/66 chunk 053524ee-c343-4e35-9de4-0f94d8068820 into collection demo\u001b[0m\n",
      "59it [00:06, 12.76it/s]\u001b[45m\u001b[30mDEBUG   \u001b[0m \u001b[35mRAG.index_document_index_async: Indexed 60/66 chunk b52aa1db-72f2-444b-ad7e-2a5717cd6598 into collection demo\u001b[0m\n",
      "\u001b[45m\u001b[30mDEBUG   \u001b[0m \u001b[35mRAG.index_document_index_async: Indexed 61/66 chunk 583425c3-dfc3-4396-a305-7eaca474db4a into collection demo\u001b[0m\n",
      "61it [00:06, 12.53it/s]\u001b[45m\u001b[30mDEBUG   \u001b[0m \u001b[35mRAG.index_document_index_async: Indexed 62/66 chunk b40fc216-680a-451e-b40d-972454c3ece2 into collection demo\u001b[0m\n",
      "\u001b[45m\u001b[30mDEBUG   \u001b[0m \u001b[35mRAG.index_document_index_async: Indexed 63/66 chunk 396613d3-ad17-4b11-bb95-ab014c916044 into collection demo\u001b[0m\n",
      "63it [00:06, 12.99it/s]\u001b[45m\u001b[30mDEBUG   \u001b[0m \u001b[35mRAG.index_document_index_async: Indexed 64/66 chunk baaefb79-eeb3-4025-bc74-5b2714723d8b into collection demo\u001b[0m\n",
      "\u001b[45m\u001b[30mDEBUG   \u001b[0m \u001b[35mRAG.index_document_index_async: Indexed 65/66 chunk 387c451d-803b-4751-9620-a90b79f076f9 into collection demo\u001b[0m\n",
      "65it [00:06, 12.72it/s]\u001b[45m\u001b[30mDEBUG   \u001b[0m \u001b[35mRAG.index_document_index_async: Indexed 66/66 chunk 07dc8c1f-2ec1-4736-87df-45106c42a020 into collection demo\u001b[0m\n",
      "66it [00:06,  9.91it/s]\n",
      "\u001b[42m\u001b[30mINFO    \u001b[0m \u001b[32mRAG.index_async: indexing...done\u001b[0m\n"
     ]
    },
    {
     "data": {
      "text/html": [
       "<pre style=\"white-space:pre;overflow-x:auto;line-height:normal;font-family:Menlo,'DejaVu Sans Mono',consolas,'Courier New',monospace\">Free memory: <span style=\"color: #ff0000; text-decoration-color: #ff0000; font-weight: bold\">3.89</span><span style=\"color: #ff0000; text-decoration-color: #ff0000\"> GB</span>\n",
       "</pre>\n"
      ],
      "text/plain": [
       "Free memory: \u001b[1;91m3.89\u001b[0m\u001b[91m GB\u001b[0m\n"
      ]
     },
     "metadata": {},
     "output_type": "display_data"
    }
   ],
   "source": [
    "from gai.rag.server.gai_rag import RAG\n",
    "from gai.rag.dtos.create_doc_header_request import CreateDocHeaderRequestPydantic\n",
    "try:\n",
    "    with SingletonHost.GetInstanceFromConfig(config) as host:\n",
    "        rag = host.generator\n",
    "\n",
    "        req = CreateDocHeaderRequestPydantic(\n",
    "            CollectionName='demo',\n",
    "            FileType='txt',\n",
    "            Source='https://www.pmo.gov.sg/Newsroom/2023-National-Day-Rally-Speech',\n",
    "            Title='2023 National Day Rally Speech',\n",
    "            FilePath=\"./pm_long_speech_2023.txt\"\n",
    "        )\n",
    "\n",
    "\n",
    "        # Index\n",
    "        doc_id = await rag.index_async(\n",
    "            req=req\n",
    "            # collection_name='demo',\n",
    "            # file_type='txt',\n",
    "            # source=\"https://www.pmo.gov.sg/Newsroom/2023-National-Day-Rally-Speech\",\n",
    "            # title=\"2023 National Day Rally Speech\"\n",
    "            )\n",
    "\n",
    "except Exception as e:\n",
    "    raise e\n",
    "finally:\n",
    "    # after disposal\n",
    "    free_mem()\n"
   ]
  },
  {
   "cell_type": "code",
   "execution_count": 4,
   "metadata": {},
   "outputs": [
    {
     "name": "stderr",
     "output_type": "stream",
     "text": [
      "\u001b[42m\u001b[30mINFO    \u001b[0m \u001b[32mSingletonHost: Loading generator instructor-sentencepiece...\u001b[0m\n",
      "\u001b[42m\u001b[30mINFO    \u001b[0m \u001b[32mRAG: device=cuda\u001b[0m\n",
      "\u001b[42m\u001b[30mINFO    \u001b[0m \u001b[32mRAG: sqlite=sqlite:///:memory:\u001b[0m\n"
     ]
    },
    {
     "name": "stdout",
     "output_type": "stream",
     "text": [
      "load INSTRUCTOR_Transformer\n",
      "max_seq_length  512\n"
     ]
    },
    {
     "data": {
      "text/html": [
       "<pre style=\"white-space:pre;overflow-x:auto;line-height:normal;font-family:Menlo,'DejaVu Sans Mono',consolas,'Courier New',monospace\"><span style=\"font-style: italic\">                         Performance load                          </span>\n",
       "┏━━━━━━━━━━━━━━━━━━━┳━━━━━━━━━━━━━━━┳━━━━━━━━━━━━━━┳━━━━━━━━━━━━━━┓\n",
       "┃<span style=\"color: #af00ff; text-decoration-color: #af00ff; font-weight: bold\"> Metric            </span>┃<span style=\"color: #af00ff; text-decoration-color: #af00ff; font-weight: bold\"> Initial Value </span>┃<span style=\"color: #af00ff; text-decoration-color: #af00ff; font-weight: bold\"> Change Value </span>┃<span style=\"color: #af00ff; text-decoration-color: #af00ff; font-weight: bold\">  Final Value </span>┃\n",
       "┡━━━━━━━━━━━━━━━━━━━╇━━━━━━━━━━━━━━━╇━━━━━━━━━━━━━━╇━━━━━━━━━━━━━━┩\n",
       "│<span style=\"color: #008080; text-decoration-color: #008080\"> Function Duration </span>│<span style=\"color: #008000; text-decoration-color: #008000\">             - </span>│<span style=\"color: #808000; text-decoration-color: #808000\"> 0.89 seconds </span>│<span style=\"color: #800080; text-decoration-color: #800080\"> 0.89 seconds </span>│\n",
       "│<span style=\"color: #008080; text-decoration-color: #008080\"> CPU Memory        </span>│<span style=\"color: #008000; text-decoration-color: #008000\">          - MB </span>│<span style=\"color: #808000; text-decoration-color: #808000\">      1.48 MB </span>│<span style=\"color: #800080; text-decoration-color: #800080\">      1.48 MB </span>│\n",
       "│<span style=\"color: #008080; text-decoration-color: #008080\"> CUDA Memory       </span>│<span style=\"color: #008000; text-decoration-color: #008000\">       3.90 GB </span>│<span style=\"color: #808000; text-decoration-color: #808000\">      0.00 GB </span>│<span style=\"color: #800080; text-decoration-color: #800080\">      3.90 GB </span>│\n",
       "└───────────────────┴───────────────┴──────────────┴──────────────┘\n",
       "</pre>\n"
      ],
      "text/plain": [
       "\u001b[3m                         Performance load                          \u001b[0m\n",
       "┏━━━━━━━━━━━━━━━━━━━┳━━━━━━━━━━━━━━━┳━━━━━━━━━━━━━━┳━━━━━━━━━━━━━━┓\n",
       "┃\u001b[1;38;5;129m \u001b[0m\u001b[1;38;5;129mMetric           \u001b[0m\u001b[1;38;5;129m \u001b[0m┃\u001b[1;38;5;129m \u001b[0m\u001b[1;38;5;129mInitial Value\u001b[0m\u001b[1;38;5;129m \u001b[0m┃\u001b[1;38;5;129m \u001b[0m\u001b[1;38;5;129mChange Value\u001b[0m\u001b[1;38;5;129m \u001b[0m┃\u001b[1;38;5;129m \u001b[0m\u001b[1;38;5;129m Final Value\u001b[0m\u001b[1;38;5;129m \u001b[0m┃\n",
       "┡━━━━━━━━━━━━━━━━━━━╇━━━━━━━━━━━━━━━╇━━━━━━━━━━━━━━╇━━━━━━━━━━━━━━┩\n",
       "│\u001b[36m \u001b[0m\u001b[36mFunction Duration\u001b[0m\u001b[36m \u001b[0m│\u001b[32m \u001b[0m\u001b[32m            -\u001b[0m\u001b[32m \u001b[0m│\u001b[33m \u001b[0m\u001b[33m0.89 seconds\u001b[0m\u001b[33m \u001b[0m│\u001b[35m \u001b[0m\u001b[35m0.89 seconds\u001b[0m\u001b[35m \u001b[0m│\n",
       "│\u001b[36m \u001b[0m\u001b[36mCPU Memory       \u001b[0m\u001b[36m \u001b[0m│\u001b[32m \u001b[0m\u001b[32m         - MB\u001b[0m\u001b[32m \u001b[0m│\u001b[33m \u001b[0m\u001b[33m     1.48 MB\u001b[0m\u001b[33m \u001b[0m│\u001b[35m \u001b[0m\u001b[35m     1.48 MB\u001b[0m\u001b[35m \u001b[0m│\n",
       "│\u001b[36m \u001b[0m\u001b[36mCUDA Memory      \u001b[0m\u001b[36m \u001b[0m│\u001b[32m \u001b[0m\u001b[32m      3.90 GB\u001b[0m\u001b[32m \u001b[0m│\u001b[33m \u001b[0m\u001b[33m     0.00 GB\u001b[0m\u001b[33m \u001b[0m│\u001b[35m \u001b[0m\u001b[35m     3.90 GB\u001b[0m\u001b[35m \u001b[0m│\n",
       "└───────────────────┴───────────────┴──────────────┴──────────────┘\n"
      ]
     },
     "metadata": {},
     "output_type": "display_data"
    },
    {
     "name": "stderr",
     "output_type": "stream",
     "text": [
      "\u001b[42m\u001b[30mINFO    \u001b[0m \u001b[32mRAG.retrieve: Retrieving by query Who are the young seniors?...\u001b[0m\n"
     ]
    },
    {
     "data": {
      "text/html": [
       "<pre style=\"white-space:pre;overflow-x:auto;line-height:normal;font-family:Menlo,'DejaVu Sans Mono',consolas,'Courier New',monospace\"><span style=\"font-weight: bold\">[</span>\n",
       "    <span style=\"font-weight: bold\">{</span>\n",
       "        <span style=\"color: #008000; text-decoration-color: #008000\">'documents'</span>: <span style=\"color: #008000; text-decoration-color: #008000\">'Especially for those in their 50s and early 60s. Let us call them the “Young Seniors”. </span>\n",
       "<span style=\"color: #008000; text-decoration-color: #008000\">\"Young”, because you are younger than the Pioneer Generation and the Merdeka Generation; “Seniors”, because you </span>\n",
       "<span style=\"color: #008000; text-decoration-color: #008000\">will soon retire, or maybe you have recently retired.'</span>,\n",
       "        <span style=\"color: #008000; text-decoration-color: #008000\">'metadatas'</span>: <span style=\"font-weight: bold\">{</span>\n",
       "            <span style=\"color: #008000; text-decoration-color: #008000\">'Abstract'</span>: <span style=\"color: #008000; text-decoration-color: #008000\">''</span>,\n",
       "            <span style=\"color: #008000; text-decoration-color: #008000\">'ChunkGroupId'</span>: <span style=\"color: #008000; text-decoration-color: #008000\">'0232f8fa-7d61-4613-825d-245596235a35'</span>,\n",
       "            <span style=\"color: #008000; text-decoration-color: #008000\">'DocumentId'</span>: <span style=\"color: #008000; text-decoration-color: #008000\">'PwR6VmXqAfwjn84ZM6dePsLWTldPv8cNS5dESYlsY2U'</span>,\n",
       "            <span style=\"color: #008000; text-decoration-color: #008000\">'Keywords'</span>: <span style=\"color: #008000; text-decoration-color: #008000\">''</span>,\n",
       "            <span style=\"color: #008000; text-decoration-color: #008000\">'PublishedDate'</span>: <span style=\"color: #008000; text-decoration-color: #008000\">''</span>,\n",
       "            <span style=\"color: #008000; text-decoration-color: #008000\">'Source'</span>: <span style=\"color: #008000; text-decoration-color: #008000\">'https://www.pmo.gov.sg/Newsroom/2023-National-Day-Rally-Speech'</span>,\n",
       "            <span style=\"color: #008000; text-decoration-color: #008000\">'Title'</span>: <span style=\"color: #008000; text-decoration-color: #008000\">'2023 National Day Rally Speech'</span>\n",
       "        <span style=\"font-weight: bold\">}</span>,\n",
       "        <span style=\"color: #008000; text-decoration-color: #008000\">'distances'</span>: <span style=\"color: #008080; text-decoration-color: #008080; font-weight: bold\">0.09020859003067017</span>,\n",
       "        <span style=\"color: #008000; text-decoration-color: #008000\">'ids'</span>: <span style=\"color: #008000; text-decoration-color: #008000\">'b52aa1db-72f2-444b-ad7e-2a5717cd6598'</span>\n",
       "    <span style=\"font-weight: bold\">}</span>,\n",
       "    <span style=\"font-weight: bold\">{</span>\n",
       "        <span style=\"color: #008000; text-decoration-color: #008000\">'documents'</span>: <span style=\"color: #008000; text-decoration-color: #008000\">'Young Seniors are in a unique position today. Compared to the Pioneer and Merdeka </span>\n",
       "<span style=\"color: #008000; text-decoration-color: #008000\">Generations, you have benefited more from Singapore’s growth, and generally done better in life. But compared to </span>\n",
       "<span style=\"color: #008000; text-decoration-color: #008000\">workers younger than you, in their 30s and 40s today, you have generally earned less over your lifetimes. You have </span>\n",
       "<span style=\"color: #008000; text-decoration-color: #008000\">also had less time to benefit from improvements to the CPF system, and so have built up less retirement savings. </span>\n",
       "<span style=\"color: #008000; text-decoration-color: #008000\">Young Seniors are also in a particularly sandwiched phase of your lives. You have to shoulder the responsibility of</span>\n",
       "<span style=\"color: #008000; text-decoration-color: #008000\">caring for both the young and old in your families. Your kids may be young adults, but often are not yet fully </span>\n",
       "<span style=\"color: #008000; text-decoration-color: #008000\">independent and still live in the same household. Many of you Young Seniors also have elderly parents at home, who </span>\n",
       "<span style=\"color: #008000; text-decoration-color: #008000\">may be beset with the infirmities of old age. You have to shuttle them to medical appointments and hospital visits,</span>\n",
       "<span style=\"color: #008000; text-decoration-color: #008000\">plus attend to their everyday needs. All this, while watching your own health, because you are not so youthful'</span>,\n",
       "        <span style=\"color: #008000; text-decoration-color: #008000\">'metadatas'</span>: <span style=\"font-weight: bold\">{</span>\n",
       "            <span style=\"color: #008000; text-decoration-color: #008000\">'Abstract'</span>: <span style=\"color: #008000; text-decoration-color: #008000\">''</span>,\n",
       "            <span style=\"color: #008000; text-decoration-color: #008000\">'ChunkGroupId'</span>: <span style=\"color: #008000; text-decoration-color: #008000\">'0232f8fa-7d61-4613-825d-245596235a35'</span>,\n",
       "            <span style=\"color: #008000; text-decoration-color: #008000\">'DocumentId'</span>: <span style=\"color: #008000; text-decoration-color: #008000\">'PwR6VmXqAfwjn84ZM6dePsLWTldPv8cNS5dESYlsY2U'</span>,\n",
       "            <span style=\"color: #008000; text-decoration-color: #008000\">'Keywords'</span>: <span style=\"color: #008000; text-decoration-color: #008000\">''</span>,\n",
       "            <span style=\"color: #008000; text-decoration-color: #008000\">'PublishedDate'</span>: <span style=\"color: #008000; text-decoration-color: #008000\">''</span>,\n",
       "            <span style=\"color: #008000; text-decoration-color: #008000\">'Source'</span>: <span style=\"color: #008000; text-decoration-color: #008000\">'https://www.pmo.gov.sg/Newsroom/2023-National-Day-Rally-Speech'</span>,\n",
       "            <span style=\"color: #008000; text-decoration-color: #008000\">'Title'</span>: <span style=\"color: #008000; text-decoration-color: #008000\">'2023 National Day Rally Speech'</span>\n",
       "        <span style=\"font-weight: bold\">}</span>,\n",
       "        <span style=\"color: #008000; text-decoration-color: #008000\">'distances'</span>: <span style=\"color: #008080; text-decoration-color: #008080; font-weight: bold\">0.11518943309783936</span>,\n",
       "        <span style=\"color: #008000; text-decoration-color: #008000\">'ids'</span>: <span style=\"color: #008000; text-decoration-color: #008000\">'053524ee-c343-4e35-9de4-0f94d8068820'</span>\n",
       "    <span style=\"font-weight: bold\">}</span>,\n",
       "    <span style=\"font-weight: bold\">{</span>\n",
       "        <span style=\"color: #008000; text-decoration-color: #008000\">'documents'</span>: <span style=\"color: #008000; text-decoration-color: #008000\">'to their everyday needs. All this, while watching your own health, because you are not so </span>\n",
       "<span style=\"color: #008000; text-decoration-color: #008000\">youthful yourselves. Responsibilities on all these fronts multiply your burdens. So, as Young Seniors, you are </span>\n",
       "<span style=\"color: #008000; text-decoration-color: #008000\">understandably anxious about your retirement needs. Beyond the daily cost of living pressures, you know that </span>\n",
       "<span style=\"color: #008000; text-decoration-color: #008000\">retirement is creeping up on you. You wonder: Will I have enough to get by? Can I cope? But do not worry – the </span>\n",
       "<span style=\"color: #008000; text-decoration-color: #008000\">Government will help you. You will not be left behind.'</span>,\n",
       "        <span style=\"color: #008000; text-decoration-color: #008000\">'metadatas'</span>: <span style=\"font-weight: bold\">{</span>\n",
       "            <span style=\"color: #008000; text-decoration-color: #008000\">'Abstract'</span>: <span style=\"color: #008000; text-decoration-color: #008000\">''</span>,\n",
       "            <span style=\"color: #008000; text-decoration-color: #008000\">'ChunkGroupId'</span>: <span style=\"color: #008000; text-decoration-color: #008000\">'0232f8fa-7d61-4613-825d-245596235a35'</span>,\n",
       "            <span style=\"color: #008000; text-decoration-color: #008000\">'DocumentId'</span>: <span style=\"color: #008000; text-decoration-color: #008000\">'PwR6VmXqAfwjn84ZM6dePsLWTldPv8cNS5dESYlsY2U'</span>,\n",
       "            <span style=\"color: #008000; text-decoration-color: #008000\">'Keywords'</span>: <span style=\"color: #008000; text-decoration-color: #008000\">''</span>,\n",
       "            <span style=\"color: #008000; text-decoration-color: #008000\">'PublishedDate'</span>: <span style=\"color: #008000; text-decoration-color: #008000\">''</span>,\n",
       "            <span style=\"color: #008000; text-decoration-color: #008000\">'Source'</span>: <span style=\"color: #008000; text-decoration-color: #008000\">'https://www.pmo.gov.sg/Newsroom/2023-National-Day-Rally-Speech'</span>,\n",
       "            <span style=\"color: #008000; text-decoration-color: #008000\">'Title'</span>: <span style=\"color: #008000; text-decoration-color: #008000\">'2023 National Day Rally Speech'</span>\n",
       "        <span style=\"font-weight: bold\">}</span>,\n",
       "        <span style=\"color: #008000; text-decoration-color: #008000\">'distances'</span>: <span style=\"color: #008080; text-decoration-color: #008080; font-weight: bold\">0.11691617965698242</span>,\n",
       "        <span style=\"color: #008000; text-decoration-color: #008000\">'ids'</span>: <span style=\"color: #008000; text-decoration-color: #008000\">'b22fdf80-e9b3-440c-bf6d-65d2c5e608d8'</span>\n",
       "    <span style=\"font-weight: bold\">}</span>\n",
       "<span style=\"font-weight: bold\">]</span>\n",
       "</pre>\n"
      ],
      "text/plain": [
       "\u001b[1m[\u001b[0m\n",
       "    \u001b[1m{\u001b[0m\n",
       "        \u001b[32m'documents'\u001b[0m: \u001b[32m'Especially for those in their 50s and early 60s. Let us call them the “Young Seniors”. \u001b[0m\n",
       "\u001b[32m\"Young”, because you are younger than the Pioneer Generation and the Merdeka Generation; “Seniors”, because you \u001b[0m\n",
       "\u001b[32mwill soon retire, or maybe you have recently retired.'\u001b[0m,\n",
       "        \u001b[32m'metadatas'\u001b[0m: \u001b[1m{\u001b[0m\n",
       "            \u001b[32m'Abstract'\u001b[0m: \u001b[32m''\u001b[0m,\n",
       "            \u001b[32m'ChunkGroupId'\u001b[0m: \u001b[32m'0232f8fa-7d61-4613-825d-245596235a35'\u001b[0m,\n",
       "            \u001b[32m'DocumentId'\u001b[0m: \u001b[32m'PwR6VmXqAfwjn84ZM6dePsLWTldPv8cNS5dESYlsY2U'\u001b[0m,\n",
       "            \u001b[32m'Keywords'\u001b[0m: \u001b[32m''\u001b[0m,\n",
       "            \u001b[32m'PublishedDate'\u001b[0m: \u001b[32m''\u001b[0m,\n",
       "            \u001b[32m'Source'\u001b[0m: \u001b[32m'https://www.pmo.gov.sg/Newsroom/2023-National-Day-Rally-Speech'\u001b[0m,\n",
       "            \u001b[32m'Title'\u001b[0m: \u001b[32m'2023 National Day Rally Speech'\u001b[0m\n",
       "        \u001b[1m}\u001b[0m,\n",
       "        \u001b[32m'distances'\u001b[0m: \u001b[1;36m0.09020859003067017\u001b[0m,\n",
       "        \u001b[32m'ids'\u001b[0m: \u001b[32m'b52aa1db-72f2-444b-ad7e-2a5717cd6598'\u001b[0m\n",
       "    \u001b[1m}\u001b[0m,\n",
       "    \u001b[1m{\u001b[0m\n",
       "        \u001b[32m'documents'\u001b[0m: \u001b[32m'Young Seniors are in a unique position today. Compared to the Pioneer and Merdeka \u001b[0m\n",
       "\u001b[32mGenerations, you have benefited more from Singapore’s growth, and generally done better in life. But compared to \u001b[0m\n",
       "\u001b[32mworkers younger than you, in their 30s and 40s today, you have generally earned less over your lifetimes. You have \u001b[0m\n",
       "\u001b[32malso had less time to benefit from improvements to the CPF system, and so have built up less retirement savings. \u001b[0m\n",
       "\u001b[32mYoung Seniors are also in a particularly sandwiched phase of your lives. You have to shoulder the responsibility of\u001b[0m\n",
       "\u001b[32mcaring for both the young and old in your families. Your kids may be young adults, but often are not yet fully \u001b[0m\n",
       "\u001b[32mindependent and still live in the same household. Many of you Young Seniors also have elderly parents at home, who \u001b[0m\n",
       "\u001b[32mmay be beset with the infirmities of old age. You have to shuttle them to medical appointments and hospital visits,\u001b[0m\n",
       "\u001b[32mplus attend to their everyday needs. All this, while watching your own health, because you are not so youthful'\u001b[0m,\n",
       "        \u001b[32m'metadatas'\u001b[0m: \u001b[1m{\u001b[0m\n",
       "            \u001b[32m'Abstract'\u001b[0m: \u001b[32m''\u001b[0m,\n",
       "            \u001b[32m'ChunkGroupId'\u001b[0m: \u001b[32m'0232f8fa-7d61-4613-825d-245596235a35'\u001b[0m,\n",
       "            \u001b[32m'DocumentId'\u001b[0m: \u001b[32m'PwR6VmXqAfwjn84ZM6dePsLWTldPv8cNS5dESYlsY2U'\u001b[0m,\n",
       "            \u001b[32m'Keywords'\u001b[0m: \u001b[32m''\u001b[0m,\n",
       "            \u001b[32m'PublishedDate'\u001b[0m: \u001b[32m''\u001b[0m,\n",
       "            \u001b[32m'Source'\u001b[0m: \u001b[32m'https://www.pmo.gov.sg/Newsroom/2023-National-Day-Rally-Speech'\u001b[0m,\n",
       "            \u001b[32m'Title'\u001b[0m: \u001b[32m'2023 National Day Rally Speech'\u001b[0m\n",
       "        \u001b[1m}\u001b[0m,\n",
       "        \u001b[32m'distances'\u001b[0m: \u001b[1;36m0.11518943309783936\u001b[0m,\n",
       "        \u001b[32m'ids'\u001b[0m: \u001b[32m'053524ee-c343-4e35-9de4-0f94d8068820'\u001b[0m\n",
       "    \u001b[1m}\u001b[0m,\n",
       "    \u001b[1m{\u001b[0m\n",
       "        \u001b[32m'documents'\u001b[0m: \u001b[32m'to their everyday needs. All this, while watching your own health, because you are not so \u001b[0m\n",
       "\u001b[32myouthful yourselves. Responsibilities on all these fronts multiply your burdens. So, as Young Seniors, you are \u001b[0m\n",
       "\u001b[32munderstandably anxious about your retirement needs. Beyond the daily cost of living pressures, you know that \u001b[0m\n",
       "\u001b[32mretirement is creeping up on you. You wonder: Will I have enough to get by? Can I cope? But do not worry – the \u001b[0m\n",
       "\u001b[32mGovernment will help you. You will not be left behind.'\u001b[0m,\n",
       "        \u001b[32m'metadatas'\u001b[0m: \u001b[1m{\u001b[0m\n",
       "            \u001b[32m'Abstract'\u001b[0m: \u001b[32m''\u001b[0m,\n",
       "            \u001b[32m'ChunkGroupId'\u001b[0m: \u001b[32m'0232f8fa-7d61-4613-825d-245596235a35'\u001b[0m,\n",
       "            \u001b[32m'DocumentId'\u001b[0m: \u001b[32m'PwR6VmXqAfwjn84ZM6dePsLWTldPv8cNS5dESYlsY2U'\u001b[0m,\n",
       "            \u001b[32m'Keywords'\u001b[0m: \u001b[32m''\u001b[0m,\n",
       "            \u001b[32m'PublishedDate'\u001b[0m: \u001b[32m''\u001b[0m,\n",
       "            \u001b[32m'Source'\u001b[0m: \u001b[32m'https://www.pmo.gov.sg/Newsroom/2023-National-Day-Rally-Speech'\u001b[0m,\n",
       "            \u001b[32m'Title'\u001b[0m: \u001b[32m'2023 National Day Rally Speech'\u001b[0m\n",
       "        \u001b[1m}\u001b[0m,\n",
       "        \u001b[32m'distances'\u001b[0m: \u001b[1;36m0.11691617965698242\u001b[0m,\n",
       "        \u001b[32m'ids'\u001b[0m: \u001b[32m'b22fdf80-e9b3-440c-bf6d-65d2c5e608d8'\u001b[0m\n",
       "    \u001b[1m}\u001b[0m\n",
       "\u001b[1m]\u001b[0m\n"
      ]
     },
     "metadata": {},
     "output_type": "display_data"
    },
    {
     "data": {
      "text/html": [
       "<pre style=\"white-space:pre;overflow-x:auto;line-height:normal;font-family:Menlo,'DejaVu Sans Mono',consolas,'Courier New',monospace\">Free memory: <span style=\"color: #ff0000; text-decoration-color: #ff0000; font-weight: bold\">3.91</span><span style=\"color: #ff0000; text-decoration-color: #ff0000\"> GB</span>\n",
       "</pre>\n"
      ],
      "text/plain": [
       "Free memory: \u001b[1;91m3.91\u001b[0m\u001b[91m GB\u001b[0m\n"
      ]
     },
     "metadata": {},
     "output_type": "display_data"
    }
   ],
   "source": [
    "try:\n",
    "    with SingletonHost.GetInstanceFromConfig(config) as host:\n",
    "        rag=host.generator\n",
    "        # Index\n",
    "        result = rag.retrieve(collection_name=\"demo\",query_texts=\"Who are the young seniors?\")\n",
    "        console.print(result)\n",
    "\n",
    "except Exception as e:\n",
    "    raise e\n",
    "finally:\n",
    "    # after disposal\n",
    "    free_mem()\n"
   ]
  },
  {
   "cell_type": "markdown",
   "metadata": {},
   "source": [
    "## API (Press F5 to start API server)"
   ]
  },
  {
   "cell_type": "markdown",
   "metadata": {},
   "source": [
    "#### a) List Collections"
   ]
  },
  {
   "cell_type": "code",
   "execution_count": 1,
   "metadata": {},
   "outputs": [
    {
     "name": "stdout",
     "output_type": "stream",
     "text": [
      "{\"collections\":[]}"
     ]
    }
   ],
   "source": [
    "%%bash\n",
    "curl -s http://localhost:12036/gen/v1/rag/collections"
   ]
  },
  {
   "cell_type": "markdown",
   "metadata": {},
   "source": [
    "#### b) Delete collection"
   ]
  },
  {
   "cell_type": "code",
   "execution_count": 2,
   "metadata": {},
   "outputs": [
    {
     "name": "stdout",
     "output_type": "stream",
     "text": [
      "{\"detail\":{\"code\":\"collections_not_found\",\"message\":\"Collection demo not found\"}}"
     ]
    }
   ],
   "source": [
    "%%bash\n",
    "curl -s -X DELETE http://localhost:12036/gen/v1/rag/collection/demo"
   ]
  },
  {
   "cell_type": "markdown",
   "metadata": {},
   "source": [
    "#### c) index"
   ]
  },
  {
   "cell_type": "code",
   "execution_count": 3,
   "metadata": {},
   "outputs": [
    {
     "name": "stdout",
     "output_type": "stream",
     "text": [
      "{\"DocumentId\":\"PwR6VmXqAfwjn84ZM6dePsLWTldPv8cNS5dESYlsY2U\",\"ChunkgroupId\":\"da960cb5-e63e-4e18-8f98-7162f72668d0\",\"ChunkIds\":[\"cfbb2e80-8970-4237-b243-82c4c6012ff6\",\"5d0c7a1b-911c-4bd9-b329-42c664f0a707\",\"ddf353fb-2d49-4427-a49b-0baf7d3d9b4f\",\"5843f11a-51b6-435b-a5ce-85e1a94ca284\",\"8e02a430-d568-4b3d-9eb5-3152261a8363\",\"5b1a3dd4-a782-43fb-b2f1-c6f1991ef0f6\",\"a5d600d9-0dbb-4162-a2f5-b579cc8dda00\",\"a1724e50-e989-45b3-b741-071bc6219e90\",\"5c952bdf-e913-4836-9146-e592a74f3c6a\",\"aaae13ef-0edf-48ed-a455-21462b2f8d2c\",\"75a75624-5aad-40c5-9888-321ea9edc1df\",\"fe6ac9b4-0daa-4007-b36e-1844023621cb\",\"7abfb4c2-4cb9-4a72-bde0-a48642ae3fda\",\"cb912e9d-693d-4a0a-91e6-f0b7a8b12dcb\",\"6bab99bf-51cc-4607-b9a9-4a6c3d531627\",\"efc97b2f-c0ba-408c-b32b-5482fbff15c5\",\"b3f99ebd-29aa-40b8-9339-18ecb92b70bc\",\"15a0cefa-8079-4c77-8342-183420089425\",\"7ba8d915-13c6-4c09-a3dc-05ece5bddb22\",\"8c95b10a-c7d7-4524-8977-0b45e004f75b\",\"6b2704cd-0313-4b05-bfe2-f88e69bad185\",\"ec867254-db13-4ea3-ac20-4f7e6b2e88ad\",\"f851c420-0e7b-4382-94ba-791573566a1c\",\"2f65a770-8ad1-4c13-a492-a22a865c895b\",\"d7777a71-3be3-4b81-9f1f-eabedbe4817b\",\"5ffcf35a-14d0-4a07-a85e-0eae61f4e555\",\"ea2c3a74-1fda-48bc-b3d7-bb7804e63770\",\"98850f16-0f61-4bd3-9014-c6ab577cc313\",\"b53985d4-2044-4b14-ba8b-9de24f3c6211\",\"afd1964c-513a-4078-a441-066dc1cdd751\",\"4496b215-6b9c-4186-b10d-719007c46f07\",\"8a858990-b1ae-41da-9f25-01e873fbf4bb\",\"6519ac4c-5e74-437f-9bd6-8e14ccda23ae\",\"09262ee1-ff30-4562-aed2-d14bce97933b\",\"a29a03d6-9cda-414e-a088-2bec8fa66085\",\"14c61b9e-387b-4e7a-bf16-24ad82bf5e9f\",\"441333cb-8e88-4ff7-8933-4703a3657d75\",\"2af09a8f-a02f-4463-bd97-a7ec641d04f2\",\"6babc2a9-9a59-43ac-b262-28cf03ec04ba\",\"8a58996c-49d9-4109-92ff-11af482687ee\",\"5e41685d-c3eb-4985-92a3-144032a9df0a\",\"5924f7b5-b438-4dae-910c-19a66d587b78\",\"7f847829-d47d-4716-8d99-f195dfd50c8e\",\"5a4d04ca-cf1f-4abb-813a-454511c7dc16\",\"b010ae5e-a0b8-42ac-8597-2600f947fc13\",\"76ae08cb-8e3a-44dc-9e7d-bc6507f4ccd8\",\"fd7f8f11-ed64-452b-954c-b0c0b5a95915\",\"42099ae5-926c-40ec-b499-60ca9c76525e\",\"e5f37a9f-4fee-49da-bfa5-146459e8686d\",\"cd8c6888-2d43-4b0b-8810-83c6de061867\",\"ba8d9554-c3b1-4672-b4a7-0b8427a9bfbf\",\"32a1574e-93f1-4761-9d59-97b34a90de06\",\"93a1b974-d90b-47b8-ab75-8335f267b5b2\",\"10468bc3-6707-4bbb-9f82-541b9beaaac7\",\"2c0b47e5-2d10-4578-94c8-02c5144d162b\",\"b57d3edd-e29e-44fb-a158-61f96c390c25\",\"d1f00667-8349-4d31-9efe-7fc96cc9ec80\",\"3088f2e1-8307-4de6-bfb1-658a58c8326d\",\"9374e276-c951-4342-9a77-336df8717273\",\"7d68509a-5e30-434a-9510-9ae9ec50f2a0\",\"e8e43ebd-dee5-4638-b3c3-fe9051bb44f3\",\"113ed50b-78ae-4250-a3e3-a05dac5105ed\",\"dbc3360d-2108-4603-998d-845392e9d241\",\"36a7e70d-e505-48c3-b4a4-e0d35f2bb6f7\",\"36a8e243-3bf6-41fa-a17d-399584a4609c\",\"67233265-7dc5-48c9-a5e4-f4d129e2ac6d\"]}"
     ]
    }
   ],
   "source": [
    "%%bash\n",
    "curl -X POST 'http://localhost:12036/gen/v1/rag/index-file' \\\n",
    "    -H 'accept: application/json' \\\n",
    "    -H 'Content-Type: multipart/form-data' \\\n",
    "    -s \\\n",
    "    -F 'file=@./pm_long_speech_2023.txt' \\\n",
    "    -F 'req={\"CollectionName\":\"demo\",\"Source\": \"https://www.pmo.gov.sg/Newsroom/National-Day-Rally-2023\",\"FilePath\":\"./pm_long_speech_2023.txt\"}'"
   ]
  },
  {
   "cell_type": "markdown",
   "metadata": {},
   "source": [
    "#### d) verify document exists"
   ]
  },
  {
   "cell_type": "code",
   "execution_count": 5,
   "metadata": {},
   "outputs": [
    {
     "name": "stdout",
     "output_type": "stream",
     "text": [
      "{\"document\":{\"Id\":\"PwR6VmXqAfwjn84ZM6dePsLWTldPv8cNS5dESYlsY2U\",\"CollectionName\":\"demo\",\"ByteSize\":43352,\"FileName\":\"pm_long_speech_2023.txt\",\"FileType\":\".txt\",\"File\":null,\"Source\":\"https://www.pmo.gov.sg/Newsroom/National-Day-Rally-2023\",\"Abstract\":null,\"Authors\":null,\"Title\":null,\"Publisher\":null,\"PublishedDate\":null,\"Comments\":null,\"Keywords\":null,\"CreatedAt\":\"2024-09-05T08:00:43.291140\",\"UpdatedAt\":\"2024-09-05T08:01:02.232800\",\"IsActive\":true,\"ChunkGroups\":[{\"Id\":\"da960cb5-e63e-4e18-8f98-7162f72668d0\",\"DocumentId\":\"PwR6VmXqAfwjn84ZM6dePsLWTldPv8cNS5dESYlsY2U\",\"SplitAlgo\":\"recursive_split\",\"ChunkCount\":66,\"ChunkSize\":1000,\"Overlap\":100,\"IsActive\":true,\"ChunksDir\":\"/tmp/chunks/4d869a33b1ee45b585fe4957f6bdd2dc\"}]}}"
     ]
    }
   ],
   "source": [
    "%%bash\n",
    "curl -X POST 'http://localhost:12036/gen/v1/rag/collection/demo/document/exists' \\\n",
    "    -H 'accept: application/json' \\\n",
    "    -H 'Content-Type: multipart/form-data' \\\n",
    "    -s \\\n",
    "    -F 'file=@./pm_long_speech_2023.txt' "
   ]
  },
  {
   "cell_type": "markdown",
   "metadata": {},
   "source": [
    "#### e) retrieve"
   ]
  },
  {
   "cell_type": "code",
   "execution_count": 6,
   "metadata": {},
   "outputs": [
    {
     "name": "stdout",
     "output_type": "stream",
     "text": [
      "{\"retrieved\":[{\"documents\":\"Especially for those in their 50s and early 60s. Let us call them the “Young Seniors”. \\\"Young”, because you are younger than the Pioneer Generation and the Merdeka Generation; “Seniors”, because you will soon retire, or maybe you have recently retired.\",\"metadatas\":{\"Abstract\":\"\",\"ChunkGroupId\":\"da960cb5-e63e-4e18-8f98-7162f72668d0\",\"DocumentId\":\"PwR6VmXqAfwjn84ZM6dePsLWTldPv8cNS5dESYlsY2U\",\"Keywords\":\"\",\"PublishedDate\":\"\",\"Source\":\"https://www.pmo.gov.sg/Newsroom/National-Day-Rally-2023\",\"Title\":\"\"},\"distances\":0.09020859003067017,\"ids\":\"93a1b974-d90b-47b8-ab75-8335f267b5b2\"},{\"documents\":\"Young Seniors are in a unique position today. Compared to the Pioneer and Merdeka Generations, you have benefited more from Singapore’s growth, and generally done better in life. But compared to workers younger than you, in their 30s and 40s today, you have generally earned less over your lifetimes. You have also had less time to benefit from improvements to the CPF system, and so have built up less retirement savings. Young Seniors are also in a particularly sandwiched phase of your lives. You have to shoulder the responsibility of caring for both the young and old in your families. Your kids may be young adults, but often are not yet fully independent and still live in the same household. Many of you Young Seniors also have elderly parents at home, who may be beset with the infirmities of old age. You have to shuttle them to medical appointments and hospital visits, plus attend to their everyday needs. All this, while watching your own health, because you are not so youthful\",\"metadatas\":{\"Abstract\":\"\",\"ChunkGroupId\":\"da960cb5-e63e-4e18-8f98-7162f72668d0\",\"DocumentId\":\"PwR6VmXqAfwjn84ZM6dePsLWTldPv8cNS5dESYlsY2U\",\"Keywords\":\"\",\"PublishedDate\":\"\",\"Source\":\"https://www.pmo.gov.sg/Newsroom/National-Day-Rally-2023\",\"Title\":\"\"},\"distances\":0.11518943309783936,\"ids\":\"8c95b10a-c7d7-4524-8977-0b45e004f75b\"},{\"documents\":\"to their everyday needs. All this, while watching your own health, because you are not so youthful yourselves. Responsibilities on all these fronts multiply your burdens. So, as Young Seniors, you are understandably anxious about your retirement needs. Beyond the daily cost of living pressures, you know that retirement is creeping up on you. You wonder: Will I have enough to get by? Can I cope? But do not worry – the Government will help you. You will not be left behind.\",\"metadatas\":{\"Abstract\":\"\",\"ChunkGroupId\":\"da960cb5-e63e-4e18-8f98-7162f72668d0\",\"DocumentId\":\"PwR6VmXqAfwjn84ZM6dePsLWTldPv8cNS5dESYlsY2U\",\"Keywords\":\"\",\"PublishedDate\":\"\",\"Source\":\"https://www.pmo.gov.sg/Newsroom/National-Day-Rally-2023\",\"Title\":\"\"},\"distances\":0.11691617965698242,\"ids\":\"aaae13ef-0edf-48ed-a455-21462b2f8d2c\"},{\"documents\":\"What I found most encouraging was that many seniors were not just taking part in activities, but also helping to organise and run them – seniors for seniors. I met Mdm Goh, the one in the pink blouse, Mdm Karen, and Mdm Farida. They were preparing to deliver hot meals to frail seniors living in upstairs in the rental flats who could not come down to the AAC. They do this every day. It is a great way to build neighbourly bonds while staying active. Actually, besides meal deliveries, there are also communal meals downstairs at the AAC. The staff told me that these meals were a big draw and an important activity because they encourage the old folks to come down. When they gathered at the AACs for meals, they would socialise and make friends, and the staff could keep an eye on them, made sure they were alright. I also discovered that these meals are actually cooked by the seniors themselves, at least some of the seniors themselves! These three makciks – Mdm Aminah on the left, Mdm Rosnah,\",\"metadatas\":{\"Abstract\":\"\",\"ChunkGroupId\":\"da960cb5-e63e-4e18-8f98-7162f72668d0\",\"DocumentId\":\"PwR6VmXqAfwjn84ZM6dePsLWTldPv8cNS5dESYlsY2U\",\"Keywords\":\"\",\"PublishedDate\":\"\",\"Source\":\"https://www.pmo.gov.sg/Newsroom/National-Day-Rally-2023\",\"Title\":\"\"},\"distances\":0.11718982458114624,\"ids\":\"a29a03d6-9cda-414e-a088-2bec8fa66085\"}]}"
     ]
    }
   ],
   "source": [
    "%%bash\n",
    "curl -X POST 'http://localhost:12036/gen/v1/rag/retrieve' \\\n",
    "    -s \\\n",
    "    -H \"Content-Type: application/json\" \\\n",
    "    -d '{\"collection_name\":\"demo\",\"query_texts\":\"Who are the young seniors?\",\"n_results\":4}'\n"
   ]
  },
  {
   "cell_type": "markdown",
   "metadata": {},
   "source": [
    "g) list documents"
   ]
  },
  {
   "cell_type": "code",
   "execution_count": 7,
   "metadata": {},
   "outputs": [
    {
     "name": "stdout",
     "output_type": "stream",
     "text": [
      "{\"documents\":[{\"Id\":\"PwR6VmXqAfwjn84ZM6dePsLWTldPv8cNS5dESYlsY2U\",\"CollectionName\":\"demo\",\"ByteSize\":43352,\"FileName\":\"pm_long_speech_2023.txt\",\"FileType\":\".txt\",\"File\":\"PM Lee Hsien Loong delivered his National Day Rally speech on 20 August 2023 at the Institute of Technical Education (ITE) Headquarters. PM spoke in Malay and Chinese, followed by English.\\n\\n \\n“A BETTER HOME, A BRIGHTER FUTURE”\\nSECTION 1: INTRODUCTION\\nMy fellow Singaporeans, good evening.\\n\\nReturn to Normalcy\\nWe are all relieved that COVID is behind us. Life as we knew it has resumed.\\n\\nCOVID-19 was the most challenging ordeal for our nation since Independence. We can all be proud of how we pulled through together. Unlike many other countries, Singapore has emerged from the pandemic stronger, more resilient, and more united. This is a tribute to the indomitable spirit of our nation.\\n\\nGlobal situation and economic outlook\\nHaving come through COVID, we are once again being tested. The international environment is fraught with geopolitical tension and economic uncertainty.\\n\\nWe feel acutely the pressures mounting all around us. The rivalry between the US and China affects every country and region in the world. Their mutual wariness and distrust has deepened. The rest of the world has to tread a careful path, to avoid being caught in the cross-fire. The war in Europe rages on. Russia’s invasion of Ukraine is a continuing human tragedy, and an assault on international norms and values. It is a cautionary warning to the rest of the world never to take peace for granted, and a reminder to us of the vital importance of a strong SAF. Meanwhile, the global economic order is fraying. Globalisation is weakening. Supply chains are splitting up. Countries are layering on multiple protectionist measures. This hurts all countries, but especially small, open trading nations like ourselves. With global warming, the world is also experiencing more extreme weather. From Chinato Japan, to Europe and the US, no region is spared from floods and droughts, heatwaves and wildfires. This will affect food production and prices worldwide. We have not fully felt it in Singapore yet, but it is coming.\\n\\nEconomically, Singapore is keeping up. We expect positive economic growth this year. Hopefully, we will avoid a recession. Inflation is at last coming down, but it will probably stay higher than what we were used to. The cost of living is still on everyone’s minds. In my Chinese speech earlier, I explained how the Government will continue to support you. We will weather this storm together.\\n\\nForward Singapore\\nOur nation must navigate carefully in this increasingly troubled landscape. There is no ready playbook, there is no model answer. I am glad that DPM Lawrence Wong and the 4G team have taken it upon themselves to chart out where Singapore will go from here. They launched Forward Singapore in June last year, to refresh our social compact. They have held dialogues with thousands of Singaporeans who shared their ideas to tackle various issues. For example: how to equip our people with the skills to succeed; how to improve care for the vulnerable; and how to strengthen our solidarity as one people. The Forward Singapore report will be published later this year. It will be a compass to help Singapore navigate through the stormy seas.\\n\\nDespite the dark clouds, the world still offers many opportunities for those who dare to seize them. In my Malay speech just now, I spoke about promising new sectors such as the digital economy. I also shared that the Government will give more support to workers – to help you adapt and upskill, to stay ahead of the game. Our Forward SG plans include financial support for workers who lose your jobs, while you upgrade your skills. It will be a temporary safety net to help you meet immediate needs, to free you to upskill and train, as you prepare yourself for a good long-term job. So long as you are willing to make the effort, the Government will go the extra mile to help you.\\n\\nSECTION 2: RETIREMENT\\nFinancial concerns are top-of-mind not just for younger workers, but also the older ones. These concerns become more urgent as we approach retirement.\\n\\nEspecially for those in their 50s and early 60s. Let us call them the “Young Seniors”. \\\"Young”, because you are younger than the Pioneer Generation and the Merdeka Generation; “Seniors”, because you will soon retire, or maybe you have recently retired.\\n\\nYoung Seniors are in a unique position today. Compared to the Pioneer and Merdeka Generations, you have benefited more from Singapore’s growth, and generally done better in life. But compared to workers younger than you, in their 30s and 40s today, you have generally earned less over your lifetimes. You have also had less time to benefit from improvements to the CPF system, and so have built up less retirement savings. Young Seniors are also in a particularly sandwiched phase of your lives. You have to shoulder the responsibility of caring for both the young and old in your families. Your kids may be young adults, but often are not yet fully independent and still live in the same household. Many of you Young Seniors also have elderly parents at home, who may be beset with the infirmities of old age. You have to shuttle them to medical appointments and hospital visits, plus attend to their everyday needs. All this, while watching your own health, because you are not so youthful yourselves. Responsibilities on all these fronts multiply your burdens. So, as Young Seniors, you are understandably anxious about your retirement needs. Beyond the daily cost of living pressures, you know that retirement is creeping up on you. You wonder: Will I have enough to get by? Can I cope? But do not worry – the Government will help you. You will not be left behind.\\n\\nMajulah Package\\nWe will introduce a package to help Young Seniors meet your retirement needs – let us name it the Majulah Package. This will be for Singaporeans who are 50 and above this year – born in 1973 or earlier. It will benefit those with lower incomes and less wealth. The support will be tiered, depending on your income and your CPF savings. The Majulah Package will comprise three components.\\n\\nFirst, an “Earn and Save” Bonus, to help you build up your CPF savings while you work. Most Young Seniors are still working, and have some years to go before retirement. We encourage you to continue working as long as you can. Lower- and middle-income workers will get a CPF bonus of up to $1,000 a year, depending on your income. The Government will credit this into your CPF account, on top of the usual employer and employee contributions. You will receive this Earn and Save bonus yearly, as long as you are working, whether full-time or part-time. Take for example a lower-income 55 year-old who plans to retire at 65. Over 10 years, her Earn and Save bonus adds up to $12,000 in extra CPF savings if you include the CPF interest, which is not bad.\\n\\nSecond, a Retirement Savings Bonus (RSB). If your CPF balances have not reached the CPF Basic Retirement Sum, you will receive a one-time CPF bonus of up to $1,500. Those who are not working will get this bonus too. This includes homemakers, who have given up their careers and laboured to raise their families, and thus have very low CPF balances.\\n\\nThird, a MediSave Bonus. Most Young Seniors have enough MediSave balances. Nevertheless, many still worry about healthcare costs, because you will soon be Not-So-Young Seniors. So the Majulah Package will include a modest one-time MediSave Bonus of up to $1,000. It will give you some extra buffer, to help pay your medical expenses and insurance premiums.\\n\\nThe Majulah Package will help Young Seniors, in their 50s and early 60s, to meet your retirement needs. But besides Young Seniors, we also want to encourage older seniors to continue working for as long as you can. Hence the Majulah Package also covers the Pioneer and Merdeka Generations.\\n\\nI think quite a few here belong to the Pioneer and Merdeka Generation. Let me say to you, if you are PG and MG: If you are still working and meet the income criteria, you too will receive the Earn and Save Bonus as long as you are working. If you are not working, you can still get something from the one-time Retirement Savings Bonus and MediSave Bonus. This will be in addition to the PG or MG benefits that you are already receiving and will continue to receive. Think of this as a 58th National Day present!\\n\\nThe Majulah Package will cost the Government about $7 billion. MOF will create a new Fund to meet the full lifetime costs of the Package, using resources from this term of Government. We will honour this commitment without burdening future generations.\\n\\nThe Majulah Package will benefit some 1.4 million older people across several generations. We will also be enhancing existing schemes, like Silver Support, Workfare, and the Matched Retirement Savings Scheme and the details will be announced next year. Taken together, these improvements will help seniors to meet basic retirement needs, especially for lower- and middle-income Singaporeans so that you can have greater peace of mind in your golden years.\\n\\nSECTION 3: AGEING\\nI want to talk about two other important issues tonight – caring for our ageing population, and housing our people.\\n\\nSingapore is one of the fastest-ageing nations in the world. Today, about one in five Singaporeans is a senior, aged 65 and above. By 2030, nearly one in four Singaporeans will be a senior. I first talked about ageing in the National Day Rally back in 2007. At that time, we had 500 centenarians – people aged 100 and older. We thought that was a lot. By 2013, which is 6 years later, this had doubled to around 1,000. And by 2030, we are likely to double again to at least 2,000 centenarians! It shows vividly how our society is getting older and older, faster and faster. Today, if you ask – it is not in the chart – but we have about 1,500 already. In 2030, I will not be making this speech, but whoever is doing so will have to take care of all of us seniors, and some of us very senior.\\n\\nToday, we are an aged society; soon, we will be a ‘super-aged’ society. This has massive social and economic implications. We have much to do to help our seniors age well.\\n\\nToday, I will speak on two aspects of our preparations: active ageing; and making homes and precincts more senior-friendly.\\n\\nActive Ageing\\nFirst, on active ageing.\\n\\nWe have invested significantly in healthcare for seniors.\\n\\nThe Government plays a big role in providing care, but seniors must also play our part to look after ourselves. MOH launched Healthier SG last month. Healthier SG aims to get each of us to take more responsibility for our own health, supported by family doctors and community partners. When you enrol, you will get a personalised health plan, including when to go for screenings and vaccinations. Besides medical prescriptions, your doctor will also give you what we call social prescriptions, like advising you to lead a more active lifestyle, to maintain a healthier diet, to lose a little bit of weight, or to quit smoking. But while your GP can suggest or even arrange these for you, only you can decide to follow through and do them. But please do so. Prevention is always better than cure. My wife and I have signed up. I encourage all seniors to sign up for Healthier SG when you get the invitation from MOH.\\n\\nBeyond Healthier SG, how else can we help Singaporeans to age well? It is not just about fending off sickness – it is also about staying well, staying well both physically and mentally. Because mental wellness is just as important as physical wellness. One of the biggest threats to the well-being of seniors is loneliness. Today, many seniors are living alone. They risk becoming socially isolated. Their spouses may have passed on; their children are probably living elsewhere with their own families. So it is important that someone keeps regularly in touch with them. It is also important that they keep active and have a social network for mutual support. During COVID, many old folks were stuck at home, unable to go out for their usual activities. We were very worried that isolated and inactive, they would deteriorate quickly. So we restarted community activities for seniors as soon as we could do so safely – stand further apart, do it outdoors, but gather and do it, and keep that human contact, and that activity.\\n\\nWe will do more to help seniors stay engaged and socially active. That is why we have set up Active Ageing Centres (AACs) all over Singapore. I recently visited this Active Ageing Centre, the Bedok Radiance AAC. It is run by Thye Hua Kwan Moral Charities. I was very happy to see a vibrant community of seniors joining the activities and using the services there. Many of them told me that they were living alone, and always looked forward to coming down to the activities. It gave them something to do with their friends, something to look forward to, a sense of purpose.\\n\\nThe AAC ran a varied weekly programme: art jamming, karaoke and dance classes. When I was there, a HAPPY exercise class was in full swing – HAPPY means Healthy Ageing Promotion Programmes for You, H-A-P-P-Y.\\n\\nThe seniors looked happy, but some of them were not so well. A few were wheelchair-bound, but they still joined in the activities. This cheerful lady told me she hoped to joget again! Why not, even in a wheelchair? Other seniors were using the health services at the AAC. Some were getting their vital signs checked so that doctors could follow up if something was amiss. One was having a teleconsultation – with nurses physically there to help him, and a doctor calling in on Zoom from the polyclinic. It was good that relatives, or neighbours, were making the effort to bring the seniors down to the AAC, for them to socialise and cheer up their lives.\\n\\nWhat I found most encouraging was that many seniors were not just taking part in activities, but also helping to organise and run them – seniors for seniors. I met Mdm Goh, the one in the pink blouse, Mdm Karen, and Mdm Farida. They were preparing to deliver hot meals to frail seniors living in upstairs in the rental flats who could not come down to the AAC. They do this every day. It is a great way to build neighbourly bonds while staying active. Actually, besides meal deliveries, there are also communal meals downstairs at the AAC. The staff told me that these meals were a big draw and an important activity because they encourage the old folks to come down. When they gathered at the AACs for meals, they would socialise and make friends, and the staff could keep an eye on them, made sure they were alright. I also discovered that these meals are actually cooked by the seniors themselves, at least some of the seniors themselves! These three makciks – Mdm Aminah on the left, Mdm Rosnah, and Mdm Fatimah – they used their SkillsFuture credits to attend a food hygiene and preparation course so that they could cook meals for their fellow seniors. Mdm Fatimah told me they use less salt and sugar in their cooking to make it a Healthier Choice. Then I tasted her chicken curry, and I said, \\\"You must have used santan – coconut milk.” She said no – she uses normal milk. But it tasted just as good – sedap sekali! I had a second helping.\\n\\nIf you are observant, you would have noticed that the volunteers I have mentioned are all ladies. But we are starting to see more male seniors coming down to the AACs. The centres are introducing more activities that interest men, such as jamming. Or even something simple like a café corner, where the uncles can catch up over a coffee. There will be something for everybody at the AACs.\\n\\nI was very heartened by my visit to Bedok Radiance AAC. I believe that the network of AACs across Singapore will be a valuable resource for seniors to stay active and healthy. We will invest to expand the network, and work with community partners to enhance the AACs’ services and reach.\\n\\nIf you have elderly family members, especially if they are living on their own, please bring them to join an AAC nearby. And if you are a senior yourself, I strongly encourage you to join a centre near you, because many seniors are having a good time there. Take the first step towards active ageing, so you can live well, and age well. Be like Mdm Wong here. This is Mdm Wong, she is 97 – still going strong, still playing Mahjong! Making HDB Homes and Precincts More Senior-Friendly.\\n\\nBesides encouraging active ageing, we will also make our HDB homes and precincts more senior-friendly. Many seniors have told us that they want to live out their golden years in their own homes and neighbourhoods. It is a familiar environment, a cosy sanctuary, and they have established deep roots and meaningful friendships. This is a very good thing. We will help as many seniors to age in place as we can. We need to make a few moves to realise this.\\n\\nFirst, we will make your homes more senior-friendly. Today, under the EASE programme (Enhancement for Active Seniors), you can install fittings like ramps to help you get in and out of your homes. In toilets, you can install grab bars and make the floors slip-resistant for safety. Soon, seniors can choose from an expanded suite of fittings under EASE 2.0. For example, you can have foldable shower seats, you can have your toilet entrances widened, so that if you or your spouse needs a wheelchair, your wheelchair can be brought into the toilet, and life can be safer and much more convenient.\\n\\nSecondly, we will make it safer and more comfortable for seniors to move about their neighbourhoods. For example: we will revamp streets and linkways frequented by seniors; we will build more shelters and rest points; also more therapeutic gardens, fitness trails, and exercise machines, to encourage seniors to stay active. The roads will be made more pedestrian-friendly. For example, longer green man signals to give seniors more time to cross the road. You see down here, 36 seconds – the motorcycles and cars have to wait, does not matter, old folks’ safety is important. This is their home, their area, we put them first. Barrier-free ramps and raised zebra crossings so that wheelchair users can cross over without having a step to go down and a step to come back up again at the curb; 3D road markings and narrowed roads to slow the cars down. We will also install larger and more colourful block signs, with familiar symbols to help seniors remember their own block and find their way home. This is not where the satay stall is – it is the Satay Block, Block 113 in Kebun Bahru.\\n\\nThird, for those who need a little more help, we will build more assisted living facilities. Take for example IDeAL – the Integrated Dementia Assisted Living project at Block 115. At the Kueh Lapis Block, Block 115 in Kebun Baru. I went to open it last year. It is a ground-up project by Dementia Singapore, with some Government support, to help seniors with mild dementia. Many of the seniors live in their own flats in this block. The void deck has become their community living room, where seniors have fun and games, exercise, get their haircuts, and eat together. Whenever a senior needs anything, he or she will go to the second floor. The residents affectionately call this “Ji Lao” – the Second Floor. There are shared facilities there like a community kitchen, where they cook and hang out, and a telehealth room, where staff can monitor their vital signs and arrange for telemedicine checkups. All at Ji Lao! At IDeAL, seniors with dementia can live happily on their own upstairs, and enjoy the warmth and care of friends and community downstairs. HDB is building similar assisted living projects called Community Care Apartments. They will serve not just seniors suffering from dementia, but also those who are well. We will need a whole range of these facilities – whether for assisted living, or the AACs – to serve old folks with different needs. Some of these already exist today. But we need to improve them, scale them up, and get ready for the large numbers down the road.\\n\\nWe will keep making Singapore a more friendly home for current and future seniors: investing resources to senior-proof your homes; making precincts safer and easier to navigate; and constructing more assisted living residences, with integrated accommodation, care, and community facilities. We will do this across Singapore, starting with the towns with the most seniors like Ang Mo Kio and Bukit Merah.\\n\\nSo we are taking major steps to prepare for a super-aged society. It is part of a new national programme called “Age Well SG”, which will complement Healthier SG in improving the health of our seniors. The Ministries will share more about this in the coming months.\\n\\nTogether, we will make Singapore an endearing home for all ages, where seniors can age with dignity and grace, connected with friends and family.\\n\\nSECTION 4: HOUSING\\nNow I want to speak about public housing. HDB is a vital part of the Singapore story. Right from the very start, the PAP Government put heavy emphasis on public housing. Here is Mr Lee Kuan Yew laying the foundation stone at the Cantonment Road Housing Estate in March 1963. This was HDB’s earliest projects, one of them. Mr Lee was convinced that housing would give Singaporeans a stake in our nation’s future. Because, he explained, housing “gives more than a sensation of permanence; it is permanent…then we dig our toes in and we fight!” So, housing has always meant much more to us than a roof over our heads. It also gives every Singaporean a valuable asset and a powerful reason to fight for our country and our future. Fast forward 60 years, today we have one of the highest home ownership rates in the world. Nine in ten Singaporeans own our homes. Eight in ten live in HDB flats. Our Singaporean identity is deeply intertwined with our HDB flats and towns. These are homes we are proud to own, neighbourhoods we raise our families in, and communities we build together.\\n\\nOver the decades, the Government has kept housing affordable and accessible for Singaporeans. We price HDB flats at a substantial discount below their market value. We also provide a wide range of generous grants to first-timers, families, and the lower-income.\\n\\nCOVID disrupted our public housing programme. BTO projects were delayed. The shortfall of new flats pushed up prices of resale flats. MND and HDB have been working very hard to catch up. They are making good progress. So far, HDB has completed and delivered more than 70% of the flats that had been delayed by the pandemic. We are also ramping up supply. We have launched 50,000 flats since 2021. By 2025, in two years’ time, we will have launched another 50,000 flats, making a total of 100,000 flats. With supply catching up, the market is calming down. First-timer BTO application rates are lower. Waiting times are shorter. Resale prices are gradually stabilising.\\n\\nRecently, MND announced changes to help Singaporeans with urgent housing needs get their flats earlier. Families with young children and young married couples buying their first home will receive more ballot chances, and higher priority in flat allocation. HDB will also launch more BTO flats with shorter waiting times of two to three years. We are working extra hard, and I am confident that we will get over this hump soon.\\n\\nChanging housing landscape\\nTonight, I want to look beyond this hump, to the longer-term public housing landscape.\\n\\nSince the early 90s, HDB has used a simple framework to guide the public in buying flats. We distinguish between Mature Estates and Non-Mature Estates. Mature Estates are places like Ang Mo Kio, Toa Payoh, or Queenstown. This is a picture of Dawson, in Queenstown, where I recorded my National Day Message this year. Mature Estates are usually more centrally located, better connected, and with more amenities. Naturally these places are more popular, and their prices reflect the higher demand. Then there are the Non-Mature Estates: These are less central and further out, like Jurong East, Woodlands, and Punggol. What Non-Mature Estates lose in terms of location and convenience initially, they make up for in lower BTO prices. Between Mature and Non-Mature Estates, HDB has been able to offer a flat for every household’s budget. This framework is easy to understand, and has worked well for many years.\\n\\nBut our housing landscape is evolving. Firstly, we have fewer and fewer large tracts of undeveloped land left to build new towns and estates. Tengah will be the last new town for quite some time, at least until Paya Lebar Air Base moves out to Changi and the site is cleared and redeveloped. Increasingly, we will have to build new HDB flats within or near to existing estates. These will often be more centrally located. For example, at Mount Pleasant, where the Police Academy used to be, we are planning to build 5,000 new homes there. New projects like these – nestled in older, more developed areas with a lot more amenities – will be more popular, and will naturally cost more. Secondly, even what we call “Non-Mature Estates” today have become much more developed. We imagine non-mature estates as being very barebones. Blocks of flats surrounded by empty barren ground. Our mental image is this photo, and once upon a time it looked like this – this was Toa Payoh in the 1960s. Toa Payoh does not look like this today. But look around you now. Towns like Jurong East, Woodlands, or Punggol, that is not barebones. These towns have matured, and now have excellent connectivity and a full suite of amenities, so the distinction between Mature and Non-Mature Estates is blurring. This is reflected in BTO applications. Some choicer projects in Non-Mature Estates are even more popular than projects in Mature Estates. It shows that buyers are discerning – you know when you see a good deal, and what matters to you are the specific attributes of the project, rather than whether we call it Mature or Non-Mature.\\n\\nIn future, many more BTO developments will be in estates or locations that are effectively “mature”. That means that the framework of Mature and Non-Mature Estates will no longer work and we need a new framework. This framework has to achieve three important objectives: One, it has to keep home ownership affordable to all income groups. Two, it has to maintain a good social mix in every town and every region. And three, it has to keep the system fair for everyone. And here is how we will do it.\\n\\nFor a start, we will keep HDB flat prices affordable. We will gradually provide more housing grants, especially grants that are means-tested, like the Enhanced Housing Grant. This way, lower- and middle-income households will get the most support to own their homes. There will always be an HDB flat to meet every budget. And we can maintain a good social mix in every town and region.\\n\\nThis will work for most HDB projects, but it will still leave one particular problem and that is, with projects in choicer locations within a region. For example, projects near an MRT station or near the town centre. Such flats see the highest demand during BTO exercises. People know that HDB is offering a good deal, because these flats will fetch much higher resale prices afterwards. This turns the BTO exercise into a lottery. Those who are lucky enough to ballot such a flat stand to reap a windfall upon resale. This will not be fair to the many more who miss out.\\n\\nTake for example one recent BTO project: Central Weave at Ang Mo Kio. This is Ang Mo Kio; let me zoom in, Central Weave is right at the town centre. Let me zoom in a little bit more. It is next to the MRT and bus interchange. The market is there, the hawker centre is there, Ang Mo Kio Hub is nearby. So location, location, location. This is an excellent location; this is a highly desirable project. HDB’s selling price had to reflect these attributes. So, the prices for the biggest flats at Central Weave – the 5-Room and 3-Gen flats – ranged from $713,000 to $877,000, before grants. Even then, these flats were heavily discounted off their true market value. Some people complained that these prices were exorbitant and unaffordable. Yet these units were heavily oversubscribed. More than 6,500 households applied for just 372 such flats – 17 applicants for every flat! Clearly, these applicants must have found the Central Weave project affordable, and thought that the prices offered them good value. And no doubt many hoped their flats would fetch strong resale prices later on.\\n\\nSo think about it. If you were HDB CEO sitting down, confronted with this problem, what will you do? You have a dilemma, a dilemma with projects at choicer locations like Central Weave: should we price them higher, or lower? If we price them higher, we will shrink the windfall gains, reduce the lottery effect. This will moderate demand and that is good. But there will be sticker shock – these flats will become expensive and unaffordable to most families. And we will not get a good social mix. Some people will still afford them, but mainly those near the income ceiling, or those whose parents can help them pay for the flat. The result: the precinct will become a higher-income enclave, and that is not what we want. But if HDB prices such prices lower, more households can afford them; we achieve a better social mix, that is good, but we exacerbate the lottery effect, because the potential windfall will be even richer. Even more families will try for these flats. For every one happy successful buyer, there will be 20 or more unsuccessful buyers, and they will understandably and justifiably frustrated and very unhappy. And this is not fair. So under the present framework, whether we price such flats higher or lower, we cannot fully achieve all three objectives: affordability, a good social mix, and a fair outcome.\\n\\nSo what do we do? Central Weave is already sold, but we can expect more such situations as we build more flats in existing towns.\\n\\nHow do we solve this problem?\\n\\nNew “Plus” model\\nOur solution is to introduce a new “Plus” model for selling HDB flats at choicer locations, with stricter sale conditions so that we can moderate the prices. Let me explain carefully what I mean.\\n\\nToday, HDB launches BTO projects all over Singapore. We are all familiar with them. Everybody knows the BTO rules. For example, a 5-year Minimum Occupation Period, or MOP, after which the owner can resell the flat. There is no income ceiling for resale buyers. These are the standard rules and apply to what I will call “Standard” projects. In future, most HDB projects will still be Standard projects.\\n\\nBut within each region, some HDB projects will be in choicer locations. Take for example, Bayshore, in Bedok. This is Bedok town. Bayshore is there, let me zoom in. And you can see, Bayshore is a very good location for homes, because you have got two MRT stations, Bedok South and Bayshore MRT stations. Shopping malls will be built in this corner, Siglap CC is there. East Coast Park is across the road, and then you have the waterfront, 有山有水.\\n\\nWe will have both private and public housing in Bayshore. The HDB projects will likely be Plus projects and will be sold under different rules. HDB will give more subsidies for these Plus flats, over and above the subsidies for Standard BTO flats. This will moderate the prices of Plus flats and put them within reach of more households. But to make the scheme fair, HDB will also impose more restrictive sale conditions. For example: A longer MOP of 10 years, to favour buyers who are planning to stay there for the longer term, and discourage those who may be thinking of flipping the property and moving out as soon as they can. Tighter restrictions when the home-owner resells the Plus flat later on, such as a subsidy recovery applied on the resale price, certain percentage when you sell the flat, you pay back a certain percentage back to HDB to take back the extra discounts you enjoyed upfront since you are moving out. This is to be fair to other buyers who did not get these Plus flats. Also there will be an income ceiling on resale buyers, just like how we have an income ceiling on first-time buyers. This will moderate resale prices and help to maintain a better social mix, even in the resale market in the longer term.\\n\\nAs we build more projects in mature areas, this Plus model will help us to meet our three objectives: affordability, good social mix, and fairness. I keep on showing you this slide because this is crucial. These are the three fundamental objectives and we must bear that in mind, when we think about what is HDB doing, why is HDB doing this, how does doing this help us to achieve these objectives? It will help Singaporeans find a house that suits your needs, even in good locations. Not just for you, but for your children too.\\n\\nStandard, Plus and Prime\\nActually, the Plus model is not entirely new; we already have something similar, called the Prime Location Public Housing Model. Let us call them Prime projects for short. One example is Bukit Merah Ridge. Like other Prime projects, it is very close to the city centre. Naturally, these flats are very desirable, and will be more expensive. But we have been able to keep their selling prices reasonable by imposing tight restrictions and a subsidy recovery to moderate the windfall gains. The Prime model has shown good outcomes so far. In Bukit Merah Ridge. The selling price for a four-room flat ranged from $540,000 to $737,000, before grants. Each flat attracted 5.4 applicants – far fewer than Central Weave, even if you compare to the four-room flats in Central Weave. And we hope that Plus projects will achieve similarly good outcomes. So, let me go back to Central Weave because you are probably thinking and asking: had we sold Central Weave as a Plus project, with the tighter restrictions and additional subsidies, would HDB have priced it lower than it actually did? The answer is yes, it would, because that is the whole point of Plus projects: to enable HDB to moderate the prices of flats in choicer locations, and still be fair to all flat buyers.\\n\\nSo think of it like this. Standard flats are good flats built all over Singapore, and will have HDB’s standard subsidies and standard restrictions. Plus flats are in the choicer locations within a region, and will have more subsidies and tighter restrictions than Standard flats. And Prime flats are in the choicest and most central locations in the whole of Singapore, and they will have the most subsidies and tightest restrictions. Let me show you the whole picture in one slide.\\n\\nThe new framework of Standard, Plus, and Prime. Standard islandwide, subsidies are standard and restrictions are standard – that is why we called it standard. Plus flats have choicer region, more subsidies and tighter restrictions. Prime flats, have the choicest locations, most subsidies and tightest restrictions. Actually the quality of the flats, they are all good flats, good flats, good flats. But the locations are different, the subsidies are different and the restrictions are different. And this new framework – Standard, Plus and Prime will be a major change to the way HDB sells flats. HDB will roll out this framework for all new projects from the second half of next year. It will not affect existing projects. Your current homes, or the homes you have already booked, will not be reclassified.\\n\\nIn time to come, we will no longer refer to new projects as Mature and Non-Mature. Instead, we will build a good mix of projects within and across regions, to cater to different needs and budgets. And that is how we can fulfil our commitment to keep high-quality HDB flats accessible and affordable to you and your children for a very long time to come.\\n\\nEnhancing Access for Singles\\nThe new framework – Standard, Plus, and Prime – will affect everyone buying a new HDB flat, but there is one special group I want to address: the singles. More and more Singaporeans are choosing to be single. Singles too hope to own their homes and have more housing choices. We hear your concerns.\\n\\nToday, first-timer singles can apply for new flats, but only 2-room Flexi flats and only in Non-Mature Estates. They cannot buy new Flexi flats in Mature Estates. Singles are also not allowed to buy Prime flats. These rules are to prioritise our limited supply of flats, but unfortunately, they have restricted singles’ choices. We will do something about this.\\n\\nWhen we roll out the new framework, singles will be allowed to buy 2-room Flexi flats across all types of BTO projects – Standard, Plus, and Prime. HDB will tell you the details soon. But I am sure singles will welcome this move to have more choices to find your own home and to write your own part in Singapore’s housing story.\\n\\nOur Housing Foundations\\nI spoke earlier about the foundation stone that Mr Lee laid back in 1963. Today, Cantonment Road Housing Estate has been redeveloped into our most iconic public housing project – The Pinnacle @ Duxton. But 60 years on, that original foundation stone is still there, at the Heritage Garden at the Pinnacle. It occupies pride of place, to remind each new generation that our housing programme is a vital part of the Singapore story; that the Singapore we live in today, is what we have inherited from those who came before us; and that we owe an immense debt to the hard work and good governance of the founding fathers and the pioneer generation.\\n\\nSECTION 5: CONCLUSION\\nOur Founding Values\\nIn a few weeks’ time, we will be marking the 100th birth anniversary of Mr Lee Kuan Yew. It is timely to reflect upon the values and ideals championed by Mr Lee and the founding fathers., and for us to renew our commitment to these enduring values and ideals.\\n\\nI spoke in my Malay speech earlier about an exhibition now on at the National Museum: Semangat yang Baru: Forging a New Singapore Spirit. The exhibition tells the story of the birth of our nation. It transports us back to our early years of nation-building. It honours the indomitable spirit of the Pioneer Generation. They dared; they fought ferociously for Singapore; they never gave up. And thus they turned mudflats into a metropolis, and took us from Third World to First.\\n\\nBut our forefathers built more than a nation of bricks and mortar, skyscrapers and a thriving economy. They created a nation founded on ideals: justice and equality; religious freedom and racial harmony; a commitment to excellence; a fair system of meritocracy; and an uncompromising insistence on honest, clean government.\\n\\nIntegrity and incorruptibility are fundamental to Singapore. They are the foundation on which we run a clean and effective Government, and deliver results for Singaporeans. Mr Lee Kuan Yew considered these the most crucial ideals of all. On his 90th birthday, he came to Parliament to attend the sitting. We celebrated his birthday in the Members’ Room. We were all there – PAP MPs and Ministers, Opposition MPs led by Mr Low Thia Khiang, as well as NMPs. Frail and ill, Mr Lee said just a few words. He spoke only about one thing – he reminded us Singapore must always remain clean and incorruptible, and Ministers and MPs have to set the example. Otherwise, he said, we are finished. I will never forget those brief words. For the sake of the country, I will do all I can to keep faith with Mr Lee’s hope. No matter the price; no matter the embarrassment or political cost – I will do my utmost to keep the system clean. Every generation of PAP leaders must also stand by this – this is what Singapore depends upon.\\n\\nThe ideals I spoke about are not just abstract aspirations. They are our compass; they guide every decision we make. They give purpose and meaning to our nation building. They make Singapore stand tall amongst the nations of the world.\\n\\nBy upholding these ideals, we have over decades built a high trust society. One where people trust one another – “regardless of race, language or religion”. Where the people and the Government trust each other too, in big ways and small. This is what saw us through the ups and downs over the past 58 years, and this is how we weathered COVID-19.\\n\\nCOVID now seems like a bad dream. Confused, receding, getting forgotten. But the pandemic could well have been a real nightmare. Things could easily have gone horribly wrong, as they did in many other countries. Thankfully, we avoided disastrous outcomes, and averted the loss of many, many lives. Our people came through safe and sound; our economy revived in good shape; and our society has grown more united, not less. We owe this to our collective efforts, and our strong mutual trust, which we must strengthen and deepen to secure a bright future for our people.\\n\\nSuccession\\nAs we prepare for the future, one crucial task is leadership renewal. As you all know, my original plan was to hand over and step down as Prime Minister by 2022, before my 70th birthday. But the pandemic disrupted this plan. I promised Singaporeans that I would see the nation through the crisis, together with both the current and the 4G leadership. Now COVID is behind us, and my succession plans are back on track.\\n\\nRecently, several controversial issues have drawn Singaporeans’ attention. I have spoken about them in Parliament, and in my National Day Message. We dealt with each of them thoroughly and transparently. Let me assure you: these incidents will not delay my timetable for renewal. We are on track.\\n\\nMore and more, my task is to support the 4G team and their agenda. I want to get them off to the best start possible. They are increasingly setting the pace. My themes in this Rally are all Forward SG themes. The 4G will soon wrap up the Forward SG exercise, but their journey is just beginning. Our nation’s future depends on them, working as one with you to take Singapore forward.\\n\\nI have every confidence in Lawrence Wong and his team. We share the same core convictions – that we are stewards of Singapore, entrusted with the immense responsibility to lead and care for our nation; that our time as stewards is transient, but we are building a Singapore for the ages; and that our best service to this nation is to hand over a better, stronger Singapore to those who follow us. My team and I are deeply grateful to you for standing with us through thick and thin. Please give Lawrence and his team your fullest support too, now and after they take over.\\n\\nClosing\\nThe Singapore story has been an unlikely one from the start. Our nation is still young, and we will always be tiny. We will forever be an unlikely nation, created out of the sheer collective will of our people. Nobody expected us to survive, much less to flourish. But each time, we beat the odds; each time, we showed the world what Singapore can be.\\n\\nIt has been an exceptional story; but I believe the best parts are still to be written. Let us hold fast to: our values, which anchor us and guide our way; our mutual trust, which is the bedrock of our success; and our dreams, which drive us ever forward. Let us come together with a renewed spirit and vigour, a semangat yang baru, to build a better, brighter Singapore for generations to come. Majulah Singapura!\",\"Source\":\"https://www.pmo.gov.sg/Newsroom/National-Day-Rally-2023\",\"Abstract\":null,\"Authors\":null,\"Title\":null,\"Publisher\":null,\"PublishedDate\":null,\"Comments\":null,\"Keywords\":null,\"CreatedAt\":\"2024-09-05T08:00:43.291140\",\"UpdatedAt\":\"2024-09-05T08:01:02.232800\",\"IsActive\":true,\"ChunkGroups\":[{\"Id\":\"da960cb5-e63e-4e18-8f98-7162f72668d0\",\"DocumentId\":\"PwR6VmXqAfwjn84ZM6dePsLWTldPv8cNS5dESYlsY2U\",\"SplitAlgo\":\"recursive_split\",\"ChunkCount\":66,\"ChunkSize\":1000,\"Overlap\":100,\"IsActive\":true,\"ChunksDir\":\"/tmp/chunks/4d869a33b1ee45b585fe4957f6bdd2dc\"}]}]}"
     ]
    }
   ],
   "source": [
    "%%bash\n",
    "curl -s 'http://localhost:12036/gen/v1/rag/collection/demo/documents'"
   ]
  },
  {
   "cell_type": "markdown",
   "metadata": {},
   "source": [
    "h) get document"
   ]
  },
  {
   "cell_type": "code",
   "execution_count": 8,
   "metadata": {},
   "outputs": [
    {
     "name": "stdout",
     "output_type": "stream",
     "text": [
      "{\"document\":{\"Id\":\"PwR6VmXqAfwjn84ZM6dePsLWTldPv8cNS5dESYlsY2U\",\"CollectionName\":\"demo\",\"ByteSize\":43352,\"FileName\":\"pm_long_speech_2023.txt\",\"FileType\":\".txt\",\"File\":null,\"Source\":\"https://www.pmo.gov.sg/Newsroom/National-Day-Rally-2023\",\"Abstract\":null,\"Authors\":null,\"Title\":null,\"Publisher\":null,\"PublishedDate\":null,\"Comments\":null,\"Keywords\":null,\"CreatedAt\":\"2024-09-05T08:00:43.291140\",\"UpdatedAt\":\"2024-09-05T08:01:02.232800\",\"IsActive\":true,\"ChunkGroups\":[{\"Id\":\"da960cb5-e63e-4e18-8f98-7162f72668d0\",\"DocumentId\":\"PwR6VmXqAfwjn84ZM6dePsLWTldPv8cNS5dESYlsY2U\",\"SplitAlgo\":\"recursive_split\",\"ChunkCount\":66,\"ChunkSize\":1000,\"Overlap\":100,\"IsActive\":true,\"ChunksDir\":\"/tmp/chunks/4d869a33b1ee45b585fe4957f6bdd2dc\"}]}}"
     ]
    }
   ],
   "source": [
    "%%bash\n",
    "curl -s 'http://localhost:12036/gen/v1/rag/collection/demo/document/PwR6VmXqAfwjn84ZM6dePsLWTldPv8cNS5dESYlsY2U'"
   ]
  },
  {
   "cell_type": "markdown",
   "metadata": {},
   "source": [
    "i) update document"
   ]
  },
  {
   "cell_type": "code",
   "execution_count": 9,
   "metadata": {},
   "outputs": [
    {
     "name": "stdout",
     "output_type": "stream",
     "text": [
      "{\"message\":\"Document updated successfully\",\"document\":\"PwR6VmXqAfwjn84ZM6dePsLWTldPv8cNS5dESYlsY2U\"}"
     ]
    }
   ],
   "source": [
    "%%bash\n",
    "curl -X PUT \\\n",
    "    http://localhost:12036/gen/v1/rag/collection/demo/document/PwR6VmXqAfwjn84ZM6dePsLWTldPv8cNS5dESYlsY2U \\\n",
    "    -H 'Content-Type: application/json' \\\n",
    "    -s \\\n",
    "    -d '{\n",
    "            \"Publisher\": \"ABC\"\n",
    "        }'\n"
   ]
  },
  {
   "cell_type": "markdown",
   "metadata": {},
   "source": [
    "j) delete document"
   ]
  },
  {
   "cell_type": "code",
   "execution_count": 10,
   "metadata": {},
   "outputs": [
    {
     "name": "stdout",
     "output_type": "stream",
     "text": [
      "{\"message\":\"Document with id PwR6VmXqAfwjn84ZM6dePsLWTldPv8cNS5dESYlsY2U deleted successfully\"}"
     ]
    }
   ],
   "source": [
    "%%bash\n",
    "curl -s -X DELETE http://localhost:12036/gen/v1/rag/collection/demo/document/PwR6VmXqAfwjn84ZM6dePsLWTldPv8cNS5dESYlsY2U"
   ]
  },
  {
   "cell_type": "markdown",
   "metadata": {},
   "source": [
    "---\n",
    "#### Example : Index PDF using Multi-Step Indexing\n",
    "\n",
    "The purpose for multi-step is to support interactive status update so that the client can make use of the websocket manager to get the status of the indexing process in a step-by-step manner.\n",
    "\n",
    "NOTE: The same is achievable using the single-step indexing as well as before.\n",
    "\n",
    "```\n",
    "curl -X POST 'http://localhost:12036/gen/v1/rag/index-file' \\\n",
    "    -H 'accept: application/json' \\\n",
    "    -H 'Content-Type: multipart/form-data' \\\n",
    "    -s \\\n",
    "    -F 'collection_name=demo' \\\n",
    "    -F 'file=@./attention-is-all-you-need.pdf' \\\n",
    "    -F 'req={\"CollectionName\":\"demo\",\"Source\": \"https://arxiv.org/abs/1706.03762\",\"FilePath\":\"attention-is-all-you-need.pdf\"}'\n",
    "```\n"
   ]
  },
  {
   "cell_type": "markdown",
   "metadata": {},
   "source": [
    "##### Step 1: Index document header"
   ]
  },
  {
   "cell_type": "code",
   "execution_count": 11,
   "metadata": {},
   "outputs": [
    {
     "name": "stdout",
     "output_type": "stream",
     "text": [
      "{\"Id\":\"-Sc9eXzUiSlaFV3qEDaKam33Boamkvv4tea8YPsjpy0\",\"CollectionName\":\"demo\",\"ByteSize\":2215244,\"FileName\":\"attention-is-all-you-need.pdf\",\"FileType\":\".pdf\",\"File\":null,\"Source\":\"https://arxiv.org/abs/1706.03762\",\"Abstract\":null,\"Authors\":null,\"Title\":null,\"Publisher\":null,\"PublishedDate\":null,\"Comments\":null,\"Keywords\":null,\"CreatedAt\":\"2024-09-05T07:29:03.888830\",\"UpdatedAt\":\"2024-09-05T07:29:03.888840\",\"IsActive\":true,\"ChunkGroups\":[]}"
     ]
    }
   ],
   "source": [
    "%%bash\n",
    "curl -X POST 'http://localhost:12036/gen/v1/rag/step/header' \\\n",
    "    -H 'accept: application/json' \\\n",
    "    -H 'Content-Type: multipart/form-data' \\\n",
    "    -s \\\n",
    "    -F 'file=@./attention-is-all-you-need.pdf' \\\n",
    "    -F 'req={\"CollectionName\":\"demo\",\"Source\": \"https://arxiv.org/abs/1706.03762\",\"FilePath\":\"attention-is-all-you-need.pdf\"}'"
   ]
  },
  {
   "cell_type": "markdown",
   "metadata": {},
   "source": [
    "##### Step 2: Split document into a group of chunks"
   ]
  },
  {
   "cell_type": "code",
   "execution_count": 12,
   "metadata": {},
   "outputs": [
    {
     "name": "stdout",
     "output_type": "stream",
     "text": [
      "a55380e7-59b4-4984-80ac-59270f2e96b0\n"
     ]
    }
   ],
   "source": [
    "import json\n",
    "import os\n",
    "\n",
    "# Execute the curl command and capture the response\n",
    "response = !curl -X POST 'http://localhost:12036/gen/v1/rag/step/split' \\\n",
    "    -H 'Content-Type: application/json' \\\n",
    "    -s \\\n",
    "    -d '{\\\n",
    "            \"collection_name\": \"demo\",\\\n",
    "            \"document_id\": \"-Sc9eXzUiSlaFV3qEDaKam33Boamkvv4tea8YPsjpy0\",\\\n",
    "            \"chunk_size\": 1000,\\\n",
    "            \"chunk_overlap\": 100\\\n",
    "        }'\n",
    "\n",
    "# Convert response to string, then load it as JSON\n",
    "response_json = json.loads(''.join(response))\n",
    "\n",
    "# Extract the Id\n",
    "document_id = response_json[\"Id\"]\n",
    "print(document_id)\n",
    "\n",
    "# Set environment variable\n",
    "os.environ['DOCUMENT_ID'] = document_id\n"
   ]
  },
  {
   "cell_type": "markdown",
   "metadata": {},
   "source": [
    "##### Step 3: Index each chunk in the database"
   ]
  },
  {
   "cell_type": "code",
   "execution_count": 13,
   "metadata": {},
   "outputs": [
    {
     "name": "stdout",
     "output_type": "stream",
     "text": [
      "a55380e7-59b4-4984-80ac-59270f2e96b0\n",
      "{\"chunk_ids\":[\"80c076e3-fec2-4512-8e0f-d6a425000ede\",\"57ecfa1c-ac8a-446d-ae8e-007d20c13c0d\",\"1c34474e-91c1-40bc-ae1e-b6c6f0ac2790\",\"f07f174f-8d8b-48d4-9272-4b0f73d25118\",\"2ec3b49f-ac06-4cba-84cd-0cdc72e6bcab\",\"f09118ec-3dce-450f-b56c-fe9483f99bb5\",\"6fcd09f5-6b84-45bd-9180-6bee3662eb09\",\"b5a5d631-391c-4783-9cf3-8d14507b2392\",\"cf88bcc0-fba4-4101-96c7-dee24ffbb968\",\"51bfe0e4-1460-4538-8908-e932d063b2ca\",\"41f7dee5-72db-45c8-9fa0-00a640bf8cd7\",\"0f9513c7-f98e-4e7c-89fd-f7b92ed149b7\",\"08422069-3228-4925-8b78-92c4a86cc03c\",\"c6825d72-41ce-4319-bc46-06fa43bd5efb\",\"6568a820-d789-48af-bf2e-43626b06061b\",\"6a5b87ba-c6f7-4a02-ba86-8b9999ccdb18\",\"908fa99e-c3ae-492b-8957-dc26c45dc4fc\",\"13ed40d6-994a-4564-8e11-3925661462c5\",\"060f6a52-1c1a-4b62-9929-7515c7bed20a\",\"75dcdadb-b50b-49db-a6a6-1fe0ca8a2cb2\",\"bec5b249-c22a-4dca-92d1-b15f5b3c4a1e\",\"964867ef-311a-4696-815b-2018eb82fe0b\",\"757f9be9-3d78-4c17-9fe0-29db9bbaf5aa\",\"09609122-7d0b-4e58-9f7a-a281171ea6b4\",\"ef0e7cc8-7680-4ce7-820d-082fdb263f73\",\"2b64d4f0-23a9-4c6a-bf61-65893a5b275d\",\"7bbef826-823e-490b-8889-c4f2c197d878\",\"fd4e263a-72dd-4822-99ca-90f7f4eba108\",\"b8d1f935-82e7-4cd6-ad3e-2172487b9278\",\"efc8357f-6c45-4654-9f45-db52ab937b14\",\"84a2646e-deee-41a8-b59a-225347532f0b\",\"34be4350-e76a-4701-865f-2ce1d69a4dd9\",\"9d1b283e-7a0d-434a-a4a4-fea1b05fe175\",\"1ef3ca92-40a4-4f1a-b8c4-6b647f6fa59e\",\"ebecc40c-0861-4a9c-8801-25c8dca2a3bc\",\"40b116f2-96c7-4015-9d38-330b3b2b1bb4\",\"bc929920-5cd4-4ca1-89cb-af8b70bf5032\",\"49991677-09fe-4dce-b70c-d1e529c4aa16\",\"ad5dff8e-2b87-48b7-a098-88c0f2e9c8e3\",\"e277afc6-a6e6-49a8-9fdc-c46c5895fdd1\",\"8ee967c9-3014-45d6-ae7e-20b628bf9f3e\",\"af02f979-71ce-43c7-bdc3-6a108054331d\",\"b80f3a42-5c6e-49d4-9522-38bb429a27f0\",\"1b6be15b-50c9-4511-a101-43f4ea2b0fcd\"]}"
     ]
    }
   ],
   "source": [
    "%%bash\n",
    "echo $DOCUMENT_ID\n",
    "curl -X POST 'http://localhost:12036/gen/v1/rag/step/index' \\\n",
    "    -H 'Content-Type: application/json' \\\n",
    "    -s \\\n",
    "    -d '{\n",
    "            \"collection_name\": \"demo\",\n",
    "            \"document_id\": \"-Sc9eXzUiSlaFV3qEDaKam33Boamkvv4tea8YPsjpy0\",\n",
    "            \"chunkgroup_id\": \"'$DOCUMENT_ID'\"\n",
    "        }'"
   ]
  },
  {
   "cell_type": "markdown",
   "metadata": {},
   "source": [
    "---\n",
    "\n",
    "## 5. Docker\n",
    "\n",
    "**Instructions:** \n",
    "\n",
    "- Press **CTRL+SHIFT+P** > **Tasks: Run Task** > **docker-compose: up**\n",
    "\n",
    "#### Smoke Test"
   ]
  },
  {
   "cell_type": "code",
   "execution_count": 14,
   "metadata": {},
   "outputs": [
    {
     "name": "stderr",
     "output_type": "stream",
     "text": [
      "  % Total    % Received % Xferd  Average Speed   Time    Time     Time  Current\n",
      "                                 Dload  Upload   Total   Spent    Left  Speed\n",
      "100    22  100    22    0     0   3566      0 --:--:-- --:--:-- --:--:-- 22000\n"
     ]
    },
    {
     "name": "stdout",
     "output_type": "stream",
     "text": [
      "{\"detail\":\"Not Found\"}"
     ]
    }
   ],
   "source": [
    "%%bash\n",
    "curl http://localhost:12036\n"
   ]
  },
  {
   "cell_type": "markdown",
   "metadata": {},
   "source": [
    "**Tests:**\n",
    "\n",
    "Repeat the API test (#)\n",
    "\n",
    "**Tear Down:**\n",
    "\n",
    "- Press **CTRL+SHIFT+P** > **Tasks: Run Task** > **docker-compose: down**\n",
    "\n",
    "### Debugging\n",
    "\n",
    "a) Container must be started with \"python -m debugpy --listen 0.0.0.0:5678 main.py\"\n",
    "\n",
    "b) Port 5678 must be opened.\n",
    "\n",
    "c) Click on \"Debug\" in Tool bar\n",
    "\n",
    "d) Select \"Attach\" > \"Run and Debug\"\n",
    "\n",
    "e) Add a \"breakpoint\" in the code\n",
    "\n",
    "f) Run the API test to see if it trigger the breakpoint."
   ]
  }
 ],
 "metadata": {
  "kernelspec": {
   "display_name": "gai-rag-svr",
   "language": "python",
   "name": "python3"
  },
  "language_info": {
   "codemirror_mode": {
    "name": "ipython",
    "version": 3
   },
   "file_extension": ".py",
   "mimetype": "text/x-python",
   "name": "python",
   "nbconvert_exporter": "python",
   "pygments_lexer": "ipython3",
   "version": "3.10.12"
  }
 },
 "nbformat": 4,
 "nbformat_minor": 2
}
