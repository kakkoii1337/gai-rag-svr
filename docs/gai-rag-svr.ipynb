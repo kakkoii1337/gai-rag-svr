{
 "cells": [
  {
   "cell_type": "markdown",
   "metadata": {},
   "source": [
    "# Retrieval Augmented Generation (RAG) Server\n",
    "\n",
    "## 1. Setup\n",
    "\n",
    "**Instructions:**\n",
    "\n",
    "a) Download model\n",
    "\n",
    "```bash\n",
    "huggingface-cli download hkunlp/instructor-large \\\n",
    "    --revision 54e5ffb8d484de506e59443b07dc819fb15c7233 \\\n",
    "    --local-dir ~/.gai/models/instructor-large \\\n",
    "    --local-dir-use-symlinks False\n",
    "```\n"
   ]
  },
  {
   "cell_type": "markdown",
   "metadata": {},
   "source": [
    "---\n",
    "\n",
    "## 2. Load test configuration"
   ]
  },
  {
   "cell_type": "code",
   "execution_count": 1,
   "metadata": {},
   "outputs": [],
   "source": [
    "from gai.lib.server.singleton_host import SingletonHost\n",
    "from gai.lib.common.utils import free_mem\n",
    "from rich.console import Console\n",
    "console=Console()\n",
    "\n",
    "config = {\n",
    "    \"type\": \"rag\",\n",
    "    \"generator_name\": \"instructor-sentencepiece\",\n",
    "    \"chromadb\": {\n",
    "        \"path\": \"rag/chromadb\",\n",
    "        \"n_results\": 3\n",
    "    },\n",
    "    \"sqlite\": {\n",
    "        \"path\": \"rag/gai-rag.db\"\n",
    "    },\n",
    "    \"model_path\": \"models/instructor-large\",\n",
    "    \"device\": \"cuda\",\n",
    "    \"chunks\": {\n",
    "        \"size\": 1000,\n",
    "        \"overlap\": 100,\n",
    "        \"path\": \"chunks\"\n",
    "    },\n",
    "    \"module_name\": \"gai.rag.server.gai_rag\",\n",
    "    \"class_name\": \"RAG\",\n",
    "    \"init_args\": [],\n",
    "    \"init_kwargs\": {}\n",
    "}\n"
   ]
  },
  {
   "cell_type": "markdown",
   "metadata": {},
   "source": [
    "## 3. Load Model Test"
   ]
  },
  {
   "cell_type": "code",
   "execution_count": 2,
   "metadata": {},
   "outputs": [
    {
     "data": {
      "text/html": [
       "<pre style=\"white-space:pre;overflow-x:auto;line-height:normal;font-family:Menlo,'DejaVu Sans Mono',consolas,'Courier New',monospace\">Free memory: <span style=\"color: #00ff00; text-decoration-color: #00ff00; font-weight: bold\">5.66</span><span style=\"color: #00ff00; text-decoration-color: #00ff00\"> GB</span>\n",
       "</pre>\n"
      ],
      "text/plain": [
       "Free memory: \u001b[1;92m5.66\u001b[0m\u001b[92m GB\u001b[0m\n"
      ]
     },
     "metadata": {},
     "output_type": "display_data"
    },
    {
     "name": "stderr",
     "output_type": "stream",
     "text": [
      "\u001b[42m\u001b[30mINFO    \u001b[0m \u001b[32mRAG: device=cuda\u001b[0m\n",
      "\u001b[42m\u001b[30mINFO    \u001b[0m \u001b[32mRAG: sqlite=sqlite:///:memory:\u001b[0m\n"
     ]
    },
    {
     "name": "stdout",
     "output_type": "stream",
     "text": [
      "load INSTRUCTOR_Transformer\n"
     ]
    },
    {
     "name": "stderr",
     "output_type": "stream",
     "text": [
      "/home/kakkoii1337/.venv/lib/python3.10/site-packages/transformers/tokenization_utils_base.py:1601: FutureWarning: `clean_up_tokenization_spaces` was not set. It will be set to `True` by default. This behavior will be depracted in transformers v4.45, and will be then set to `False` by default. For more details check this issue: https://github.com/huggingface/transformers/issues/31884\n",
      "  warnings.warn(\n"
     ]
    },
    {
     "name": "stdout",
     "output_type": "stream",
     "text": [
      "max_seq_length  512\n"
     ]
    },
    {
     "data": {
      "text/html": [
       "<pre style=\"white-space:pre;overflow-x:auto;line-height:normal;font-family:Menlo,'DejaVu Sans Mono',consolas,'Courier New',monospace\"><span style=\"font-style: italic\">                         Performance load                          </span>\n",
       "┏━━━━━━━━━━━━━━━━━━━┳━━━━━━━━━━━━━━━┳━━━━━━━━━━━━━━┳━━━━━━━━━━━━━━┓\n",
       "┃<span style=\"color: #af00ff; text-decoration-color: #af00ff; font-weight: bold\"> Metric            </span>┃<span style=\"color: #af00ff; text-decoration-color: #af00ff; font-weight: bold\"> Initial Value </span>┃<span style=\"color: #af00ff; text-decoration-color: #af00ff; font-weight: bold\"> Change Value </span>┃<span style=\"color: #af00ff; text-decoration-color: #af00ff; font-weight: bold\">  Final Value </span>┃\n",
       "┡━━━━━━━━━━━━━━━━━━━╇━━━━━━━━━━━━━━━╇━━━━━━━━━━━━━━╇━━━━━━━━━━━━━━┩\n",
       "│<span style=\"color: #008080; text-decoration-color: #008080\"> Function Duration </span>│<span style=\"color: #008000; text-decoration-color: #008000\">             - </span>│<span style=\"color: #808000; text-decoration-color: #808000\"> 1.15 seconds </span>│<span style=\"color: #800080; text-decoration-color: #800080\"> 1.15 seconds </span>│\n",
       "│<span style=\"color: #008080; text-decoration-color: #008080\"> CPU Memory        </span>│<span style=\"color: #008000; text-decoration-color: #008000\">          - MB </span>│<span style=\"color: #808000; text-decoration-color: #808000\">      5.75 MB </span>│<span style=\"color: #800080; text-decoration-color: #800080\">      5.75 MB </span>│\n",
       "│<span style=\"color: #008080; text-decoration-color: #008080\"> CUDA Memory       </span>│<span style=\"color: #008000; text-decoration-color: #008000\">       5.69 GB </span>│<span style=\"color: #808000; text-decoration-color: #808000\">      0.00 GB </span>│<span style=\"color: #800080; text-decoration-color: #800080\">      5.69 GB </span>│\n",
       "└───────────────────┴───────────────┴──────────────┴──────────────┘\n",
       "</pre>\n"
      ],
      "text/plain": [
       "\u001b[3m                         Performance load                          \u001b[0m\n",
       "┏━━━━━━━━━━━━━━━━━━━┳━━━━━━━━━━━━━━━┳━━━━━━━━━━━━━━┳━━━━━━━━━━━━━━┓\n",
       "┃\u001b[1;38;5;129m \u001b[0m\u001b[1;38;5;129mMetric           \u001b[0m\u001b[1;38;5;129m \u001b[0m┃\u001b[1;38;5;129m \u001b[0m\u001b[1;38;5;129mInitial Value\u001b[0m\u001b[1;38;5;129m \u001b[0m┃\u001b[1;38;5;129m \u001b[0m\u001b[1;38;5;129mChange Value\u001b[0m\u001b[1;38;5;129m \u001b[0m┃\u001b[1;38;5;129m \u001b[0m\u001b[1;38;5;129m Final Value\u001b[0m\u001b[1;38;5;129m \u001b[0m┃\n",
       "┡━━━━━━━━━━━━━━━━━━━╇━━━━━━━━━━━━━━━╇━━━━━━━━━━━━━━╇━━━━━━━━━━━━━━┩\n",
       "│\u001b[36m \u001b[0m\u001b[36mFunction Duration\u001b[0m\u001b[36m \u001b[0m│\u001b[32m \u001b[0m\u001b[32m            -\u001b[0m\u001b[32m \u001b[0m│\u001b[33m \u001b[0m\u001b[33m1.15 seconds\u001b[0m\u001b[33m \u001b[0m│\u001b[35m \u001b[0m\u001b[35m1.15 seconds\u001b[0m\u001b[35m \u001b[0m│\n",
       "│\u001b[36m \u001b[0m\u001b[36mCPU Memory       \u001b[0m\u001b[36m \u001b[0m│\u001b[32m \u001b[0m\u001b[32m         - MB\u001b[0m\u001b[32m \u001b[0m│\u001b[33m \u001b[0m\u001b[33m     5.75 MB\u001b[0m\u001b[33m \u001b[0m│\u001b[35m \u001b[0m\u001b[35m     5.75 MB\u001b[0m\u001b[35m \u001b[0m│\n",
       "│\u001b[36m \u001b[0m\u001b[36mCUDA Memory      \u001b[0m\u001b[36m \u001b[0m│\u001b[32m \u001b[0m\u001b[32m      5.69 GB\u001b[0m\u001b[32m \u001b[0m│\u001b[33m \u001b[0m\u001b[33m     0.00 GB\u001b[0m\u001b[33m \u001b[0m│\u001b[35m \u001b[0m\u001b[35m     5.69 GB\u001b[0m\u001b[35m \u001b[0m│\n",
       "└───────────────────┴───────────────┴──────────────┴──────────────┘\n"
      ]
     },
     "metadata": {},
     "output_type": "display_data"
    },
    {
     "data": {
      "text/html": [
       "<pre style=\"white-space:pre;overflow-x:auto;line-height:normal;font-family:Menlo,'DejaVu Sans Mono',consolas,'Courier New',monospace\">Free memory: <span style=\"color: #00ff00; text-decoration-color: #00ff00; font-weight: bold\">5.69</span><span style=\"color: #00ff00; text-decoration-color: #00ff00\"> GB</span>\n",
       "</pre>\n"
      ],
      "text/plain": [
       "Free memory: \u001b[1;92m5.69\u001b[0m\u001b[92m GB\u001b[0m\n"
      ]
     },
     "metadata": {},
     "output_type": "display_data"
    },
    {
     "data": {
      "text/html": [
       "<pre style=\"white-space:pre;overflow-x:auto;line-height:normal;font-family:Menlo,'DejaVu Sans Mono',consolas,'Courier New',monospace\">Free memory: <span style=\"color: #00ff00; text-decoration-color: #00ff00; font-weight: bold\">5.69</span><span style=\"color: #00ff00; text-decoration-color: #00ff00\"> GB</span>\n",
       "</pre>\n"
      ],
      "text/plain": [
       "Free memory: \u001b[1;92m5.69\u001b[0m\u001b[92m GB\u001b[0m\n"
      ]
     },
     "metadata": {},
     "output_type": "display_data"
    }
   ],
   "source": [
    "# before loading\n",
    "free_mem()\n",
    "try:\n",
    "    with SingletonHost.GetInstanceFromConfig(config) as host:\n",
    "\n",
    "        # after loading\n",
    "        free_mem()\n",
    "except Exception as e:\n",
    "    raise e\n",
    "finally:\n",
    "    # after disposal\n",
    "    free_mem()\n",
    "    "
   ]
  },
  {
   "cell_type": "markdown",
   "metadata": {},
   "source": [
    "## Indexing"
   ]
  },
  {
   "cell_type": "code",
   "execution_count": 2,
   "metadata": {},
   "outputs": [
    {
     "name": "stderr",
     "output_type": "stream",
     "text": [
      "\u001b[42m\u001b[30mINFO    \u001b[0m \u001b[32mRAG: device=cuda\u001b[0m\n",
      "\u001b[42m\u001b[30mINFO    \u001b[0m \u001b[32mRAG: sqlite=sqlite:///:memory:\u001b[0m\n"
     ]
    },
    {
     "name": "stdout",
     "output_type": "stream",
     "text": [
      "load INSTRUCTOR_Transformer\n",
      "max_seq_length  512\n"
     ]
    },
    {
     "name": "stderr",
     "output_type": "stream",
     "text": [
      "/home/kakkoii1337/.venv/lib/python3.10/site-packages/transformers/tokenization_utils_base.py:1601: FutureWarning: `clean_up_tokenization_spaces` was not set. It will be set to `True` by default. This behavior will be depracted in transformers v4.45, and will be then set to `False` by default. For more details check this issue: https://github.com/huggingface/transformers/issues/31884\n",
      "  warnings.warn(\n"
     ]
    },
    {
     "data": {
      "text/html": [
       "<pre style=\"white-space:pre;overflow-x:auto;line-height:normal;font-family:Menlo,'DejaVu Sans Mono',consolas,'Courier New',monospace\"><span style=\"font-style: italic\">                         Performance load                          </span>\n",
       "┏━━━━━━━━━━━━━━━━━━━┳━━━━━━━━━━━━━━━┳━━━━━━━━━━━━━━┳━━━━━━━━━━━━━━┓\n",
       "┃<span style=\"color: #af00ff; text-decoration-color: #af00ff; font-weight: bold\"> Metric            </span>┃<span style=\"color: #af00ff; text-decoration-color: #af00ff; font-weight: bold\"> Initial Value </span>┃<span style=\"color: #af00ff; text-decoration-color: #af00ff; font-weight: bold\"> Change Value </span>┃<span style=\"color: #af00ff; text-decoration-color: #af00ff; font-weight: bold\">  Final Value </span>┃\n",
       "┡━━━━━━━━━━━━━━━━━━━╇━━━━━━━━━━━━━━━╇━━━━━━━━━━━━━━╇━━━━━━━━━━━━━━┩\n",
       "│<span style=\"color: #008080; text-decoration-color: #008080\"> Function Duration </span>│<span style=\"color: #008000; text-decoration-color: #008000\">             - </span>│<span style=\"color: #808000; text-decoration-color: #808000\"> 1.28 seconds </span>│<span style=\"color: #800080; text-decoration-color: #800080\"> 1.28 seconds </span>│\n",
       "│<span style=\"color: #008080; text-decoration-color: #008080\"> CPU Memory        </span>│<span style=\"color: #008000; text-decoration-color: #008000\">          - MB </span>│<span style=\"color: #808000; text-decoration-color: #808000\">      5.72 MB </span>│<span style=\"color: #800080; text-decoration-color: #800080\">      5.72 MB </span>│\n",
       "│<span style=\"color: #008080; text-decoration-color: #008080\"> CUDA Memory       </span>│<span style=\"color: #008000; text-decoration-color: #008000\">       5.68 GB </span>│<span style=\"color: #808000; text-decoration-color: #808000\">      0.01 GB </span>│<span style=\"color: #800080; text-decoration-color: #800080\">      5.67 GB </span>│\n",
       "└───────────────────┴───────────────┴──────────────┴──────────────┘\n",
       "</pre>\n"
      ],
      "text/plain": [
       "\u001b[3m                         Performance load                          \u001b[0m\n",
       "┏━━━━━━━━━━━━━━━━━━━┳━━━━━━━━━━━━━━━┳━━━━━━━━━━━━━━┳━━━━━━━━━━━━━━┓\n",
       "┃\u001b[1;38;5;129m \u001b[0m\u001b[1;38;5;129mMetric           \u001b[0m\u001b[1;38;5;129m \u001b[0m┃\u001b[1;38;5;129m \u001b[0m\u001b[1;38;5;129mInitial Value\u001b[0m\u001b[1;38;5;129m \u001b[0m┃\u001b[1;38;5;129m \u001b[0m\u001b[1;38;5;129mChange Value\u001b[0m\u001b[1;38;5;129m \u001b[0m┃\u001b[1;38;5;129m \u001b[0m\u001b[1;38;5;129m Final Value\u001b[0m\u001b[1;38;5;129m \u001b[0m┃\n",
       "┡━━━━━━━━━━━━━━━━━━━╇━━━━━━━━━━━━━━━╇━━━━━━━━━━━━━━╇━━━━━━━━━━━━━━┩\n",
       "│\u001b[36m \u001b[0m\u001b[36mFunction Duration\u001b[0m\u001b[36m \u001b[0m│\u001b[32m \u001b[0m\u001b[32m            -\u001b[0m\u001b[32m \u001b[0m│\u001b[33m \u001b[0m\u001b[33m1.28 seconds\u001b[0m\u001b[33m \u001b[0m│\u001b[35m \u001b[0m\u001b[35m1.28 seconds\u001b[0m\u001b[35m \u001b[0m│\n",
       "│\u001b[36m \u001b[0m\u001b[36mCPU Memory       \u001b[0m\u001b[36m \u001b[0m│\u001b[32m \u001b[0m\u001b[32m         - MB\u001b[0m\u001b[32m \u001b[0m│\u001b[33m \u001b[0m\u001b[33m     5.72 MB\u001b[0m\u001b[33m \u001b[0m│\u001b[35m \u001b[0m\u001b[35m     5.72 MB\u001b[0m\u001b[35m \u001b[0m│\n",
       "│\u001b[36m \u001b[0m\u001b[36mCUDA Memory      \u001b[0m\u001b[36m \u001b[0m│\u001b[32m \u001b[0m\u001b[32m      5.68 GB\u001b[0m\u001b[32m \u001b[0m│\u001b[33m \u001b[0m\u001b[33m     0.01 GB\u001b[0m\u001b[33m \u001b[0m│\u001b[35m \u001b[0m\u001b[35m     5.67 GB\u001b[0m\u001b[35m \u001b[0m│\n",
       "└───────────────────┴───────────────┴──────────────┴──────────────┘\n"
      ]
     },
     "metadata": {},
     "output_type": "display_data"
    },
    {
     "name": "stderr",
     "output_type": "stream",
     "text": [
      "\u001b[42m\u001b[30mINFO    \u001b[0m \u001b[32mrag.index_document_header_async: request started. collection_name=demo file_path=./pm_long_speech_2023.txt title=2023 National Day Rally Speech source=https://www.pmo.gov.sg/Newsroom/2023-National-Day-Rally-Speech abstract=None authors=None publisher=None published_date=None comments=None keywords=None\u001b[0m\n",
      "\u001b[45m\u001b[30mDEBUG   \u001b[0m \u001b[35mrag.index_document_header_async: creating doc header with id=PwR6VmXqAfwjn84ZM6dePsLWTldPv8cNS5dESYlsY2U.\u001b[0m\n",
      "\u001b[45m\u001b[30mDEBUG   \u001b[0m \u001b[35mrag.index_document_header_async: document_header created. id=PwR6VmXqAfwjn84ZM6dePsLWTldPv8cNS5dESYlsY2U\u001b[0m\n",
      "\u001b[42m\u001b[30mINFO    \u001b[0m \u001b[32mrag.index_document_split_async: splitting chunks\u001b[0m\n",
      "\u001b[42m\u001b[30mINFO    \u001b[0m \u001b[32mrag.index_document_split_async: chunkgroup created. chunkgroup_id=a09d97b0-7246-4c9a-b564-af39428049da\u001b[0m\n",
      "100%|██████████| 66/66 [00:00<00:00, 533.84it/s]\n",
      "\u001b[42m\u001b[30mINFO    \u001b[0m \u001b[32mrag.index_document_split_async: chunks created. count=66\u001b[0m\n",
      "\u001b[42m\u001b[30mINFO    \u001b[0m \u001b[32mRAG.index_document_index_async: Start indexing...\u001b[0m\n",
      "0it [00:00, ?it/s]\u001b[45m\u001b[30mDEBUG   \u001b[0m \u001b[35mRAG.index_document_index_async: Indexed 1/66 chunk afad2144-e170-4932-9613-b33ef1ed17c0 into collection demo\u001b[0m\n",
      "1it [00:01,  1.87s/it]\u001b[45m\u001b[30mDEBUG   \u001b[0m \u001b[35mRAG.index_document_index_async: Indexed 2/66 chunk d47341f7-5c9d-4c7b-bed7-e7c178c38a7c into collection demo\u001b[0m\n",
      "\u001b[45m\u001b[30mDEBUG   \u001b[0m \u001b[35mRAG.index_document_index_async: Indexed 3/66 chunk d0cac288-efbe-4e74-8499-61e6e802983f into collection demo\u001b[0m\n",
      "3it [00:01,  1.88it/s]\u001b[45m\u001b[30mDEBUG   \u001b[0m \u001b[35mRAG.index_document_index_async: Indexed 4/66 chunk ffedee87-67a1-4cf9-87c2-cf0a346129a8 into collection demo\u001b[0m\n",
      "\u001b[45m\u001b[30mDEBUG   \u001b[0m \u001b[35mRAG.index_document_index_async: Indexed 5/66 chunk d0cc8b7f-c58c-4793-8552-994756910ba4 into collection demo\u001b[0m\n",
      "5it [00:02,  3.49it/s]\u001b[45m\u001b[30mDEBUG   \u001b[0m \u001b[35mRAG.index_document_index_async: Indexed 6/66 chunk 9e3c4f28-586b-4b75-b6d7-1124ce619b2c into collection demo\u001b[0m\n",
      "\u001b[45m\u001b[30mDEBUG   \u001b[0m \u001b[35mRAG.index_document_index_async: Indexed 7/66 chunk f112d563-97ac-43af-86fa-c67ba73c8bc6 into collection demo\u001b[0m\n",
      "7it [00:02,  5.14it/s]\u001b[45m\u001b[30mDEBUG   \u001b[0m \u001b[35mRAG.index_document_index_async: Indexed 8/66 chunk 77e2fae1-25c6-428f-bee9-23a787f070e2 into collection demo\u001b[0m\n",
      "\u001b[45m\u001b[30mDEBUG   \u001b[0m \u001b[35mRAG.index_document_index_async: Indexed 9/66 chunk 2ccb0855-5071-4eac-a13c-3a0c9751b110 into collection demo\u001b[0m\n",
      "9it [00:02,  6.85it/s]\u001b[45m\u001b[30mDEBUG   \u001b[0m \u001b[35mRAG.index_document_index_async: Indexed 10/66 chunk f110ee8b-a92d-4bff-b11d-3b2c12407989 into collection demo\u001b[0m\n",
      "\u001b[45m\u001b[30mDEBUG   \u001b[0m \u001b[35mRAG.index_document_index_async: Indexed 11/66 chunk d8c50b6a-0971-484f-9547-d96b908aafac into collection demo\u001b[0m\n",
      "11it [00:02,  8.74it/s]\u001b[45m\u001b[30mDEBUG   \u001b[0m \u001b[35mRAG.index_document_index_async: Indexed 12/66 chunk aceb0566-6fba-4f54-b2e1-74bd91f6cc4d into collection demo\u001b[0m\n",
      "\u001b[45m\u001b[30mDEBUG   \u001b[0m \u001b[35mRAG.index_document_index_async: Indexed 13/66 chunk 626ab326-8406-45da-a615-bf1ad6bb5997 into collection demo\u001b[0m\n",
      "13it [00:02, 10.42it/s]\u001b[45m\u001b[30mDEBUG   \u001b[0m \u001b[35mRAG.index_document_index_async: Indexed 14/66 chunk 6be744a7-f565-4fa3-99de-b5be1f061c63 into collection demo\u001b[0m\n",
      "\u001b[45m\u001b[30mDEBUG   \u001b[0m \u001b[35mRAG.index_document_index_async: Indexed 15/66 chunk f346ee1d-9394-416e-a9b7-5a5b24661236 into collection demo\u001b[0m\n",
      "15it [00:02, 11.70it/s]\u001b[45m\u001b[30mDEBUG   \u001b[0m \u001b[35mRAG.index_document_index_async: Indexed 16/66 chunk a0f97c2c-5f81-4edf-bccc-d47087ebced1 into collection demo\u001b[0m\n",
      "\u001b[45m\u001b[30mDEBUG   \u001b[0m \u001b[35mRAG.index_document_index_async: Indexed 17/66 chunk bd45fb06-4f02-47b4-b666-190bdd01bcd2 into collection demo\u001b[0m\n",
      "17it [00:02, 12.48it/s]\u001b[45m\u001b[30mDEBUG   \u001b[0m \u001b[35mRAG.index_document_index_async: Indexed 18/66 chunk 656f0f1e-f73a-462d-86d9-1c486a52267a into collection demo\u001b[0m\n",
      "\u001b[45m\u001b[30mDEBUG   \u001b[0m \u001b[35mRAG.index_document_index_async: Indexed 19/66 chunk ca47696f-ff07-4aee-a985-f8a7d77ef317 into collection demo\u001b[0m\n",
      "19it [00:02, 13.48it/s]\u001b[45m\u001b[30mDEBUG   \u001b[0m \u001b[35mRAG.index_document_index_async: Indexed 20/66 chunk a4491618-6bc6-43c8-a0d6-4bcf5840f39b into collection demo\u001b[0m\n",
      "\u001b[45m\u001b[30mDEBUG   \u001b[0m \u001b[35mRAG.index_document_index_async: Indexed 21/66 chunk d12e5def-20c9-42d2-bb1d-e8af91a21409 into collection demo\u001b[0m\n",
      "21it [00:03, 13.92it/s]\u001b[45m\u001b[30mDEBUG   \u001b[0m \u001b[35mRAG.index_document_index_async: Indexed 22/66 chunk 3cbe7b96-9baa-4112-b19f-320e908f249c into collection demo\u001b[0m\n",
      "\u001b[45m\u001b[30mDEBUG   \u001b[0m \u001b[35mRAG.index_document_index_async: Indexed 23/66 chunk a4f5390a-fe6a-45e3-a154-f2f22c086c0a into collection demo\u001b[0m\n",
      "23it [00:03, 14.83it/s]\u001b[45m\u001b[30mDEBUG   \u001b[0m \u001b[35mRAG.index_document_index_async: Indexed 24/66 chunk 793981bf-8432-4c35-9683-411dda464f7f into collection demo\u001b[0m\n",
      "\u001b[45m\u001b[30mDEBUG   \u001b[0m \u001b[35mRAG.index_document_index_async: Indexed 25/66 chunk e8d269fe-6913-4b96-918a-f4f19d3a3d56 into collection demo\u001b[0m\n",
      "25it [00:03, 15.32it/s]\u001b[45m\u001b[30mDEBUG   \u001b[0m \u001b[35mRAG.index_document_index_async: Indexed 26/66 chunk 0df6c8a4-4d08-47e3-9c9f-6c2e410d0a48 into collection demo\u001b[0m\n",
      "\u001b[45m\u001b[30mDEBUG   \u001b[0m \u001b[35mRAG.index_document_index_async: Indexed 27/66 chunk c5d2255a-9cb1-4ed0-b1e4-d6ccbff896dd into collection demo\u001b[0m\n",
      "27it [00:03, 15.98it/s]\u001b[45m\u001b[30mDEBUG   \u001b[0m \u001b[35mRAG.index_document_index_async: Indexed 28/66 chunk 27fa78bd-3e9d-4ace-b308-f22844cf12f3 into collection demo\u001b[0m\n",
      "\u001b[45m\u001b[30mDEBUG   \u001b[0m \u001b[35mRAG.index_document_index_async: Indexed 29/66 chunk f4cb99c3-2006-4069-9e59-73444a973547 into collection demo\u001b[0m\n",
      "29it [00:03, 15.95it/s]\u001b[45m\u001b[30mDEBUG   \u001b[0m \u001b[35mRAG.index_document_index_async: Indexed 30/66 chunk 9a987119-fd11-4d52-b1f9-3f49b668446b into collection demo\u001b[0m\n",
      "\u001b[45m\u001b[30mDEBUG   \u001b[0m \u001b[35mRAG.index_document_index_async: Indexed 31/66 chunk bb78fe23-45f1-4bd0-bb2f-96cf70dbb5c7 into collection demo\u001b[0m\n",
      "31it [00:03, 15.83it/s]\u001b[45m\u001b[30mDEBUG   \u001b[0m \u001b[35mRAG.index_document_index_async: Indexed 32/66 chunk 6791e11e-fc60-4f49-b3c2-138854e1baac into collection demo\u001b[0m\n",
      "\u001b[45m\u001b[30mDEBUG   \u001b[0m \u001b[35mRAG.index_document_index_async: Indexed 33/66 chunk c2191255-6d4e-45db-85a7-ba5b73e310cc into collection demo\u001b[0m\n",
      "\u001b[45m\u001b[30mDEBUG   \u001b[0m \u001b[35mRAG.index_document_index_async: Indexed 34/66 chunk 3c160ec7-a864-40ae-b670-f9ca65ccfb7c into collection demo\u001b[0m\n",
      "34it [00:03, 17.18it/s]\u001b[45m\u001b[30mDEBUG   \u001b[0m \u001b[35mRAG.index_document_index_async: Indexed 35/66 chunk 2175b602-327d-4e84-b962-10e76013bca9 into collection demo\u001b[0m\n",
      "\u001b[45m\u001b[30mDEBUG   \u001b[0m \u001b[35mRAG.index_document_index_async: Indexed 36/66 chunk 3deea9b9-9f3e-4712-b6dd-05888d894d6c into collection demo\u001b[0m\n",
      "\u001b[45m\u001b[30mDEBUG   \u001b[0m \u001b[35mRAG.index_document_index_async: Indexed 37/66 chunk 8d26bbd1-c760-4e48-8c05-15ccfd514729 into collection demo\u001b[0m\n",
      "37it [00:04, 18.34it/s]\u001b[45m\u001b[30mDEBUG   \u001b[0m \u001b[35mRAG.index_document_index_async: Indexed 38/66 chunk 51774454-96f3-437c-ac79-4bd5e36fb657 into collection demo\u001b[0m\n",
      "\u001b[45m\u001b[30mDEBUG   \u001b[0m \u001b[35mRAG.index_document_index_async: Indexed 39/66 chunk 57e15019-67d3-4a01-abe0-723ff9d77099 into collection demo\u001b[0m\n",
      "39it [00:04, 18.05it/s]\u001b[45m\u001b[30mDEBUG   \u001b[0m \u001b[35mRAG.index_document_index_async: Indexed 40/66 chunk 380eb17b-eaad-4196-bceb-54adc0e0cc49 into collection demo\u001b[0m\n",
      "\u001b[45m\u001b[30mDEBUG   \u001b[0m \u001b[35mRAG.index_document_index_async: Indexed 41/66 chunk dfa59aa9-d0e4-4c24-95e8-715644b8897a into collection demo\u001b[0m\n",
      "41it [00:04, 17.02it/s]\u001b[45m\u001b[30mDEBUG   \u001b[0m \u001b[35mRAG.index_document_index_async: Indexed 42/66 chunk bbba8383-193a-432e-9d73-2fccb67e1017 into collection demo\u001b[0m\n",
      "\u001b[45m\u001b[30mDEBUG   \u001b[0m \u001b[35mRAG.index_document_index_async: Indexed 43/66 chunk 2d927fe9-8b33-4c76-ae65-1eaf5ba3b561 into collection demo\u001b[0m\n",
      "43it [00:04, 16.62it/s]\u001b[45m\u001b[30mDEBUG   \u001b[0m \u001b[35mRAG.index_document_index_async: Indexed 44/66 chunk beeaa3ec-605d-4380-ab01-d95c3e94469f into collection demo\u001b[0m\n",
      "\u001b[45m\u001b[30mDEBUG   \u001b[0m \u001b[35mRAG.index_document_index_async: Indexed 45/66 chunk 5d04b949-9f1d-47bb-b1d2-60248e2e81fe into collection demo\u001b[0m\n",
      "45it [00:04, 15.59it/s]\u001b[45m\u001b[30mDEBUG   \u001b[0m \u001b[35mRAG.index_document_index_async: Indexed 46/66 chunk 74937a25-bf2d-49ab-92df-7444c7907f9e into collection demo\u001b[0m\n",
      "\u001b[45m\u001b[30mDEBUG   \u001b[0m \u001b[35mRAG.index_document_index_async: Indexed 47/66 chunk f82db7a4-f7a8-420c-92cc-37f6f7f76a98 into collection demo\u001b[0m\n",
      "47it [00:04, 15.55it/s]\u001b[45m\u001b[30mDEBUG   \u001b[0m \u001b[35mRAG.index_document_index_async: Indexed 48/66 chunk 79eadfa4-5054-4332-bdbd-221cff7275b4 into collection demo\u001b[0m\n",
      "\u001b[45m\u001b[30mDEBUG   \u001b[0m \u001b[35mRAG.index_document_index_async: Indexed 49/66 chunk 52157143-c0d1-4e81-a0e5-c20e3644afd6 into collection demo\u001b[0m\n",
      "49it [00:04, 16.03it/s]\u001b[45m\u001b[30mDEBUG   \u001b[0m \u001b[35mRAG.index_document_index_async: Indexed 50/66 chunk 25dc5ad1-f643-4cb7-bd59-497fcb37ac45 into collection demo\u001b[0m\n",
      "\u001b[45m\u001b[30mDEBUG   \u001b[0m \u001b[35mRAG.index_document_index_async: Indexed 51/66 chunk b4719796-397f-44f1-a19c-321fd5764f8e into collection demo\u001b[0m\n",
      "51it [00:04, 15.80it/s]\u001b[45m\u001b[30mDEBUG   \u001b[0m \u001b[35mRAG.index_document_index_async: Indexed 52/66 chunk 6e98c0b4-3b7c-4df6-bcd0-55d47e67a649 into collection demo\u001b[0m\n",
      "\u001b[45m\u001b[30mDEBUG   \u001b[0m \u001b[35mRAG.index_document_index_async: Indexed 53/66 chunk 082c2520-0b6d-4b7f-9b39-805c27cd2025 into collection demo\u001b[0m\n",
      "53it [00:05, 15.90it/s]\u001b[45m\u001b[30mDEBUG   \u001b[0m \u001b[35mRAG.index_document_index_async: Indexed 54/66 chunk 7e89d9e5-13e5-46cd-a655-aa6de8c630c0 into collection demo\u001b[0m\n",
      "\u001b[45m\u001b[30mDEBUG   \u001b[0m \u001b[35mRAG.index_document_index_async: Indexed 55/66 chunk f07098b5-d976-4813-9e5d-d924fe3f1c33 into collection demo\u001b[0m\n",
      "55it [00:05, 15.08it/s]\u001b[45m\u001b[30mDEBUG   \u001b[0m \u001b[35mRAG.index_document_index_async: Indexed 56/66 chunk ae4a3098-8eb7-4248-afc6-28e6b1dfe7ff into collection demo\u001b[0m\n",
      "\u001b[45m\u001b[30mDEBUG   \u001b[0m \u001b[35mRAG.index_document_index_async: Indexed 57/66 chunk 4300e7d6-9bd3-4d0e-abc5-e8e8400d1eb1 into collection demo\u001b[0m\n",
      "57it [00:05, 15.46it/s]\u001b[45m\u001b[30mDEBUG   \u001b[0m \u001b[35mRAG.index_document_index_async: Indexed 58/66 chunk d1fb6e71-f041-4c71-b24b-031377281198 into collection demo\u001b[0m\n",
      "\u001b[45m\u001b[30mDEBUG   \u001b[0m \u001b[35mRAG.index_document_index_async: Indexed 59/66 chunk d16464e0-2915-4c1c-8efb-909ae724b38a into collection demo\u001b[0m\n",
      "\u001b[45m\u001b[30mDEBUG   \u001b[0m \u001b[35mRAG.index_document_index_async: Indexed 60/66 chunk dcd5d1d2-e234-4c0b-bbf2-ab040b685b1b into collection demo\u001b[0m\n",
      "60it [00:05, 16.95it/s]\u001b[45m\u001b[30mDEBUG   \u001b[0m \u001b[35mRAG.index_document_index_async: Indexed 61/66 chunk 7d08fe53-53ac-4ab4-9557-9b9d3cd9ec55 into collection demo\u001b[0m\n",
      "\u001b[45m\u001b[30mDEBUG   \u001b[0m \u001b[35mRAG.index_document_index_async: Indexed 62/66 chunk dce890cf-525c-4dc0-9221-0eb923507dd4 into collection demo\u001b[0m\n",
      "62it [00:05, 17.09it/s]\u001b[45m\u001b[30mDEBUG   \u001b[0m \u001b[35mRAG.index_document_index_async: Indexed 63/66 chunk f9d58a40-4238-4039-9a6d-41e33c8bc5c9 into collection demo\u001b[0m\n",
      "\u001b[45m\u001b[30mDEBUG   \u001b[0m \u001b[35mRAG.index_document_index_async: Indexed 64/66 chunk ed5b22b8-3d47-4387-8ffc-d48004b991f5 into collection demo\u001b[0m\n",
      "64it [00:05, 16.28it/s]\u001b[45m\u001b[30mDEBUG   \u001b[0m \u001b[35mRAG.index_document_index_async: Indexed 65/66 chunk 3da84983-70a8-41e5-a985-9d1e2b85a7c2 into collection demo\u001b[0m\n",
      "\u001b[45m\u001b[30mDEBUG   \u001b[0m \u001b[35mRAG.index_document_index_async: Indexed 66/66 chunk 39d9d4c2-fe27-4fd4-9e99-bf94ac91bc09 into collection demo\u001b[0m\n",
      "66it [00:05, 11.29it/s]\n",
      "\u001b[42m\u001b[30mINFO    \u001b[0m \u001b[32mRAG.index_async: indexing...done\u001b[0m\n"
     ]
    },
    {
     "data": {
      "text/html": [
       "<pre style=\"white-space:pre;overflow-x:auto;line-height:normal;font-family:Menlo,'DejaVu Sans Mono',consolas,'Courier New',monospace\">Free memory: <span style=\"color: #00ff00; text-decoration-color: #00ff00; font-weight: bold\">5.53</span><span style=\"color: #00ff00; text-decoration-color: #00ff00\"> GB</span>\n",
       "</pre>\n"
      ],
      "text/plain": [
       "Free memory: \u001b[1;92m5.53\u001b[0m\u001b[92m GB\u001b[0m\n"
      ]
     },
     "metadata": {},
     "output_type": "display_data"
    }
   ],
   "source": [
    "from gai.rag.server.gai_rag import RAG\n",
    "from gai.rag.server.dtos.create_doc_header_request import CreateDocHeaderRequestPydantic\n",
    "try:\n",
    "    with SingletonHost.GetInstanceFromConfig(config) as host:\n",
    "        rag = host.generator\n",
    "\n",
    "        req = CreateDocHeaderRequestPydantic(\n",
    "            CollectionName='demo',\n",
    "            FileType='txt',\n",
    "            Source='https://www.pmo.gov.sg/Newsroom/2023-National-Day-Rally-Speech',\n",
    "            Title='2023 National Day Rally Speech',\n",
    "            FilePath=\"./pm_long_speech_2023.txt\"\n",
    "        )\n",
    "\n",
    "\n",
    "        # Index\n",
    "        chunkids = await rag.index_async(\n",
    "            req=req\n",
    "            # collection_name='demo',\n",
    "            # file_type='txt',\n",
    "            # source=\"https://www.pmo.gov.sg/Newsroom/2023-National-Day-Rally-Speech\",\n",
    "            # title=\"2023 National Day Rally Speech\"\n",
    "            )\n",
    "\n",
    "except Exception as e:\n",
    "    raise e\n",
    "finally:\n",
    "    # after disposal\n",
    "    free_mem()\n"
   ]
  },
  {
   "cell_type": "code",
   "execution_count": 3,
   "metadata": {},
   "outputs": [
    {
     "name": "stderr",
     "output_type": "stream",
     "text": [
      "\u001b[42m\u001b[30mINFO    \u001b[0m \u001b[32mRAG: device=cuda\u001b[0m\n",
      "\u001b[42m\u001b[30mINFO    \u001b[0m \u001b[32mRAG: sqlite=sqlite:///:memory:\u001b[0m\n"
     ]
    },
    {
     "name": "stdout",
     "output_type": "stream",
     "text": [
      "load INSTRUCTOR_Transformer\n",
      "max_seq_length  512\n"
     ]
    },
    {
     "data": {
      "text/html": [
       "<pre style=\"white-space:pre;overflow-x:auto;line-height:normal;font-family:Menlo,'DejaVu Sans Mono',consolas,'Courier New',monospace\"><span style=\"font-style: italic\">                         Performance load                          </span>\n",
       "┏━━━━━━━━━━━━━━━━━━━┳━━━━━━━━━━━━━━━┳━━━━━━━━━━━━━━┳━━━━━━━━━━━━━━┓\n",
       "┃<span style=\"color: #af00ff; text-decoration-color: #af00ff; font-weight: bold\"> Metric            </span>┃<span style=\"color: #af00ff; text-decoration-color: #af00ff; font-weight: bold\"> Initial Value </span>┃<span style=\"color: #af00ff; text-decoration-color: #af00ff; font-weight: bold\"> Change Value </span>┃<span style=\"color: #af00ff; text-decoration-color: #af00ff; font-weight: bold\">  Final Value </span>┃\n",
       "┡━━━━━━━━━━━━━━━━━━━╇━━━━━━━━━━━━━━━╇━━━━━━━━━━━━━━╇━━━━━━━━━━━━━━┩\n",
       "│<span style=\"color: #008080; text-decoration-color: #008080\"> Function Duration </span>│<span style=\"color: #008000; text-decoration-color: #008000\">             - </span>│<span style=\"color: #808000; text-decoration-color: #808000\"> 0.75 seconds </span>│<span style=\"color: #800080; text-decoration-color: #800080\"> 0.75 seconds </span>│\n",
       "│<span style=\"color: #008080; text-decoration-color: #008080\"> CPU Memory        </span>│<span style=\"color: #008000; text-decoration-color: #008000\">          - MB </span>│<span style=\"color: #808000; text-decoration-color: #808000\">      1.48 MB </span>│<span style=\"color: #800080; text-decoration-color: #800080\">      1.48 MB </span>│\n",
       "│<span style=\"color: #008080; text-decoration-color: #008080\"> CUDA Memory       </span>│<span style=\"color: #008000; text-decoration-color: #008000\">       5.53 GB </span>│<span style=\"color: #808000; text-decoration-color: #808000\">      0.00 GB </span>│<span style=\"color: #800080; text-decoration-color: #800080\">      5.53 GB </span>│\n",
       "└───────────────────┴───────────────┴──────────────┴──────────────┘\n",
       "</pre>\n"
      ],
      "text/plain": [
       "\u001b[3m                         Performance load                          \u001b[0m\n",
       "┏━━━━━━━━━━━━━━━━━━━┳━━━━━━━━━━━━━━━┳━━━━━━━━━━━━━━┳━━━━━━━━━━━━━━┓\n",
       "┃\u001b[1;38;5;129m \u001b[0m\u001b[1;38;5;129mMetric           \u001b[0m\u001b[1;38;5;129m \u001b[0m┃\u001b[1;38;5;129m \u001b[0m\u001b[1;38;5;129mInitial Value\u001b[0m\u001b[1;38;5;129m \u001b[0m┃\u001b[1;38;5;129m \u001b[0m\u001b[1;38;5;129mChange Value\u001b[0m\u001b[1;38;5;129m \u001b[0m┃\u001b[1;38;5;129m \u001b[0m\u001b[1;38;5;129m Final Value\u001b[0m\u001b[1;38;5;129m \u001b[0m┃\n",
       "┡━━━━━━━━━━━━━━━━━━━╇━━━━━━━━━━━━━━━╇━━━━━━━━━━━━━━╇━━━━━━━━━━━━━━┩\n",
       "│\u001b[36m \u001b[0m\u001b[36mFunction Duration\u001b[0m\u001b[36m \u001b[0m│\u001b[32m \u001b[0m\u001b[32m            -\u001b[0m\u001b[32m \u001b[0m│\u001b[33m \u001b[0m\u001b[33m0.75 seconds\u001b[0m\u001b[33m \u001b[0m│\u001b[35m \u001b[0m\u001b[35m0.75 seconds\u001b[0m\u001b[35m \u001b[0m│\n",
       "│\u001b[36m \u001b[0m\u001b[36mCPU Memory       \u001b[0m\u001b[36m \u001b[0m│\u001b[32m \u001b[0m\u001b[32m         - MB\u001b[0m\u001b[32m \u001b[0m│\u001b[33m \u001b[0m\u001b[33m     1.48 MB\u001b[0m\u001b[33m \u001b[0m│\u001b[35m \u001b[0m\u001b[35m     1.48 MB\u001b[0m\u001b[35m \u001b[0m│\n",
       "│\u001b[36m \u001b[0m\u001b[36mCUDA Memory      \u001b[0m\u001b[36m \u001b[0m│\u001b[32m \u001b[0m\u001b[32m      5.53 GB\u001b[0m\u001b[32m \u001b[0m│\u001b[33m \u001b[0m\u001b[33m     0.00 GB\u001b[0m\u001b[33m \u001b[0m│\u001b[35m \u001b[0m\u001b[35m     5.53 GB\u001b[0m\u001b[35m \u001b[0m│\n",
       "└───────────────────┴───────────────┴──────────────┴──────────────┘\n"
      ]
     },
     "metadata": {},
     "output_type": "display_data"
    },
    {
     "name": "stderr",
     "output_type": "stream",
     "text": [
      "\u001b[42m\u001b[30mINFO    \u001b[0m \u001b[32mRAG.retrieve: Retrieving by query Who are the young seniors?...\u001b[0m\n"
     ]
    },
    {
     "data": {
      "text/html": [
       "<pre style=\"white-space:pre;overflow-x:auto;line-height:normal;font-family:Menlo,'DejaVu Sans Mono',consolas,'Courier New',monospace\"><span style=\"font-weight: bold\">[</span>\n",
       "    <span style=\"font-weight: bold\">{</span>\n",
       "        <span style=\"color: #008000; text-decoration-color: #008000\">'documents'</span>: <span style=\"color: #008000; text-decoration-color: #008000\">'Especially for those in their 50s and early 60s. Let us call them the “Young Seniors”. </span>\n",
       "<span style=\"color: #008000; text-decoration-color: #008000\">\"Young”, because you are younger than the Pioneer Generation and the Merdeka Generation; “Seniors”, because you </span>\n",
       "<span style=\"color: #008000; text-decoration-color: #008000\">will soon retire, or maybe you have recently retired.'</span>,\n",
       "        <span style=\"color: #008000; text-decoration-color: #008000\">'metadatas'</span>: <span style=\"font-weight: bold\">{</span>\n",
       "            <span style=\"color: #008000; text-decoration-color: #008000\">'Abstract'</span>: <span style=\"color: #008000; text-decoration-color: #008000\">''</span>,\n",
       "            <span style=\"color: #008000; text-decoration-color: #008000\">'ChunkGroupId'</span>: <span style=\"color: #008000; text-decoration-color: #008000\">'a09d97b0-7246-4c9a-b564-af39428049da'</span>,\n",
       "            <span style=\"color: #008000; text-decoration-color: #008000\">'DocumentId'</span>: <span style=\"color: #008000; text-decoration-color: #008000\">'PwR6VmXqAfwjn84ZM6dePsLWTldPv8cNS5dESYlsY2U'</span>,\n",
       "            <span style=\"color: #008000; text-decoration-color: #008000\">'Keywords'</span>: <span style=\"color: #008000; text-decoration-color: #008000\">''</span>,\n",
       "            <span style=\"color: #008000; text-decoration-color: #008000\">'PublishedDate'</span>: <span style=\"color: #008000; text-decoration-color: #008000\">''</span>,\n",
       "            <span style=\"color: #008000; text-decoration-color: #008000\">'Source'</span>: <span style=\"color: #008000; text-decoration-color: #008000\">'https://www.pmo.gov.sg/Newsroom/2023-National-Day-Rally-Speech'</span>,\n",
       "            <span style=\"color: #008000; text-decoration-color: #008000\">'Title'</span>: <span style=\"color: #008000; text-decoration-color: #008000\">'2023 National Day Rally Speech'</span>\n",
       "        <span style=\"font-weight: bold\">}</span>,\n",
       "        <span style=\"color: #008000; text-decoration-color: #008000\">'distances'</span>: <span style=\"color: #008080; text-decoration-color: #008080; font-weight: bold\">0.09020859003067017</span>,\n",
       "        <span style=\"color: #008000; text-decoration-color: #008000\">'ids'</span>: <span style=\"color: #008000; text-decoration-color: #008000\">'dcd5d1d2-e234-4c0b-bbf2-ab040b685b1b'</span>\n",
       "    <span style=\"font-weight: bold\">}</span>,\n",
       "    <span style=\"font-weight: bold\">{</span>\n",
       "        <span style=\"color: #008000; text-decoration-color: #008000\">'documents'</span>: <span style=\"color: #008000; text-decoration-color: #008000\">'Young Seniors are in a unique position today. Compared to the Pioneer and Merdeka </span>\n",
       "<span style=\"color: #008000; text-decoration-color: #008000\">Generations, you have benefited more from Singapore’s growth, and generally done better in life. But compared to </span>\n",
       "<span style=\"color: #008000; text-decoration-color: #008000\">workers younger than you, in their 30s and 40s today, you have generally earned less over your lifetimes. You have </span>\n",
       "<span style=\"color: #008000; text-decoration-color: #008000\">also had less time to benefit from improvements to the CPF system, and so have built up less retirement savings. </span>\n",
       "<span style=\"color: #008000; text-decoration-color: #008000\">Young Seniors are also in a particularly sandwiched phase of your lives. You have to shoulder the responsibility of</span>\n",
       "<span style=\"color: #008000; text-decoration-color: #008000\">caring for both the young and old in your families. Your kids may be young adults, but often are not yet fully </span>\n",
       "<span style=\"color: #008000; text-decoration-color: #008000\">independent and still live in the same household. Many of you Young Seniors also have elderly parents at home, who </span>\n",
       "<span style=\"color: #008000; text-decoration-color: #008000\">may be beset with the infirmities of old age. You have to shuttle them to medical appointments and hospital visits,</span>\n",
       "<span style=\"color: #008000; text-decoration-color: #008000\">plus attend to their everyday needs. All this, while watching your own health, because you are not so youthful'</span>,\n",
       "        <span style=\"color: #008000; text-decoration-color: #008000\">'metadatas'</span>: <span style=\"font-weight: bold\">{</span>\n",
       "            <span style=\"color: #008000; text-decoration-color: #008000\">'Abstract'</span>: <span style=\"color: #008000; text-decoration-color: #008000\">''</span>,\n",
       "            <span style=\"color: #008000; text-decoration-color: #008000\">'ChunkGroupId'</span>: <span style=\"color: #008000; text-decoration-color: #008000\">'a09d97b0-7246-4c9a-b564-af39428049da'</span>,\n",
       "            <span style=\"color: #008000; text-decoration-color: #008000\">'DocumentId'</span>: <span style=\"color: #008000; text-decoration-color: #008000\">'PwR6VmXqAfwjn84ZM6dePsLWTldPv8cNS5dESYlsY2U'</span>,\n",
       "            <span style=\"color: #008000; text-decoration-color: #008000\">'Keywords'</span>: <span style=\"color: #008000; text-decoration-color: #008000\">''</span>,\n",
       "            <span style=\"color: #008000; text-decoration-color: #008000\">'PublishedDate'</span>: <span style=\"color: #008000; text-decoration-color: #008000\">''</span>,\n",
       "            <span style=\"color: #008000; text-decoration-color: #008000\">'Source'</span>: <span style=\"color: #008000; text-decoration-color: #008000\">'https://www.pmo.gov.sg/Newsroom/2023-National-Day-Rally-Speech'</span>,\n",
       "            <span style=\"color: #008000; text-decoration-color: #008000\">'Title'</span>: <span style=\"color: #008000; text-decoration-color: #008000\">'2023 National Day Rally Speech'</span>\n",
       "        <span style=\"font-weight: bold\">}</span>,\n",
       "        <span style=\"color: #008000; text-decoration-color: #008000\">'distances'</span>: <span style=\"color: #008080; text-decoration-color: #008080; font-weight: bold\">0.11518943309783936</span>,\n",
       "        <span style=\"color: #008000; text-decoration-color: #008000\">'ids'</span>: <span style=\"color: #008000; text-decoration-color: #008000\">'d16464e0-2915-4c1c-8efb-909ae724b38a'</span>\n",
       "    <span style=\"font-weight: bold\">}</span>,\n",
       "    <span style=\"font-weight: bold\">{</span>\n",
       "        <span style=\"color: #008000; text-decoration-color: #008000\">'documents'</span>: <span style=\"color: #008000; text-decoration-color: #008000\">'to their everyday needs. All this, while watching your own health, because you are not so </span>\n",
       "<span style=\"color: #008000; text-decoration-color: #008000\">youthful yourselves. Responsibilities on all these fronts multiply your burdens. So, as Young Seniors, you are </span>\n",
       "<span style=\"color: #008000; text-decoration-color: #008000\">understandably anxious about your retirement needs. Beyond the daily cost of living pressures, you know that </span>\n",
       "<span style=\"color: #008000; text-decoration-color: #008000\">retirement is creeping up on you. You wonder: Will I have enough to get by? Can I cope? But do not worry – the </span>\n",
       "<span style=\"color: #008000; text-decoration-color: #008000\">Government will help you. You will not be left behind.'</span>,\n",
       "        <span style=\"color: #008000; text-decoration-color: #008000\">'metadatas'</span>: <span style=\"font-weight: bold\">{</span>\n",
       "            <span style=\"color: #008000; text-decoration-color: #008000\">'Abstract'</span>: <span style=\"color: #008000; text-decoration-color: #008000\">''</span>,\n",
       "            <span style=\"color: #008000; text-decoration-color: #008000\">'ChunkGroupId'</span>: <span style=\"color: #008000; text-decoration-color: #008000\">'a09d97b0-7246-4c9a-b564-af39428049da'</span>,\n",
       "            <span style=\"color: #008000; text-decoration-color: #008000\">'DocumentId'</span>: <span style=\"color: #008000; text-decoration-color: #008000\">'PwR6VmXqAfwjn84ZM6dePsLWTldPv8cNS5dESYlsY2U'</span>,\n",
       "            <span style=\"color: #008000; text-decoration-color: #008000\">'Keywords'</span>: <span style=\"color: #008000; text-decoration-color: #008000\">''</span>,\n",
       "            <span style=\"color: #008000; text-decoration-color: #008000\">'PublishedDate'</span>: <span style=\"color: #008000; text-decoration-color: #008000\">''</span>,\n",
       "            <span style=\"color: #008000; text-decoration-color: #008000\">'Source'</span>: <span style=\"color: #008000; text-decoration-color: #008000\">'https://www.pmo.gov.sg/Newsroom/2023-National-Day-Rally-Speech'</span>,\n",
       "            <span style=\"color: #008000; text-decoration-color: #008000\">'Title'</span>: <span style=\"color: #008000; text-decoration-color: #008000\">'2023 National Day Rally Speech'</span>\n",
       "        <span style=\"font-weight: bold\">}</span>,\n",
       "        <span style=\"color: #008000; text-decoration-color: #008000\">'distances'</span>: <span style=\"color: #008080; text-decoration-color: #008080; font-weight: bold\">0.11691617965698242</span>,\n",
       "        <span style=\"color: #008000; text-decoration-color: #008000\">'ids'</span>: <span style=\"color: #008000; text-decoration-color: #008000\">'d1fb6e71-f041-4c71-b24b-031377281198'</span>\n",
       "    <span style=\"font-weight: bold\">}</span>\n",
       "<span style=\"font-weight: bold\">]</span>\n",
       "</pre>\n"
      ],
      "text/plain": [
       "\u001b[1m[\u001b[0m\n",
       "    \u001b[1m{\u001b[0m\n",
       "        \u001b[32m'documents'\u001b[0m: \u001b[32m'Especially for those in their 50s and early 60s. Let us call them the “Young Seniors”. \u001b[0m\n",
       "\u001b[32m\"Young”, because you are younger than the Pioneer Generation and the Merdeka Generation; “Seniors”, because you \u001b[0m\n",
       "\u001b[32mwill soon retire, or maybe you have recently retired.'\u001b[0m,\n",
       "        \u001b[32m'metadatas'\u001b[0m: \u001b[1m{\u001b[0m\n",
       "            \u001b[32m'Abstract'\u001b[0m: \u001b[32m''\u001b[0m,\n",
       "            \u001b[32m'ChunkGroupId'\u001b[0m: \u001b[32m'a09d97b0-7246-4c9a-b564-af39428049da'\u001b[0m,\n",
       "            \u001b[32m'DocumentId'\u001b[0m: \u001b[32m'PwR6VmXqAfwjn84ZM6dePsLWTldPv8cNS5dESYlsY2U'\u001b[0m,\n",
       "            \u001b[32m'Keywords'\u001b[0m: \u001b[32m''\u001b[0m,\n",
       "            \u001b[32m'PublishedDate'\u001b[0m: \u001b[32m''\u001b[0m,\n",
       "            \u001b[32m'Source'\u001b[0m: \u001b[32m'https://www.pmo.gov.sg/Newsroom/2023-National-Day-Rally-Speech'\u001b[0m,\n",
       "            \u001b[32m'Title'\u001b[0m: \u001b[32m'2023 National Day Rally Speech'\u001b[0m\n",
       "        \u001b[1m}\u001b[0m,\n",
       "        \u001b[32m'distances'\u001b[0m: \u001b[1;36m0.09020859003067017\u001b[0m,\n",
       "        \u001b[32m'ids'\u001b[0m: \u001b[32m'dcd5d1d2-e234-4c0b-bbf2-ab040b685b1b'\u001b[0m\n",
       "    \u001b[1m}\u001b[0m,\n",
       "    \u001b[1m{\u001b[0m\n",
       "        \u001b[32m'documents'\u001b[0m: \u001b[32m'Young Seniors are in a unique position today. Compared to the Pioneer and Merdeka \u001b[0m\n",
       "\u001b[32mGenerations, you have benefited more from Singapore’s growth, and generally done better in life. But compared to \u001b[0m\n",
       "\u001b[32mworkers younger than you, in their 30s and 40s today, you have generally earned less over your lifetimes. You have \u001b[0m\n",
       "\u001b[32malso had less time to benefit from improvements to the CPF system, and so have built up less retirement savings. \u001b[0m\n",
       "\u001b[32mYoung Seniors are also in a particularly sandwiched phase of your lives. You have to shoulder the responsibility of\u001b[0m\n",
       "\u001b[32mcaring for both the young and old in your families. Your kids may be young adults, but often are not yet fully \u001b[0m\n",
       "\u001b[32mindependent and still live in the same household. Many of you Young Seniors also have elderly parents at home, who \u001b[0m\n",
       "\u001b[32mmay be beset with the infirmities of old age. You have to shuttle them to medical appointments and hospital visits,\u001b[0m\n",
       "\u001b[32mplus attend to their everyday needs. All this, while watching your own health, because you are not so youthful'\u001b[0m,\n",
       "        \u001b[32m'metadatas'\u001b[0m: \u001b[1m{\u001b[0m\n",
       "            \u001b[32m'Abstract'\u001b[0m: \u001b[32m''\u001b[0m,\n",
       "            \u001b[32m'ChunkGroupId'\u001b[0m: \u001b[32m'a09d97b0-7246-4c9a-b564-af39428049da'\u001b[0m,\n",
       "            \u001b[32m'DocumentId'\u001b[0m: \u001b[32m'PwR6VmXqAfwjn84ZM6dePsLWTldPv8cNS5dESYlsY2U'\u001b[0m,\n",
       "            \u001b[32m'Keywords'\u001b[0m: \u001b[32m''\u001b[0m,\n",
       "            \u001b[32m'PublishedDate'\u001b[0m: \u001b[32m''\u001b[0m,\n",
       "            \u001b[32m'Source'\u001b[0m: \u001b[32m'https://www.pmo.gov.sg/Newsroom/2023-National-Day-Rally-Speech'\u001b[0m,\n",
       "            \u001b[32m'Title'\u001b[0m: \u001b[32m'2023 National Day Rally Speech'\u001b[0m\n",
       "        \u001b[1m}\u001b[0m,\n",
       "        \u001b[32m'distances'\u001b[0m: \u001b[1;36m0.11518943309783936\u001b[0m,\n",
       "        \u001b[32m'ids'\u001b[0m: \u001b[32m'd16464e0-2915-4c1c-8efb-909ae724b38a'\u001b[0m\n",
       "    \u001b[1m}\u001b[0m,\n",
       "    \u001b[1m{\u001b[0m\n",
       "        \u001b[32m'documents'\u001b[0m: \u001b[32m'to their everyday needs. All this, while watching your own health, because you are not so \u001b[0m\n",
       "\u001b[32myouthful yourselves. Responsibilities on all these fronts multiply your burdens. So, as Young Seniors, you are \u001b[0m\n",
       "\u001b[32munderstandably anxious about your retirement needs. Beyond the daily cost of living pressures, you know that \u001b[0m\n",
       "\u001b[32mretirement is creeping up on you. You wonder: Will I have enough to get by? Can I cope? But do not worry – the \u001b[0m\n",
       "\u001b[32mGovernment will help you. You will not be left behind.'\u001b[0m,\n",
       "        \u001b[32m'metadatas'\u001b[0m: \u001b[1m{\u001b[0m\n",
       "            \u001b[32m'Abstract'\u001b[0m: \u001b[32m''\u001b[0m,\n",
       "            \u001b[32m'ChunkGroupId'\u001b[0m: \u001b[32m'a09d97b0-7246-4c9a-b564-af39428049da'\u001b[0m,\n",
       "            \u001b[32m'DocumentId'\u001b[0m: \u001b[32m'PwR6VmXqAfwjn84ZM6dePsLWTldPv8cNS5dESYlsY2U'\u001b[0m,\n",
       "            \u001b[32m'Keywords'\u001b[0m: \u001b[32m''\u001b[0m,\n",
       "            \u001b[32m'PublishedDate'\u001b[0m: \u001b[32m''\u001b[0m,\n",
       "            \u001b[32m'Source'\u001b[0m: \u001b[32m'https://www.pmo.gov.sg/Newsroom/2023-National-Day-Rally-Speech'\u001b[0m,\n",
       "            \u001b[32m'Title'\u001b[0m: \u001b[32m'2023 National Day Rally Speech'\u001b[0m\n",
       "        \u001b[1m}\u001b[0m,\n",
       "        \u001b[32m'distances'\u001b[0m: \u001b[1;36m0.11691617965698242\u001b[0m,\n",
       "        \u001b[32m'ids'\u001b[0m: \u001b[32m'd1fb6e71-f041-4c71-b24b-031377281198'\u001b[0m\n",
       "    \u001b[1m}\u001b[0m\n",
       "\u001b[1m]\u001b[0m\n"
      ]
     },
     "metadata": {},
     "output_type": "display_data"
    },
    {
     "data": {
      "text/html": [
       "<pre style=\"white-space:pre;overflow-x:auto;line-height:normal;font-family:Menlo,'DejaVu Sans Mono',consolas,'Courier New',monospace\">Free memory: <span style=\"color: #00ff00; text-decoration-color: #00ff00; font-weight: bold\">5.53</span><span style=\"color: #00ff00; text-decoration-color: #00ff00\"> GB</span>\n",
       "</pre>\n"
      ],
      "text/plain": [
       "Free memory: \u001b[1;92m5.53\u001b[0m\u001b[92m GB\u001b[0m\n"
      ]
     },
     "metadata": {},
     "output_type": "display_data"
    }
   ],
   "source": [
    "try:\n",
    "    with SingletonHost.GetInstanceFromConfig(config) as host:\n",
    "        rag=host.generator\n",
    "        # Index\n",
    "        result = rag.retrieve(collection_name=\"demo\",query_texts=\"Who are the young seniors?\")\n",
    "        console.print(result)\n",
    "\n",
    "except Exception as e:\n",
    "    raise e\n",
    "finally:\n",
    "    # after disposal\n",
    "    free_mem()\n"
   ]
  },
  {
   "cell_type": "markdown",
   "metadata": {},
   "source": [
    "## API (Press F5 to start API server)\n",
    "\n",
    "Wait for it complete loading before running the next cell."
   ]
  },
  {
   "cell_type": "markdown",
   "metadata": {},
   "source": [
    "#### a) List Collections"
   ]
  },
  {
   "cell_type": "code",
   "execution_count": 1,
   "metadata": {},
   "outputs": [
    {
     "name": "stdout",
     "output_type": "stream",
     "text": [
      "{\"collections\":[]}"
     ]
    }
   ],
   "source": [
    "%%bash\n",
    "curl -s http://localhost:12036/gen/v1/rag/collections"
   ]
  },
  {
   "cell_type": "markdown",
   "metadata": {},
   "source": [
    "#### b) Delete collection"
   ]
  },
  {
   "cell_type": "code",
   "execution_count": 2,
   "metadata": {},
   "outputs": [
    {
     "name": "stdout",
     "output_type": "stream",
     "text": [
      "{\"detail\":{\"code\":\"collections_not_found\",\"message\":\"Collection demo not found\"}}"
     ]
    }
   ],
   "source": [
    "%%bash\n",
    "curl -s -X DELETE http://localhost:12036/gen/v1/rag/collection/demo"
   ]
  },
  {
   "cell_type": "markdown",
   "metadata": {},
   "source": [
    "#### c) index"
   ]
  },
  {
   "cell_type": "code",
   "execution_count": 3,
   "metadata": {},
   "outputs": [
    {
     "name": "stdout",
     "output_type": "stream",
     "text": [
      "{\"DocumentId\":\"PwR6VmXqAfwjn84ZM6dePsLWTldPv8cNS5dESYlsY2U\",\"ChunkgroupId\":\"dd1aade5-2edb-438e-ac1d-35f6f71a63e7\",\"ChunkIds\":[\"6ad7580d-04d7-4f25-9886-e6231ec5e2d1\",\"19fac0e8-3169-4f1d-8c5b-5a0714eeff92\",\"1a7af241-6208-4f55-8df4-24e3d4f435de\",\"cc6f6f39-e301-4199-aaef-f9db54956b83\",\"7ef9f81a-b976-49ee-a813-9f3bc14ee735\",\"103e1d2e-6da1-4f16-8c13-a9f2a142217b\",\"409951a3-c262-4acd-973a-4dcbce101f56\",\"3d18c399-3568-4979-ab12-7246b4eac60f\",\"66bcf493-46a9-4c37-b3d2-2b42def7a852\",\"b60045fa-2f43-4a80-861d-d06cb28c7758\",\"d395fe19-f21d-4759-af03-1bb288c27678\",\"fbb0ff42-d7bd-42d8-acd4-a5dfe0d68015\",\"2214b261-0876-496e-b64f-c3c692a1ab61\",\"9c5be1f2-66b3-4fbc-9e78-46b84fc756df\",\"5002ee26-c75f-456a-a69a-d950d9df615d\",\"a5bfc36b-5a48-43b4-9553-117d997484e9\",\"15b7801c-10a4-446c-bdcd-5ec7c60c9535\",\"16ac4971-70a0-469e-adbb-e2b2622bde20\",\"39e906b6-e95a-455c-87fa-500fac9c74af\",\"17f1898d-318e-4a5f-98ce-309932e428a5\",\"76048a0c-55c9-46ac-bffd-1543c7274f39\",\"f8368248-8f96-4fda-a26b-525b70b5ff91\",\"2f9ffe14-3a77-4bc8-b903-318c5cb6424a\",\"4c3830e8-e88d-404a-a90b-925da1b09c0e\",\"09eedf1c-6927-444f-9b8b-173021cfd412\",\"0d8b1e9a-a00d-486b-b01f-873fc0dc0166\",\"348051b6-b478-47ce-ad42-9afbe97f400b\",\"4cb0bc0e-5c8a-4689-959f-d5e3ae86ff54\",\"1f09142b-e01b-43cd-bb27-c4b22eee2765\",\"d96c60fb-617c-4bd3-b49f-07df78663825\",\"3bc83ee4-7fca-4462-b6a7-ec7ef23f405e\",\"67ba3a59-d558-499a-9481-031bd1f6dcd5\",\"1adf7a5f-5e3f-48e2-b7ae-0217a8309366\",\"ea66ebed-14df-4fea-9e38-b45b7e556f13\",\"a7f11947-3ff9-4279-a18d-c829ea6e4773\",\"34661989-5414-48a3-b9e5-5c096ee95d48\",\"8c1cbbb5-b386-4be5-a6ac-116a30befff9\",\"f23a7da2-9ac2-4f5b-b3ff-cc37c4691b65\",\"a9da8ff6-3afe-43a5-8c37-a25bc2aff865\",\"bc1e39cb-7da3-4ab1-8805-e1d2040422cf\",\"b68607fa-ab68-4523-95f1-275d9d7aa460\",\"0b636033-8c74-4510-92a1-31ae783d2a51\",\"01afb159-7ae3-4f01-a713-b4e448a62e8e\",\"8389da4b-0b22-43d9-8090-5fde8d37f39a\",\"9201259c-a6be-44c4-b151-648accd6305f\",\"efc0c794-7845-4b62-8f0c-6ad93737fb4a\",\"b4adadd5-a02e-445e-9570-1c099918f62b\",\"e5e268be-a71a-4f43-bb52-a633c0623b1d\",\"662c002f-768a-43ac-a2d2-684553259406\",\"1dd55636-40a4-4f30-abbf-4d0e79e21a35\",\"d4dd7b2d-7d14-4a16-a15c-35646fc708c9\",\"b9c6bd24-5449-483a-a5ec-d0416aa62a7c\",\"0df94782-6019-4272-ad8b-0f7727e1c584\",\"b5673cdf-f176-4aa2-b8f2-c84cdc0514fb\",\"be0842ae-598b-4c80-b3a0-18aa355778e5\",\"972c4c65-2152-4cf8-97bc-71f734d112c3\",\"fc541de3-c591-4bf9-8a4a-9861e0b29c8e\",\"9dae314c-0213-40a9-ad84-1d18bb3cce00\",\"ab281adb-76f1-4b24-8bd8-c715a05cbfd3\",\"deb3d236-2fea-42cf-8f1d-4e3cb45bdfd7\",\"c2bfcca3-3e29-4507-b1db-ba2142871c26\",\"85ff8184-fe17-44ff-aac3-f506fbea575d\",\"296d9802-9ae1-4e93-8475-039f19e3c41d\",\"776baf64-4e47-422d-9463-fdf641bedb12\",\"91aea56b-e62b-4777-ad0c-70b952b02ffa\",\"26ab770e-5918-4b98-b07c-869ae5fffc46\"]}"
     ]
    }
   ],
   "source": [
    "%%bash\n",
    "curl -X POST 'http://localhost:12036/gen/v1/rag/index-file' \\\n",
    "    -H 'accept: application/json' \\\n",
    "    -H 'Content-Type: multipart/form-data' \\\n",
    "    -s \\\n",
    "    -F 'file=@./pm_long_speech_2023.txt' \\\n",
    "    -F 'req={\"CollectionName\":\"demo\",\"Source\": \"https://www.pmo.gov.sg/Newsroom/National-Day-Rally-2023\",\"FilePath\":\"./pm_long_speech_2023.txt\"}'"
   ]
  },
  {
   "cell_type": "markdown",
   "metadata": {},
   "source": [
    "#### d) verify document exists"
   ]
  },
  {
   "cell_type": "code",
   "execution_count": 4,
   "metadata": {},
   "outputs": [
    {
     "name": "stdout",
     "output_type": "stream",
     "text": [
      "{\"document\":{\"Id\":\"PwR6VmXqAfwjn84ZM6dePsLWTldPv8cNS5dESYlsY2U\",\"CollectionName\":\"demo\",\"ByteSize\":43352,\"FileName\":\"pm_long_speech_2023.txt\",\"FileType\":\".txt\",\"File\":null,\"Source\":\"https://www.pmo.gov.sg/Newsroom/National-Day-Rally-2023\",\"Abstract\":null,\"Authors\":null,\"Title\":null,\"Publisher\":null,\"PublishedDate\":null,\"Comments\":null,\"Keywords\":null,\"CreatedAt\":\"2024-09-06T12:22:54.245021\",\"UpdatedAt\":\"2024-09-06T12:22:54.245027\",\"IsActive\":true,\"ChunkGroups\":[{\"Id\":\"dd1aade5-2edb-438e-ac1d-35f6f71a63e7\",\"DocumentId\":\"PwR6VmXqAfwjn84ZM6dePsLWTldPv8cNS5dESYlsY2U\",\"SplitAlgo\":\"recursive_split\",\"ChunkCount\":66,\"ChunkSize\":1000,\"Overlap\":100,\"IsActive\":true,\"ChunksDir\":\"/tmp/chunks/b2d0cc2ebe2641038c7edf7cec52d0ed\"}]}}"
     ]
    }
   ],
   "source": [
    "%%bash\n",
    "curl -X POST 'http://localhost:12036/gen/v1/rag/collection/demo/document/exists' \\\n",
    "    -H 'accept: application/json' \\\n",
    "    -H 'Content-Type: multipart/form-data' \\\n",
    "    -s \\\n",
    "    -F 'file=@./pm_long_speech_2023.txt' "
   ]
  },
  {
   "cell_type": "markdown",
   "metadata": {},
   "source": [
    "#### e) retrieve"
   ]
  },
  {
   "cell_type": "code",
   "execution_count": 5,
   "metadata": {},
   "outputs": [
    {
     "name": "stdout",
     "output_type": "stream",
     "text": [
      "{\"retrieved\":[{\"documents\":\"Especially for those in their 50s and early 60s. Let us call them the “Young Seniors”. \\\"Young”, because you are younger than the Pioneer Generation and the Merdeka Generation; “Seniors”, because you will soon retire, or maybe you have recently retired.\",\"metadatas\":{\"Abstract\":\"\",\"ChunkGroupId\":\"dd1aade5-2edb-438e-ac1d-35f6f71a63e7\",\"DocumentId\":\"PwR6VmXqAfwjn84ZM6dePsLWTldPv8cNS5dESYlsY2U\",\"Keywords\":\"\",\"PublishedDate\":\"\",\"Source\":\"https://www.pmo.gov.sg/Newsroom/National-Day-Rally-2023\",\"Title\":\"\"},\"distances\":0.09020859003067017,\"ids\":\"0df94782-6019-4272-ad8b-0f7727e1c584\"},{\"documents\":\"Young Seniors are in a unique position today. Compared to the Pioneer and Merdeka Generations, you have benefited more from Singapore’s growth, and generally done better in life. But compared to workers younger than you, in their 30s and 40s today, you have generally earned less over your lifetimes. You have also had less time to benefit from improvements to the CPF system, and so have built up less retirement savings. Young Seniors are also in a particularly sandwiched phase of your lives. You have to shoulder the responsibility of caring for both the young and old in your families. Your kids may be young adults, but often are not yet fully independent and still live in the same household. Many of you Young Seniors also have elderly parents at home, who may be beset with the infirmities of old age. You have to shuttle them to medical appointments and hospital visits, plus attend to their everyday needs. All this, while watching your own health, because you are not so youthful\",\"metadatas\":{\"Abstract\":\"\",\"ChunkGroupId\":\"dd1aade5-2edb-438e-ac1d-35f6f71a63e7\",\"DocumentId\":\"PwR6VmXqAfwjn84ZM6dePsLWTldPv8cNS5dESYlsY2U\",\"Keywords\":\"\",\"PublishedDate\":\"\",\"Source\":\"https://www.pmo.gov.sg/Newsroom/National-Day-Rally-2023\",\"Title\":\"\"},\"distances\":0.11518943309783936,\"ids\":\"17f1898d-318e-4a5f-98ce-309932e428a5\"},{\"documents\":\"to their everyday needs. All this, while watching your own health, because you are not so youthful yourselves. Responsibilities on all these fronts multiply your burdens. So, as Young Seniors, you are understandably anxious about your retirement needs. Beyond the daily cost of living pressures, you know that retirement is creeping up on you. You wonder: Will I have enough to get by? Can I cope? But do not worry – the Government will help you. You will not be left behind.\",\"metadatas\":{\"Abstract\":\"\",\"ChunkGroupId\":\"dd1aade5-2edb-438e-ac1d-35f6f71a63e7\",\"DocumentId\":\"PwR6VmXqAfwjn84ZM6dePsLWTldPv8cNS5dESYlsY2U\",\"Keywords\":\"\",\"PublishedDate\":\"\",\"Source\":\"https://www.pmo.gov.sg/Newsroom/National-Day-Rally-2023\",\"Title\":\"\"},\"distances\":0.11691617965698242,\"ids\":\"b60045fa-2f43-4a80-861d-d06cb28c7758\"},{\"documents\":\"What I found most encouraging was that many seniors were not just taking part in activities, but also helping to organise and run them – seniors for seniors. I met Mdm Goh, the one in the pink blouse, Mdm Karen, and Mdm Farida. They were preparing to deliver hot meals to frail seniors living in upstairs in the rental flats who could not come down to the AAC. They do this every day. It is a great way to build neighbourly bonds while staying active. Actually, besides meal deliveries, there are also communal meals downstairs at the AAC. The staff told me that these meals were a big draw and an important activity because they encourage the old folks to come down. When they gathered at the AACs for meals, they would socialise and make friends, and the staff could keep an eye on them, made sure they were alright. I also discovered that these meals are actually cooked by the seniors themselves, at least some of the seniors themselves! These three makciks – Mdm Aminah on the left, Mdm Rosnah,\",\"metadatas\":{\"Abstract\":\"\",\"ChunkGroupId\":\"dd1aade5-2edb-438e-ac1d-35f6f71a63e7\",\"DocumentId\":\"PwR6VmXqAfwjn84ZM6dePsLWTldPv8cNS5dESYlsY2U\",\"Keywords\":\"\",\"PublishedDate\":\"\",\"Source\":\"https://www.pmo.gov.sg/Newsroom/National-Day-Rally-2023\",\"Title\":\"\"},\"distances\":0.11718982458114624,\"ids\":\"a7f11947-3ff9-4279-a18d-c829ea6e4773\"}]}"
     ]
    }
   ],
   "source": [
    "%%bash\n",
    "curl -X POST 'http://localhost:12036/gen/v1/rag/retrieve' \\\n",
    "    -s \\\n",
    "    -H \"Content-Type: application/json\" \\\n",
    "    -d '{\"collection_name\":\"demo\",\"query_texts\":\"Who are the young seniors?\",\"n_results\":4}'\n"
   ]
  },
  {
   "cell_type": "markdown",
   "metadata": {},
   "source": [
    "g) list documents"
   ]
  },
  {
   "cell_type": "code",
   "execution_count": 6,
   "metadata": {},
   "outputs": [
    {
     "name": "stdout",
     "output_type": "stream",
     "text": [
      "{\"documents\":[{\"Id\":\"PwR6VmXqAfwjn84ZM6dePsLWTldPv8cNS5dESYlsY2U\",\"CollectionName\":\"demo\",\"ByteSize\":43352,\"FileName\":\"pm_long_speech_2023.txt\",\"FileType\":\".txt\",\"File\":\"PM Lee Hsien Loong delivered his National Day Rally speech on 20 August 2023 at the Institute of Technical Education (ITE) Headquarters. PM spoke in Malay and Chinese, followed by English.\\n\\n \\n“A BETTER HOME, A BRIGHTER FUTURE”\\nSECTION 1: INTRODUCTION\\nMy fellow Singaporeans, good evening.\\n\\nReturn to Normalcy\\nWe are all relieved that COVID is behind us. Life as we knew it has resumed.\\n\\nCOVID-19 was the most challenging ordeal for our nation since Independence. We can all be proud of how we pulled through together. Unlike many other countries, Singapore has emerged from the pandemic stronger, more resilient, and more united. This is a tribute to the indomitable spirit of our nation.\\n\\nGlobal situation and economic outlook\\nHaving come through COVID, we are once again being tested. The international environment is fraught with geopolitical tension and economic uncertainty.\\n\\nWe feel acutely the pressures mounting all around us. The rivalry between the US and China affects every country and region in the world. Their mutual wariness and distrust has deepened. The rest of the world has to tread a careful path, to avoid being caught in the cross-fire. The war in Europe rages on. Russia’s invasion of Ukraine is a continuing human tragedy, and an assault on international norms and values. It is a cautionary warning to the rest of the world never to take peace for granted, and a reminder to us of the vital importance of a strong SAF. Meanwhile, the global economic order is fraying. Globalisation is weakening. Supply chains are splitting up. Countries are layering on multiple protectionist measures. This hurts all countries, but especially small, open trading nations like ourselves. With global warming, the world is also experiencing more extreme weather. From Chinato Japan, to Europe and the US, no region is spared from floods and droughts, heatwaves and wildfires. This will affect food production and prices worldwide. We have not fully felt it in Singapore yet, but it is coming.\\n\\nEconomically, Singapore is keeping up. We expect positive economic growth this year. Hopefully, we will avoid a recession. Inflation is at last coming down, but it will probably stay higher than what we were used to. The cost of living is still on everyone’s minds. In my Chinese speech earlier, I explained how the Government will continue to support you. We will weather this storm together.\\n\\nForward Singapore\\nOur nation must navigate carefully in this increasingly troubled landscape. There is no ready playbook, there is no model answer. I am glad that DPM Lawrence Wong and the 4G team have taken it upon themselves to chart out where Singapore will go from here. They launched Forward Singapore in June last year, to refresh our social compact. They have held dialogues with thousands of Singaporeans who shared their ideas to tackle various issues. For example: how to equip our people with the skills to succeed; how to improve care for the vulnerable; and how to strengthen our solidarity as one people. The Forward Singapore report will be published later this year. It will be a compass to help Singapore navigate through the stormy seas.\\n\\nDespite the dark clouds, the world still offers many opportunities for those who dare to seize them. In my Malay speech just now, I spoke about promising new sectors such as the digital economy. I also shared that the Government will give more support to workers – to help you adapt and upskill, to stay ahead of the game. Our Forward SG plans include financial support for workers who lose your jobs, while you upgrade your skills. It will be a temporary safety net to help you meet immediate needs, to free you to upskill and train, as you prepare yourself for a good long-term job. So long as you are willing to make the effort, the Government will go the extra mile to help you.\\n\\nSECTION 2: RETIREMENT\\nFinancial concerns are top-of-mind not just for younger workers, but also the older ones. These concerns become more urgent as we approach retirement.\\n\\nEspecially for those in their 50s and early 60s. Let us call them the “Young Seniors”. \\\"Young”, because you are younger than the Pioneer Generation and the Merdeka Generation; “Seniors”, because you will soon retire, or maybe you have recently retired.\\n\\nYoung Seniors are in a unique position today. Compared to the Pioneer and Merdeka Generations, you have benefited more from Singapore’s growth, and generally done better in life. But compared to workers younger than you, in their 30s and 40s today, you have generally earned less over your lifetimes. You have also had less time to benefit from improvements to the CPF system, and so have built up less retirement savings. Young Seniors are also in a particularly sandwiched phase of your lives. You have to shoulder the responsibility of caring for both the young and old in your families. Your kids may be young adults, but often are not yet fully independent and still live in the same household. Many of you Young Seniors also have elderly parents at home, who may be beset with the infirmities of old age. You have to shuttle them to medical appointments and hospital visits, plus attend to their everyday needs. All this, while watching your own health, because you are not so youthful yourselves. Responsibilities on all these fronts multiply your burdens. So, as Young Seniors, you are understandably anxious about your retirement needs. Beyond the daily cost of living pressures, you know that retirement is creeping up on you. You wonder: Will I have enough to get by? Can I cope? But do not worry – the Government will help you. You will not be left behind.\\n\\nMajulah Package\\nWe will introduce a package to help Young Seniors meet your retirement needs – let us name it the Majulah Package. This will be for Singaporeans who are 50 and above this year – born in 1973 or earlier. It will benefit those with lower incomes and less wealth. The support will be tiered, depending on your income and your CPF savings. The Majulah Package will comprise three components.\\n\\nFirst, an “Earn and Save” Bonus, to help you build up your CPF savings while you work. Most Young Seniors are still working, and have some years to go before retirement. We encourage you to continue working as long as you can. Lower- and middle-income workers will get a CPF bonus of up to $1,000 a year, depending on your income. The Government will credit this into your CPF account, on top of the usual employer and employee contributions. You will receive this Earn and Save bonus yearly, as long as you are working, whether full-time or part-time. Take for example a lower-income 55 year-old who plans to retire at 65. Over 10 years, her Earn and Save bonus adds up to $12,000 in extra CPF savings if you include the CPF interest, which is not bad.\\n\\nSecond, a Retirement Savings Bonus (RSB). If your CPF balances have not reached the CPF Basic Retirement Sum, you will receive a one-time CPF bonus of up to $1,500. Those who are not working will get this bonus too. This includes homemakers, who have given up their careers and laboured to raise their families, and thus have very low CPF balances.\\n\\nThird, a MediSave Bonus. Most Young Seniors have enough MediSave balances. Nevertheless, many still worry about healthcare costs, because you will soon be Not-So-Young Seniors. So the Majulah Package will include a modest one-time MediSave Bonus of up to $1,000. It will give you some extra buffer, to help pay your medical expenses and insurance premiums.\\n\\nThe Majulah Package will help Young Seniors, in their 50s and early 60s, to meet your retirement needs. But besides Young Seniors, we also want to encourage older seniors to continue working for as long as you can. Hence the Majulah Package also covers the Pioneer and Merdeka Generations.\\n\\nI think quite a few here belong to the Pioneer and Merdeka Generation. Let me say to you, if you are PG and MG: If you are still working and meet the income criteria, you too will receive the Earn and Save Bonus as long as you are working. If you are not working, you can still get something from the one-time Retirement Savings Bonus and MediSave Bonus. This will be in addition to the PG or MG benefits that you are already receiving and will continue to receive. Think of this as a 58th National Day present!\\n\\nThe Majulah Package will cost the Government about $7 billion. MOF will create a new Fund to meet the full lifetime costs of the Package, using resources from this term of Government. We will honour this commitment without burdening future generations.\\n\\nThe Majulah Package will benefit some 1.4 million older people across several generations. We will also be enhancing existing schemes, like Silver Support, Workfare, and the Matched Retirement Savings Scheme and the details will be announced next year. Taken together, these improvements will help seniors to meet basic retirement needs, especially for lower- and middle-income Singaporeans so that you can have greater peace of mind in your golden years.\\n\\nSECTION 3: AGEING\\nI want to talk about two other important issues tonight – caring for our ageing population, and housing our people.\\n\\nSingapore is one of the fastest-ageing nations in the world. Today, about one in five Singaporeans is a senior, aged 65 and above. By 2030, nearly one in four Singaporeans will be a senior. I first talked about ageing in the National Day Rally back in 2007. At that time, we had 500 centenarians – people aged 100 and older. We thought that was a lot. By 2013, which is 6 years later, this had doubled to around 1,000. And by 2030, we are likely to double again to at least 2,000 centenarians! It shows vividly how our society is getting older and older, faster and faster. Today, if you ask – it is not in the chart – but we have about 1,500 already. In 2030, I will not be making this speech, but whoever is doing so will have to take care of all of us seniors, and some of us very senior.\\n\\nToday, we are an aged society; soon, we will be a ‘super-aged’ society. This has massive social and economic implications. We have much to do to help our seniors age well.\\n\\nToday, I will speak on two aspects of our preparations: active ageing; and making homes and precincts more senior-friendly.\\n\\nActive Ageing\\nFirst, on active ageing.\\n\\nWe have invested significantly in healthcare for seniors.\\n\\nThe Government plays a big role in providing care, but seniors must also play our part to look after ourselves. MOH launched Healthier SG last month. Healthier SG aims to get each of us to take more responsibility for our own health, supported by family doctors and community partners. When you enrol, you will get a personalised health plan, including when to go for screenings and vaccinations. Besides medical prescriptions, your doctor will also give you what we call social prescriptions, like advising you to lead a more active lifestyle, to maintain a healthier diet, to lose a little bit of weight, or to quit smoking. But while your GP can suggest or even arrange these for you, only you can decide to follow through and do them. But please do so. Prevention is always better than cure. My wife and I have signed up. I encourage all seniors to sign up for Healthier SG when you get the invitation from MOH.\\n\\nBeyond Healthier SG, how else can we help Singaporeans to age well? It is not just about fending off sickness – it is also about staying well, staying well both physically and mentally. Because mental wellness is just as important as physical wellness. One of the biggest threats to the well-being of seniors is loneliness. Today, many seniors are living alone. They risk becoming socially isolated. Their spouses may have passed on; their children are probably living elsewhere with their own families. So it is important that someone keeps regularly in touch with them. It is also important that they keep active and have a social network for mutual support. During COVID, many old folks were stuck at home, unable to go out for their usual activities. We were very worried that isolated and inactive, they would deteriorate quickly. So we restarted community activities for seniors as soon as we could do so safely – stand further apart, do it outdoors, but gather and do it, and keep that human contact, and that activity.\\n\\nWe will do more to help seniors stay engaged and socially active. That is why we have set up Active Ageing Centres (AACs) all over Singapore. I recently visited this Active Ageing Centre, the Bedok Radiance AAC. It is run by Thye Hua Kwan Moral Charities. I was very happy to see a vibrant community of seniors joining the activities and using the services there. Many of them told me that they were living alone, and always looked forward to coming down to the activities. It gave them something to do with their friends, something to look forward to, a sense of purpose.\\n\\nThe AAC ran a varied weekly programme: art jamming, karaoke and dance classes. When I was there, a HAPPY exercise class was in full swing – HAPPY means Healthy Ageing Promotion Programmes for You, H-A-P-P-Y.\\n\\nThe seniors looked happy, but some of them were not so well. A few were wheelchair-bound, but they still joined in the activities. This cheerful lady told me she hoped to joget again! Why not, even in a wheelchair? Other seniors were using the health services at the AAC. Some were getting their vital signs checked so that doctors could follow up if something was amiss. One was having a teleconsultation – with nurses physically there to help him, and a doctor calling in on Zoom from the polyclinic. It was good that relatives, or neighbours, were making the effort to bring the seniors down to the AAC, for them to socialise and cheer up their lives.\\n\\nWhat I found most encouraging was that many seniors were not just taking part in activities, but also helping to organise and run them – seniors for seniors. I met Mdm Goh, the one in the pink blouse, Mdm Karen, and Mdm Farida. They were preparing to deliver hot meals to frail seniors living in upstairs in the rental flats who could not come down to the AAC. They do this every day. It is a great way to build neighbourly bonds while staying active. Actually, besides meal deliveries, there are also communal meals downstairs at the AAC. The staff told me that these meals were a big draw and an important activity because they encourage the old folks to come down. When they gathered at the AACs for meals, they would socialise and make friends, and the staff could keep an eye on them, made sure they were alright. I also discovered that these meals are actually cooked by the seniors themselves, at least some of the seniors themselves! These three makciks – Mdm Aminah on the left, Mdm Rosnah, and Mdm Fatimah – they used their SkillsFuture credits to attend a food hygiene and preparation course so that they could cook meals for their fellow seniors. Mdm Fatimah told me they use less salt and sugar in their cooking to make it a Healthier Choice. Then I tasted her chicken curry, and I said, \\\"You must have used santan – coconut milk.” She said no – she uses normal milk. But it tasted just as good – sedap sekali! I had a second helping.\\n\\nIf you are observant, you would have noticed that the volunteers I have mentioned are all ladies. But we are starting to see more male seniors coming down to the AACs. The centres are introducing more activities that interest men, such as jamming. Or even something simple like a café corner, where the uncles can catch up over a coffee. There will be something for everybody at the AACs.\\n\\nI was very heartened by my visit to Bedok Radiance AAC. I believe that the network of AACs across Singapore will be a valuable resource for seniors to stay active and healthy. We will invest to expand the network, and work with community partners to enhance the AACs’ services and reach.\\n\\nIf you have elderly family members, especially if they are living on their own, please bring them to join an AAC nearby. And if you are a senior yourself, I strongly encourage you to join a centre near you, because many seniors are having a good time there. Take the first step towards active ageing, so you can live well, and age well. Be like Mdm Wong here. This is Mdm Wong, she is 97 – still going strong, still playing Mahjong! Making HDB Homes and Precincts More Senior-Friendly.\\n\\nBesides encouraging active ageing, we will also make our HDB homes and precincts more senior-friendly. Many seniors have told us that they want to live out their golden years in their own homes and neighbourhoods. It is a familiar environment, a cosy sanctuary, and they have established deep roots and meaningful friendships. This is a very good thing. We will help as many seniors to age in place as we can. We need to make a few moves to realise this.\\n\\nFirst, we will make your homes more senior-friendly. Today, under the EASE programme (Enhancement for Active Seniors), you can install fittings like ramps to help you get in and out of your homes. In toilets, you can install grab bars and make the floors slip-resistant for safety. Soon, seniors can choose from an expanded suite of fittings under EASE 2.0. For example, you can have foldable shower seats, you can have your toilet entrances widened, so that if you or your spouse needs a wheelchair, your wheelchair can be brought into the toilet, and life can be safer and much more convenient.\\n\\nSecondly, we will make it safer and more comfortable for seniors to move about their neighbourhoods. For example: we will revamp streets and linkways frequented by seniors; we will build more shelters and rest points; also more therapeutic gardens, fitness trails, and exercise machines, to encourage seniors to stay active. The roads will be made more pedestrian-friendly. For example, longer green man signals to give seniors more time to cross the road. You see down here, 36 seconds – the motorcycles and cars have to wait, does not matter, old folks’ safety is important. This is their home, their area, we put them first. Barrier-free ramps and raised zebra crossings so that wheelchair users can cross over without having a step to go down and a step to come back up again at the curb; 3D road markings and narrowed roads to slow the cars down. We will also install larger and more colourful block signs, with familiar symbols to help seniors remember their own block and find their way home. This is not where the satay stall is – it is the Satay Block, Block 113 in Kebun Bahru.\\n\\nThird, for those who need a little more help, we will build more assisted living facilities. Take for example IDeAL – the Integrated Dementia Assisted Living project at Block 115. At the Kueh Lapis Block, Block 115 in Kebun Baru. I went to open it last year. It is a ground-up project by Dementia Singapore, with some Government support, to help seniors with mild dementia. Many of the seniors live in their own flats in this block. The void deck has become their community living room, where seniors have fun and games, exercise, get their haircuts, and eat together. Whenever a senior needs anything, he or she will go to the second floor. The residents affectionately call this “Ji Lao” – the Second Floor. There are shared facilities there like a community kitchen, where they cook and hang out, and a telehealth room, where staff can monitor their vital signs and arrange for telemedicine checkups. All at Ji Lao! At IDeAL, seniors with dementia can live happily on their own upstairs, and enjoy the warmth and care of friends and community downstairs. HDB is building similar assisted living projects called Community Care Apartments. They will serve not just seniors suffering from dementia, but also those who are well. We will need a whole range of these facilities – whether for assisted living, or the AACs – to serve old folks with different needs. Some of these already exist today. But we need to improve them, scale them up, and get ready for the large numbers down the road.\\n\\nWe will keep making Singapore a more friendly home for current and future seniors: investing resources to senior-proof your homes; making precincts safer and easier to navigate; and constructing more assisted living residences, with integrated accommodation, care, and community facilities. We will do this across Singapore, starting with the towns with the most seniors like Ang Mo Kio and Bukit Merah.\\n\\nSo we are taking major steps to prepare for a super-aged society. It is part of a new national programme called “Age Well SG”, which will complement Healthier SG in improving the health of our seniors. The Ministries will share more about this in the coming months.\\n\\nTogether, we will make Singapore an endearing home for all ages, where seniors can age with dignity and grace, connected with friends and family.\\n\\nSECTION 4: HOUSING\\nNow I want to speak about public housing. HDB is a vital part of the Singapore story. Right from the very start, the PAP Government put heavy emphasis on public housing. Here is Mr Lee Kuan Yew laying the foundation stone at the Cantonment Road Housing Estate in March 1963. This was HDB’s earliest projects, one of them. Mr Lee was convinced that housing would give Singaporeans a stake in our nation’s future. Because, he explained, housing “gives more than a sensation of permanence; it is permanent…then we dig our toes in and we fight!” So, housing has always meant much more to us than a roof over our heads. It also gives every Singaporean a valuable asset and a powerful reason to fight for our country and our future. Fast forward 60 years, today we have one of the highest home ownership rates in the world. Nine in ten Singaporeans own our homes. Eight in ten live in HDB flats. Our Singaporean identity is deeply intertwined with our HDB flats and towns. These are homes we are proud to own, neighbourhoods we raise our families in, and communities we build together.\\n\\nOver the decades, the Government has kept housing affordable and accessible for Singaporeans. We price HDB flats at a substantial discount below their market value. We also provide a wide range of generous grants to first-timers, families, and the lower-income.\\n\\nCOVID disrupted our public housing programme. BTO projects were delayed. The shortfall of new flats pushed up prices of resale flats. MND and HDB have been working very hard to catch up. They are making good progress. So far, HDB has completed and delivered more than 70% of the flats that had been delayed by the pandemic. We are also ramping up supply. We have launched 50,000 flats since 2021. By 2025, in two years’ time, we will have launched another 50,000 flats, making a total of 100,000 flats. With supply catching up, the market is calming down. First-timer BTO application rates are lower. Waiting times are shorter. Resale prices are gradually stabilising.\\n\\nRecently, MND announced changes to help Singaporeans with urgent housing needs get their flats earlier. Families with young children and young married couples buying their first home will receive more ballot chances, and higher priority in flat allocation. HDB will also launch more BTO flats with shorter waiting times of two to three years. We are working extra hard, and I am confident that we will get over this hump soon.\\n\\nChanging housing landscape\\nTonight, I want to look beyond this hump, to the longer-term public housing landscape.\\n\\nSince the early 90s, HDB has used a simple framework to guide the public in buying flats. We distinguish between Mature Estates and Non-Mature Estates. Mature Estates are places like Ang Mo Kio, Toa Payoh, or Queenstown. This is a picture of Dawson, in Queenstown, where I recorded my National Day Message this year. Mature Estates are usually more centrally located, better connected, and with more amenities. Naturally these places are more popular, and their prices reflect the higher demand. Then there are the Non-Mature Estates: These are less central and further out, like Jurong East, Woodlands, and Punggol. What Non-Mature Estates lose in terms of location and convenience initially, they make up for in lower BTO prices. Between Mature and Non-Mature Estates, HDB has been able to offer a flat for every household’s budget. This framework is easy to understand, and has worked well for many years.\\n\\nBut our housing landscape is evolving. Firstly, we have fewer and fewer large tracts of undeveloped land left to build new towns and estates. Tengah will be the last new town for quite some time, at least until Paya Lebar Air Base moves out to Changi and the site is cleared and redeveloped. Increasingly, we will have to build new HDB flats within or near to existing estates. These will often be more centrally located. For example, at Mount Pleasant, where the Police Academy used to be, we are planning to build 5,000 new homes there. New projects like these – nestled in older, more developed areas with a lot more amenities – will be more popular, and will naturally cost more. Secondly, even what we call “Non-Mature Estates” today have become much more developed. We imagine non-mature estates as being very barebones. Blocks of flats surrounded by empty barren ground. Our mental image is this photo, and once upon a time it looked like this – this was Toa Payoh in the 1960s. Toa Payoh does not look like this today. But look around you now. Towns like Jurong East, Woodlands, or Punggol, that is not barebones. These towns have matured, and now have excellent connectivity and a full suite of amenities, so the distinction between Mature and Non-Mature Estates is blurring. This is reflected in BTO applications. Some choicer projects in Non-Mature Estates are even more popular than projects in Mature Estates. It shows that buyers are discerning – you know when you see a good deal, and what matters to you are the specific attributes of the project, rather than whether we call it Mature or Non-Mature.\\n\\nIn future, many more BTO developments will be in estates or locations that are effectively “mature”. That means that the framework of Mature and Non-Mature Estates will no longer work and we need a new framework. This framework has to achieve three important objectives: One, it has to keep home ownership affordable to all income groups. Two, it has to maintain a good social mix in every town and every region. And three, it has to keep the system fair for everyone. And here is how we will do it.\\n\\nFor a start, we will keep HDB flat prices affordable. We will gradually provide more housing grants, especially grants that are means-tested, like the Enhanced Housing Grant. This way, lower- and middle-income households will get the most support to own their homes. There will always be an HDB flat to meet every budget. And we can maintain a good social mix in every town and region.\\n\\nThis will work for most HDB projects, but it will still leave one particular problem and that is, with projects in choicer locations within a region. For example, projects near an MRT station or near the town centre. Such flats see the highest demand during BTO exercises. People know that HDB is offering a good deal, because these flats will fetch much higher resale prices afterwards. This turns the BTO exercise into a lottery. Those who are lucky enough to ballot such a flat stand to reap a windfall upon resale. This will not be fair to the many more who miss out.\\n\\nTake for example one recent BTO project: Central Weave at Ang Mo Kio. This is Ang Mo Kio; let me zoom in, Central Weave is right at the town centre. Let me zoom in a little bit more. It is next to the MRT and bus interchange. The market is there, the hawker centre is there, Ang Mo Kio Hub is nearby. So location, location, location. This is an excellent location; this is a highly desirable project. HDB’s selling price had to reflect these attributes. So, the prices for the biggest flats at Central Weave – the 5-Room and 3-Gen flats – ranged from $713,000 to $877,000, before grants. Even then, these flats were heavily discounted off their true market value. Some people complained that these prices were exorbitant and unaffordable. Yet these units were heavily oversubscribed. More than 6,500 households applied for just 372 such flats – 17 applicants for every flat! Clearly, these applicants must have found the Central Weave project affordable, and thought that the prices offered them good value. And no doubt many hoped their flats would fetch strong resale prices later on.\\n\\nSo think about it. If you were HDB CEO sitting down, confronted with this problem, what will you do? You have a dilemma, a dilemma with projects at choicer locations like Central Weave: should we price them higher, or lower? If we price them higher, we will shrink the windfall gains, reduce the lottery effect. This will moderate demand and that is good. But there will be sticker shock – these flats will become expensive and unaffordable to most families. And we will not get a good social mix. Some people will still afford them, but mainly those near the income ceiling, or those whose parents can help them pay for the flat. The result: the precinct will become a higher-income enclave, and that is not what we want. But if HDB prices such prices lower, more households can afford them; we achieve a better social mix, that is good, but we exacerbate the lottery effect, because the potential windfall will be even richer. Even more families will try for these flats. For every one happy successful buyer, there will be 20 or more unsuccessful buyers, and they will understandably and justifiably frustrated and very unhappy. And this is not fair. So under the present framework, whether we price such flats higher or lower, we cannot fully achieve all three objectives: affordability, a good social mix, and a fair outcome.\\n\\nSo what do we do? Central Weave is already sold, but we can expect more such situations as we build more flats in existing towns.\\n\\nHow do we solve this problem?\\n\\nNew “Plus” model\\nOur solution is to introduce a new “Plus” model for selling HDB flats at choicer locations, with stricter sale conditions so that we can moderate the prices. Let me explain carefully what I mean.\\n\\nToday, HDB launches BTO projects all over Singapore. We are all familiar with them. Everybody knows the BTO rules. For example, a 5-year Minimum Occupation Period, or MOP, after which the owner can resell the flat. There is no income ceiling for resale buyers. These are the standard rules and apply to what I will call “Standard” projects. In future, most HDB projects will still be Standard projects.\\n\\nBut within each region, some HDB projects will be in choicer locations. Take for example, Bayshore, in Bedok. This is Bedok town. Bayshore is there, let me zoom in. And you can see, Bayshore is a very good location for homes, because you have got two MRT stations, Bedok South and Bayshore MRT stations. Shopping malls will be built in this corner, Siglap CC is there. East Coast Park is across the road, and then you have the waterfront, 有山有水.\\n\\nWe will have both private and public housing in Bayshore. The HDB projects will likely be Plus projects and will be sold under different rules. HDB will give more subsidies for these Plus flats, over and above the subsidies for Standard BTO flats. This will moderate the prices of Plus flats and put them within reach of more households. But to make the scheme fair, HDB will also impose more restrictive sale conditions. For example: A longer MOP of 10 years, to favour buyers who are planning to stay there for the longer term, and discourage those who may be thinking of flipping the property and moving out as soon as they can. Tighter restrictions when the home-owner resells the Plus flat later on, such as a subsidy recovery applied on the resale price, certain percentage when you sell the flat, you pay back a certain percentage back to HDB to take back the extra discounts you enjoyed upfront since you are moving out. This is to be fair to other buyers who did not get these Plus flats. Also there will be an income ceiling on resale buyers, just like how we have an income ceiling on first-time buyers. This will moderate resale prices and help to maintain a better social mix, even in the resale market in the longer term.\\n\\nAs we build more projects in mature areas, this Plus model will help us to meet our three objectives: affordability, good social mix, and fairness. I keep on showing you this slide because this is crucial. These are the three fundamental objectives and we must bear that in mind, when we think about what is HDB doing, why is HDB doing this, how does doing this help us to achieve these objectives? It will help Singaporeans find a house that suits your needs, even in good locations. Not just for you, but for your children too.\\n\\nStandard, Plus and Prime\\nActually, the Plus model is not entirely new; we already have something similar, called the Prime Location Public Housing Model. Let us call them Prime projects for short. One example is Bukit Merah Ridge. Like other Prime projects, it is very close to the city centre. Naturally, these flats are very desirable, and will be more expensive. But we have been able to keep their selling prices reasonable by imposing tight restrictions and a subsidy recovery to moderate the windfall gains. The Prime model has shown good outcomes so far. In Bukit Merah Ridge. The selling price for a four-room flat ranged from $540,000 to $737,000, before grants. Each flat attracted 5.4 applicants – far fewer than Central Weave, even if you compare to the four-room flats in Central Weave. And we hope that Plus projects will achieve similarly good outcomes. So, let me go back to Central Weave because you are probably thinking and asking: had we sold Central Weave as a Plus project, with the tighter restrictions and additional subsidies, would HDB have priced it lower than it actually did? The answer is yes, it would, because that is the whole point of Plus projects: to enable HDB to moderate the prices of flats in choicer locations, and still be fair to all flat buyers.\\n\\nSo think of it like this. Standard flats are good flats built all over Singapore, and will have HDB’s standard subsidies and standard restrictions. Plus flats are in the choicer locations within a region, and will have more subsidies and tighter restrictions than Standard flats. And Prime flats are in the choicest and most central locations in the whole of Singapore, and they will have the most subsidies and tightest restrictions. Let me show you the whole picture in one slide.\\n\\nThe new framework of Standard, Plus, and Prime. Standard islandwide, subsidies are standard and restrictions are standard – that is why we called it standard. Plus flats have choicer region, more subsidies and tighter restrictions. Prime flats, have the choicest locations, most subsidies and tightest restrictions. Actually the quality of the flats, they are all good flats, good flats, good flats. But the locations are different, the subsidies are different and the restrictions are different. And this new framework – Standard, Plus and Prime will be a major change to the way HDB sells flats. HDB will roll out this framework for all new projects from the second half of next year. It will not affect existing projects. Your current homes, or the homes you have already booked, will not be reclassified.\\n\\nIn time to come, we will no longer refer to new projects as Mature and Non-Mature. Instead, we will build a good mix of projects within and across regions, to cater to different needs and budgets. And that is how we can fulfil our commitment to keep high-quality HDB flats accessible and affordable to you and your children for a very long time to come.\\n\\nEnhancing Access for Singles\\nThe new framework – Standard, Plus, and Prime – will affect everyone buying a new HDB flat, but there is one special group I want to address: the singles. More and more Singaporeans are choosing to be single. Singles too hope to own their homes and have more housing choices. We hear your concerns.\\n\\nToday, first-timer singles can apply for new flats, but only 2-room Flexi flats and only in Non-Mature Estates. They cannot buy new Flexi flats in Mature Estates. Singles are also not allowed to buy Prime flats. These rules are to prioritise our limited supply of flats, but unfortunately, they have restricted singles’ choices. We will do something about this.\\n\\nWhen we roll out the new framework, singles will be allowed to buy 2-room Flexi flats across all types of BTO projects – Standard, Plus, and Prime. HDB will tell you the details soon. But I am sure singles will welcome this move to have more choices to find your own home and to write your own part in Singapore’s housing story.\\n\\nOur Housing Foundations\\nI spoke earlier about the foundation stone that Mr Lee laid back in 1963. Today, Cantonment Road Housing Estate has been redeveloped into our most iconic public housing project – The Pinnacle @ Duxton. But 60 years on, that original foundation stone is still there, at the Heritage Garden at the Pinnacle. It occupies pride of place, to remind each new generation that our housing programme is a vital part of the Singapore story; that the Singapore we live in today, is what we have inherited from those who came before us; and that we owe an immense debt to the hard work and good governance of the founding fathers and the pioneer generation.\\n\\nSECTION 5: CONCLUSION\\nOur Founding Values\\nIn a few weeks’ time, we will be marking the 100th birth anniversary of Mr Lee Kuan Yew. It is timely to reflect upon the values and ideals championed by Mr Lee and the founding fathers., and for us to renew our commitment to these enduring values and ideals.\\n\\nI spoke in my Malay speech earlier about an exhibition now on at the National Museum: Semangat yang Baru: Forging a New Singapore Spirit. The exhibition tells the story of the birth of our nation. It transports us back to our early years of nation-building. It honours the indomitable spirit of the Pioneer Generation. They dared; they fought ferociously for Singapore; they never gave up. And thus they turned mudflats into a metropolis, and took us from Third World to First.\\n\\nBut our forefathers built more than a nation of bricks and mortar, skyscrapers and a thriving economy. They created a nation founded on ideals: justice and equality; religious freedom and racial harmony; a commitment to excellence; a fair system of meritocracy; and an uncompromising insistence on honest, clean government.\\n\\nIntegrity and incorruptibility are fundamental to Singapore. They are the foundation on which we run a clean and effective Government, and deliver results for Singaporeans. Mr Lee Kuan Yew considered these the most crucial ideals of all. On his 90th birthday, he came to Parliament to attend the sitting. We celebrated his birthday in the Members’ Room. We were all there – PAP MPs and Ministers, Opposition MPs led by Mr Low Thia Khiang, as well as NMPs. Frail and ill, Mr Lee said just a few words. He spoke only about one thing – he reminded us Singapore must always remain clean and incorruptible, and Ministers and MPs have to set the example. Otherwise, he said, we are finished. I will never forget those brief words. For the sake of the country, I will do all I can to keep faith with Mr Lee’s hope. No matter the price; no matter the embarrassment or political cost – I will do my utmost to keep the system clean. Every generation of PAP leaders must also stand by this – this is what Singapore depends upon.\\n\\nThe ideals I spoke about are not just abstract aspirations. They are our compass; they guide every decision we make. They give purpose and meaning to our nation building. They make Singapore stand tall amongst the nations of the world.\\n\\nBy upholding these ideals, we have over decades built a high trust society. One where people trust one another – “regardless of race, language or religion”. Where the people and the Government trust each other too, in big ways and small. This is what saw us through the ups and downs over the past 58 years, and this is how we weathered COVID-19.\\n\\nCOVID now seems like a bad dream. Confused, receding, getting forgotten. But the pandemic could well have been a real nightmare. Things could easily have gone horribly wrong, as they did in many other countries. Thankfully, we avoided disastrous outcomes, and averted the loss of many, many lives. Our people came through safe and sound; our economy revived in good shape; and our society has grown more united, not less. We owe this to our collective efforts, and our strong mutual trust, which we must strengthen and deepen to secure a bright future for our people.\\n\\nSuccession\\nAs we prepare for the future, one crucial task is leadership renewal. As you all know, my original plan was to hand over and step down as Prime Minister by 2022, before my 70th birthday. But the pandemic disrupted this plan. I promised Singaporeans that I would see the nation through the crisis, together with both the current and the 4G leadership. Now COVID is behind us, and my succession plans are back on track.\\n\\nRecently, several controversial issues have drawn Singaporeans’ attention. I have spoken about them in Parliament, and in my National Day Message. We dealt with each of them thoroughly and transparently. Let me assure you: these incidents will not delay my timetable for renewal. We are on track.\\n\\nMore and more, my task is to support the 4G team and their agenda. I want to get them off to the best start possible. They are increasingly setting the pace. My themes in this Rally are all Forward SG themes. The 4G will soon wrap up the Forward SG exercise, but their journey is just beginning. Our nation’s future depends on them, working as one with you to take Singapore forward.\\n\\nI have every confidence in Lawrence Wong and his team. We share the same core convictions – that we are stewards of Singapore, entrusted with the immense responsibility to lead and care for our nation; that our time as stewards is transient, but we are building a Singapore for the ages; and that our best service to this nation is to hand over a better, stronger Singapore to those who follow us. My team and I are deeply grateful to you for standing with us through thick and thin. Please give Lawrence and his team your fullest support too, now and after they take over.\\n\\nClosing\\nThe Singapore story has been an unlikely one from the start. Our nation is still young, and we will always be tiny. We will forever be an unlikely nation, created out of the sheer collective will of our people. Nobody expected us to survive, much less to flourish. But each time, we beat the odds; each time, we showed the world what Singapore can be.\\n\\nIt has been an exceptional story; but I believe the best parts are still to be written. Let us hold fast to: our values, which anchor us and guide our way; our mutual trust, which is the bedrock of our success; and our dreams, which drive us ever forward. Let us come together with a renewed spirit and vigour, a semangat yang baru, to build a better, brighter Singapore for generations to come. Majulah Singapura!\",\"Source\":\"https://www.pmo.gov.sg/Newsroom/National-Day-Rally-2023\",\"Abstract\":null,\"Authors\":null,\"Title\":null,\"Publisher\":null,\"PublishedDate\":null,\"Comments\":null,\"Keywords\":null,\"CreatedAt\":\"2024-09-06T12:22:54.245021\",\"UpdatedAt\":\"2024-09-06T12:22:54.245027\",\"IsActive\":true,\"ChunkGroups\":[{\"Id\":\"dd1aade5-2edb-438e-ac1d-35f6f71a63e7\",\"DocumentId\":\"PwR6VmXqAfwjn84ZM6dePsLWTldPv8cNS5dESYlsY2U\",\"SplitAlgo\":\"recursive_split\",\"ChunkCount\":66,\"ChunkSize\":1000,\"Overlap\":100,\"IsActive\":true,\"ChunksDir\":\"/tmp/chunks/b2d0cc2ebe2641038c7edf7cec52d0ed\"}]}]}"
     ]
    }
   ],
   "source": [
    "%%bash\n",
    "curl -s 'http://localhost:12036/gen/v1/rag/collection/demo/documents'"
   ]
  },
  {
   "cell_type": "markdown",
   "metadata": {},
   "source": [
    "h) get document"
   ]
  },
  {
   "cell_type": "code",
   "execution_count": 7,
   "metadata": {},
   "outputs": [
    {
     "name": "stdout",
     "output_type": "stream",
     "text": [
      "{\"document\":{\"Id\":\"PwR6VmXqAfwjn84ZM6dePsLWTldPv8cNS5dESYlsY2U\",\"CollectionName\":\"demo\",\"ByteSize\":43352,\"FileName\":\"pm_long_speech_2023.txt\",\"FileType\":\".txt\",\"File\":null,\"Source\":\"https://www.pmo.gov.sg/Newsroom/National-Day-Rally-2023\",\"Abstract\":null,\"Authors\":null,\"Title\":null,\"Publisher\":null,\"PublishedDate\":null,\"Comments\":null,\"Keywords\":null,\"CreatedAt\":\"2024-09-06T12:22:54.245021\",\"UpdatedAt\":\"2024-09-06T12:22:54.245027\",\"IsActive\":true,\"ChunkGroups\":[{\"Id\":\"dd1aade5-2edb-438e-ac1d-35f6f71a63e7\",\"DocumentId\":\"PwR6VmXqAfwjn84ZM6dePsLWTldPv8cNS5dESYlsY2U\",\"SplitAlgo\":\"recursive_split\",\"ChunkCount\":66,\"ChunkSize\":1000,\"Overlap\":100,\"IsActive\":true,\"ChunksDir\":\"/tmp/chunks/b2d0cc2ebe2641038c7edf7cec52d0ed\"}]}}"
     ]
    }
   ],
   "source": [
    "%%bash\n",
    "curl -s 'http://localhost:12036/gen/v1/rag/collection/demo/document/PwR6VmXqAfwjn84ZM6dePsLWTldPv8cNS5dESYlsY2U'"
   ]
  },
  {
   "cell_type": "markdown",
   "metadata": {},
   "source": [
    "i) update document"
   ]
  },
  {
   "cell_type": "code",
   "execution_count": 8,
   "metadata": {},
   "outputs": [
    {
     "name": "stdout",
     "output_type": "stream",
     "text": [
      "{\"message\":\"Document updated successfully\",\"document\":\"PwR6VmXqAfwjn84ZM6dePsLWTldPv8cNS5dESYlsY2U\"}"
     ]
    }
   ],
   "source": [
    "%%bash\n",
    "curl -X PUT \\\n",
    "    http://localhost:12036/gen/v1/rag/collection/demo/document/PwR6VmXqAfwjn84ZM6dePsLWTldPv8cNS5dESYlsY2U \\\n",
    "    -H 'Content-Type: application/json' \\\n",
    "    -s \\\n",
    "    -d '{\n",
    "            \"Publisher\": \"ABC\"\n",
    "        }'\n"
   ]
  },
  {
   "cell_type": "markdown",
   "metadata": {},
   "source": [
    "j) delete document"
   ]
  },
  {
   "cell_type": "code",
   "execution_count": 9,
   "metadata": {},
   "outputs": [
    {
     "name": "stdout",
     "output_type": "stream",
     "text": [
      "{\"message\":\"Document with id PwR6VmXqAfwjn84ZM6dePsLWTldPv8cNS5dESYlsY2U deleted successfully\"}"
     ]
    }
   ],
   "source": [
    "%%bash\n",
    "curl -s -X DELETE http://localhost:12036/gen/v1/rag/collection/demo/document/PwR6VmXqAfwjn84ZM6dePsLWTldPv8cNS5dESYlsY2U"
   ]
  },
  {
   "cell_type": "markdown",
   "metadata": {},
   "source": [
    "---\n",
    "#### Example : Index PDF using Multi-Step Indexing\n",
    "\n",
    "The purpose for multi-step is to support interactive status update so that the client can make use of the websocket manager to get the status of the indexing process in a step-by-step manner.\n",
    "\n",
    "NOTE: The same is achievable using the single-step indexing as well as before.\n",
    "\n",
    "```\n",
    "curl -X POST 'http://localhost:12036/gen/v1/rag/index-file' \\\n",
    "    -H 'accept: application/json' \\\n",
    "    -H 'Content-Type: multipart/form-data' \\\n",
    "    -s \\\n",
    "    -F 'collection_name=demo' \\\n",
    "    -F 'file=@./attention-is-all-you-need.pdf' \\\n",
    "    -F 'req={\"CollectionName\":\"demo\",\"Source\": \"https://arxiv.org/abs/1706.03762\",\"FilePath\":\"attention-is-all-you-need.pdf\"}'\n",
    "```\n"
   ]
  },
  {
   "cell_type": "markdown",
   "metadata": {},
   "source": [
    "##### Step 1: Index document header"
   ]
  },
  {
   "cell_type": "code",
   "execution_count": 10,
   "metadata": {},
   "outputs": [
    {
     "name": "stdout",
     "output_type": "stream",
     "text": [
      "{\"Id\":\"-Sc9eXzUiSlaFV3qEDaKam33Boamkvv4tea8YPsjpy0\",\"CollectionName\":\"demo\",\"ByteSize\":2215244,\"FileName\":\"attention-is-all-you-need.pdf\",\"FileType\":\".pdf\",\"File\":null,\"Source\":\"https://arxiv.org/abs/1706.03762\",\"Abstract\":null,\"Authors\":null,\"Title\":null,\"Publisher\":null,\"PublishedDate\":null,\"Comments\":null,\"Keywords\":null,\"CreatedAt\":\"2024-09-06T12:23:29.007320\",\"UpdatedAt\":\"2024-09-06T12:23:29.007324\",\"IsActive\":true,\"ChunkGroups\":[]}"
     ]
    }
   ],
   "source": [
    "%%bash\n",
    "curl -X POST 'http://localhost:12036/gen/v1/rag/step/header' \\\n",
    "    -H 'accept: application/json' \\\n",
    "    -H 'Content-Type: multipart/form-data' \\\n",
    "    -s \\\n",
    "    -F 'file=@./attention-is-all-you-need.pdf' \\\n",
    "    -F 'req={\"CollectionName\":\"demo\",\"Source\": \"https://arxiv.org/abs/1706.03762\",\"FilePath\":\"attention-is-all-you-need.pdf\"}'"
   ]
  },
  {
   "cell_type": "markdown",
   "metadata": {},
   "source": [
    "##### Step 2: Split document into a group of chunks"
   ]
  },
  {
   "cell_type": "code",
   "execution_count": 11,
   "metadata": {},
   "outputs": [
    {
     "name": "stdout",
     "output_type": "stream",
     "text": [
      "3e988daa-3521-4884-af09-64b6482477a3\n"
     ]
    }
   ],
   "source": [
    "import json\n",
    "import os\n",
    "\n",
    "# Execute the curl command and capture the response\n",
    "response = !curl -X POST 'http://localhost:12036/gen/v1/rag/step/split' \\\n",
    "    -H 'Content-Type: application/json' \\\n",
    "    -s \\\n",
    "    -d '{\\\n",
    "            \"collection_name\": \"demo\",\\\n",
    "            \"document_id\": \"-Sc9eXzUiSlaFV3qEDaKam33Boamkvv4tea8YPsjpy0\",\\\n",
    "            \"chunk_size\": 1000,\\\n",
    "            \"chunk_overlap\": 100\\\n",
    "        }'\n",
    "\n",
    "# Convert response to string, then load it as JSON\n",
    "response_json = json.loads(''.join(response))\n",
    "\n",
    "# Extract the Id\n",
    "document_id = response_json[\"Id\"]\n",
    "print(document_id)\n",
    "\n",
    "# Set environment variable\n",
    "os.environ['DOCUMENT_ID'] = document_id\n"
   ]
  },
  {
   "cell_type": "markdown",
   "metadata": {},
   "source": [
    "##### Step 3: Index each chunk in the database"
   ]
  },
  {
   "cell_type": "code",
   "execution_count": 12,
   "metadata": {},
   "outputs": [
    {
     "name": "stdout",
     "output_type": "stream",
     "text": [
      "3e988daa-3521-4884-af09-64b6482477a3\n",
      "{\"DocumentId\":\"-Sc9eXzUiSlaFV3qEDaKam33Boamkvv4tea8YPsjpy0\",\"ChunkgroupId\":\"3e988daa-3521-4884-af09-64b6482477a3\",\"ChunkIds\":[\"d3521baa-875e-4a46-b0e0-68d694308516\",\"331fc322-fe74-49ab-ad84-44170824e9a2\",\"6688f6b5-6599-4c03-8f27-a6f8f8faeddf\",\"b31dfb3d-7a6a-4ff0-ae5f-8ad366ad15b6\",\"7846a80f-fb85-470d-9799-3036f49b2803\",\"656352f4-3b09-4804-be3d-a6e5dc959205\",\"ee8ba4e7-4f34-45bd-9069-44af8c42e710\",\"28945c03-2534-4c20-ab09-5c400ef87680\",\"ad9d23f6-39f2-44b0-a15b-1941e4f60d48\",\"457fa979-d8c3-49dc-bd7f-f0f2ee90f1bd\",\"2d77e4ce-aeb0-4fe0-b481-e9fdd776ca16\",\"1707599b-5ee8-4ad1-992c-96b68e1144f0\",\"7cc485c1-7e6e-4618-84c4-6d4b63ff88a1\",\"3c0e3a26-d42a-48cb-9009-d6b368fca35e\",\"33b29449-8b86-4d03-a716-d438b9116453\",\"1d55d097-fa7f-4a33-ae80-80f07daf2b78\",\"e46b6618-dfb0-40a8-ba3c-1f2249f76cb6\",\"00719cda-5080-4ada-b1e8-781b930661e1\",\"41a42692-61f6-45c5-ad08-49d89ba895ab\",\"f222aef7-ef4c-4bc4-8a4d-239bf73ed083\",\"3a72aad1-c91a-438c-b9c1-74144203b552\",\"77131a65-d578-4477-948b-1b461ab99523\",\"1434413c-5954-4f1d-982e-97f99a4c249f\",\"dc4c1fc9-f0b1-4964-9445-61a0eb2efc23\",\"0ca8be44-2f13-43ed-9c19-dcd8ec4a07f9\",\"3f2ea223-8a99-4f95-b540-1bd90fea219a\",\"50744d77-99fc-4118-9bfe-92fdd31e8664\",\"271038e6-477d-49fd-b6f4-b439542daeaa\",\"c53ef2f4-09f5-42e5-a3f3-bc883979089c\",\"f34f98d3-8962-48a9-8de3-492bfd38946c\",\"8f9b9a56-ac41-4225-92af-d270b522d538\",\"d39cee6c-a470-4b16-941e-99983abd8afb\",\"68573667-3545-4d9b-9cff-53affadef0ce\",\"008f00b8-09a8-412b-8100-a39093ade24c\",\"185b5b31-ce3f-4029-b7d6-f02389f9e43e\",\"cd833ef4-330b-4808-8f22-d7d846d54c8f\",\"b170965c-7239-454c-99b8-35dba0dc8d71\",\"b41d6e9f-01f6-4e4a-af10-4beb7b20004b\",\"8bbad02d-a5de-41a9-8f6c-53b191f39e60\",\"a48ca7b6-ba09-46e0-8a75-226ae3ba6a5f\",\"44937c2c-ea97-49e8-9f0c-0afaee3583a2\",\"96060a3f-3f9e-4a45-8d4a-7fce2fec39ef\",\"2cecbba5-3051-4a31-bfaf-479da85d9b9f\",\"84499bd0-ad19-4d08-8cc5-a1d34c6eaa05\"]}"
     ]
    }
   ],
   "source": [
    "%%bash\n",
    "echo $DOCUMENT_ID\n",
    "curl -X POST 'http://localhost:12036/gen/v1/rag/step/index' \\\n",
    "    -H 'Content-Type: application/json' \\\n",
    "    -s \\\n",
    "    -d '{\n",
    "            \"collection_name\": \"demo\",\n",
    "            \"document_id\": \"-Sc9eXzUiSlaFV3qEDaKam33Boamkvv4tea8YPsjpy0\",\n",
    "            \"chunkgroup_id\": \"'$DOCUMENT_ID'\"\n",
    "        }'"
   ]
  },
  {
   "cell_type": "markdown",
   "metadata": {},
   "source": [
    "---\n",
    "\n",
    "## 5. Docker\n",
    "\n",
    "**Instructions:** \n",
    "\n",
    "- Press **CTRL+SHIFT+P** > **Tasks: Run Task** > **docker: build**\n",
    "\n",
    "- get updated version number from pyproject.toml\n",
    "\n",
    "- update docker-compose.yml gai-rag-svr image tag with the new version number.\n",
    "\n",
    "- Press **CTRL+SHIFT+P** > **Tasks: Run Task** > **docker-compose: up**\n",
    "\n",
    "#### Smoke Test"
   ]
  },
  {
   "cell_type": "code",
   "execution_count": 16,
   "metadata": {},
   "outputs": [
    {
     "name": "stderr",
     "output_type": "stream",
     "text": [
      "  % Total    % Received % Xferd  Average Speed   Time    Time     Time  Current\n",
      "                                 Dload  Upload   Total   Spent    Left  Speed\n",
      "100    25  100    25    0     0   2012      0 --:--:-- --:--:-- --:--:--  2083\n"
     ]
    },
    {
     "name": "stdout",
     "output_type": "stream",
     "text": [
      "{\"message\":\"gai-rag-svr\"}"
     ]
    }
   ],
   "source": [
    "%%bash\n",
    "curl http://localhost:12036\n"
   ]
  },
  {
   "cell_type": "markdown",
   "metadata": {},
   "source": [
    "**Tests:**\n",
    "\n",
    "Repeat the API test (#)\n",
    "\n",
    "**Tear Down:**\n",
    "\n",
    "- Press **CTRL+SHIFT+P** > **Tasks: Run Task** > **docker-compose: down**\n",
    "\n",
    "### Debugging\n",
    "\n",
    "a) Container must be started with \"python -m debugpy --listen 0.0.0.0:5678 main.py\"\n",
    "\n",
    "b) Port 5678 must be opened.\n",
    "\n",
    "c) Click on \"Debug\" in Tool bar\n",
    "\n",
    "d) Select \"Attach\" > \"Run and Debug\"\n",
    "\n",
    "e) Add a \"breakpoint\" in the code\n",
    "\n",
    "f) Run the API test to see if it trigger the breakpoint."
   ]
  }
 ],
 "metadata": {
  "kernelspec": {
   "display_name": "gai-rag-svr",
   "language": "python",
   "name": "python3"
  },
  "language_info": {
   "codemirror_mode": {
    "name": "ipython",
    "version": 3
   },
   "file_extension": ".py",
   "mimetype": "text/x-python",
   "name": "python",
   "nbconvert_exporter": "python",
   "pygments_lexer": "ipython3",
   "version": "3.10.13"
  }
 },
 "nbformat": 4,
 "nbformat_minor": 2
}
