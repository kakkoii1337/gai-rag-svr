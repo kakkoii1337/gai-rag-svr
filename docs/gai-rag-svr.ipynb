{
 "cells": [
  {
   "cell_type": "markdown",
   "metadata": {},
   "source": [
    "# Retrieval Augmented Generation (RAG) Server\n",
    "\n",
    "## 1. Setup\n",
    "\n",
    "**Instructions:**\n",
    "\n",
    "a) Download model\n",
    "\n",
    "```bash\n",
    "huggingface-cli download hkunlp/instructor-large \\\n",
    "    --revision 54e5ffb8d484de506e59443b07dc819fb15c7233 \\\n",
    "    --local-dir ~/.gai/models/instructor-large \\\n",
    "    --local-dir-use-symlinks False\n",
    "```\n"
   ]
  },
  {
   "cell_type": "markdown",
   "metadata": {},
   "source": [
    "---\n",
    "\n",
    "## 2. Load test configuration"
   ]
  },
  {
   "cell_type": "code",
   "execution_count": 2,
   "metadata": {},
   "outputs": [],
   "source": [
    "from gai.lib.server.singleton_host import SingletonHost\n",
    "from gai.lib.common.utils import free_mem\n",
    "from rich.console import Console\n",
    "console=Console()\n",
    "\n",
    "config = {\n",
    "    \"type\": \"rag\",\n",
    "    \"generator_name\": \"instructor-sentencepiece\",\n",
    "    \"chromadb\": {\n",
    "        \"path\": \"rag/chromadb\",\n",
    "        \"n_results\": 3\n",
    "    },\n",
    "    \"sqlite\": {\n",
    "        \"path\": \"rag/gai-rag.db\"\n",
    "    },\n",
    "    \"model_path\": \"models/instructor-large\",\n",
    "    \"device\": \"cuda\",\n",
    "    \"chunks\": {\n",
    "        \"size\": 1000,\n",
    "        \"overlap\": 100,\n",
    "        \"path\": \"chunks\"\n",
    "    },\n",
    "    \"module_name\": \"gai.rag.server.gai_rag\",\n",
    "    \"class_name\": \"RAG\",\n",
    "    \"init_args\": [],\n",
    "    \"init_kwargs\": {}\n",
    "}\n"
   ]
  },
  {
   "cell_type": "markdown",
   "metadata": {},
   "source": [
    "## 3. Load Model Test"
   ]
  },
  {
   "cell_type": "code",
   "execution_count": 3,
   "metadata": {},
   "outputs": [
    {
     "data": {
      "text/html": [
       "<pre style=\"white-space:pre;overflow-x:auto;line-height:normal;font-family:Menlo,'DejaVu Sans Mono',consolas,'Courier New',monospace\">Free memory: <span style=\"color: #ff0000; text-decoration-color: #ff0000; font-weight: bold\">3.75</span><span style=\"color: #ff0000; text-decoration-color: #ff0000\"> GB</span>\n",
       "</pre>\n"
      ],
      "text/plain": [
       "Free memory: \u001b[1;91m3.75\u001b[0m\u001b[91m GB\u001b[0m\n"
      ]
     },
     "metadata": {},
     "output_type": "display_data"
    },
    {
     "name": "stderr",
     "output_type": "stream",
     "text": [
      "\u001b[42m\u001b[30mINFO    \u001b[0m \u001b[32mRAG: device=cuda\u001b[0m\n",
      "\u001b[42m\u001b[30mINFO    \u001b[0m \u001b[32mRAG: sqlite=sqlite:///:memory:\u001b[0m\n"
     ]
    },
    {
     "name": "stdout",
     "output_type": "stream",
     "text": [
      "load INSTRUCTOR_Transformer\n"
     ]
    },
    {
     "name": "stderr",
     "output_type": "stream",
     "text": [
      "/home/kakkoii1337/.venv/lib/python3.10/site-packages/transformers/tokenization_utils_base.py:1601: FutureWarning: `clean_up_tokenization_spaces` was not set. It will be set to `True` by default. This behavior will be depracted in transformers v4.45, and will be then set to `False` by default. For more details check this issue: https://github.com/huggingface/transformers/issues/31884\n",
      "  warnings.warn(\n"
     ]
    },
    {
     "name": "stdout",
     "output_type": "stream",
     "text": [
      "max_seq_length  512\n"
     ]
    },
    {
     "data": {
      "text/html": [
       "<pre style=\"white-space:pre;overflow-x:auto;line-height:normal;font-family:Menlo,'DejaVu Sans Mono',consolas,'Courier New',monospace\"><span style=\"font-style: italic\">                         Performance load                          </span>\n",
       "┏━━━━━━━━━━━━━━━━━━━┳━━━━━━━━━━━━━━━┳━━━━━━━━━━━━━━┳━━━━━━━━━━━━━━┓\n",
       "┃<span style=\"color: #af00ff; text-decoration-color: #af00ff; font-weight: bold\"> Metric            </span>┃<span style=\"color: #af00ff; text-decoration-color: #af00ff; font-weight: bold\"> Initial Value </span>┃<span style=\"color: #af00ff; text-decoration-color: #af00ff; font-weight: bold\"> Change Value </span>┃<span style=\"color: #af00ff; text-decoration-color: #af00ff; font-weight: bold\">  Final Value </span>┃\n",
       "┡━━━━━━━━━━━━━━━━━━━╇━━━━━━━━━━━━━━━╇━━━━━━━━━━━━━━╇━━━━━━━━━━━━━━┩\n",
       "│<span style=\"color: #008080; text-decoration-color: #008080\"> Function Duration </span>│<span style=\"color: #008000; text-decoration-color: #008000\">             - </span>│<span style=\"color: #808000; text-decoration-color: #808000\"> 3.92 seconds </span>│<span style=\"color: #800080; text-decoration-color: #800080\"> 3.92 seconds </span>│\n",
       "│<span style=\"color: #008080; text-decoration-color: #008080\"> CPU Memory        </span>│<span style=\"color: #008000; text-decoration-color: #008000\">          - MB </span>│<span style=\"color: #808000; text-decoration-color: #808000\">      5.73 MB </span>│<span style=\"color: #800080; text-decoration-color: #800080\">      5.73 MB </span>│\n",
       "│<span style=\"color: #008080; text-decoration-color: #008080\"> CUDA Memory       </span>│<span style=\"color: #008000; text-decoration-color: #008000\">       3.78 GB </span>│<span style=\"color: #808000; text-decoration-color: #808000\">     -0.00 GB </span>│<span style=\"color: #800080; text-decoration-color: #800080\">      3.78 GB </span>│\n",
       "└───────────────────┴───────────────┴──────────────┴──────────────┘\n",
       "</pre>\n"
      ],
      "text/plain": [
       "\u001b[3m                         Performance load                          \u001b[0m\n",
       "┏━━━━━━━━━━━━━━━━━━━┳━━━━━━━━━━━━━━━┳━━━━━━━━━━━━━━┳━━━━━━━━━━━━━━┓\n",
       "┃\u001b[1;38;5;129m \u001b[0m\u001b[1;38;5;129mMetric           \u001b[0m\u001b[1;38;5;129m \u001b[0m┃\u001b[1;38;5;129m \u001b[0m\u001b[1;38;5;129mInitial Value\u001b[0m\u001b[1;38;5;129m \u001b[0m┃\u001b[1;38;5;129m \u001b[0m\u001b[1;38;5;129mChange Value\u001b[0m\u001b[1;38;5;129m \u001b[0m┃\u001b[1;38;5;129m \u001b[0m\u001b[1;38;5;129m Final Value\u001b[0m\u001b[1;38;5;129m \u001b[0m┃\n",
       "┡━━━━━━━━━━━━━━━━━━━╇━━━━━━━━━━━━━━━╇━━━━━━━━━━━━━━╇━━━━━━━━━━━━━━┩\n",
       "│\u001b[36m \u001b[0m\u001b[36mFunction Duration\u001b[0m\u001b[36m \u001b[0m│\u001b[32m \u001b[0m\u001b[32m            -\u001b[0m\u001b[32m \u001b[0m│\u001b[33m \u001b[0m\u001b[33m3.92 seconds\u001b[0m\u001b[33m \u001b[0m│\u001b[35m \u001b[0m\u001b[35m3.92 seconds\u001b[0m\u001b[35m \u001b[0m│\n",
       "│\u001b[36m \u001b[0m\u001b[36mCPU Memory       \u001b[0m\u001b[36m \u001b[0m│\u001b[32m \u001b[0m\u001b[32m         - MB\u001b[0m\u001b[32m \u001b[0m│\u001b[33m \u001b[0m\u001b[33m     5.73 MB\u001b[0m\u001b[33m \u001b[0m│\u001b[35m \u001b[0m\u001b[35m     5.73 MB\u001b[0m\u001b[35m \u001b[0m│\n",
       "│\u001b[36m \u001b[0m\u001b[36mCUDA Memory      \u001b[0m\u001b[36m \u001b[0m│\u001b[32m \u001b[0m\u001b[32m      3.78 GB\u001b[0m\u001b[32m \u001b[0m│\u001b[33m \u001b[0m\u001b[33m    -0.00 GB\u001b[0m\u001b[33m \u001b[0m│\u001b[35m \u001b[0m\u001b[35m     3.78 GB\u001b[0m\u001b[35m \u001b[0m│\n",
       "└───────────────────┴───────────────┴──────────────┴──────────────┘\n"
      ]
     },
     "metadata": {},
     "output_type": "display_data"
    },
    {
     "data": {
      "text/html": [
       "<pre style=\"white-space:pre;overflow-x:auto;line-height:normal;font-family:Menlo,'DejaVu Sans Mono',consolas,'Courier New',monospace\">Free memory: <span style=\"color: #ff0000; text-decoration-color: #ff0000; font-weight: bold\">3.78</span><span style=\"color: #ff0000; text-decoration-color: #ff0000\"> GB</span>\n",
       "</pre>\n"
      ],
      "text/plain": [
       "Free memory: \u001b[1;91m3.78\u001b[0m\u001b[91m GB\u001b[0m\n"
      ]
     },
     "metadata": {},
     "output_type": "display_data"
    },
    {
     "data": {
      "text/html": [
       "<pre style=\"white-space:pre;overflow-x:auto;line-height:normal;font-family:Menlo,'DejaVu Sans Mono',consolas,'Courier New',monospace\">Free memory: <span style=\"color: #ff0000; text-decoration-color: #ff0000; font-weight: bold\">3.77</span><span style=\"color: #ff0000; text-decoration-color: #ff0000\"> GB</span>\n",
       "</pre>\n"
      ],
      "text/plain": [
       "Free memory: \u001b[1;91m3.77\u001b[0m\u001b[91m GB\u001b[0m\n"
      ]
     },
     "metadata": {},
     "output_type": "display_data"
    }
   ],
   "source": [
    "# before loading\n",
    "free_mem()\n",
    "try:\n",
    "    with SingletonHost.GetInstanceFromConfig(config) as host:\n",
    "\n",
    "        # after loading\n",
    "        free_mem()\n",
    "except Exception as e:\n",
    "    raise e\n",
    "finally:\n",
    "    # after disposal\n",
    "    free_mem()\n",
    "    "
   ]
  },
  {
   "cell_type": "markdown",
   "metadata": {},
   "source": [
    "## Indexing"
   ]
  },
  {
   "cell_type": "code",
   "execution_count": 4,
   "metadata": {},
   "outputs": [
    {
     "name": "stderr",
     "output_type": "stream",
     "text": [
      "\u001b[42m\u001b[30mINFO    \u001b[0m \u001b[32mRAG: device=cuda\u001b[0m\n",
      "\u001b[42m\u001b[30mINFO    \u001b[0m \u001b[32mRAG: sqlite=sqlite:///:memory:\u001b[0m\n"
     ]
    },
    {
     "name": "stdout",
     "output_type": "stream",
     "text": [
      "load INSTRUCTOR_Transformer\n",
      "max_seq_length  512\n"
     ]
    },
    {
     "data": {
      "text/html": [
       "<pre style=\"white-space:pre;overflow-x:auto;line-height:normal;font-family:Menlo,'DejaVu Sans Mono',consolas,'Courier New',monospace\"><span style=\"font-style: italic\">                         Performance load                          </span>\n",
       "┏━━━━━━━━━━━━━━━━━━━┳━━━━━━━━━━━━━━━┳━━━━━━━━━━━━━━┳━━━━━━━━━━━━━━┓\n",
       "┃<span style=\"color: #af00ff; text-decoration-color: #af00ff; font-weight: bold\"> Metric            </span>┃<span style=\"color: #af00ff; text-decoration-color: #af00ff; font-weight: bold\"> Initial Value </span>┃<span style=\"color: #af00ff; text-decoration-color: #af00ff; font-weight: bold\"> Change Value </span>┃<span style=\"color: #af00ff; text-decoration-color: #af00ff; font-weight: bold\">  Final Value </span>┃\n",
       "┡━━━━━━━━━━━━━━━━━━━╇━━━━━━━━━━━━━━━╇━━━━━━━━━━━━━━╇━━━━━━━━━━━━━━┩\n",
       "│<span style=\"color: #008080; text-decoration-color: #008080\"> Function Duration </span>│<span style=\"color: #008000; text-decoration-color: #008000\">             - </span>│<span style=\"color: #808000; text-decoration-color: #808000\"> 1.63 seconds </span>│<span style=\"color: #800080; text-decoration-color: #800080\"> 1.63 seconds </span>│\n",
       "│<span style=\"color: #008080; text-decoration-color: #008080\"> CPU Memory        </span>│<span style=\"color: #008000; text-decoration-color: #008000\">          - MB </span>│<span style=\"color: #808000; text-decoration-color: #808000\">      1.50 MB </span>│<span style=\"color: #800080; text-decoration-color: #800080\">      1.50 MB </span>│\n",
       "│<span style=\"color: #008080; text-decoration-color: #008080\"> CUDA Memory       </span>│<span style=\"color: #008000; text-decoration-color: #008000\">       3.76 GB </span>│<span style=\"color: #808000; text-decoration-color: #808000\">      0.01 GB </span>│<span style=\"color: #800080; text-decoration-color: #800080\">      3.76 GB </span>│\n",
       "└───────────────────┴───────────────┴──────────────┴──────────────┘\n",
       "</pre>\n"
      ],
      "text/plain": [
       "\u001b[3m                         Performance load                          \u001b[0m\n",
       "┏━━━━━━━━━━━━━━━━━━━┳━━━━━━━━━━━━━━━┳━━━━━━━━━━━━━━┳━━━━━━━━━━━━━━┓\n",
       "┃\u001b[1;38;5;129m \u001b[0m\u001b[1;38;5;129mMetric           \u001b[0m\u001b[1;38;5;129m \u001b[0m┃\u001b[1;38;5;129m \u001b[0m\u001b[1;38;5;129mInitial Value\u001b[0m\u001b[1;38;5;129m \u001b[0m┃\u001b[1;38;5;129m \u001b[0m\u001b[1;38;5;129mChange Value\u001b[0m\u001b[1;38;5;129m \u001b[0m┃\u001b[1;38;5;129m \u001b[0m\u001b[1;38;5;129m Final Value\u001b[0m\u001b[1;38;5;129m \u001b[0m┃\n",
       "┡━━━━━━━━━━━━━━━━━━━╇━━━━━━━━━━━━━━━╇━━━━━━━━━━━━━━╇━━━━━━━━━━━━━━┩\n",
       "│\u001b[36m \u001b[0m\u001b[36mFunction Duration\u001b[0m\u001b[36m \u001b[0m│\u001b[32m \u001b[0m\u001b[32m            -\u001b[0m\u001b[32m \u001b[0m│\u001b[33m \u001b[0m\u001b[33m1.63 seconds\u001b[0m\u001b[33m \u001b[0m│\u001b[35m \u001b[0m\u001b[35m1.63 seconds\u001b[0m\u001b[35m \u001b[0m│\n",
       "│\u001b[36m \u001b[0m\u001b[36mCPU Memory       \u001b[0m\u001b[36m \u001b[0m│\u001b[32m \u001b[0m\u001b[32m         - MB\u001b[0m\u001b[32m \u001b[0m│\u001b[33m \u001b[0m\u001b[33m     1.50 MB\u001b[0m\u001b[33m \u001b[0m│\u001b[35m \u001b[0m\u001b[35m     1.50 MB\u001b[0m\u001b[35m \u001b[0m│\n",
       "│\u001b[36m \u001b[0m\u001b[36mCUDA Memory      \u001b[0m\u001b[36m \u001b[0m│\u001b[32m \u001b[0m\u001b[32m      3.76 GB\u001b[0m\u001b[32m \u001b[0m│\u001b[33m \u001b[0m\u001b[33m     0.01 GB\u001b[0m\u001b[33m \u001b[0m│\u001b[35m \u001b[0m\u001b[35m     3.76 GB\u001b[0m\u001b[35m \u001b[0m│\n",
       "└───────────────────┴───────────────┴──────────────┴──────────────┘\n"
      ]
     },
     "metadata": {},
     "output_type": "display_data"
    },
    {
     "name": "stderr",
     "output_type": "stream",
     "text": [
      "\u001b[42m\u001b[30mINFO    \u001b[0m \u001b[32mrag.index_document_header_async: request started. collection_name=demo file_path=./pm_long_speech_2023.txt title=2023 National Day Rally Speech source=https://www.pmo.gov.sg/Newsroom/2023-National-Day-Rally-Speech abstract=None authors=None publisher=None published_date=None comments=None keywords=None\u001b[0m\n",
      "\u001b[45m\u001b[30mDEBUG   \u001b[0m \u001b[35mrag.index_document_header_async: creating doc header with id=PwR6VmXqAfwjn84ZM6dePsLWTldPv8cNS5dESYlsY2U.\u001b[0m\n",
      "\u001b[45m\u001b[30mDEBUG   \u001b[0m \u001b[35mrag.index_document_header_async: document_header created. id=PwR6VmXqAfwjn84ZM6dePsLWTldPv8cNS5dESYlsY2U\u001b[0m\n",
      "\u001b[42m\u001b[30mINFO    \u001b[0m \u001b[32mrag.index_document_split_async: splitting chunks\u001b[0m\n",
      "\u001b[42m\u001b[30mINFO    \u001b[0m \u001b[32mrag.index_document_split_async: chunkgroup created. chunkgroup_id=d0d0b11d-7be3-4055-b927-637708c6627b\u001b[0m\n",
      "100%|██████████| 66/66 [00:00<00:00, 392.50it/s]\n",
      "\u001b[42m\u001b[30mINFO    \u001b[0m \u001b[32mrag.index_document_split_async: chunks created. count=66\u001b[0m\n",
      "\u001b[42m\u001b[30mINFO    \u001b[0m \u001b[32mRAG.index_document_index_async: Start indexing...\u001b[0m\n",
      "0it [00:00, ?it/s]\u001b[45m\u001b[30mDEBUG   \u001b[0m \u001b[35mRAG.index_document_index_async: Indexed 1/66 chunk e54bd9b8-7f1e-4199-ae45-1861b37042fb into collection demo\u001b[0m\n",
      "1it [00:17, 17.89s/it]\u001b[45m\u001b[30mDEBUG   \u001b[0m \u001b[35mRAG.index_document_index_async: Indexed 2/66 chunk f5f2f5d0-0a5f-4314-a7dd-48c84acf51d9 into collection demo\u001b[0m\n",
      "\u001b[45m\u001b[30mDEBUG   \u001b[0m \u001b[35mRAG.index_document_index_async: Indexed 3/66 chunk 6ece8903-ac96-47b7-8a55-83f2247bfc46 into collection demo\u001b[0m\n",
      "3it [00:18,  4.69s/it]\u001b[45m\u001b[30mDEBUG   \u001b[0m \u001b[35mRAG.index_document_index_async: Indexed 4/66 chunk c2155154-aa41-4e25-9656-d85340bf0faa into collection demo\u001b[0m\n",
      "\u001b[45m\u001b[30mDEBUG   \u001b[0m \u001b[35mRAG.index_document_index_async: Indexed 5/66 chunk a4869a1c-4d8d-4663-8e02-0d5f97f1b674 into collection demo\u001b[0m\n",
      "5it [00:18,  2.32s/it]\u001b[45m\u001b[30mDEBUG   \u001b[0m \u001b[35mRAG.index_document_index_async: Indexed 6/66 chunk 469edfe5-b0bd-4869-b1e7-ea35aad73857 into collection demo\u001b[0m\n",
      "\u001b[45m\u001b[30mDEBUG   \u001b[0m \u001b[35mRAG.index_document_index_async: Indexed 7/66 chunk 785fa945-7ecd-4628-b61c-b76e90bf8b2c into collection demo\u001b[0m\n",
      "7it [00:18,  1.37s/it]\u001b[45m\u001b[30mDEBUG   \u001b[0m \u001b[35mRAG.index_document_index_async: Indexed 8/66 chunk ee2c9af7-ae2e-414d-a77e-1b74760c31f8 into collection demo\u001b[0m\n",
      "\u001b[45m\u001b[30mDEBUG   \u001b[0m \u001b[35mRAG.index_document_index_async: Indexed 9/66 chunk 1ec5ecb3-8b16-4b93-8613-3fdd0fdc9541 into collection demo\u001b[0m\n",
      "9it [00:18,  1.12it/s]\u001b[45m\u001b[30mDEBUG   \u001b[0m \u001b[35mRAG.index_document_index_async: Indexed 10/66 chunk e5a4a0bb-b9a7-4f9d-aae0-7a82d8383ea5 into collection demo\u001b[0m\n",
      "\u001b[45m\u001b[30mDEBUG   \u001b[0m \u001b[35mRAG.index_document_index_async: Indexed 11/66 chunk 5c90783b-d0ba-45d3-b9d2-58a1cd905eca into collection demo\u001b[0m\n",
      "11it [00:19,  1.52it/s]\u001b[45m\u001b[30mDEBUG   \u001b[0m \u001b[35mRAG.index_document_index_async: Indexed 12/66 chunk 141cc71b-f226-4229-9fc6-687263b1e949 into collection demo\u001b[0m\n",
      "12it [00:19,  1.64it/s]\u001b[45m\u001b[30mDEBUG   \u001b[0m \u001b[35mRAG.index_document_index_async: Indexed 13/66 chunk 70307928-3103-467a-af8c-bdbe71c6a37f into collection demo\u001b[0m\n",
      "\u001b[45m\u001b[30mDEBUG   \u001b[0m \u001b[35mRAG.index_document_index_async: Indexed 14/66 chunk fc9d09b9-e3a8-431d-82e9-eaedd202cb4b into collection demo\u001b[0m\n",
      "14it [00:19,  2.38it/s]\u001b[45m\u001b[30mDEBUG   \u001b[0m \u001b[35mRAG.index_document_index_async: Indexed 15/66 chunk 15be3a84-9b9f-4fa1-b690-89f84b16c853 into collection demo\u001b[0m\n",
      "\u001b[45m\u001b[30mDEBUG   \u001b[0m \u001b[35mRAG.index_document_index_async: Indexed 16/66 chunk 53c884c4-61d7-4fae-a461-6e11090aa7dd into collection demo\u001b[0m\n",
      "16it [00:19,  3.29it/s]\u001b[45m\u001b[30mDEBUG   \u001b[0m \u001b[35mRAG.index_document_index_async: Indexed 17/66 chunk 649c4f64-227a-4187-ba4a-e689546c07a8 into collection demo\u001b[0m\n",
      "\u001b[45m\u001b[30mDEBUG   \u001b[0m \u001b[35mRAG.index_document_index_async: Indexed 18/66 chunk 218575e7-446a-460c-be29-7384a86e5ed8 into collection demo\u001b[0m\n",
      "18it [00:19,  4.27it/s]\u001b[45m\u001b[30mDEBUG   \u001b[0m \u001b[35mRAG.index_document_index_async: Indexed 19/66 chunk e795139a-d085-4bc9-a1eb-66d5004435c4 into collection demo\u001b[0m\n",
      "\u001b[45m\u001b[30mDEBUG   \u001b[0m \u001b[35mRAG.index_document_index_async: Indexed 20/66 chunk 4e0f8747-ad59-46bd-bcc5-db1050ad39c7 into collection demo\u001b[0m\n",
      "20it [00:20,  5.39it/s]\u001b[45m\u001b[30mDEBUG   \u001b[0m \u001b[35mRAG.index_document_index_async: Indexed 21/66 chunk db36af17-03b0-4990-a2e9-089c4dc56a0e into collection demo\u001b[0m\n",
      "\u001b[45m\u001b[30mDEBUG   \u001b[0m \u001b[35mRAG.index_document_index_async: Indexed 22/66 chunk cd975072-4c33-47e4-9b09-8b1eb80835fe into collection demo\u001b[0m\n",
      "22it [00:20,  6.37it/s]\u001b[45m\u001b[30mDEBUG   \u001b[0m \u001b[35mRAG.index_document_index_async: Indexed 23/66 chunk 3e4a1446-e18f-406c-a544-3f421e702fcb into collection demo\u001b[0m\n",
      "\u001b[45m\u001b[30mDEBUG   \u001b[0m \u001b[35mRAG.index_document_index_async: Indexed 24/66 chunk 10cac67b-523a-4627-8959-40419eb329d0 into collection demo\u001b[0m\n",
      "24it [00:20,  7.45it/s]\u001b[45m\u001b[30mDEBUG   \u001b[0m \u001b[35mRAG.index_document_index_async: Indexed 25/66 chunk ee805e34-c516-45ee-b4c8-db3095953ccd into collection demo\u001b[0m\n",
      "\u001b[45m\u001b[30mDEBUG   \u001b[0m \u001b[35mRAG.index_document_index_async: Indexed 26/66 chunk c7e49bf5-f617-4442-b242-1b509ee1e618 into collection demo\u001b[0m\n",
      "26it [00:20,  8.48it/s]\u001b[45m\u001b[30mDEBUG   \u001b[0m \u001b[35mRAG.index_document_index_async: Indexed 27/66 chunk ac3dda68-30c2-431c-b8bd-a3f87ff89e8f into collection demo\u001b[0m\n",
      "\u001b[45m\u001b[30mDEBUG   \u001b[0m \u001b[35mRAG.index_document_index_async: Indexed 28/66 chunk 4ab669e8-e314-491d-92e7-0430520c8d4f into collection demo\u001b[0m\n",
      "28it [00:20,  8.21it/s]\u001b[45m\u001b[30mDEBUG   \u001b[0m \u001b[35mRAG.index_document_index_async: Indexed 29/66 chunk 532c28b0-1fc8-4ec7-bd25-4cb4cd7fefc8 into collection demo\u001b[0m\n",
      "\u001b[45m\u001b[30mDEBUG   \u001b[0m \u001b[35mRAG.index_document_index_async: Indexed 30/66 chunk 9d0d33ee-9910-4501-86ba-dbcb6d5c0554 into collection demo\u001b[0m\n",
      "30it [00:21,  8.23it/s]\u001b[45m\u001b[30mDEBUG   \u001b[0m \u001b[35mRAG.index_document_index_async: Indexed 31/66 chunk cba91dcf-7a7e-4fce-95dd-13c3d90d0e5d into collection demo\u001b[0m\n",
      "\u001b[45m\u001b[30mDEBUG   \u001b[0m \u001b[35mRAG.index_document_index_async: Indexed 32/66 chunk e807d121-602f-41c6-9219-00416cc3fe0f into collection demo\u001b[0m\n",
      "32it [00:21,  9.22it/s]\u001b[45m\u001b[30mDEBUG   \u001b[0m \u001b[35mRAG.index_document_index_async: Indexed 33/66 chunk 991f0b0b-c68c-4efc-8d85-560f9924cb31 into collection demo\u001b[0m\n",
      "\u001b[45m\u001b[30mDEBUG   \u001b[0m \u001b[35mRAG.index_document_index_async: Indexed 34/66 chunk e3b52f44-8502-4092-ba22-7d14c7c297fb into collection demo\u001b[0m\n",
      "34it [00:21,  9.75it/s]\u001b[45m\u001b[30mDEBUG   \u001b[0m \u001b[35mRAG.index_document_index_async: Indexed 35/66 chunk 6d6ed900-9cf1-4d43-982d-2d016b8d82f6 into collection demo\u001b[0m\n",
      "\u001b[45m\u001b[30mDEBUG   \u001b[0m \u001b[35mRAG.index_document_index_async: Indexed 36/66 chunk 43afff6a-558e-4e7a-8967-32bdcf3546b0 into collection demo\u001b[0m\n",
      "36it [00:21, 10.63it/s]\u001b[45m\u001b[30mDEBUG   \u001b[0m \u001b[35mRAG.index_document_index_async: Indexed 37/66 chunk fb964258-42c7-4931-aa5b-24ef9888f7dc into collection demo\u001b[0m\n",
      "\u001b[45m\u001b[30mDEBUG   \u001b[0m \u001b[35mRAG.index_document_index_async: Indexed 38/66 chunk 929d94bb-097b-4f0d-8c65-fd74c69a57c8 into collection demo\u001b[0m\n",
      "38it [00:21, 11.64it/s]\u001b[45m\u001b[30mDEBUG   \u001b[0m \u001b[35mRAG.index_document_index_async: Indexed 39/66 chunk 5c8de2cf-5b54-440b-a3c6-7e5d703e8a90 into collection demo\u001b[0m\n",
      "\u001b[45m\u001b[30mDEBUG   \u001b[0m \u001b[35mRAG.index_document_index_async: Indexed 40/66 chunk 41127676-0de4-4ced-a0b6-2ecf9f7a84ac into collection demo\u001b[0m\n",
      "40it [00:21, 12.52it/s]\u001b[45m\u001b[30mDEBUG   \u001b[0m \u001b[35mRAG.index_document_index_async: Indexed 41/66 chunk c9acf2b2-8913-46b5-a859-cde09fcb8981 into collection demo\u001b[0m\n",
      "\u001b[45m\u001b[30mDEBUG   \u001b[0m \u001b[35mRAG.index_document_index_async: Indexed 42/66 chunk a762ca45-ac96-4253-9a47-198b97570729 into collection demo\u001b[0m\n",
      "42it [00:22, 12.36it/s]\u001b[45m\u001b[30mDEBUG   \u001b[0m \u001b[35mRAG.index_document_index_async: Indexed 43/66 chunk 1c6ea883-3f24-4ecd-876e-64d798271389 into collection demo\u001b[0m\n",
      "\u001b[45m\u001b[30mDEBUG   \u001b[0m \u001b[35mRAG.index_document_index_async: Indexed 44/66 chunk 6befcd66-ca5d-4858-af25-9d125a4a74d1 into collection demo\u001b[0m\n",
      "44it [00:22, 13.59it/s]\u001b[45m\u001b[30mDEBUG   \u001b[0m \u001b[35mRAG.index_document_index_async: Indexed 45/66 chunk c779bbae-4c04-4f8c-8970-6bdac93684ec into collection demo\u001b[0m\n",
      "\u001b[45m\u001b[30mDEBUG   \u001b[0m \u001b[35mRAG.index_document_index_async: Indexed 46/66 chunk e4f9dfc1-0508-4233-8162-49fee2d1a5a3 into collection demo\u001b[0m\n",
      "46it [00:22, 13.96it/s]\u001b[45m\u001b[30mDEBUG   \u001b[0m \u001b[35mRAG.index_document_index_async: Indexed 47/66 chunk 30d0a056-f492-4e4e-bb15-f831939341f5 into collection demo\u001b[0m\n",
      "\u001b[45m\u001b[30mDEBUG   \u001b[0m \u001b[35mRAG.index_document_index_async: Indexed 48/66 chunk b20433b7-f6c4-4c42-9e5c-274d9c3c3b83 into collection demo\u001b[0m\n",
      "48it [00:22, 14.36it/s]\u001b[45m\u001b[30mDEBUG   \u001b[0m \u001b[35mRAG.index_document_index_async: Indexed 49/66 chunk 23bd1425-83ea-4645-9f49-a59904937800 into collection demo\u001b[0m\n",
      "\u001b[45m\u001b[30mDEBUG   \u001b[0m \u001b[35mRAG.index_document_index_async: Indexed 50/66 chunk cf113392-2893-4f3b-ab86-3ae7a38b60ba into collection demo\u001b[0m\n",
      "50it [00:22, 14.19it/s]\u001b[45m\u001b[30mDEBUG   \u001b[0m \u001b[35mRAG.index_document_index_async: Indexed 51/66 chunk 36e9a104-d913-4498-bbcb-20b95813bb19 into collection demo\u001b[0m\n",
      "\u001b[45m\u001b[30mDEBUG   \u001b[0m \u001b[35mRAG.index_document_index_async: Indexed 52/66 chunk 8518f976-ce3f-4770-844b-4abda3307efb into collection demo\u001b[0m\n",
      "52it [00:22, 14.51it/s]\u001b[45m\u001b[30mDEBUG   \u001b[0m \u001b[35mRAG.index_document_index_async: Indexed 53/66 chunk 6906ca9a-4363-42f1-8dc0-b5eb34f2e0b9 into collection demo\u001b[0m\n",
      "\u001b[45m\u001b[30mDEBUG   \u001b[0m \u001b[35mRAG.index_document_index_async: Indexed 54/66 chunk c1e6b3a4-1606-41c4-b74c-5b2b316f495f into collection demo\u001b[0m\n",
      "54it [00:22, 14.03it/s]\u001b[45m\u001b[30mDEBUG   \u001b[0m \u001b[35mRAG.index_document_index_async: Indexed 55/66 chunk ea10f330-5052-4e45-87c2-bfe94485339d into collection demo\u001b[0m\n",
      "\u001b[45m\u001b[30mDEBUG   \u001b[0m \u001b[35mRAG.index_document_index_async: Indexed 56/66 chunk ffd1d8b4-8719-4f50-ab9b-6ab093deb617 into collection demo\u001b[0m\n",
      "56it [00:23, 13.13it/s]\u001b[45m\u001b[30mDEBUG   \u001b[0m \u001b[35mRAG.index_document_index_async: Indexed 57/66 chunk 9197658e-a7a3-4e2c-a2d7-798d6dfb76f6 into collection demo\u001b[0m\n",
      "\u001b[45m\u001b[30mDEBUG   \u001b[0m \u001b[35mRAG.index_document_index_async: Indexed 58/66 chunk fef39eaf-6940-4c78-9118-427ab6fe38a0 into collection demo\u001b[0m\n",
      "58it [00:23, 13.15it/s]\u001b[45m\u001b[30mDEBUG   \u001b[0m \u001b[35mRAG.index_document_index_async: Indexed 59/66 chunk 7d739f99-f876-483d-ab22-a8119fd42379 into collection demo\u001b[0m\n",
      "\u001b[45m\u001b[30mDEBUG   \u001b[0m \u001b[35mRAG.index_document_index_async: Indexed 60/66 chunk 9fded174-1d59-4d07-a75f-639452b0d59e into collection demo\u001b[0m\n",
      "60it [00:23, 12.52it/s]\u001b[45m\u001b[30mDEBUG   \u001b[0m \u001b[35mRAG.index_document_index_async: Indexed 61/66 chunk e51909e3-1c94-4a23-944c-b7ea92b7ed7d into collection demo\u001b[0m\n",
      "\u001b[45m\u001b[30mDEBUG   \u001b[0m \u001b[35mRAG.index_document_index_async: Indexed 62/66 chunk 70288f1f-debf-42b4-9e91-fa9181132de0 into collection demo\u001b[0m\n",
      "62it [00:23, 12.22it/s]\u001b[45m\u001b[30mDEBUG   \u001b[0m \u001b[35mRAG.index_document_index_async: Indexed 63/66 chunk 1154c7ba-4b76-40f4-8921-831a42cb7aea into collection demo\u001b[0m\n",
      "\u001b[45m\u001b[30mDEBUG   \u001b[0m \u001b[35mRAG.index_document_index_async: Indexed 64/66 chunk e78b0eaf-17e2-4488-8f45-6074e680d77c into collection demo\u001b[0m\n",
      "64it [00:23, 12.09it/s]\u001b[45m\u001b[30mDEBUG   \u001b[0m \u001b[35mRAG.index_document_index_async: Indexed 65/66 chunk 00707ff9-043d-4ba4-80b1-e578fbd5c6b1 into collection demo\u001b[0m\n",
      "\u001b[45m\u001b[30mDEBUG   \u001b[0m \u001b[35mRAG.index_document_index_async: Indexed 66/66 chunk f5969e8c-db60-4e8b-aec7-abca86fe03bc into collection demo\u001b[0m\n",
      "66it [00:23,  2.76it/s]\n",
      "\u001b[42m\u001b[30mINFO    \u001b[0m \u001b[32mRAG.index_async: indexing...done\u001b[0m\n"
     ]
    },
    {
     "data": {
      "text/html": [
       "<pre style=\"white-space:pre;overflow-x:auto;line-height:normal;font-family:Menlo,'DejaVu Sans Mono',consolas,'Courier New',monospace\">Free memory: <span style=\"color: #ff0000; text-decoration-color: #ff0000; font-weight: bold\">3.62</span><span style=\"color: #ff0000; text-decoration-color: #ff0000\"> GB</span>\n",
       "</pre>\n"
      ],
      "text/plain": [
       "Free memory: \u001b[1;91m3.62\u001b[0m\u001b[91m GB\u001b[0m\n"
      ]
     },
     "metadata": {},
     "output_type": "display_data"
    }
   ],
   "source": [
    "from gai.rag.server.gai_rag import RAG\n",
    "\n",
    "try:\n",
    "    with SingletonHost.GetInstanceFromConfig(config) as host:\n",
    "        rag = host.generator\n",
    "\n",
    "        # Index\n",
    "        doc_id = await rag.index_async(\n",
    "            collection_name='demo',\n",
    "            file_path=\"./pm_long_speech_2023.txt\",\n",
    "            file_type='txt',\n",
    "            source=\"https://www.pmo.gov.sg/Newsroom/2023-National-Day-Rally-Speech\",\n",
    "            title=\"2023 National Day Rally Speech\"\n",
    "            )\n",
    "\n",
    "except Exception as e:\n",
    "    raise e\n",
    "finally:\n",
    "    # after disposal\n",
    "    free_mem()\n"
   ]
  },
  {
   "cell_type": "code",
   "execution_count": 5,
   "metadata": {},
   "outputs": [
    {
     "name": "stderr",
     "output_type": "stream",
     "text": [
      "\u001b[42m\u001b[30mINFO    \u001b[0m \u001b[32mRAG: device=cuda\u001b[0m\n",
      "\u001b[42m\u001b[30mINFO    \u001b[0m \u001b[32mRAG: sqlite=sqlite:///:memory:\u001b[0m\n"
     ]
    },
    {
     "name": "stdout",
     "output_type": "stream",
     "text": [
      "load INSTRUCTOR_Transformer\n",
      "max_seq_length  512\n"
     ]
    },
    {
     "data": {
      "text/html": [
       "<pre style=\"white-space:pre;overflow-x:auto;line-height:normal;font-family:Menlo,'DejaVu Sans Mono',consolas,'Courier New',monospace\"><span style=\"font-style: italic\">                         Performance load                          </span>\n",
       "┏━━━━━━━━━━━━━━━━━━━┳━━━━━━━━━━━━━━━┳━━━━━━━━━━━━━━┳━━━━━━━━━━━━━━┓\n",
       "┃<span style=\"color: #af00ff; text-decoration-color: #af00ff; font-weight: bold\"> Metric            </span>┃<span style=\"color: #af00ff; text-decoration-color: #af00ff; font-weight: bold\"> Initial Value </span>┃<span style=\"color: #af00ff; text-decoration-color: #af00ff; font-weight: bold\"> Change Value </span>┃<span style=\"color: #af00ff; text-decoration-color: #af00ff; font-weight: bold\">  Final Value </span>┃\n",
       "┡━━━━━━━━━━━━━━━━━━━╇━━━━━━━━━━━━━━━╇━━━━━━━━━━━━━━╇━━━━━━━━━━━━━━┩\n",
       "│<span style=\"color: #008080; text-decoration-color: #008080\"> Function Duration </span>│<span style=\"color: #008000; text-decoration-color: #008000\">             - </span>│<span style=\"color: #808000; text-decoration-color: #808000\"> 2.24 seconds </span>│<span style=\"color: #800080; text-decoration-color: #800080\"> 2.24 seconds </span>│\n",
       "│<span style=\"color: #008080; text-decoration-color: #008080\"> CPU Memory        </span>│<span style=\"color: #008000; text-decoration-color: #008000\">          - MB </span>│<span style=\"color: #808000; text-decoration-color: #808000\">      1.49 MB </span>│<span style=\"color: #800080; text-decoration-color: #800080\">      1.49 MB </span>│\n",
       "│<span style=\"color: #008080; text-decoration-color: #008080\"> CUDA Memory       </span>│<span style=\"color: #008000; text-decoration-color: #008000\">       3.62 GB </span>│<span style=\"color: #808000; text-decoration-color: #808000\">      0.01 GB </span>│<span style=\"color: #800080; text-decoration-color: #800080\">      3.62 GB </span>│\n",
       "└───────────────────┴───────────────┴──────────────┴──────────────┘\n",
       "</pre>\n"
      ],
      "text/plain": [
       "\u001b[3m                         Performance load                          \u001b[0m\n",
       "┏━━━━━━━━━━━━━━━━━━━┳━━━━━━━━━━━━━━━┳━━━━━━━━━━━━━━┳━━━━━━━━━━━━━━┓\n",
       "┃\u001b[1;38;5;129m \u001b[0m\u001b[1;38;5;129mMetric           \u001b[0m\u001b[1;38;5;129m \u001b[0m┃\u001b[1;38;5;129m \u001b[0m\u001b[1;38;5;129mInitial Value\u001b[0m\u001b[1;38;5;129m \u001b[0m┃\u001b[1;38;5;129m \u001b[0m\u001b[1;38;5;129mChange Value\u001b[0m\u001b[1;38;5;129m \u001b[0m┃\u001b[1;38;5;129m \u001b[0m\u001b[1;38;5;129m Final Value\u001b[0m\u001b[1;38;5;129m \u001b[0m┃\n",
       "┡━━━━━━━━━━━━━━━━━━━╇━━━━━━━━━━━━━━━╇━━━━━━━━━━━━━━╇━━━━━━━━━━━━━━┩\n",
       "│\u001b[36m \u001b[0m\u001b[36mFunction Duration\u001b[0m\u001b[36m \u001b[0m│\u001b[32m \u001b[0m\u001b[32m            -\u001b[0m\u001b[32m \u001b[0m│\u001b[33m \u001b[0m\u001b[33m2.24 seconds\u001b[0m\u001b[33m \u001b[0m│\u001b[35m \u001b[0m\u001b[35m2.24 seconds\u001b[0m\u001b[35m \u001b[0m│\n",
       "│\u001b[36m \u001b[0m\u001b[36mCPU Memory       \u001b[0m\u001b[36m \u001b[0m│\u001b[32m \u001b[0m\u001b[32m         - MB\u001b[0m\u001b[32m \u001b[0m│\u001b[33m \u001b[0m\u001b[33m     1.49 MB\u001b[0m\u001b[33m \u001b[0m│\u001b[35m \u001b[0m\u001b[35m     1.49 MB\u001b[0m\u001b[35m \u001b[0m│\n",
       "│\u001b[36m \u001b[0m\u001b[36mCUDA Memory      \u001b[0m\u001b[36m \u001b[0m│\u001b[32m \u001b[0m\u001b[32m      3.62 GB\u001b[0m\u001b[32m \u001b[0m│\u001b[33m \u001b[0m\u001b[33m     0.01 GB\u001b[0m\u001b[33m \u001b[0m│\u001b[35m \u001b[0m\u001b[35m     3.62 GB\u001b[0m\u001b[35m \u001b[0m│\n",
       "└───────────────────┴───────────────┴──────────────┴──────────────┘\n"
      ]
     },
     "metadata": {},
     "output_type": "display_data"
    },
    {
     "name": "stderr",
     "output_type": "stream",
     "text": [
      "\u001b[42m\u001b[30mINFO    \u001b[0m \u001b[32mRAG.retrieve: Retrieving by query Who are the young seniors?...\u001b[0m\n"
     ]
    },
    {
     "data": {
      "text/html": [
       "<pre style=\"white-space:pre;overflow-x:auto;line-height:normal;font-family:Menlo,'DejaVu Sans Mono',consolas,'Courier New',monospace\"><span style=\"font-weight: bold\">[</span>\n",
       "    <span style=\"font-weight: bold\">{</span>\n",
       "        <span style=\"color: #008000; text-decoration-color: #008000\">'documents'</span>: <span style=\"color: #008000; text-decoration-color: #008000\">'Especially for those in their 50s and early 60s. Let us call them the “Young Seniors”. </span>\n",
       "<span style=\"color: #008000; text-decoration-color: #008000\">\"Young”, because you are younger than the Pioneer Generation and the Merdeka Generation; “Seniors”, because you </span>\n",
       "<span style=\"color: #008000; text-decoration-color: #008000\">will soon retire, or maybe you have recently retired.'</span>,\n",
       "        <span style=\"color: #008000; text-decoration-color: #008000\">'metadatas'</span>: <span style=\"font-weight: bold\">{</span>\n",
       "            <span style=\"color: #008000; text-decoration-color: #008000\">'Abstract'</span>: <span style=\"color: #008000; text-decoration-color: #008000\">''</span>,\n",
       "            <span style=\"color: #008000; text-decoration-color: #008000\">'ChunkGroupId'</span>: <span style=\"color: #008000; text-decoration-color: #008000\">'d0d0b11d-7be3-4055-b927-637708c6627b'</span>,\n",
       "            <span style=\"color: #008000; text-decoration-color: #008000\">'DocumentId'</span>: <span style=\"color: #008000; text-decoration-color: #008000\">'PwR6VmXqAfwjn84ZM6dePsLWTldPv8cNS5dESYlsY2U'</span>,\n",
       "            <span style=\"color: #008000; text-decoration-color: #008000\">'Keywords'</span>: <span style=\"color: #008000; text-decoration-color: #008000\">''</span>,\n",
       "            <span style=\"color: #008000; text-decoration-color: #008000\">'PublishedDate'</span>: <span style=\"color: #008000; text-decoration-color: #008000\">''</span>,\n",
       "            <span style=\"color: #008000; text-decoration-color: #008000\">'Source'</span>: <span style=\"color: #008000; text-decoration-color: #008000\">'https://www.pmo.gov.sg/Newsroom/2023-National-Day-Rally-Speech'</span>,\n",
       "            <span style=\"color: #008000; text-decoration-color: #008000\">'Title'</span>: <span style=\"color: #008000; text-decoration-color: #008000\">'2023 National Day Rally Speech'</span>\n",
       "        <span style=\"font-weight: bold\">}</span>,\n",
       "        <span style=\"color: #008000; text-decoration-color: #008000\">'distances'</span>: <span style=\"color: #008080; text-decoration-color: #008080; font-weight: bold\">0.09020859003067017</span>,\n",
       "        <span style=\"color: #008000; text-decoration-color: #008000\">'ids'</span>: <span style=\"color: #008000; text-decoration-color: #008000\">'6906ca9a-4363-42f1-8dc0-b5eb34f2e0b9'</span>\n",
       "    <span style=\"font-weight: bold\">}</span>,\n",
       "    <span style=\"font-weight: bold\">{</span>\n",
       "        <span style=\"color: #008000; text-decoration-color: #008000\">'documents'</span>: <span style=\"color: #008000; text-decoration-color: #008000\">'Young Seniors are in a unique position today. Compared to the Pioneer and Merdeka </span>\n",
       "<span style=\"color: #008000; text-decoration-color: #008000\">Generations, you have benefited more from Singapore’s growth, and generally done better in life. But compared to </span>\n",
       "<span style=\"color: #008000; text-decoration-color: #008000\">workers younger than you, in their 30s and 40s today, you have generally earned less over your lifetimes. You have </span>\n",
       "<span style=\"color: #008000; text-decoration-color: #008000\">also had less time to benefit from improvements to the CPF system, and so have built up less retirement savings. </span>\n",
       "<span style=\"color: #008000; text-decoration-color: #008000\">Young Seniors are also in a particularly sandwiched phase of your lives. You have to shoulder the responsibility of</span>\n",
       "<span style=\"color: #008000; text-decoration-color: #008000\">caring for both the young and old in your families. Your kids may be young adults, but often are not yet fully </span>\n",
       "<span style=\"color: #008000; text-decoration-color: #008000\">independent and still live in the same household. Many of you Young Seniors also have elderly parents at home, who </span>\n",
       "<span style=\"color: #008000; text-decoration-color: #008000\">may be beset with the infirmities of old age. You have to shuttle them to medical appointments and hospital visits,</span>\n",
       "<span style=\"color: #008000; text-decoration-color: #008000\">plus attend to their everyday needs. All this, while watching your own health, because you are not so youthful'</span>,\n",
       "        <span style=\"color: #008000; text-decoration-color: #008000\">'metadatas'</span>: <span style=\"font-weight: bold\">{</span>\n",
       "            <span style=\"color: #008000; text-decoration-color: #008000\">'Abstract'</span>: <span style=\"color: #008000; text-decoration-color: #008000\">''</span>,\n",
       "            <span style=\"color: #008000; text-decoration-color: #008000\">'ChunkGroupId'</span>: <span style=\"color: #008000; text-decoration-color: #008000\">'d0d0b11d-7be3-4055-b927-637708c6627b'</span>,\n",
       "            <span style=\"color: #008000; text-decoration-color: #008000\">'DocumentId'</span>: <span style=\"color: #008000; text-decoration-color: #008000\">'PwR6VmXqAfwjn84ZM6dePsLWTldPv8cNS5dESYlsY2U'</span>,\n",
       "            <span style=\"color: #008000; text-decoration-color: #008000\">'Keywords'</span>: <span style=\"color: #008000; text-decoration-color: #008000\">''</span>,\n",
       "            <span style=\"color: #008000; text-decoration-color: #008000\">'PublishedDate'</span>: <span style=\"color: #008000; text-decoration-color: #008000\">''</span>,\n",
       "            <span style=\"color: #008000; text-decoration-color: #008000\">'Source'</span>: <span style=\"color: #008000; text-decoration-color: #008000\">'https://www.pmo.gov.sg/Newsroom/2023-National-Day-Rally-Speech'</span>,\n",
       "            <span style=\"color: #008000; text-decoration-color: #008000\">'Title'</span>: <span style=\"color: #008000; text-decoration-color: #008000\">'2023 National Day Rally Speech'</span>\n",
       "        <span style=\"font-weight: bold\">}</span>,\n",
       "        <span style=\"color: #008000; text-decoration-color: #008000\">'distances'</span>: <span style=\"color: #008080; text-decoration-color: #008080; font-weight: bold\">0.11518943309783936</span>,\n",
       "        <span style=\"color: #008000; text-decoration-color: #008000\">'ids'</span>: <span style=\"color: #008000; text-decoration-color: #008000\">'4e0f8747-ad59-46bd-bcc5-db1050ad39c7'</span>\n",
       "    <span style=\"font-weight: bold\">}</span>,\n",
       "    <span style=\"font-weight: bold\">{</span>\n",
       "        <span style=\"color: #008000; text-decoration-color: #008000\">'documents'</span>: <span style=\"color: #008000; text-decoration-color: #008000\">'to their everyday needs. All this, while watching your own health, because you are not so </span>\n",
       "<span style=\"color: #008000; text-decoration-color: #008000\">youthful yourselves. Responsibilities on all these fronts multiply your burdens. So, as Young Seniors, you are </span>\n",
       "<span style=\"color: #008000; text-decoration-color: #008000\">understandably anxious about your retirement needs. Beyond the daily cost of living pressures, you know that </span>\n",
       "<span style=\"color: #008000; text-decoration-color: #008000\">retirement is creeping up on you. You wonder: Will I have enough to get by? Can I cope? But do not worry – the </span>\n",
       "<span style=\"color: #008000; text-decoration-color: #008000\">Government will help you. You will not be left behind.'</span>,\n",
       "        <span style=\"color: #008000; text-decoration-color: #008000\">'metadatas'</span>: <span style=\"font-weight: bold\">{</span>\n",
       "            <span style=\"color: #008000; text-decoration-color: #008000\">'Abstract'</span>: <span style=\"color: #008000; text-decoration-color: #008000\">''</span>,\n",
       "            <span style=\"color: #008000; text-decoration-color: #008000\">'ChunkGroupId'</span>: <span style=\"color: #008000; text-decoration-color: #008000\">'d0d0b11d-7be3-4055-b927-637708c6627b'</span>,\n",
       "            <span style=\"color: #008000; text-decoration-color: #008000\">'DocumentId'</span>: <span style=\"color: #008000; text-decoration-color: #008000\">'PwR6VmXqAfwjn84ZM6dePsLWTldPv8cNS5dESYlsY2U'</span>,\n",
       "            <span style=\"color: #008000; text-decoration-color: #008000\">'Keywords'</span>: <span style=\"color: #008000; text-decoration-color: #008000\">''</span>,\n",
       "            <span style=\"color: #008000; text-decoration-color: #008000\">'PublishedDate'</span>: <span style=\"color: #008000; text-decoration-color: #008000\">''</span>,\n",
       "            <span style=\"color: #008000; text-decoration-color: #008000\">'Source'</span>: <span style=\"color: #008000; text-decoration-color: #008000\">'https://www.pmo.gov.sg/Newsroom/2023-National-Day-Rally-Speech'</span>,\n",
       "            <span style=\"color: #008000; text-decoration-color: #008000\">'Title'</span>: <span style=\"color: #008000; text-decoration-color: #008000\">'2023 National Day Rally Speech'</span>\n",
       "        <span style=\"font-weight: bold\">}</span>,\n",
       "        <span style=\"color: #008000; text-decoration-color: #008000\">'distances'</span>: <span style=\"color: #008080; text-decoration-color: #008080; font-weight: bold\">0.11691617965698242</span>,\n",
       "        <span style=\"color: #008000; text-decoration-color: #008000\">'ids'</span>: <span style=\"color: #008000; text-decoration-color: #008000\">'e5a4a0bb-b9a7-4f9d-aae0-7a82d8383ea5'</span>\n",
       "    <span style=\"font-weight: bold\">}</span>\n",
       "<span style=\"font-weight: bold\">]</span>\n",
       "</pre>\n"
      ],
      "text/plain": [
       "\u001b[1m[\u001b[0m\n",
       "    \u001b[1m{\u001b[0m\n",
       "        \u001b[32m'documents'\u001b[0m: \u001b[32m'Especially for those in their 50s and early 60s. Let us call them the “Young Seniors”. \u001b[0m\n",
       "\u001b[32m\"Young”, because you are younger than the Pioneer Generation and the Merdeka Generation; “Seniors”, because you \u001b[0m\n",
       "\u001b[32mwill soon retire, or maybe you have recently retired.'\u001b[0m,\n",
       "        \u001b[32m'metadatas'\u001b[0m: \u001b[1m{\u001b[0m\n",
       "            \u001b[32m'Abstract'\u001b[0m: \u001b[32m''\u001b[0m,\n",
       "            \u001b[32m'ChunkGroupId'\u001b[0m: \u001b[32m'd0d0b11d-7be3-4055-b927-637708c6627b'\u001b[0m,\n",
       "            \u001b[32m'DocumentId'\u001b[0m: \u001b[32m'PwR6VmXqAfwjn84ZM6dePsLWTldPv8cNS5dESYlsY2U'\u001b[0m,\n",
       "            \u001b[32m'Keywords'\u001b[0m: \u001b[32m''\u001b[0m,\n",
       "            \u001b[32m'PublishedDate'\u001b[0m: \u001b[32m''\u001b[0m,\n",
       "            \u001b[32m'Source'\u001b[0m: \u001b[32m'https://www.pmo.gov.sg/Newsroom/2023-National-Day-Rally-Speech'\u001b[0m,\n",
       "            \u001b[32m'Title'\u001b[0m: \u001b[32m'2023 National Day Rally Speech'\u001b[0m\n",
       "        \u001b[1m}\u001b[0m,\n",
       "        \u001b[32m'distances'\u001b[0m: \u001b[1;36m0.09020859003067017\u001b[0m,\n",
       "        \u001b[32m'ids'\u001b[0m: \u001b[32m'6906ca9a-4363-42f1-8dc0-b5eb34f2e0b9'\u001b[0m\n",
       "    \u001b[1m}\u001b[0m,\n",
       "    \u001b[1m{\u001b[0m\n",
       "        \u001b[32m'documents'\u001b[0m: \u001b[32m'Young Seniors are in a unique position today. Compared to the Pioneer and Merdeka \u001b[0m\n",
       "\u001b[32mGenerations, you have benefited more from Singapore’s growth, and generally done better in life. But compared to \u001b[0m\n",
       "\u001b[32mworkers younger than you, in their 30s and 40s today, you have generally earned less over your lifetimes. You have \u001b[0m\n",
       "\u001b[32malso had less time to benefit from improvements to the CPF system, and so have built up less retirement savings. \u001b[0m\n",
       "\u001b[32mYoung Seniors are also in a particularly sandwiched phase of your lives. You have to shoulder the responsibility of\u001b[0m\n",
       "\u001b[32mcaring for both the young and old in your families. Your kids may be young adults, but often are not yet fully \u001b[0m\n",
       "\u001b[32mindependent and still live in the same household. Many of you Young Seniors also have elderly parents at home, who \u001b[0m\n",
       "\u001b[32mmay be beset with the infirmities of old age. You have to shuttle them to medical appointments and hospital visits,\u001b[0m\n",
       "\u001b[32mplus attend to their everyday needs. All this, while watching your own health, because you are not so youthful'\u001b[0m,\n",
       "        \u001b[32m'metadatas'\u001b[0m: \u001b[1m{\u001b[0m\n",
       "            \u001b[32m'Abstract'\u001b[0m: \u001b[32m''\u001b[0m,\n",
       "            \u001b[32m'ChunkGroupId'\u001b[0m: \u001b[32m'd0d0b11d-7be3-4055-b927-637708c6627b'\u001b[0m,\n",
       "            \u001b[32m'DocumentId'\u001b[0m: \u001b[32m'PwR6VmXqAfwjn84ZM6dePsLWTldPv8cNS5dESYlsY2U'\u001b[0m,\n",
       "            \u001b[32m'Keywords'\u001b[0m: \u001b[32m''\u001b[0m,\n",
       "            \u001b[32m'PublishedDate'\u001b[0m: \u001b[32m''\u001b[0m,\n",
       "            \u001b[32m'Source'\u001b[0m: \u001b[32m'https://www.pmo.gov.sg/Newsroom/2023-National-Day-Rally-Speech'\u001b[0m,\n",
       "            \u001b[32m'Title'\u001b[0m: \u001b[32m'2023 National Day Rally Speech'\u001b[0m\n",
       "        \u001b[1m}\u001b[0m,\n",
       "        \u001b[32m'distances'\u001b[0m: \u001b[1;36m0.11518943309783936\u001b[0m,\n",
       "        \u001b[32m'ids'\u001b[0m: \u001b[32m'4e0f8747-ad59-46bd-bcc5-db1050ad39c7'\u001b[0m\n",
       "    \u001b[1m}\u001b[0m,\n",
       "    \u001b[1m{\u001b[0m\n",
       "        \u001b[32m'documents'\u001b[0m: \u001b[32m'to their everyday needs. All this, while watching your own health, because you are not so \u001b[0m\n",
       "\u001b[32myouthful yourselves. Responsibilities on all these fronts multiply your burdens. So, as Young Seniors, you are \u001b[0m\n",
       "\u001b[32munderstandably anxious about your retirement needs. Beyond the daily cost of living pressures, you know that \u001b[0m\n",
       "\u001b[32mretirement is creeping up on you. You wonder: Will I have enough to get by? Can I cope? But do not worry – the \u001b[0m\n",
       "\u001b[32mGovernment will help you. You will not be left behind.'\u001b[0m,\n",
       "        \u001b[32m'metadatas'\u001b[0m: \u001b[1m{\u001b[0m\n",
       "            \u001b[32m'Abstract'\u001b[0m: \u001b[32m''\u001b[0m,\n",
       "            \u001b[32m'ChunkGroupId'\u001b[0m: \u001b[32m'd0d0b11d-7be3-4055-b927-637708c6627b'\u001b[0m,\n",
       "            \u001b[32m'DocumentId'\u001b[0m: \u001b[32m'PwR6VmXqAfwjn84ZM6dePsLWTldPv8cNS5dESYlsY2U'\u001b[0m,\n",
       "            \u001b[32m'Keywords'\u001b[0m: \u001b[32m''\u001b[0m,\n",
       "            \u001b[32m'PublishedDate'\u001b[0m: \u001b[32m''\u001b[0m,\n",
       "            \u001b[32m'Source'\u001b[0m: \u001b[32m'https://www.pmo.gov.sg/Newsroom/2023-National-Day-Rally-Speech'\u001b[0m,\n",
       "            \u001b[32m'Title'\u001b[0m: \u001b[32m'2023 National Day Rally Speech'\u001b[0m\n",
       "        \u001b[1m}\u001b[0m,\n",
       "        \u001b[32m'distances'\u001b[0m: \u001b[1;36m0.11691617965698242\u001b[0m,\n",
       "        \u001b[32m'ids'\u001b[0m: \u001b[32m'e5a4a0bb-b9a7-4f9d-aae0-7a82d8383ea5'\u001b[0m\n",
       "    \u001b[1m}\u001b[0m\n",
       "\u001b[1m]\u001b[0m\n"
      ]
     },
     "metadata": {},
     "output_type": "display_data"
    },
    {
     "data": {
      "text/html": [
       "<pre style=\"white-space:pre;overflow-x:auto;line-height:normal;font-family:Menlo,'DejaVu Sans Mono',consolas,'Courier New',monospace\">Free memory: <span style=\"color: #ff0000; text-decoration-color: #ff0000; font-weight: bold\">3.62</span><span style=\"color: #ff0000; text-decoration-color: #ff0000\"> GB</span>\n",
       "</pre>\n"
      ],
      "text/plain": [
       "Free memory: \u001b[1;91m3.62\u001b[0m\u001b[91m GB\u001b[0m\n"
      ]
     },
     "metadata": {},
     "output_type": "display_data"
    }
   ],
   "source": [
    "try:\n",
    "    with SingletonHost.GetInstanceFromConfig(config) as host:\n",
    "        rag=host.generator\n",
    "        # Index\n",
    "        result = rag.retrieve(collection_name=\"demo\",query_texts=\"Who are the young seniors?\")\n",
    "        console.print(result)\n",
    "\n",
    "except Exception as e:\n",
    "    raise e\n",
    "finally:\n",
    "    # after disposal\n",
    "    free_mem()\n"
   ]
  },
  {
   "cell_type": "markdown",
   "metadata": {},
   "source": [
    "## API"
   ]
  },
  {
   "cell_type": "markdown",
   "metadata": {},
   "source": [
    "#### a) List Collections"
   ]
  },
  {
   "cell_type": "code",
   "execution_count": 1,
   "metadata": {},
   "outputs": [
    {
     "name": "stdout",
     "output_type": "stream",
     "text": [
      "{\"collections\":[]}"
     ]
    }
   ],
   "source": [
    "%%bash\n",
    "curl -s http://localhost:12036/gen/v1/rag/collections"
   ]
  },
  {
   "cell_type": "markdown",
   "metadata": {},
   "source": [
    "#### b) Delete collection"
   ]
  },
  {
   "cell_type": "code",
   "execution_count": 2,
   "metadata": {},
   "outputs": [
    {
     "name": "stdout",
     "output_type": "stream",
     "text": [
      "{\"detail\":{\"code\":\"collections_not_found\",\"message\":\"Collection demo not found\"}}"
     ]
    }
   ],
   "source": [
    "%%bash\n",
    "curl -s -X DELETE http://localhost:12036/gen/v1/rag/collection/demo"
   ]
  },
  {
   "cell_type": "markdown",
   "metadata": {},
   "source": [
    "#### c) index"
   ]
  },
  {
   "cell_type": "code",
   "execution_count": 3,
   "metadata": {},
   "outputs": [
    {
     "name": "stdout",
     "output_type": "stream",
     "text": [
      "{\"document_id\":\"PwR6VmXqAfwjn84ZM6dePsLWTldPv8cNS5dESYlsY2U\",\"chunkgroup_id\":\"26236065-51aa-4ff9-86fc-0617e8b84e32\",\"chunk_ids\":[\"6112d07e-833e-47f2-9706-9342bae36397\",\"2717e31a-cd07-4852-94ed-e56d9fa8944a\",\"e0f7ffff-0c9b-4102-86ec-4bf0ea2f39da\",\"d690d60a-debf-485b-826e-6008e9f297a0\",\"5defcdee-63f6-4b84-9ca7-e172af8ce704\",\"f76ff583-2c75-436e-98bc-1f0e5090f5ec\",\"72c71430-5b39-4189-8b4d-ede785ff6a01\",\"d6dfc0f8-06bf-42df-86a9-abc37cb21ccc\",\"da5a7008-ba0d-46c4-bd8f-881ebb33e5f5\",\"336716e6-a248-4fad-b060-fd4820a6d60e\",\"ec257dde-d855-4dda-98af-2bc338feb72c\",\"f3154ec3-ea9d-43b4-bfcb-7eeb6c462335\",\"31550df2-ee7f-43f6-96f0-c050e4f88c60\",\"820ab2d1-952e-41da-93ca-e0f868f304f5\",\"a8d13267-717a-4b27-90fe-ab5aeb1e8c4d\",\"6b6219f8-fe27-485c-86d0-29c2f0afedd8\",\"78619f40-1942-4f7e-8045-91e1a3293765\",\"0434707f-3046-47cf-9b6f-7c7a210237a4\",\"30123a90-b65b-4321-8d68-6636ad09b76f\",\"85977a46-6dd9-45ef-ab4a-7e73b6981460\",\"d4dc7f47-bbbf-4972-9655-3c6f7687b29a\",\"719dcbe6-52fc-48fe-a1af-ad4fc1cd0cc5\",\"e678815a-77bf-4f44-af8e-432ce0dd3dfe\",\"16703068-f744-4555-b8b1-361abcb9bada\",\"42b42b2e-a559-4ecc-ad18-2f84bf8744c5\",\"45d887c9-042c-4725-8fad-45ccc4290f29\",\"ac72adc9-52ac-4e30-847c-ec63dad0a551\",\"04c7be94-f945-4f9e-9f7e-ea9d9b897b6e\",\"b619c10d-af3d-472f-93d8-fa55eeb8a728\",\"92bb6f7f-18f5-40a8-8be9-8256b3226f1c\",\"ea8ea222-aac8-404e-abfd-61e15ddf3196\",\"6c97ac14-b13d-4aa7-919d-6b197f83b393\",\"a632f196-eaa0-4954-895f-0d99e0df4ce6\",\"5a108880-193b-415a-979e-9053ff2d29e9\",\"39cdebe4-1b32-442b-8cc7-847044f1ecd4\",\"463981fc-47d6-4c3b-a042-7c9f503a937f\",\"2aa3cd66-63bb-4d6f-b231-a4407c5125fa\",\"9e7d3f6f-a21b-444f-9871-6f76ae4633de\",\"828feb27-dd3f-41f0-ad2d-68999809c32d\",\"0addd67a-2e1a-4b28-a2fd-f1057d308047\",\"4a6cba01-6efc-4a25-9ef1-191aea6ceb52\",\"6691f38e-b793-4e26-ac24-321e075045cf\",\"1c1dbaf5-5a5c-4814-a2c3-1de6d66a8bec\",\"f69e0a1d-2977-4684-bfdd-9488739dc4a8\",\"6b7a6782-ccdf-4055-9f11-d39a4fe6d14d\",\"4ae623cd-b7c8-4007-9b17-f308e55ceaad\",\"1ba2a7f8-f45a-4716-9a8c-83ca4a1131ad\",\"1a079d75-0465-423c-ad70-8abeedf1ba56\",\"0f100007-3580-4635-b603-481851d85332\",\"04229681-49ec-4830-a441-5e2e1bc9e3b3\",\"ed617273-cd01-44d4-9a44-82553dc627d9\",\"134aec78-fb9d-4e32-8e65-46b54d476bbe\",\"197172fe-8ec6-4f27-8ac6-29dd1d2b8fa1\",\"81cc2057-e36a-4c2c-a127-bdc716fb8162\",\"123dec00-491d-44b2-abb4-cf7a96c52256\",\"529b5971-3180-4174-b642-5521093ef001\",\"894129f3-eb20-411c-9e49-207ae77eb95a\",\"f77f416a-6119-457d-b2aa-75b0dc23917e\",\"983f98e3-ea6e-4dae-bc3c-ca41c4bd71fa\",\"bd70abd7-ff6e-4d86-8a3e-e7790d29e939\",\"926c5c4a-360b-4001-bce1-1f3bfd70be69\",\"d4fd348a-92d5-4e64-aea5-fe4a5ecc8e57\",\"cbff6d83-62b5-4a2c-8ba0-a6a53b063042\",\"76effbdf-ef6e-4d23-b319-3a9c4be2918e\",\"23fd213d-4db1-47f3-b82a-43039b3d474f\",\"615dc0c3-1efa-428c-a4af-f095d50fbeb8\"]}"
     ]
    }
   ],
   "source": [
    "%%bash\n",
    "curl -X POST 'http://localhost:12036/gen/v1/rag/index-file' \\\n",
    "    -H 'accept: application/json' \\\n",
    "    -H 'Content-Type: multipart/form-data' \\\n",
    "    -s \\\n",
    "    -F 'collection_name=demo' \\\n",
    "    -F 'file=@./pm_long_speech_2023.txt' \\\n",
    "    -F 'metadata={\"source\": \"https://www.pmo.gov.sg/Newsroom/National-Day-Rally-2023#:~:text=COVID%2D19%20was%20the%20most,indomitable%20spirit%20of%20our%20nation.\"}'"
   ]
  },
  {
   "cell_type": "markdown",
   "metadata": {},
   "source": [
    "#### d) verify document exists"
   ]
  },
  {
   "cell_type": "code",
   "execution_count": 9,
   "metadata": {},
   "outputs": [
    {
     "name": "stdout",
     "output_type": "stream",
     "text": [
      "{\"document\":{\"Id\":\"PwR6VmXqAfwjn84ZM6dePsLWTldPv8cNS5dESYlsY2U\",\"CollectionName\":\"demo\",\"ByteSize\":43352,\"FileName\":\"pm_long_speech_2023.txt\",\"FileType\":\"txt\",\"Source\":\"https://www.pmo.gov.sg/Newsroom/National-Day-Rally-2023#:~:text=COVID%2D19%20was%20the%20most,indomitable%20spirit%20of%20our%20nation.\",\"Abstract\":null,\"Authors\":\"\",\"Title\":\"\",\"Publisher\":\"\",\"PublishedDate\":null,\"Comments\":\"\",\"Keywords\":\"\",\"CreatedAt\":\"2024-09-04T00:38:01.807577\",\"UpdatedAt\":\"2024-09-04T00:38:01.807589\",\"IsActive\":true,\"ChunkGroups\":[{\"Id\":\"22d4eaf4-80df-44a4-bfc5-b898e1d220bb\",\"DocumentId\":\"PwR6VmXqAfwjn84ZM6dePsLWTldPv8cNS5dESYlsY2U\",\"SplitAlgo\":\"recursive_split\",\"ChunkCount\":66,\"ChunkSize\":1000,\"Overlap\":100,\"IsActive\":true,\"ChunksDir\":\"/tmp/chunks/2ea20321b20640de96dbc67a470daebd\"}]}}"
     ]
    }
   ],
   "source": [
    "%%bash\n",
    "curl -X POST 'http://localhost:12036/gen/v1/rag/collection/demo/document/exists' \\\n",
    "    -H 'accept: application/json' \\\n",
    "    -H 'Content-Type: multipart/form-data' \\\n",
    "    -s \\\n",
    "    -F 'file=@./pm_long_speech_2023.txt' "
   ]
  },
  {
   "cell_type": "markdown",
   "metadata": {},
   "source": [
    "#### e) retrieve"
   ]
  },
  {
   "cell_type": "code",
   "execution_count": 10,
   "metadata": {},
   "outputs": [
    {
     "name": "stdout",
     "output_type": "stream",
     "text": [
      "{\"retrieved\":[{\"documents\":\"Especially for those in their 50s and early 60s. Let us call them the “Young Seniors”. \\\"Young”, because you are younger than the Pioneer Generation and the Merdeka Generation; “Seniors”, because you will soon retire, or maybe you have recently retired.\",\"metadatas\":{\"Abstract\":\"\",\"ChunkGroupId\":\"22d4eaf4-80df-44a4-bfc5-b898e1d220bb\",\"DocumentId\":\"PwR6VmXqAfwjn84ZM6dePsLWTldPv8cNS5dESYlsY2U\",\"Keywords\":\"\",\"PublishedDate\":\"\",\"Source\":\"https://www.pmo.gov.sg/Newsroom/National-Day-Rally-2023#:~:text=COVID%2D19%20was%20the%20most,indomitable%20spirit%20of%20our%20nation.\",\"Title\":\"\"},\"distances\":0.09020859003067017,\"ids\":\"91292b06-fb6a-4c72-8103-2de614603d5f\"},{\"documents\":\"Young Seniors are in a unique position today. Compared to the Pioneer and Merdeka Generations, you have benefited more from Singapore’s growth, and generally done better in life. But compared to workers younger than you, in their 30s and 40s today, you have generally earned less over your lifetimes. You have also had less time to benefit from improvements to the CPF system, and so have built up less retirement savings. Young Seniors are also in a particularly sandwiched phase of your lives. You have to shoulder the responsibility of caring for both the young and old in your families. Your kids may be young adults, but often are not yet fully independent and still live in the same household. Many of you Young Seniors also have elderly parents at home, who may be beset with the infirmities of old age. You have to shuttle them to medical appointments and hospital visits, plus attend to their everyday needs. All this, while watching your own health, because you are not so youthful\",\"metadatas\":{\"Abstract\":\"\",\"ChunkGroupId\":\"22d4eaf4-80df-44a4-bfc5-b898e1d220bb\",\"DocumentId\":\"PwR6VmXqAfwjn84ZM6dePsLWTldPv8cNS5dESYlsY2U\",\"Keywords\":\"\",\"PublishedDate\":\"\",\"Source\":\"https://www.pmo.gov.sg/Newsroom/National-Day-Rally-2023#:~:text=COVID%2D19%20was%20the%20most,indomitable%20spirit%20of%20our%20nation.\",\"Title\":\"\"},\"distances\":0.11518943309783936,\"ids\":\"c399a194-2cdc-43b1-a6e5-772a83b6d2e2\"},{\"documents\":\"to their everyday needs. All this, while watching your own health, because you are not so youthful yourselves. Responsibilities on all these fronts multiply your burdens. So, as Young Seniors, you are understandably anxious about your retirement needs. Beyond the daily cost of living pressures, you know that retirement is creeping up on you. You wonder: Will I have enough to get by? Can I cope? But do not worry – the Government will help you. You will not be left behind.\",\"metadatas\":{\"Abstract\":\"\",\"ChunkGroupId\":\"22d4eaf4-80df-44a4-bfc5-b898e1d220bb\",\"DocumentId\":\"PwR6VmXqAfwjn84ZM6dePsLWTldPv8cNS5dESYlsY2U\",\"Keywords\":\"\",\"PublishedDate\":\"\",\"Source\":\"https://www.pmo.gov.sg/Newsroom/National-Day-Rally-2023#:~:text=COVID%2D19%20was%20the%20most,indomitable%20spirit%20of%20our%20nation.\",\"Title\":\"\"},\"distances\":0.11691617965698242,\"ids\":\"679bb844-7063-4186-99cc-e0f2664b97f1\"},{\"documents\":\"What I found most encouraging was that many seniors were not just taking part in activities, but also helping to organise and run them – seniors for seniors. I met Mdm Goh, the one in the pink blouse, Mdm Karen, and Mdm Farida. They were preparing to deliver hot meals to frail seniors living in upstairs in the rental flats who could not come down to the AAC. They do this every day. It is a great way to build neighbourly bonds while staying active. Actually, besides meal deliveries, there are also communal meals downstairs at the AAC. The staff told me that these meals were a big draw and an important activity because they encourage the old folks to come down. When they gathered at the AACs for meals, they would socialise and make friends, and the staff could keep an eye on them, made sure they were alright. I also discovered that these meals are actually cooked by the seniors themselves, at least some of the seniors themselves! These three makciks – Mdm Aminah on the left, Mdm Rosnah,\",\"metadatas\":{\"Abstract\":\"\",\"ChunkGroupId\":\"22d4eaf4-80df-44a4-bfc5-b898e1d220bb\",\"DocumentId\":\"PwR6VmXqAfwjn84ZM6dePsLWTldPv8cNS5dESYlsY2U\",\"Keywords\":\"\",\"PublishedDate\":\"\",\"Source\":\"https://www.pmo.gov.sg/Newsroom/National-Day-Rally-2023#:~:text=COVID%2D19%20was%20the%20most,indomitable%20spirit%20of%20our%20nation.\",\"Title\":\"\"},\"distances\":0.11718982458114624,\"ids\":\"b20a8fe3-231c-4c0b-81da-713b67c76d60\"}]}"
     ]
    }
   ],
   "source": [
    "%%bash\n",
    "curl -X POST 'http://localhost:12036/gen/v1/rag/retrieve' \\\n",
    "    -s \\\n",
    "    -H \"Content-Type: application/json\" \\\n",
    "    -d '{\"collection_name\":\"demo\",\"query_texts\":\"Who are the young seniors?\",\"n_results\":4}'\n"
   ]
  },
  {
   "cell_type": "markdown",
   "metadata": {},
   "source": [
    "g) list documents"
   ]
  },
  {
   "cell_type": "code",
   "execution_count": 11,
   "metadata": {},
   "outputs": [
    {
     "name": "stdout",
     "output_type": "stream",
     "text": [
      "{\"documents\":[{\"Id\":\"PwR6VmXqAfwjn84ZM6dePsLWTldPv8cNS5dESYlsY2U\",\"CollectionName\":\"demo\",\"ByteSize\":43352,\"FileName\":\"pm_long_speech_2023.txt\",\"FileType\":\"txt\",\"Source\":\"https://www.pmo.gov.sg/Newsroom/National-Day-Rally-2023#:~:text=COVID%2D19%20was%20the%20most,indomitable%20spirit%20of%20our%20nation.\",\"Abstract\":null,\"Authors\":\"\",\"Title\":\"\",\"Publisher\":\"\",\"PublishedDate\":null,\"Comments\":\"\",\"Keywords\":\"\",\"CreatedAt\":\"2024-09-04T00:38:01.807577\",\"UpdatedAt\":\"2024-09-04T00:38:01.807589\",\"IsActive\":true,\"ChunkGroups\":[{\"Id\":\"22d4eaf4-80df-44a4-bfc5-b898e1d220bb\",\"DocumentId\":\"PwR6VmXqAfwjn84ZM6dePsLWTldPv8cNS5dESYlsY2U\",\"SplitAlgo\":\"recursive_split\",\"ChunkCount\":66,\"ChunkSize\":1000,\"Overlap\":100,\"IsActive\":true,\"ChunksDir\":\"/tmp/chunks/2ea20321b20640de96dbc67a470daebd\"}]}]}"
     ]
    }
   ],
   "source": [
    "%%bash\n",
    "curl -s 'http://localhost:12036/gen/v1/rag/collection/demo/documents'"
   ]
  },
  {
   "cell_type": "markdown",
   "metadata": {},
   "source": [
    "h) get document"
   ]
  },
  {
   "cell_type": "code",
   "execution_count": 12,
   "metadata": {},
   "outputs": [
    {
     "name": "stdout",
     "output_type": "stream",
     "text": [
      "{\"document\":{\"Id\":\"PwR6VmXqAfwjn84ZM6dePsLWTldPv8cNS5dESYlsY2U\",\"CollectionName\":\"demo\",\"ByteSize\":43352,\"FileName\":\"pm_long_speech_2023.txt\",\"FileType\":\"txt\",\"Source\":\"https://www.pmo.gov.sg/Newsroom/National-Day-Rally-2023#:~:text=COVID%2D19%20was%20the%20most,indomitable%20spirit%20of%20our%20nation.\",\"Abstract\":null,\"Authors\":\"\",\"Title\":\"\",\"Publisher\":\"\",\"PublishedDate\":null,\"Comments\":\"\",\"Keywords\":\"\",\"CreatedAt\":\"2024-09-04T00:38:01.807577\",\"UpdatedAt\":\"2024-09-04T00:38:01.807589\",\"IsActive\":true,\"ChunkGroups\":[{\"Id\":\"22d4eaf4-80df-44a4-bfc5-b898e1d220bb\",\"DocumentId\":\"PwR6VmXqAfwjn84ZM6dePsLWTldPv8cNS5dESYlsY2U\",\"SplitAlgo\":\"recursive_split\",\"ChunkCount\":66,\"ChunkSize\":1000,\"Overlap\":100,\"IsActive\":true,\"ChunksDir\":\"/tmp/chunks/2ea20321b20640de96dbc67a470daebd\"}]}}"
     ]
    }
   ],
   "source": [
    "%%bash\n",
    "curl -s 'http://localhost:12036/gen/v1/rag/collection/demo/document/PwR6VmXqAfwjn84ZM6dePsLWTldPv8cNS5dESYlsY2U'"
   ]
  },
  {
   "cell_type": "markdown",
   "metadata": {},
   "source": [
    "i) update document"
   ]
  },
  {
   "cell_type": "code",
   "execution_count": 13,
   "metadata": {},
   "outputs": [
    {
     "name": "stdout",
     "output_type": "stream",
     "text": [
      "{\"message\":\"Document updated successfully\",\"document\":\"PwR6VmXqAfwjn84ZM6dePsLWTldPv8cNS5dESYlsY2U\"}"
     ]
    }
   ],
   "source": [
    "%%bash\n",
    "curl -X PUT \\\n",
    "    http://localhost:12036/gen/v1/rag/collection/demo/document/PwR6VmXqAfwjn84ZM6dePsLWTldPv8cNS5dESYlsY2U \\\n",
    "    -H 'Content-Type: application/json' \\\n",
    "    -s \\\n",
    "    -d '{\n",
    "            \"Publisher\": \"ABC\"\n",
    "        }'\n"
   ]
  },
  {
   "cell_type": "markdown",
   "metadata": {},
   "source": [
    "j) delete document"
   ]
  },
  {
   "cell_type": "code",
   "execution_count": 14,
   "metadata": {},
   "outputs": [
    {
     "name": "stdout",
     "output_type": "stream",
     "text": [
      "{\"message\":\"Document with id PwR6VmXqAfwjn84ZM6dePsLWTldPv8cNS5dESYlsY2U deleted successfully\"}"
     ]
    }
   ],
   "source": [
    "%%bash\n",
    "curl -s -X DELETE http://localhost:12036/gen/v1/rag/collection/demo/document/PwR6VmXqAfwjn84ZM6dePsLWTldPv8cNS5dESYlsY2U"
   ]
  },
  {
   "cell_type": "markdown",
   "metadata": {},
   "source": [
    "---\n",
    "#### Example : Index PDF using Multi-Step Indexing\n",
    "\n",
    "The purpose for multi-step is to support interactive status update so that the client can make use of the websocket manager to get the status of the indexing process in a step-by-step manner.\n",
    "\n",
    "NOTE: The same is achievable using the single-step indexing as well as before.\n",
    "\n",
    "```\n",
    "curl -X POST 'http://localhost:12036/gen/v1/rag/index-file' \\\n",
    "    -H 'accept: application/json' \\\n",
    "    -H 'Content-Type: multipart/form-data' \\\n",
    "    -s \\\n",
    "    -F 'collection_name=demo' \\\n",
    "    -F 'file=@./attention-is-all-you-need.pdf' \\\n",
    "    -F 'metadata={\"source\": \"https://arxiv.org/abs/1706.03762\"}'\n",
    "```\n"
   ]
  },
  {
   "cell_type": "markdown",
   "metadata": {},
   "source": [
    "##### Step 1: Index document header"
   ]
  },
  {
   "cell_type": "code",
   "execution_count": 15,
   "metadata": {},
   "outputs": [
    {
     "name": "stdout",
     "output_type": "stream",
     "text": [
      "{\"Id\":\"-Sc9eXzUiSlaFV3qEDaKam33Boamkvv4tea8YPsjpy0\",\"CollectionName\":\"demo\",\"ByteSize\":2215244,\"FileName\":\"attention-is-all-you-need.pdf\",\"FileType\":\"pdf\",\"Source\":\"https://arxiv.org/abs/1706.03762\",\"Abstract\":null,\"Authors\":\"\",\"Title\":\"\",\"Publisher\":\"\",\"PublishedDate\":null,\"Comments\":\"\",\"Keywords\":\"\",\"CreatedAt\":\"2024-09-04T00:41:34.325705\",\"UpdatedAt\":\"2024-09-04T00:41:34.325714\",\"IsActive\":true,\"ChunkGroups\":[]}"
     ]
    }
   ],
   "source": [
    "%%bash\n",
    "curl -X POST 'http://localhost:12036/gen/v1/rag/step/header' \\\n",
    "    -H 'accept: application/json' \\\n",
    "    -H 'Content-Type: multipart/form-data' \\\n",
    "    -s \\\n",
    "    -F 'collection_name=demo' \\\n",
    "    -F 'file=@./attention-is-all-you-need.pdf' \\\n",
    "    -F 'metadata={\"source\": \"https://arxiv.org/abs/1706.03762\"}'"
   ]
  },
  {
   "cell_type": "markdown",
   "metadata": {},
   "source": [
    "##### Step 2: Split document into a group of chunks"
   ]
  },
  {
   "cell_type": "code",
   "execution_count": 16,
   "metadata": {},
   "outputs": [
    {
     "name": "stdout",
     "output_type": "stream",
     "text": [
      "4a9d145d-afd3-4dbf-a553-5c0575fef2bd\n"
     ]
    }
   ],
   "source": [
    "import json\n",
    "import os\n",
    "\n",
    "# Execute the curl command and capture the response\n",
    "response = !curl -X POST 'http://localhost:12036/gen/v1/rag/step/split' \\\n",
    "    -H 'Content-Type: application/json' \\\n",
    "    -s \\\n",
    "    -d '{\\\n",
    "            \"collection_name\": \"demo\",\\\n",
    "            \"document_id\": \"-Sc9eXzUiSlaFV3qEDaKam33Boamkvv4tea8YPsjpy0\",\\\n",
    "            \"chunk_size\": 1000,\\\n",
    "            \"chunk_overlap\": 100\\\n",
    "        }'\n",
    "\n",
    "# Convert response to string, then load it as JSON\n",
    "response_json = json.loads(''.join(response))\n",
    "\n",
    "# Extract the Id\n",
    "document_id = response_json[\"Id\"]\n",
    "print(document_id)\n",
    "\n",
    "# Set environment variable\n",
    "os.environ['DOCUMENT_ID'] = document_id\n"
   ]
  },
  {
   "cell_type": "markdown",
   "metadata": {},
   "source": [
    "##### Step 3: Index each chunk in the database"
   ]
  },
  {
   "cell_type": "code",
   "execution_count": 17,
   "metadata": {},
   "outputs": [
    {
     "name": "stdout",
     "output_type": "stream",
     "text": [
      "4a9d145d-afd3-4dbf-a553-5c0575fef2bd\n"
     ]
    },
    {
     "name": "stdout",
     "output_type": "stream",
     "text": [
      "{\"chunk_ids\":[\"0b53beed-ac8f-4e09-bd0f-de9252c324a9\",\"a1ea7c31-d87c-42fa-a41b-85fde32f2fac\",\"5ba10f98-fa01-47ca-b354-da40657c1e4b\",\"ef0cd7b7-b4ed-4202-86cd-619f3121f191\",\"712b0685-c4d9-493b-b1c3-01ffaa3a9c1d\",\"4911395b-6677-44af-a111-b93d4d69b3b8\",\"7ecbe361-aead-4a7c-8f2f-9b76acdfe8f9\",\"01446e3f-fb3c-4ac1-a8a8-70ef29edd682\",\"f4176ae5-6597-441c-9b10-f01007fedc29\",\"14285cfc-3855-405d-802c-da8edbeffe16\",\"74b145d7-9239-4a64-ba2e-027dd8fb7424\",\"5f455173-f13d-4d48-93e9-878bef00b175\",\"95f0e06d-8512-47e4-8a0f-41f5b15b8403\",\"9cd4669c-ec90-49f1-beb0-46b4139ec58d\",\"4e321eaf-3083-47cf-9356-d689e69150fc\",\"77f7cec6-5234-4836-ad7a-b91f2021a464\",\"bb615aef-0a0f-48fc-8ad4-2d380fae35c9\",\"25ecc93b-ce56-4f00-94df-f4c8f64d4297\",\"c9b20563-cc4d-4198-9382-41ad9c12560c\",\"4aae71fb-a443-4601-bc52-0b5f4e96610c\",\"89fbcce9-ee99-4cc3-9065-cd18654f5f36\",\"1f11f6e5-e54c-4ca7-9987-9170caec1562\",\"32e6d09f-755f-4eed-8d86-c54819fb37a6\",\"819ed087-5619-450f-b604-fdaf0ebc0500\",\"40fde5dc-bcb0-4884-8de7-a4b2664b89d9\",\"ad1b5392-b09c-4c59-bac1-94da1b7dfbbe\",\"09dcf7e2-31f6-47ab-8a07-c1412633fcef\",\"b5253272-fb7b-4fff-a273-91997fe13fa3\",\"0cf7f234-fa4f-4c2c-9a0b-099e25ece0c1\",\"3dc770f7-2c64-4450-b50e-a8ea17cbfcd7\",\"85b3c0cf-65fa-48a1-a22d-e0a0a86a6449\",\"3d295f46-f26c-4bc3-92cb-8372256109a2\",\"39b9721f-24e5-4d38-8914-2fdf99fcf0fc\",\"e7c43fbd-48b3-41bc-964f-d16473ce7a9d\",\"9f6f07a5-e8fa-4a74-a64b-ae59a35c1e99\",\"1bd25dbd-89b4-48e1-9ac8-2a9b423bbd91\",\"db777912-843b-47e2-a810-ffbb5e7fdecf\",\"9950c038-236a-4c7f-a516-5378135d22ac\",\"d9e564b9-2f93-4f3a-bf7a-d52214ecfbf4\",\"3dc37a97-dc1f-4f3c-9e32-046c27b29302\",\"999f0c5d-f420-4047-a7a1-3faa1e986185\",\"58baf184-99f6-47e2-b124-d7940da59074\",\"b76971d9-ddf5-4b39-989a-9a23c9ea1f51\",\"cb329b63-df1d-4d17-84ea-83d30b2ca9fa\"]}"
     ]
    }
   ],
   "source": [
    "%%bash\n",
    "echo $DOCUMENT_ID\n",
    "curl -X POST 'http://localhost:12036/gen/v1/rag/step/index' \\\n",
    "    -H 'Content-Type: application/json' \\\n",
    "    -s \\\n",
    "    -d '{\n",
    "            \"collection_name\": \"demo\",\n",
    "            \"document_id\": \"-Sc9eXzUiSlaFV3qEDaKam33Boamkvv4tea8YPsjpy0\",\n",
    "            \"chunkgroup_id\": \"'$DOCUMENT_ID'\"\n",
    "        }'"
   ]
  },
  {
   "cell_type": "markdown",
   "metadata": {},
   "source": [
    "---\n",
    "\n",
    "## 5. Docker\n",
    "\n",
    "**Instructions:** \n",
    "\n",
    "- Press **CTRL+SHIFT+P** > **Tasks: Run Task** > **docker-compose: up**\n",
    "\n",
    "#### Smoke Test"
   ]
  },
  {
   "cell_type": "code",
   "execution_count": null,
   "metadata": {},
   "outputs": [],
   "source": [
    "%%bash\n",
    "curl http://localhost:12036\n"
   ]
  },
  {
   "cell_type": "markdown",
   "metadata": {},
   "source": [
    "**Tests:**\n",
    "\n",
    "Repeat the API test (#)\n",
    "\n",
    "**Tear Down:**\n",
    "\n",
    "- Press **CTRL+SHIFT+P** > **Tasks: Run Task** > **docker-compose: down**\n",
    "\n",
    "### Debugging\n",
    "\n",
    "a) Container must be started with \"python -m debugpy --listen 0.0.0.0:5678 main.py\"\n",
    "\n",
    "b) Port 5678 must be opened.\n",
    "\n",
    "c) Click on \"Debug\" in Tool bar\n",
    "\n",
    "d) Select \"Attach\" > \"Run and Debug\"\n",
    "\n",
    "e) Add a \"breakpoint\" in the code\n",
    "\n",
    "f) Run the API test to see if it trigger the breakpoint."
   ]
  }
 ],
 "metadata": {
  "kernelspec": {
   "display_name": "gai-rag-svr",
   "language": "python",
   "name": "python3"
  },
  "language_info": {
   "codemirror_mode": {
    "name": "ipython",
    "version": 3
   },
   "file_extension": ".py",
   "mimetype": "text/x-python",
   "name": "python",
   "nbconvert_exporter": "python",
   "pygments_lexer": "ipython3",
   "version": "3.10.13"
  }
 },
 "nbformat": 4,
 "nbformat_minor": 2
}
