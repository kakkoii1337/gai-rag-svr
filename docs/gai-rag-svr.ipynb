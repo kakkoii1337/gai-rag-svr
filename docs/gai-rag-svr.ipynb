{
 "cells": [
  {
   "cell_type": "markdown",
   "metadata": {},
   "source": [
    "# Retrieval Augmented Generation (RAG) Server\n",
    "\n",
    "## 1. Setup\n",
    "\n",
    "**Instructions:**\n",
    "\n",
    "a) Download model\n",
    "\n",
    "```bash\n",
    "huggingface-cli download hkunlp/instructor-large \\\n",
    "    --revision 54e5ffb8d484de506e59443b07dc819fb15c7233 \\\n",
    "    --local-dir ~/.gai/models/instructor-large \\\n",
    "    --local-dir-use-symlinks False\n",
    "```\n"
   ]
  },
  {
   "cell_type": "markdown",
   "metadata": {},
   "source": [
    "---\n",
    "\n",
    "## 2. Load test configuration"
   ]
  },
  {
   "cell_type": "code",
   "execution_count": 1,
   "metadata": {},
   "outputs": [],
   "source": [
    "from gai.lib.server.singleton_host import SingletonHost\n",
    "from gai.lib.common.utils import free_mem\n",
    "from rich.console import Console\n",
    "console=Console()\n",
    "\n",
    "config = {\n",
    "    \"type\": \"rag\",\n",
    "    \"generator_name\": \"instructor-sentencepiece\",\n",
    "    \"chromadb\": {\n",
    "        \"path\": \"rag/chromadb\",\n",
    "        \"n_results\": 3\n",
    "    },\n",
    "    \"sqlite\": {\n",
    "        \"path\": \"rag/gai-rag.db\"\n",
    "    },\n",
    "    \"model_path\": \"models/instructor-large\",\n",
    "    \"device\": \"cuda\",\n",
    "    \"chunks\": {\n",
    "        \"size\": 1000,\n",
    "        \"overlap\": 100,\n",
    "        \"path\": \"chunks\"\n",
    "    },\n",
    "    \"module_name\": \"gai.rag.server.gai_rag\",\n",
    "    \"class_name\": \"RAG\",\n",
    "    \"init_args\": [],\n",
    "    \"init_kwargs\": {}\n",
    "}\n"
   ]
  },
  {
   "cell_type": "markdown",
   "metadata": {},
   "source": [
    "## 3. Load Model Test"
   ]
  },
  {
   "cell_type": "code",
   "execution_count": 2,
   "metadata": {},
   "outputs": [
    {
     "data": {
      "text/html": [
       "<pre style=\"white-space:pre;overflow-x:auto;line-height:normal;font-family:Menlo,'DejaVu Sans Mono',consolas,'Courier New',monospace\">Free memory: <span style=\"color: #00ff00; text-decoration-color: #00ff00; font-weight: bold\">5.56</span><span style=\"color: #00ff00; text-decoration-color: #00ff00\"> GB</span>\n",
       "</pre>\n"
      ],
      "text/plain": [
       "Free memory: \u001b[1;92m5.56\u001b[0m\u001b[92m GB\u001b[0m\n"
      ]
     },
     "metadata": {},
     "output_type": "display_data"
    },
    {
     "name": "stderr",
     "output_type": "stream",
     "text": [
      "\u001b[42m\u001b[30mINFO    \u001b[0m \u001b[32mRAG: device=cuda\u001b[0m\n",
      "\u001b[42m\u001b[30mINFO    \u001b[0m \u001b[32mRAG: sqlite=sqlite:///:memory:\u001b[0m\n"
     ]
    },
    {
     "name": "stdout",
     "output_type": "stream",
     "text": [
      "load INSTRUCTOR_Transformer\n"
     ]
    },
    {
     "name": "stderr",
     "output_type": "stream",
     "text": [
      "/home/kakkoii1337/.venv/lib/python3.10/site-packages/transformers/tokenization_utils_base.py:1601: FutureWarning: `clean_up_tokenization_spaces` was not set. It will be set to `True` by default. This behavior will be depracted in transformers v4.45, and will be then set to `False` by default. For more details check this issue: https://github.com/huggingface/transformers/issues/31884\n",
      "  warnings.warn(\n"
     ]
    },
    {
     "name": "stdout",
     "output_type": "stream",
     "text": [
      "max_seq_length  512\n"
     ]
    },
    {
     "data": {
      "text/html": [
       "<pre style=\"white-space:pre;overflow-x:auto;line-height:normal;font-family:Menlo,'DejaVu Sans Mono',consolas,'Courier New',monospace\"><span style=\"font-style: italic\">                         Performance load                          </span>\n",
       "┏━━━━━━━━━━━━━━━━━━━┳━━━━━━━━━━━━━━━┳━━━━━━━━━━━━━━┳━━━━━━━━━━━━━━┓\n",
       "┃<span style=\"color: #af00ff; text-decoration-color: #af00ff; font-weight: bold\"> Metric            </span>┃<span style=\"color: #af00ff; text-decoration-color: #af00ff; font-weight: bold\"> Initial Value </span>┃<span style=\"color: #af00ff; text-decoration-color: #af00ff; font-weight: bold\"> Change Value </span>┃<span style=\"color: #af00ff; text-decoration-color: #af00ff; font-weight: bold\">  Final Value </span>┃\n",
       "┡━━━━━━━━━━━━━━━━━━━╇━━━━━━━━━━━━━━━╇━━━━━━━━━━━━━━╇━━━━━━━━━━━━━━┩\n",
       "│<span style=\"color: #008080; text-decoration-color: #008080\"> Function Duration </span>│<span style=\"color: #008000; text-decoration-color: #008000\">             - </span>│<span style=\"color: #808000; text-decoration-color: #808000\"> 1.39 seconds </span>│<span style=\"color: #800080; text-decoration-color: #800080\"> 1.39 seconds </span>│\n",
       "│<span style=\"color: #008080; text-decoration-color: #008080\"> CPU Memory        </span>│<span style=\"color: #008000; text-decoration-color: #008000\">          - MB </span>│<span style=\"color: #808000; text-decoration-color: #808000\">      5.66 MB </span>│<span style=\"color: #800080; text-decoration-color: #800080\">      5.66 MB </span>│\n",
       "│<span style=\"color: #008080; text-decoration-color: #008080\"> CUDA Memory       </span>│<span style=\"color: #008000; text-decoration-color: #008000\">       5.59 GB </span>│<span style=\"color: #808000; text-decoration-color: #808000\">      0.01 GB </span>│<span style=\"color: #800080; text-decoration-color: #800080\">      5.58 GB </span>│\n",
       "└───────────────────┴───────────────┴──────────────┴──────────────┘\n",
       "</pre>\n"
      ],
      "text/plain": [
       "\u001b[3m                         Performance load                          \u001b[0m\n",
       "┏━━━━━━━━━━━━━━━━━━━┳━━━━━━━━━━━━━━━┳━━━━━━━━━━━━━━┳━━━━━━━━━━━━━━┓\n",
       "┃\u001b[1;38;5;129m \u001b[0m\u001b[1;38;5;129mMetric           \u001b[0m\u001b[1;38;5;129m \u001b[0m┃\u001b[1;38;5;129m \u001b[0m\u001b[1;38;5;129mInitial Value\u001b[0m\u001b[1;38;5;129m \u001b[0m┃\u001b[1;38;5;129m \u001b[0m\u001b[1;38;5;129mChange Value\u001b[0m\u001b[1;38;5;129m \u001b[0m┃\u001b[1;38;5;129m \u001b[0m\u001b[1;38;5;129m Final Value\u001b[0m\u001b[1;38;5;129m \u001b[0m┃\n",
       "┡━━━━━━━━━━━━━━━━━━━╇━━━━━━━━━━━━━━━╇━━━━━━━━━━━━━━╇━━━━━━━━━━━━━━┩\n",
       "│\u001b[36m \u001b[0m\u001b[36mFunction Duration\u001b[0m\u001b[36m \u001b[0m│\u001b[32m \u001b[0m\u001b[32m            -\u001b[0m\u001b[32m \u001b[0m│\u001b[33m \u001b[0m\u001b[33m1.39 seconds\u001b[0m\u001b[33m \u001b[0m│\u001b[35m \u001b[0m\u001b[35m1.39 seconds\u001b[0m\u001b[35m \u001b[0m│\n",
       "│\u001b[36m \u001b[0m\u001b[36mCPU Memory       \u001b[0m\u001b[36m \u001b[0m│\u001b[32m \u001b[0m\u001b[32m         - MB\u001b[0m\u001b[32m \u001b[0m│\u001b[33m \u001b[0m\u001b[33m     5.66 MB\u001b[0m\u001b[33m \u001b[0m│\u001b[35m \u001b[0m\u001b[35m     5.66 MB\u001b[0m\u001b[35m \u001b[0m│\n",
       "│\u001b[36m \u001b[0m\u001b[36mCUDA Memory      \u001b[0m\u001b[36m \u001b[0m│\u001b[32m \u001b[0m\u001b[32m      5.59 GB\u001b[0m\u001b[32m \u001b[0m│\u001b[33m \u001b[0m\u001b[33m     0.01 GB\u001b[0m\u001b[33m \u001b[0m│\u001b[35m \u001b[0m\u001b[35m     5.58 GB\u001b[0m\u001b[35m \u001b[0m│\n",
       "└───────────────────┴───────────────┴──────────────┴──────────────┘\n"
      ]
     },
     "metadata": {},
     "output_type": "display_data"
    },
    {
     "data": {
      "text/html": [
       "<pre style=\"white-space:pre;overflow-x:auto;line-height:normal;font-family:Menlo,'DejaVu Sans Mono',consolas,'Courier New',monospace\">Free memory: <span style=\"color: #00ff00; text-decoration-color: #00ff00; font-weight: bold\">5.58</span><span style=\"color: #00ff00; text-decoration-color: #00ff00\"> GB</span>\n",
       "</pre>\n"
      ],
      "text/plain": [
       "Free memory: \u001b[1;92m5.58\u001b[0m\u001b[92m GB\u001b[0m\n"
      ]
     },
     "metadata": {},
     "output_type": "display_data"
    },
    {
     "data": {
      "text/html": [
       "<pre style=\"white-space:pre;overflow-x:auto;line-height:normal;font-family:Menlo,'DejaVu Sans Mono',consolas,'Courier New',monospace\">Free memory: <span style=\"color: #00ff00; text-decoration-color: #00ff00; font-weight: bold\">5.57</span><span style=\"color: #00ff00; text-decoration-color: #00ff00\"> GB</span>\n",
       "</pre>\n"
      ],
      "text/plain": [
       "Free memory: \u001b[1;92m5.57\u001b[0m\u001b[92m GB\u001b[0m\n"
      ]
     },
     "metadata": {},
     "output_type": "display_data"
    }
   ],
   "source": [
    "# before loading\n",
    "free_mem()\n",
    "try:\n",
    "    with SingletonHost.GetInstanceFromConfig(config) as host:\n",
    "\n",
    "        # after loading\n",
    "        free_mem()\n",
    "except Exception as e:\n",
    "    raise e\n",
    "finally:\n",
    "    # after disposal\n",
    "    free_mem()\n",
    "    "
   ]
  },
  {
   "cell_type": "markdown",
   "metadata": {},
   "source": [
    "## Indexing"
   ]
  },
  {
   "cell_type": "code",
   "execution_count": 3,
   "metadata": {},
   "outputs": [
    {
     "name": "stderr",
     "output_type": "stream",
     "text": [
      "\u001b[42m\u001b[30mINFO    \u001b[0m \u001b[32mRAG: device=cuda\u001b[0m\n"
     ]
    },
    {
     "name": "stderr",
     "output_type": "stream",
     "text": [
      "\u001b[42m\u001b[30mINFO    \u001b[0m \u001b[32mRAG: sqlite=sqlite:///:memory:\u001b[0m\n"
     ]
    },
    {
     "name": "stdout",
     "output_type": "stream",
     "text": [
      "load INSTRUCTOR_Transformer\n",
      "max_seq_length  512\n"
     ]
    },
    {
     "data": {
      "text/html": [
       "<pre style=\"white-space:pre;overflow-x:auto;line-height:normal;font-family:Menlo,'DejaVu Sans Mono',consolas,'Courier New',monospace\"><span style=\"font-style: italic\">                         Performance load                          </span>\n",
       "┏━━━━━━━━━━━━━━━━━━━┳━━━━━━━━━━━━━━━┳━━━━━━━━━━━━━━┳━━━━━━━━━━━━━━┓\n",
       "┃<span style=\"color: #af00ff; text-decoration-color: #af00ff; font-weight: bold\"> Metric            </span>┃<span style=\"color: #af00ff; text-decoration-color: #af00ff; font-weight: bold\"> Initial Value </span>┃<span style=\"color: #af00ff; text-decoration-color: #af00ff; font-weight: bold\"> Change Value </span>┃<span style=\"color: #af00ff; text-decoration-color: #af00ff; font-weight: bold\">  Final Value </span>┃\n",
       "┡━━━━━━━━━━━━━━━━━━━╇━━━━━━━━━━━━━━━╇━━━━━━━━━━━━━━╇━━━━━━━━━━━━━━┩\n",
       "│<span style=\"color: #008080; text-decoration-color: #008080\"> Function Duration </span>│<span style=\"color: #008000; text-decoration-color: #008000\">             - </span>│<span style=\"color: #808000; text-decoration-color: #808000\"> 0.80 seconds </span>│<span style=\"color: #800080; text-decoration-color: #800080\"> 0.80 seconds </span>│\n",
       "│<span style=\"color: #008080; text-decoration-color: #008080\"> CPU Memory        </span>│<span style=\"color: #008000; text-decoration-color: #008000\">          - MB </span>│<span style=\"color: #808000; text-decoration-color: #808000\">      1.49 MB </span>│<span style=\"color: #800080; text-decoration-color: #800080\">      1.49 MB </span>│\n",
       "│<span style=\"color: #008080; text-decoration-color: #008080\"> CUDA Memory       </span>│<span style=\"color: #008000; text-decoration-color: #008000\">       5.56 GB </span>│<span style=\"color: #808000; text-decoration-color: #808000\">     -0.00 GB </span>│<span style=\"color: #800080; text-decoration-color: #800080\">      5.57 GB </span>│\n",
       "└───────────────────┴───────────────┴──────────────┴──────────────┘\n",
       "</pre>\n"
      ],
      "text/plain": [
       "\u001b[3m                         Performance load                          \u001b[0m\n",
       "┏━━━━━━━━━━━━━━━━━━━┳━━━━━━━━━━━━━━━┳━━━━━━━━━━━━━━┳━━━━━━━━━━━━━━┓\n",
       "┃\u001b[1;38;5;129m \u001b[0m\u001b[1;38;5;129mMetric           \u001b[0m\u001b[1;38;5;129m \u001b[0m┃\u001b[1;38;5;129m \u001b[0m\u001b[1;38;5;129mInitial Value\u001b[0m\u001b[1;38;5;129m \u001b[0m┃\u001b[1;38;5;129m \u001b[0m\u001b[1;38;5;129mChange Value\u001b[0m\u001b[1;38;5;129m \u001b[0m┃\u001b[1;38;5;129m \u001b[0m\u001b[1;38;5;129m Final Value\u001b[0m\u001b[1;38;5;129m \u001b[0m┃\n",
       "┡━━━━━━━━━━━━━━━━━━━╇━━━━━━━━━━━━━━━╇━━━━━━━━━━━━━━╇━━━━━━━━━━━━━━┩\n",
       "│\u001b[36m \u001b[0m\u001b[36mFunction Duration\u001b[0m\u001b[36m \u001b[0m│\u001b[32m \u001b[0m\u001b[32m            -\u001b[0m\u001b[32m \u001b[0m│\u001b[33m \u001b[0m\u001b[33m0.80 seconds\u001b[0m\u001b[33m \u001b[0m│\u001b[35m \u001b[0m\u001b[35m0.80 seconds\u001b[0m\u001b[35m \u001b[0m│\n",
       "│\u001b[36m \u001b[0m\u001b[36mCPU Memory       \u001b[0m\u001b[36m \u001b[0m│\u001b[32m \u001b[0m\u001b[32m         - MB\u001b[0m\u001b[32m \u001b[0m│\u001b[33m \u001b[0m\u001b[33m     1.49 MB\u001b[0m\u001b[33m \u001b[0m│\u001b[35m \u001b[0m\u001b[35m     1.49 MB\u001b[0m\u001b[35m \u001b[0m│\n",
       "│\u001b[36m \u001b[0m\u001b[36mCUDA Memory      \u001b[0m\u001b[36m \u001b[0m│\u001b[32m \u001b[0m\u001b[32m      5.56 GB\u001b[0m\u001b[32m \u001b[0m│\u001b[33m \u001b[0m\u001b[33m    -0.00 GB\u001b[0m\u001b[33m \u001b[0m│\u001b[35m \u001b[0m\u001b[35m     5.57 GB\u001b[0m\u001b[35m \u001b[0m│\n",
       "└───────────────────┴───────────────┴──────────────┴──────────────┘\n"
      ]
     },
     "metadata": {},
     "output_type": "display_data"
    },
    {
     "name": "stderr",
     "output_type": "stream",
     "text": [
      "\u001b[42m\u001b[30mINFO    \u001b[0m \u001b[32mrag.index_document_header_async: request started. collection_name=demo file_path=./pm_long_speech_2023.txt title=2023 National Day Rally Speech source=https://www.pmo.gov.sg/Newsroom/2023-National-Day-Rally-Speech abstract=None authors=None publisher=None published_date=None comments=None keywords=None\u001b[0m\n",
      "\u001b[45m\u001b[30mDEBUG   \u001b[0m \u001b[35mrag.index_document_header_async: creating doc header with id=PwR6VmXqAfwjn84ZM6dePsLWTldPv8cNS5dESYlsY2U.\u001b[0m\n",
      "\u001b[45m\u001b[30mDEBUG   \u001b[0m \u001b[35mrag.index_document_header_async: document_header created. id=PwR6VmXqAfwjn84ZM6dePsLWTldPv8cNS5dESYlsY2U\u001b[0m\n",
      "\u001b[42m\u001b[30mINFO    \u001b[0m \u001b[32mrag.index_document_split_async: splitting chunks\u001b[0m\n",
      "\u001b[42m\u001b[30mINFO    \u001b[0m \u001b[32mrag.index_document_split_async: chunkgroup created. chunkgroup_id=e5d1e3bc-bd67-42e4-93f9-126835d5f0f9\u001b[0m\n",
      "100%|██████████| 66/66 [00:00<00:00, 487.85it/s]\n",
      "\u001b[42m\u001b[30mINFO    \u001b[0m \u001b[32mrag.index_document_split_async: chunks created. count=66\u001b[0m\n",
      "\u001b[42m\u001b[30mINFO    \u001b[0m \u001b[32mRAG.index_document_index_async: Start indexing...\u001b[0m\n",
      "0it [00:00, ?it/s]\u001b[45m\u001b[30mDEBUG   \u001b[0m \u001b[35mRAG.index_document_index_async: Indexed 1/66 chunk 2e3b8ed1-bf06-4ad9-8b03-3a6f16f537f0 into collection demo\u001b[0m\n",
      "1it [00:08,  8.87s/it]\u001b[45m\u001b[30mDEBUG   \u001b[0m \u001b[35mRAG.index_document_index_async: Indexed 2/66 chunk f8d44a07-64b5-4f81-b333-159144c139cc into collection demo\u001b[0m\n",
      "\u001b[45m\u001b[30mDEBUG   \u001b[0m \u001b[35mRAG.index_document_index_async: Indexed 3/66 chunk 9042128f-0706-4364-ae03-62cf2b0d03f0 into collection demo\u001b[0m\n",
      "3it [00:09,  2.36s/it]\u001b[45m\u001b[30mDEBUG   \u001b[0m \u001b[35mRAG.index_document_index_async: Indexed 4/66 chunk b4b4e142-0b1b-44ec-af60-0a6326217b7b into collection demo\u001b[0m\n",
      "\u001b[45m\u001b[30mDEBUG   \u001b[0m \u001b[35mRAG.index_document_index_async: Indexed 5/66 chunk a98c8ed0-6b43-4dcb-81b2-33770cdb6b09 into collection demo\u001b[0m\n",
      "5it [00:09,  1.17s/it]\u001b[45m\u001b[30mDEBUG   \u001b[0m \u001b[35mRAG.index_document_index_async: Indexed 6/66 chunk 9d461170-bdf5-4f8e-b55a-c4709ab5587d into collection demo\u001b[0m\n",
      "\u001b[45m\u001b[30mDEBUG   \u001b[0m \u001b[35mRAG.index_document_index_async: Indexed 7/66 chunk e79c1dc7-ace3-465f-893c-234a56f8ef6e into collection demo\u001b[0m\n",
      "7it [00:09,  1.43it/s]\u001b[45m\u001b[30mDEBUG   \u001b[0m \u001b[35mRAG.index_document_index_async: Indexed 8/66 chunk ef171e49-b7bd-40aa-b8e3-2bada85834d1 into collection demo\u001b[0m\n",
      "\u001b[45m\u001b[30mDEBUG   \u001b[0m \u001b[35mRAG.index_document_index_async: Indexed 9/66 chunk 43b17cbf-f1d9-4aff-beb4-5d2301576ec7 into collection demo\u001b[0m\n",
      "\u001b[45m\u001b[30mDEBUG   \u001b[0m \u001b[35mRAG.index_document_index_async: Indexed 10/66 chunk c7a8c445-787e-46fe-a034-0c379f32aa18 into collection demo\u001b[0m\n",
      "10it [00:09,  2.55it/s]\u001b[45m\u001b[30mDEBUG   \u001b[0m \u001b[35mRAG.index_document_index_async: Indexed 11/66 chunk ed437947-3ebd-407b-943e-0cc75e6a5ebb into collection demo\u001b[0m\n",
      "\u001b[45m\u001b[30mDEBUG   \u001b[0m \u001b[35mRAG.index_document_index_async: Indexed 12/66 chunk ad168016-3e49-4969-86b9-8800c85e8175 into collection demo\u001b[0m\n",
      "12it [00:09,  3.50it/s]\u001b[45m\u001b[30mDEBUG   \u001b[0m \u001b[35mRAG.index_document_index_async: Indexed 13/66 chunk 6b5e5e6c-f35e-4111-85ae-57ab4572b061 into collection demo\u001b[0m\n",
      "\u001b[45m\u001b[30mDEBUG   \u001b[0m \u001b[35mRAG.index_document_index_async: Indexed 14/66 chunk 4be354a2-ec29-4230-8e05-739c52a8fbcc into collection demo\u001b[0m\n",
      "\u001b[45m\u001b[30mDEBUG   \u001b[0m \u001b[35mRAG.index_document_index_async: Indexed 15/66 chunk f0036b02-9e4e-4929-9a14-e1fe98207d46 into collection demo\u001b[0m\n",
      "15it [00:09,  5.23it/s]\u001b[45m\u001b[30mDEBUG   \u001b[0m \u001b[35mRAG.index_document_index_async: Indexed 16/66 chunk 05ff4c07-5082-4175-8222-da969f31ba79 into collection demo\u001b[0m\n",
      "\u001b[45m\u001b[30mDEBUG   \u001b[0m \u001b[35mRAG.index_document_index_async: Indexed 17/66 chunk 53764a72-e3bb-46a5-ba12-6ad7d8bedfdf into collection demo\u001b[0m\n",
      "17it [00:09,  6.56it/s]\u001b[45m\u001b[30mDEBUG   \u001b[0m \u001b[35mRAG.index_document_index_async: Indexed 18/66 chunk 7bee7b40-aba5-4b7b-a6d3-2d6911943342 into collection demo\u001b[0m\n",
      "\u001b[45m\u001b[30mDEBUG   \u001b[0m \u001b[35mRAG.index_document_index_async: Indexed 19/66 chunk 3ababe04-8de4-4511-8c9c-babc36eea4f4 into collection demo\u001b[0m\n",
      "\u001b[45m\u001b[30mDEBUG   \u001b[0m \u001b[35mRAG.index_document_index_async: Indexed 20/66 chunk a9f8a6ab-6a55-4b77-844a-4fb0107eb556 into collection demo\u001b[0m\n",
      "20it [00:09,  8.76it/s]\u001b[45m\u001b[30mDEBUG   \u001b[0m \u001b[35mRAG.index_document_index_async: Indexed 21/66 chunk 41c3f2c3-5529-44af-bb6b-3f947f0f04d7 into collection demo\u001b[0m\n",
      "\u001b[45m\u001b[30mDEBUG   \u001b[0m \u001b[35mRAG.index_document_index_async: Indexed 22/66 chunk a73478bc-154a-41ed-a9a7-1c854ca75d43 into collection demo\u001b[0m\n",
      "22it [00:10, 10.18it/s]\u001b[45m\u001b[30mDEBUG   \u001b[0m \u001b[35mRAG.index_document_index_async: Indexed 23/66 chunk 3dda2c7b-a82d-44bd-8eec-166b4139e85a into collection demo\u001b[0m\n",
      "\u001b[45m\u001b[30mDEBUG   \u001b[0m \u001b[35mRAG.index_document_index_async: Indexed 24/66 chunk 5eac16de-f967-4bf9-97d4-31218d65b590 into collection demo\u001b[0m\n",
      "24it [00:10, 11.56it/s]\u001b[45m\u001b[30mDEBUG   \u001b[0m \u001b[35mRAG.index_document_index_async: Indexed 25/66 chunk e35305e0-87ed-49d8-9c72-7cb65d809999 into collection demo\u001b[0m\n",
      "\u001b[45m\u001b[30mDEBUG   \u001b[0m \u001b[35mRAG.index_document_index_async: Indexed 26/66 chunk 305ea5b7-8cd4-4995-aa0f-a693ad48331d into collection demo\u001b[0m\n",
      "26it [00:10, 12.74it/s]\u001b[45m\u001b[30mDEBUG   \u001b[0m \u001b[35mRAG.index_document_index_async: Indexed 27/66 chunk 7ec5ee98-a764-431c-9712-e6f4585fd036 into collection demo\u001b[0m\n",
      "\u001b[45m\u001b[30mDEBUG   \u001b[0m \u001b[35mRAG.index_document_index_async: Indexed 28/66 chunk 56af56bb-9120-4ea2-a205-c20a7d0a11c0 into collection demo\u001b[0m\n",
      "28it [00:10, 13.29it/s]\u001b[45m\u001b[30mDEBUG   \u001b[0m \u001b[35mRAG.index_document_index_async: Indexed 29/66 chunk ccba3a60-a1d3-4ce6-a832-aaadde04ddbf into collection demo\u001b[0m\n",
      "\u001b[45m\u001b[30mDEBUG   \u001b[0m \u001b[35mRAG.index_document_index_async: Indexed 30/66 chunk 8ce263c9-df73-4eec-9a5d-e791a65b32e5 into collection demo\u001b[0m\n",
      "30it [00:10, 14.57it/s]\u001b[45m\u001b[30mDEBUG   \u001b[0m \u001b[35mRAG.index_document_index_async: Indexed 31/66 chunk 1dde57f1-7230-43f2-a201-e96429f06f08 into collection demo\u001b[0m\n",
      "\u001b[45m\u001b[30mDEBUG   \u001b[0m \u001b[35mRAG.index_document_index_async: Indexed 32/66 chunk 07c90680-4516-490a-8478-8a160bca056d into collection demo\u001b[0m\n",
      "32it [00:10, 15.23it/s]\u001b[45m\u001b[30mDEBUG   \u001b[0m \u001b[35mRAG.index_document_index_async: Indexed 33/66 chunk cdb843b2-6afc-437a-9c2a-d099abb34db8 into collection demo\u001b[0m\n",
      "\u001b[45m\u001b[30mDEBUG   \u001b[0m \u001b[35mRAG.index_document_index_async: Indexed 34/66 chunk b0eb61b8-d49d-424c-9567-9257f78e622c into collection demo\u001b[0m\n",
      "34it [00:10, 14.87it/s]\u001b[45m\u001b[30mDEBUG   \u001b[0m \u001b[35mRAG.index_document_index_async: Indexed 35/66 chunk b8efdb0d-0671-45cd-964f-655f19bf60f3 into collection demo\u001b[0m\n",
      "\u001b[45m\u001b[30mDEBUG   \u001b[0m \u001b[35mRAG.index_document_index_async: Indexed 36/66 chunk 2e42cacd-1104-4273-ab4e-536519b47d29 into collection demo\u001b[0m\n",
      "36it [00:10, 14.35it/s]\u001b[45m\u001b[30mDEBUG   \u001b[0m \u001b[35mRAG.index_document_index_async: Indexed 37/66 chunk 266dfb9a-ddec-44aa-954a-3c2131f7458d into collection demo\u001b[0m\n",
      "\u001b[45m\u001b[30mDEBUG   \u001b[0m \u001b[35mRAG.index_document_index_async: Indexed 38/66 chunk aa1e0d9b-d963-41df-b7f8-47990095bfa0 into collection demo\u001b[0m\n",
      "38it [00:11, 13.73it/s]\u001b[45m\u001b[30mDEBUG   \u001b[0m \u001b[35mRAG.index_document_index_async: Indexed 39/66 chunk 8451994c-a35d-4ea6-8940-cc0e70beaf44 into collection demo\u001b[0m\n",
      "\u001b[45m\u001b[30mDEBUG   \u001b[0m \u001b[35mRAG.index_document_index_async: Indexed 40/66 chunk 34ccd452-bce1-403f-8d03-26d4496a0a70 into collection demo\u001b[0m\n",
      "40it [00:11, 14.50it/s]\u001b[45m\u001b[30mDEBUG   \u001b[0m \u001b[35mRAG.index_document_index_async: Indexed 41/66 chunk 469e6e1b-4fd8-439b-93f5-100c6f212d9a into collection demo\u001b[0m\n",
      "\u001b[45m\u001b[30mDEBUG   \u001b[0m \u001b[35mRAG.index_document_index_async: Indexed 42/66 chunk cbf357db-592f-4f97-806a-8d603c7d4c63 into collection demo\u001b[0m\n",
      "42it [00:11, 15.46it/s]\u001b[45m\u001b[30mDEBUG   \u001b[0m \u001b[35mRAG.index_document_index_async: Indexed 43/66 chunk be6b6194-bc5a-4655-a649-bbb2d9d58ffb into collection demo\u001b[0m\n",
      "\u001b[45m\u001b[30mDEBUG   \u001b[0m \u001b[35mRAG.index_document_index_async: Indexed 44/66 chunk 3db712b7-0485-48a6-b4ac-7dcce70a0ed2 into collection demo\u001b[0m\n",
      "44it [00:11, 15.40it/s]\u001b[45m\u001b[30mDEBUG   \u001b[0m \u001b[35mRAG.index_document_index_async: Indexed 45/66 chunk 42197ac5-2ddb-409e-88b6-2215ad4c9188 into collection demo\u001b[0m\n",
      "\u001b[45m\u001b[30mDEBUG   \u001b[0m \u001b[35mRAG.index_document_index_async: Indexed 46/66 chunk 6c837a49-398a-49de-9364-129e6635bec6 into collection demo\u001b[0m\n",
      "46it [00:11, 16.51it/s]\u001b[45m\u001b[30mDEBUG   \u001b[0m \u001b[35mRAG.index_document_index_async: Indexed 47/66 chunk a8be4fa5-864a-4ccd-99d3-420d819036c5 into collection demo\u001b[0m\n",
      "\u001b[45m\u001b[30mDEBUG   \u001b[0m \u001b[35mRAG.index_document_index_async: Indexed 48/66 chunk 02c42252-d8f5-4fd0-9859-4d31725a1cf5 into collection demo\u001b[0m\n",
      "48it [00:11, 16.75it/s]\u001b[45m\u001b[30mDEBUG   \u001b[0m \u001b[35mRAG.index_document_index_async: Indexed 49/66 chunk 15e5945d-1a62-4dee-a0c8-ad8abc8feda9 into collection demo\u001b[0m\n",
      "\u001b[45m\u001b[30mDEBUG   \u001b[0m \u001b[35mRAG.index_document_index_async: Indexed 50/66 chunk 16f52e52-ede8-4c91-8a19-dc63bdffa464 into collection demo\u001b[0m\n",
      "\u001b[45m\u001b[30mDEBUG   \u001b[0m \u001b[35mRAG.index_document_index_async: Indexed 51/66 chunk 28cef816-e5fd-45af-bc8a-a690f1857644 into collection demo\u001b[0m\n",
      "51it [00:11, 17.82it/s]\u001b[45m\u001b[30mDEBUG   \u001b[0m \u001b[35mRAG.index_document_index_async: Indexed 52/66 chunk bcc16b48-96a9-447f-a390-03ea05d9f264 into collection demo\u001b[0m\n",
      "\u001b[45m\u001b[30mDEBUG   \u001b[0m \u001b[35mRAG.index_document_index_async: Indexed 53/66 chunk ea518483-bebe-4e11-8330-cb3d89687fc6 into collection demo\u001b[0m\n",
      "53it [00:11, 17.46it/s]\u001b[45m\u001b[30mDEBUG   \u001b[0m \u001b[35mRAG.index_document_index_async: Indexed 54/66 chunk b254fffb-fcd1-4c67-9422-db1ca3a294b1 into collection demo\u001b[0m\n",
      "\u001b[45m\u001b[30mDEBUG   \u001b[0m \u001b[35mRAG.index_document_index_async: Indexed 55/66 chunk ec2f02e0-d645-45bc-90a7-2439881aa9a7 into collection demo\u001b[0m\n",
      "55it [00:11, 18.10it/s]\u001b[45m\u001b[30mDEBUG   \u001b[0m \u001b[35mRAG.index_document_index_async: Indexed 56/66 chunk fd615cea-fd24-4a4a-bf36-e7088e5d263b into collection demo\u001b[0m\n",
      "\u001b[45m\u001b[30mDEBUG   \u001b[0m \u001b[35mRAG.index_document_index_async: Indexed 57/66 chunk 096617eb-601b-4f4b-ac82-3211e3209d3b into collection demo\u001b[0m\n",
      "57it [00:12, 17.42it/s]\u001b[45m\u001b[30mDEBUG   \u001b[0m \u001b[35mRAG.index_document_index_async: Indexed 58/66 chunk b6914df9-dd0b-4937-83fc-75c817887d14 into collection demo\u001b[0m\n",
      "\u001b[45m\u001b[30mDEBUG   \u001b[0m \u001b[35mRAG.index_document_index_async: Indexed 59/66 chunk 1292ade9-df83-460d-8e3b-fef85d9eac3e into collection demo\u001b[0m\n",
      "59it [00:12, 17.18it/s]\u001b[45m\u001b[30mDEBUG   \u001b[0m \u001b[35mRAG.index_document_index_async: Indexed 60/66 chunk e1ba2adb-bbc9-4190-bae2-085a2129c081 into collection demo\u001b[0m\n",
      "\u001b[45m\u001b[30mDEBUG   \u001b[0m \u001b[35mRAG.index_document_index_async: Indexed 61/66 chunk a3d51385-d7c1-401d-a0b8-82d61a6cd800 into collection demo\u001b[0m\n",
      "61it [00:12, 16.96it/s]\u001b[45m\u001b[30mDEBUG   \u001b[0m \u001b[35mRAG.index_document_index_async: Indexed 62/66 chunk 8c63c308-dadb-4822-9949-ba8769ce575b into collection demo\u001b[0m\n",
      "\u001b[45m\u001b[30mDEBUG   \u001b[0m \u001b[35mRAG.index_document_index_async: Indexed 63/66 chunk 3775a283-caf6-4eea-9f97-8f3ef633ad00 into collection demo\u001b[0m\n",
      "63it [00:12, 17.19it/s]\u001b[45m\u001b[30mDEBUG   \u001b[0m \u001b[35mRAG.index_document_index_async: Indexed 64/66 chunk ba80cd24-c978-4ee3-a9eb-add9b1cb6839 into collection demo\u001b[0m\n",
      "\u001b[45m\u001b[30mDEBUG   \u001b[0m \u001b[35mRAG.index_document_index_async: Indexed 65/66 chunk 8c6285a9-6026-4de5-acdd-b8a4333ae34c into collection demo\u001b[0m\n",
      "65it [00:12, 16.79it/s]\u001b[45m\u001b[30mDEBUG   \u001b[0m \u001b[35mRAG.index_document_index_async: Indexed 66/66 chunk 1b6e3bb1-75a4-439b-adee-e645ecfe09fc into collection demo\u001b[0m\n",
      "66it [00:12,  5.21it/s]\n",
      "\u001b[42m\u001b[30mINFO    \u001b[0m \u001b[32mRAG.index_async: indexing...done\u001b[0m\n"
     ]
    },
    {
     "data": {
      "text/html": [
       "<pre style=\"white-space:pre;overflow-x:auto;line-height:normal;font-family:Menlo,'DejaVu Sans Mono',consolas,'Courier New',monospace\">Free memory: <span style=\"color: #00ff00; text-decoration-color: #00ff00; font-weight: bold\">5.44</span><span style=\"color: #00ff00; text-decoration-color: #00ff00\"> GB</span>\n",
       "</pre>\n"
      ],
      "text/plain": [
       "Free memory: \u001b[1;92m5.44\u001b[0m\u001b[92m GB\u001b[0m\n"
      ]
     },
     "metadata": {},
     "output_type": "display_data"
    }
   ],
   "source": [
    "from gai.rag.server.gai_rag import RAG\n",
    "from gai.rag.dtos.create_doc_header_request import CreateDocHeaderRequestPydantic\n",
    "try:\n",
    "    with SingletonHost.GetInstanceFromConfig(config) as host:\n",
    "        rag = host.generator\n",
    "\n",
    "        req = CreateDocHeaderRequestPydantic(\n",
    "            CollectionName='demo',\n",
    "            FileType='txt',\n",
    "            Source='https://www.pmo.gov.sg/Newsroom/2023-National-Day-Rally-Speech',\n",
    "            Title='2023 National Day Rally Speech',\n",
    "            FilePath=\"./pm_long_speech_2023.txt\"\n",
    "        )\n",
    "\n",
    "\n",
    "        # Index\n",
    "        doc_id = await rag.index_async(\n",
    "            req=req\n",
    "            # collection_name='demo',\n",
    "            # file_type='txt',\n",
    "            # source=\"https://www.pmo.gov.sg/Newsroom/2023-National-Day-Rally-Speech\",\n",
    "            # title=\"2023 National Day Rally Speech\"\n",
    "            )\n",
    "\n",
    "except Exception as e:\n",
    "    raise e\n",
    "finally:\n",
    "    # after disposal\n",
    "    free_mem()\n"
   ]
  },
  {
   "cell_type": "code",
   "execution_count": 4,
   "metadata": {},
   "outputs": [
    {
     "name": "stderr",
     "output_type": "stream",
     "text": [
      "\u001b[42m\u001b[30mINFO    \u001b[0m \u001b[32mRAG: device=cuda\u001b[0m\n",
      "\u001b[42m\u001b[30mINFO    \u001b[0m \u001b[32mRAG: sqlite=sqlite:///:memory:\u001b[0m\n"
     ]
    },
    {
     "name": "stdout",
     "output_type": "stream",
     "text": [
      "load INSTRUCTOR_Transformer\n",
      "max_seq_length  512\n"
     ]
    },
    {
     "data": {
      "text/html": [
       "<pre style=\"white-space:pre;overflow-x:auto;line-height:normal;font-family:Menlo,'DejaVu Sans Mono',consolas,'Courier New',monospace\"><span style=\"font-style: italic\">                         Performance load                          </span>\n",
       "┏━━━━━━━━━━━━━━━━━━━┳━━━━━━━━━━━━━━━┳━━━━━━━━━━━━━━┳━━━━━━━━━━━━━━┓\n",
       "┃<span style=\"color: #af00ff; text-decoration-color: #af00ff; font-weight: bold\"> Metric            </span>┃<span style=\"color: #af00ff; text-decoration-color: #af00ff; font-weight: bold\"> Initial Value </span>┃<span style=\"color: #af00ff; text-decoration-color: #af00ff; font-weight: bold\"> Change Value </span>┃<span style=\"color: #af00ff; text-decoration-color: #af00ff; font-weight: bold\">  Final Value </span>┃\n",
       "┡━━━━━━━━━━━━━━━━━━━╇━━━━━━━━━━━━━━━╇━━━━━━━━━━━━━━╇━━━━━━━━━━━━━━┩\n",
       "│<span style=\"color: #008080; text-decoration-color: #008080\"> Function Duration </span>│<span style=\"color: #008000; text-decoration-color: #008000\">             - </span>│<span style=\"color: #808000; text-decoration-color: #808000\"> 0.87 seconds </span>│<span style=\"color: #800080; text-decoration-color: #800080\"> 0.87 seconds </span>│\n",
       "│<span style=\"color: #008080; text-decoration-color: #008080\"> CPU Memory        </span>│<span style=\"color: #008000; text-decoration-color: #008000\">          - MB </span>│<span style=\"color: #808000; text-decoration-color: #808000\">      1.50 MB </span>│<span style=\"color: #800080; text-decoration-color: #800080\">      1.50 MB </span>│\n",
       "│<span style=\"color: #008080; text-decoration-color: #008080\"> CUDA Memory       </span>│<span style=\"color: #008000; text-decoration-color: #008000\">       5.43 GB </span>│<span style=\"color: #808000; text-decoration-color: #808000\">     -0.00 GB </span>│<span style=\"color: #800080; text-decoration-color: #800080\">      5.43 GB </span>│\n",
       "└───────────────────┴───────────────┴──────────────┴──────────────┘\n",
       "</pre>\n"
      ],
      "text/plain": [
       "\u001b[3m                         Performance load                          \u001b[0m\n",
       "┏━━━━━━━━━━━━━━━━━━━┳━━━━━━━━━━━━━━━┳━━━━━━━━━━━━━━┳━━━━━━━━━━━━━━┓\n",
       "┃\u001b[1;38;5;129m \u001b[0m\u001b[1;38;5;129mMetric           \u001b[0m\u001b[1;38;5;129m \u001b[0m┃\u001b[1;38;5;129m \u001b[0m\u001b[1;38;5;129mInitial Value\u001b[0m\u001b[1;38;5;129m \u001b[0m┃\u001b[1;38;5;129m \u001b[0m\u001b[1;38;5;129mChange Value\u001b[0m\u001b[1;38;5;129m \u001b[0m┃\u001b[1;38;5;129m \u001b[0m\u001b[1;38;5;129m Final Value\u001b[0m\u001b[1;38;5;129m \u001b[0m┃\n",
       "┡━━━━━━━━━━━━━━━━━━━╇━━━━━━━━━━━━━━━╇━━━━━━━━━━━━━━╇━━━━━━━━━━━━━━┩\n",
       "│\u001b[36m \u001b[0m\u001b[36mFunction Duration\u001b[0m\u001b[36m \u001b[0m│\u001b[32m \u001b[0m\u001b[32m            -\u001b[0m\u001b[32m \u001b[0m│\u001b[33m \u001b[0m\u001b[33m0.87 seconds\u001b[0m\u001b[33m \u001b[0m│\u001b[35m \u001b[0m\u001b[35m0.87 seconds\u001b[0m\u001b[35m \u001b[0m│\n",
       "│\u001b[36m \u001b[0m\u001b[36mCPU Memory       \u001b[0m\u001b[36m \u001b[0m│\u001b[32m \u001b[0m\u001b[32m         - MB\u001b[0m\u001b[32m \u001b[0m│\u001b[33m \u001b[0m\u001b[33m     1.50 MB\u001b[0m\u001b[33m \u001b[0m│\u001b[35m \u001b[0m\u001b[35m     1.50 MB\u001b[0m\u001b[35m \u001b[0m│\n",
       "│\u001b[36m \u001b[0m\u001b[36mCUDA Memory      \u001b[0m\u001b[36m \u001b[0m│\u001b[32m \u001b[0m\u001b[32m      5.43 GB\u001b[0m\u001b[32m \u001b[0m│\u001b[33m \u001b[0m\u001b[33m    -0.00 GB\u001b[0m\u001b[33m \u001b[0m│\u001b[35m \u001b[0m\u001b[35m     5.43 GB\u001b[0m\u001b[35m \u001b[0m│\n",
       "└───────────────────┴───────────────┴──────────────┴──────────────┘\n"
      ]
     },
     "metadata": {},
     "output_type": "display_data"
    },
    {
     "name": "stderr",
     "output_type": "stream",
     "text": [
      "\u001b[42m\u001b[30mINFO    \u001b[0m \u001b[32mRAG.retrieve: Retrieving by query Who are the young seniors?...\u001b[0m\n"
     ]
    },
    {
     "data": {
      "text/html": [
       "<pre style=\"white-space:pre;overflow-x:auto;line-height:normal;font-family:Menlo,'DejaVu Sans Mono',consolas,'Courier New',monospace\"><span style=\"font-weight: bold\">[</span>\n",
       "    <span style=\"font-weight: bold\">{</span>\n",
       "        <span style=\"color: #008000; text-decoration-color: #008000\">'documents'</span>: <span style=\"color: #008000; text-decoration-color: #008000\">'Especially for those in their 50s and early 60s. Let us call them the “Young Seniors”. </span>\n",
       "<span style=\"color: #008000; text-decoration-color: #008000\">\"Young”, because you are younger than the Pioneer Generation and the Merdeka Generation; “Seniors”, because you </span>\n",
       "<span style=\"color: #008000; text-decoration-color: #008000\">will soon retire, or maybe you have recently retired.'</span>,\n",
       "        <span style=\"color: #008000; text-decoration-color: #008000\">'metadatas'</span>: <span style=\"font-weight: bold\">{</span>\n",
       "            <span style=\"color: #008000; text-decoration-color: #008000\">'Abstract'</span>: <span style=\"color: #008000; text-decoration-color: #008000\">''</span>,\n",
       "            <span style=\"color: #008000; text-decoration-color: #008000\">'ChunkGroupId'</span>: <span style=\"color: #008000; text-decoration-color: #008000\">'e5d1e3bc-bd67-42e4-93f9-126835d5f0f9'</span>,\n",
       "            <span style=\"color: #008000; text-decoration-color: #008000\">'DocumentId'</span>: <span style=\"color: #008000; text-decoration-color: #008000\">'PwR6VmXqAfwjn84ZM6dePsLWTldPv8cNS5dESYlsY2U'</span>,\n",
       "            <span style=\"color: #008000; text-decoration-color: #008000\">'Keywords'</span>: <span style=\"color: #008000; text-decoration-color: #008000\">''</span>,\n",
       "            <span style=\"color: #008000; text-decoration-color: #008000\">'PublishedDate'</span>: <span style=\"color: #008000; text-decoration-color: #008000\">''</span>,\n",
       "            <span style=\"color: #008000; text-decoration-color: #008000\">'Source'</span>: <span style=\"color: #008000; text-decoration-color: #008000\">'https://www.pmo.gov.sg/Newsroom/2023-National-Day-Rally-Speech'</span>,\n",
       "            <span style=\"color: #008000; text-decoration-color: #008000\">'Title'</span>: <span style=\"color: #008000; text-decoration-color: #008000\">'2023 National Day Rally Speech'</span>\n",
       "        <span style=\"font-weight: bold\">}</span>,\n",
       "        <span style=\"color: #008000; text-decoration-color: #008000\">'distances'</span>: <span style=\"color: #008080; text-decoration-color: #008080; font-weight: bold\">0.09020859003067017</span>,\n",
       "        <span style=\"color: #008000; text-decoration-color: #008000\">'ids'</span>: <span style=\"color: #008000; text-decoration-color: #008000\">'e1ba2adb-bbc9-4190-bae2-085a2129c081'</span>\n",
       "    <span style=\"font-weight: bold\">}</span>,\n",
       "    <span style=\"font-weight: bold\">{</span>\n",
       "        <span style=\"color: #008000; text-decoration-color: #008000\">'documents'</span>: <span style=\"color: #008000; text-decoration-color: #008000\">'Young Seniors are in a unique position today. Compared to the Pioneer and Merdeka </span>\n",
       "<span style=\"color: #008000; text-decoration-color: #008000\">Generations, you have benefited more from Singapore’s growth, and generally done better in life. But compared to </span>\n",
       "<span style=\"color: #008000; text-decoration-color: #008000\">workers younger than you, in their 30s and 40s today, you have generally earned less over your lifetimes. You have </span>\n",
       "<span style=\"color: #008000; text-decoration-color: #008000\">also had less time to benefit from improvements to the CPF system, and so have built up less retirement savings. </span>\n",
       "<span style=\"color: #008000; text-decoration-color: #008000\">Young Seniors are also in a particularly sandwiched phase of your lives. You have to shoulder the responsibility of</span>\n",
       "<span style=\"color: #008000; text-decoration-color: #008000\">caring for both the young and old in your families. Your kids may be young adults, but often are not yet fully </span>\n",
       "<span style=\"color: #008000; text-decoration-color: #008000\">independent and still live in the same household. Many of you Young Seniors also have elderly parents at home, who </span>\n",
       "<span style=\"color: #008000; text-decoration-color: #008000\">may be beset with the infirmities of old age. You have to shuttle them to medical appointments and hospital visits,</span>\n",
       "<span style=\"color: #008000; text-decoration-color: #008000\">plus attend to their everyday needs. All this, while watching your own health, because you are not so youthful'</span>,\n",
       "        <span style=\"color: #008000; text-decoration-color: #008000\">'metadatas'</span>: <span style=\"font-weight: bold\">{</span>\n",
       "            <span style=\"color: #008000; text-decoration-color: #008000\">'Abstract'</span>: <span style=\"color: #008000; text-decoration-color: #008000\">''</span>,\n",
       "            <span style=\"color: #008000; text-decoration-color: #008000\">'ChunkGroupId'</span>: <span style=\"color: #008000; text-decoration-color: #008000\">'e5d1e3bc-bd67-42e4-93f9-126835d5f0f9'</span>,\n",
       "            <span style=\"color: #008000; text-decoration-color: #008000\">'DocumentId'</span>: <span style=\"color: #008000; text-decoration-color: #008000\">'PwR6VmXqAfwjn84ZM6dePsLWTldPv8cNS5dESYlsY2U'</span>,\n",
       "            <span style=\"color: #008000; text-decoration-color: #008000\">'Keywords'</span>: <span style=\"color: #008000; text-decoration-color: #008000\">''</span>,\n",
       "            <span style=\"color: #008000; text-decoration-color: #008000\">'PublishedDate'</span>: <span style=\"color: #008000; text-decoration-color: #008000\">''</span>,\n",
       "            <span style=\"color: #008000; text-decoration-color: #008000\">'Source'</span>: <span style=\"color: #008000; text-decoration-color: #008000\">'https://www.pmo.gov.sg/Newsroom/2023-National-Day-Rally-Speech'</span>,\n",
       "            <span style=\"color: #008000; text-decoration-color: #008000\">'Title'</span>: <span style=\"color: #008000; text-decoration-color: #008000\">'2023 National Day Rally Speech'</span>\n",
       "        <span style=\"font-weight: bold\">}</span>,\n",
       "        <span style=\"color: #008000; text-decoration-color: #008000\">'distances'</span>: <span style=\"color: #008080; text-decoration-color: #008080; font-weight: bold\">0.11518943309783936</span>,\n",
       "        <span style=\"color: #008000; text-decoration-color: #008000\">'ids'</span>: <span style=\"color: #008000; text-decoration-color: #008000\">'1292ade9-df83-460d-8e3b-fef85d9eac3e'</span>\n",
       "    <span style=\"font-weight: bold\">}</span>,\n",
       "    <span style=\"font-weight: bold\">{</span>\n",
       "        <span style=\"color: #008000; text-decoration-color: #008000\">'documents'</span>: <span style=\"color: #008000; text-decoration-color: #008000\">'to their everyday needs. All this, while watching your own health, because you are not so </span>\n",
       "<span style=\"color: #008000; text-decoration-color: #008000\">youthful yourselves. Responsibilities on all these fronts multiply your burdens. So, as Young Seniors, you are </span>\n",
       "<span style=\"color: #008000; text-decoration-color: #008000\">understandably anxious about your retirement needs. Beyond the daily cost of living pressures, you know that </span>\n",
       "<span style=\"color: #008000; text-decoration-color: #008000\">retirement is creeping up on you. You wonder: Will I have enough to get by? Can I cope? But do not worry – the </span>\n",
       "<span style=\"color: #008000; text-decoration-color: #008000\">Government will help you. You will not be left behind.'</span>,\n",
       "        <span style=\"color: #008000; text-decoration-color: #008000\">'metadatas'</span>: <span style=\"font-weight: bold\">{</span>\n",
       "            <span style=\"color: #008000; text-decoration-color: #008000\">'Abstract'</span>: <span style=\"color: #008000; text-decoration-color: #008000\">''</span>,\n",
       "            <span style=\"color: #008000; text-decoration-color: #008000\">'ChunkGroupId'</span>: <span style=\"color: #008000; text-decoration-color: #008000\">'e5d1e3bc-bd67-42e4-93f9-126835d5f0f9'</span>,\n",
       "            <span style=\"color: #008000; text-decoration-color: #008000\">'DocumentId'</span>: <span style=\"color: #008000; text-decoration-color: #008000\">'PwR6VmXqAfwjn84ZM6dePsLWTldPv8cNS5dESYlsY2U'</span>,\n",
       "            <span style=\"color: #008000; text-decoration-color: #008000\">'Keywords'</span>: <span style=\"color: #008000; text-decoration-color: #008000\">''</span>,\n",
       "            <span style=\"color: #008000; text-decoration-color: #008000\">'PublishedDate'</span>: <span style=\"color: #008000; text-decoration-color: #008000\">''</span>,\n",
       "            <span style=\"color: #008000; text-decoration-color: #008000\">'Source'</span>: <span style=\"color: #008000; text-decoration-color: #008000\">'https://www.pmo.gov.sg/Newsroom/2023-National-Day-Rally-Speech'</span>,\n",
       "            <span style=\"color: #008000; text-decoration-color: #008000\">'Title'</span>: <span style=\"color: #008000; text-decoration-color: #008000\">'2023 National Day Rally Speech'</span>\n",
       "        <span style=\"font-weight: bold\">}</span>,\n",
       "        <span style=\"color: #008000; text-decoration-color: #008000\">'distances'</span>: <span style=\"color: #008080; text-decoration-color: #008080; font-weight: bold\">0.11691617965698242</span>,\n",
       "        <span style=\"color: #008000; text-decoration-color: #008000\">'ids'</span>: <span style=\"color: #008000; text-decoration-color: #008000\">'b6914df9-dd0b-4937-83fc-75c817887d14'</span>\n",
       "    <span style=\"font-weight: bold\">}</span>\n",
       "<span style=\"font-weight: bold\">]</span>\n",
       "</pre>\n"
      ],
      "text/plain": [
       "\u001b[1m[\u001b[0m\n",
       "    \u001b[1m{\u001b[0m\n",
       "        \u001b[32m'documents'\u001b[0m: \u001b[32m'Especially for those in their 50s and early 60s. Let us call them the “Young Seniors”. \u001b[0m\n",
       "\u001b[32m\"Young”, because you are younger than the Pioneer Generation and the Merdeka Generation; “Seniors”, because you \u001b[0m\n",
       "\u001b[32mwill soon retire, or maybe you have recently retired.'\u001b[0m,\n",
       "        \u001b[32m'metadatas'\u001b[0m: \u001b[1m{\u001b[0m\n",
       "            \u001b[32m'Abstract'\u001b[0m: \u001b[32m''\u001b[0m,\n",
       "            \u001b[32m'ChunkGroupId'\u001b[0m: \u001b[32m'e5d1e3bc-bd67-42e4-93f9-126835d5f0f9'\u001b[0m,\n",
       "            \u001b[32m'DocumentId'\u001b[0m: \u001b[32m'PwR6VmXqAfwjn84ZM6dePsLWTldPv8cNS5dESYlsY2U'\u001b[0m,\n",
       "            \u001b[32m'Keywords'\u001b[0m: \u001b[32m''\u001b[0m,\n",
       "            \u001b[32m'PublishedDate'\u001b[0m: \u001b[32m''\u001b[0m,\n",
       "            \u001b[32m'Source'\u001b[0m: \u001b[32m'https://www.pmo.gov.sg/Newsroom/2023-National-Day-Rally-Speech'\u001b[0m,\n",
       "            \u001b[32m'Title'\u001b[0m: \u001b[32m'2023 National Day Rally Speech'\u001b[0m\n",
       "        \u001b[1m}\u001b[0m,\n",
       "        \u001b[32m'distances'\u001b[0m: \u001b[1;36m0.09020859003067017\u001b[0m,\n",
       "        \u001b[32m'ids'\u001b[0m: \u001b[32m'e1ba2adb-bbc9-4190-bae2-085a2129c081'\u001b[0m\n",
       "    \u001b[1m}\u001b[0m,\n",
       "    \u001b[1m{\u001b[0m\n",
       "        \u001b[32m'documents'\u001b[0m: \u001b[32m'Young Seniors are in a unique position today. Compared to the Pioneer and Merdeka \u001b[0m\n",
       "\u001b[32mGenerations, you have benefited more from Singapore’s growth, and generally done better in life. But compared to \u001b[0m\n",
       "\u001b[32mworkers younger than you, in their 30s and 40s today, you have generally earned less over your lifetimes. You have \u001b[0m\n",
       "\u001b[32malso had less time to benefit from improvements to the CPF system, and so have built up less retirement savings. \u001b[0m\n",
       "\u001b[32mYoung Seniors are also in a particularly sandwiched phase of your lives. You have to shoulder the responsibility of\u001b[0m\n",
       "\u001b[32mcaring for both the young and old in your families. Your kids may be young adults, but often are not yet fully \u001b[0m\n",
       "\u001b[32mindependent and still live in the same household. Many of you Young Seniors also have elderly parents at home, who \u001b[0m\n",
       "\u001b[32mmay be beset with the infirmities of old age. You have to shuttle them to medical appointments and hospital visits,\u001b[0m\n",
       "\u001b[32mplus attend to their everyday needs. All this, while watching your own health, because you are not so youthful'\u001b[0m,\n",
       "        \u001b[32m'metadatas'\u001b[0m: \u001b[1m{\u001b[0m\n",
       "            \u001b[32m'Abstract'\u001b[0m: \u001b[32m''\u001b[0m,\n",
       "            \u001b[32m'ChunkGroupId'\u001b[0m: \u001b[32m'e5d1e3bc-bd67-42e4-93f9-126835d5f0f9'\u001b[0m,\n",
       "            \u001b[32m'DocumentId'\u001b[0m: \u001b[32m'PwR6VmXqAfwjn84ZM6dePsLWTldPv8cNS5dESYlsY2U'\u001b[0m,\n",
       "            \u001b[32m'Keywords'\u001b[0m: \u001b[32m''\u001b[0m,\n",
       "            \u001b[32m'PublishedDate'\u001b[0m: \u001b[32m''\u001b[0m,\n",
       "            \u001b[32m'Source'\u001b[0m: \u001b[32m'https://www.pmo.gov.sg/Newsroom/2023-National-Day-Rally-Speech'\u001b[0m,\n",
       "            \u001b[32m'Title'\u001b[0m: \u001b[32m'2023 National Day Rally Speech'\u001b[0m\n",
       "        \u001b[1m}\u001b[0m,\n",
       "        \u001b[32m'distances'\u001b[0m: \u001b[1;36m0.11518943309783936\u001b[0m,\n",
       "        \u001b[32m'ids'\u001b[0m: \u001b[32m'1292ade9-df83-460d-8e3b-fef85d9eac3e'\u001b[0m\n",
       "    \u001b[1m}\u001b[0m,\n",
       "    \u001b[1m{\u001b[0m\n",
       "        \u001b[32m'documents'\u001b[0m: \u001b[32m'to their everyday needs. All this, while watching your own health, because you are not so \u001b[0m\n",
       "\u001b[32myouthful yourselves. Responsibilities on all these fronts multiply your burdens. So, as Young Seniors, you are \u001b[0m\n",
       "\u001b[32munderstandably anxious about your retirement needs. Beyond the daily cost of living pressures, you know that \u001b[0m\n",
       "\u001b[32mretirement is creeping up on you. You wonder: Will I have enough to get by? Can I cope? But do not worry – the \u001b[0m\n",
       "\u001b[32mGovernment will help you. You will not be left behind.'\u001b[0m,\n",
       "        \u001b[32m'metadatas'\u001b[0m: \u001b[1m{\u001b[0m\n",
       "            \u001b[32m'Abstract'\u001b[0m: \u001b[32m''\u001b[0m,\n",
       "            \u001b[32m'ChunkGroupId'\u001b[0m: \u001b[32m'e5d1e3bc-bd67-42e4-93f9-126835d5f0f9'\u001b[0m,\n",
       "            \u001b[32m'DocumentId'\u001b[0m: \u001b[32m'PwR6VmXqAfwjn84ZM6dePsLWTldPv8cNS5dESYlsY2U'\u001b[0m,\n",
       "            \u001b[32m'Keywords'\u001b[0m: \u001b[32m''\u001b[0m,\n",
       "            \u001b[32m'PublishedDate'\u001b[0m: \u001b[32m''\u001b[0m,\n",
       "            \u001b[32m'Source'\u001b[0m: \u001b[32m'https://www.pmo.gov.sg/Newsroom/2023-National-Day-Rally-Speech'\u001b[0m,\n",
       "            \u001b[32m'Title'\u001b[0m: \u001b[32m'2023 National Day Rally Speech'\u001b[0m\n",
       "        \u001b[1m}\u001b[0m,\n",
       "        \u001b[32m'distances'\u001b[0m: \u001b[1;36m0.11691617965698242\u001b[0m,\n",
       "        \u001b[32m'ids'\u001b[0m: \u001b[32m'b6914df9-dd0b-4937-83fc-75c817887d14'\u001b[0m\n",
       "    \u001b[1m}\u001b[0m\n",
       "\u001b[1m]\u001b[0m\n"
      ]
     },
     "metadata": {},
     "output_type": "display_data"
    },
    {
     "data": {
      "text/html": [
       "<pre style=\"white-space:pre;overflow-x:auto;line-height:normal;font-family:Menlo,'DejaVu Sans Mono',consolas,'Courier New',monospace\">Free memory: <span style=\"color: #00ff00; text-decoration-color: #00ff00; font-weight: bold\">5.44</span><span style=\"color: #00ff00; text-decoration-color: #00ff00\"> GB</span>\n",
       "</pre>\n"
      ],
      "text/plain": [
       "Free memory: \u001b[1;92m5.44\u001b[0m\u001b[92m GB\u001b[0m\n"
      ]
     },
     "metadata": {},
     "output_type": "display_data"
    }
   ],
   "source": [
    "try:\n",
    "    with SingletonHost.GetInstanceFromConfig(config) as host:\n",
    "        rag=host.generator\n",
    "        # Index\n",
    "        result = rag.retrieve(collection_name=\"demo\",query_texts=\"Who are the young seniors?\")\n",
    "        console.print(result)\n",
    "\n",
    "except Exception as e:\n",
    "    raise e\n",
    "finally:\n",
    "    # after disposal\n",
    "    free_mem()\n"
   ]
  },
  {
   "cell_type": "markdown",
   "metadata": {},
   "source": [
    "## API"
   ]
  },
  {
   "cell_type": "markdown",
   "metadata": {},
   "source": [
    "#### a) List Collections"
   ]
  },
  {
   "cell_type": "code",
   "execution_count": 5,
   "metadata": {},
   "outputs": [
    {
     "name": "stdout",
     "output_type": "stream",
     "text": [
      "{\"collections\":[]}"
     ]
    }
   ],
   "source": [
    "%%bash\n",
    "curl -s http://localhost:12036/gen/v1/rag/collections"
   ]
  },
  {
   "cell_type": "markdown",
   "metadata": {},
   "source": [
    "#### b) Delete collection"
   ]
  },
  {
   "cell_type": "code",
   "execution_count": 6,
   "metadata": {},
   "outputs": [
    {
     "name": "stdout",
     "output_type": "stream",
     "text": [
      "{\"detail\":{\"code\":\"collections_not_found\",\"message\":\"Collection demo not found\"}}"
     ]
    }
   ],
   "source": [
    "%%bash\n",
    "curl -s -X DELETE http://localhost:12036/gen/v1/rag/collection/demo"
   ]
  },
  {
   "cell_type": "markdown",
   "metadata": {},
   "source": [
    "#### c) index"
   ]
  },
  {
   "cell_type": "code",
   "execution_count": 7,
   "metadata": {},
   "outputs": [
    {
     "name": "stdout",
     "output_type": "stream",
     "text": [
      "{\"document_id\":\"PwR6VmXqAfwjn84ZM6dePsLWTldPv8cNS5dESYlsY2U\",\"chunkgroup_id\":\"ea55e9d0-5c25-4dcf-a1dd-1e4f174b25f0\",\"chunk_ids\":[\"0bed4d2d-567e-4abe-a6a0-ac49677713e0\",\"3da8329c-58d4-416c-a1d2-7148783b6710\",\"6dd48833-d859-42e2-8ca8-793d03eeb127\",\"08c901bc-4d20-403e-bfb3-6f3e0f8768cb\",\"bfe0a7e9-6077-4d48-b2ab-8a7f05634b99\",\"6859d0bc-1db9-475e-b36d-8165b9b7214b\",\"da7495d3-1645-40a2-8935-ebb32f7c26a8\",\"0d06e3bb-c43e-4d5e-8c57-af0373c2a591\",\"d5ce0371-4772-4b8b-a010-b00395e21908\",\"f567895e-26ed-4db5-8df1-fa763af739f1\",\"4959ae2e-43f7-408e-8469-fbf48a31d64a\",\"62e3ff8b-f9f0-4cad-9f3e-2c00e36b82cb\",\"2803f51e-d422-42cb-8651-9d82a204181c\",\"57d0f3cd-a3e1-4894-ab84-976fca435162\",\"83227d57-c9a1-4df4-88c4-c8428846c728\",\"4b19da5e-29da-45b7-8e54-7cd625ec7145\",\"9c60299a-147e-448b-86e4-786d2b847fe9\",\"a40bd1cb-1806-4a46-ad0c-dd243dba01ac\",\"18ae8c41-67f0-4074-8e31-37246b3bfe84\",\"341a35da-f32e-497e-a1ed-ee6f81f13eda\",\"34e5b929-a501-42d4-93b4-e7c25c1f18c4\",\"45fdfbad-baaf-4de5-ae6e-0346abee8bdb\",\"7ad5535b-8b11-4952-8418-2c5405fcc61d\",\"cca2879e-9cd3-476c-a658-82a2f58d4ade\",\"7e092511-3ede-4898-8b18-e561f183fc90\",\"9ae93c92-e7b5-4f52-84dd-967d12a231f7\",\"38da66c6-a211-423f-810b-7b2a1763a8e0\",\"b6e0ee5f-4bbf-4d80-8a5f-0307b2e90c57\",\"93d503b1-d173-486c-b47a-e61cffdd3bbf\",\"98da4e9a-4e0f-431b-932e-c2127dbdc1b2\",\"30ab249b-d968-4436-a894-68abfaa640d3\",\"d0b32e9f-4829-428b-991c-cd02f437f62f\",\"0cf30ba5-7b2f-40ce-a4ec-522ffe577e35\",\"71c1adbf-4e78-4866-a175-da56af99f560\",\"19e1fe61-6c95-4f0c-a5c2-dc653d024501\",\"cb077b08-6bda-4c2d-8957-faae6c397d83\",\"14a88a91-4f0d-4794-b075-5578da4e8140\",\"12d1fc41-1ab1-458c-9beb-21b73bb5926c\",\"8970813e-ebcf-41b1-8c87-1ef0b17e7f17\",\"c1031ddb-bd6e-4c56-8555-81982155a4e6\",\"77cb3630-6e56-406f-b2fa-64a8643591d2\",\"84e622dc-927b-4e23-879c-7442a537197e\",\"16623a7d-221c-46b9-b3cd-a43849083228\",\"be97fc38-f542-4496-a0a7-32e06832d1b2\",\"f1d70598-10a4-493f-b0c3-abc6800eb156\",\"c7a40ee3-794a-411b-81ea-8cc145761586\",\"3dcf5d41-545e-4625-884f-95d4dafb63e4\",\"8b7434a0-2d0d-4a41-867c-d1a56f017b3b\",\"591c21ad-faec-4da0-a02e-6e087881c117\",\"72196e84-7859-4e90-ada7-465eda398686\",\"88bf13f6-e079-4bc2-be1b-bcb17c6e896e\",\"3b64d009-4e96-48cf-ae2b-56a799b255ca\",\"5b0afd75-6c74-4493-9df8-0678b137681a\",\"caa5aa12-9f94-4c2d-adff-7da809240aaf\",\"bc6834c9-bf28-4957-964d-ec9030df987a\",\"c1a5db1b-7058-4baa-acdb-2e52b334ff61\",\"77041c73-0a14-4050-928d-c2c08c6cca21\",\"bd43d37d-1a09-4a79-919a-63354c6103ab\",\"888868f1-dda5-4ebb-8d15-e81d1425cfbb\",\"f17ff36a-ab58-4b15-b5b6-9349aa3ef87c\",\"9265e4f3-b63f-4c2c-a29f-4ea198226776\",\"415a3f61-757f-4bbc-9d52-fe78c311a5e1\",\"cabdad03-2a30-4b76-9f79-ee946095b748\",\"25706d5c-dbe8-41da-94cc-374d7105c5d9\",\"996842db-05da-4496-94f9-e88f12fc2c64\",\"bcecea43-b384-43dd-93d8-9167f764a4ab\"]}"
     ]
    }
   ],
   "source": [
    "%%bash\n",
    "curl -X POST 'http://localhost:12036/gen/v1/rag/index-file' \\\n",
    "    -H 'accept: application/json' \\\n",
    "    -H 'Content-Type: multipart/form-data' \\\n",
    "    -s \\\n",
    "    -F 'file=@./pm_long_speech_2023.txt' \\\n",
    "    -F 'req={\"CollectionName\":\"demo\",\"Source\": \"https://www.pmo.gov.sg/Newsroom/National-Day-Rally-2023\",\"FilePath\":\"./pm_long_speech_2023.txt\"}'"
   ]
  },
  {
   "cell_type": "markdown",
   "metadata": {},
   "source": [
    "#### c) index step-by-step (method 2)"
   ]
  },
  {
   "cell_type": "code",
   "execution_count": 2,
   "metadata": {},
   "outputs": [
    {
     "name": "stdout",
     "output_type": "stream",
     "text": [
      "{\"Id\":\"PwR6VmXqAfwjn84ZM6dePsLWTldPv8cNS5dESYlsY2U\",\"CollectionName\":\"demo\",\"ByteSize\":43352,\"FileName\":\"pm_long_speech_2023.txt\",\"FileType\":\".txt\",\"Source\":\"https://www.pmo.gov.sg/Newsroom/National-Day-Rally-2023\",\"Abstract\":null,\"Authors\":null,\"Title\":null,\"Publisher\":null,\"PublishedDate\":null,\"Comments\":null,\"Keywords\":null,\"CreatedAt\":\"2024-09-05T00:22:19.604837\",\"UpdatedAt\":\"2024-09-05T00:23:03.116357\",\"IsActive\":true,\"ChunkGroups\":[]}"
     ]
    }
   ],
   "source": [
    "%%bash\n",
    "curl -X POST 'http://localhost:12036/gen/v1/rag/step/header' \\\n",
    "    -H 'accept: application/json' \\\n",
    "    -H 'Content-Type: multipart/form-data' \\\n",
    "    -s \\\n",
    "    -F 'file=@./pm_long_speech_2023.txt' \\\n",
    "    -F 'req={\"CollectionName\":\"demo\",\"Source\": \"https://www.pmo.gov.sg/Newsroom/National-Day-Rally-2023\",\"FilePath\":\"./pm_long_speech_2023.txt\"}'"
   ]
  },
  {
   "cell_type": "markdown",
   "metadata": {},
   "source": [
    "#### d) verify document exists"
   ]
  },
  {
   "cell_type": "code",
   "execution_count": 8,
   "metadata": {},
   "outputs": [
    {
     "name": "stdout",
     "output_type": "stream",
     "text": [
      "{\"document\":{\"Id\":\"PwR6VmXqAfwjn84ZM6dePsLWTldPv8cNS5dESYlsY2U\",\"CollectionName\":\"demo\",\"ByteSize\":43352,\"FileName\":\"pm_long_speech_2023.txt\",\"FileType\":\".txt\",\"File\":\"PM Lee Hsien Loong delivered his National Day Rally speech on 20 August 2023 at the Institute of Technical Education (ITE) Headquarters. PM spoke in Malay and Chinese, followed by English.\\n\\n \\n“A BETTER HOME, A BRIGHTER FUTURE”\\nSECTION 1: INTRODUCTION\\nMy fellow Singaporeans, good evening.\\n\\nReturn to Normalcy\\nWe are all relieved that COVID is behind us. Life as we knew it has resumed.\\n\\nCOVID-19 was the most challenging ordeal for our nation since Independence. We can all be proud of how we pulled through together. Unlike many other countries, Singapore has emerged from the pandemic stronger, more resilient, and more united. This is a tribute to the indomitable spirit of our nation.\\n\\nGlobal situation and economic outlook\\nHaving come through COVID, we are once again being tested. The international environment is fraught with geopolitical tension and economic uncertainty.\\n\\nWe feel acutely the pressures mounting all around us. The rivalry between the US and China affects every country and region in the world. Their mutual wariness and distrust has deepened. The rest of the world has to tread a careful path, to avoid being caught in the cross-fire. The war in Europe rages on. Russia’s invasion of Ukraine is a continuing human tragedy, and an assault on international norms and values. It is a cautionary warning to the rest of the world never to take peace for granted, and a reminder to us of the vital importance of a strong SAF. Meanwhile, the global economic order is fraying. Globalisation is weakening. Supply chains are splitting up. Countries are layering on multiple protectionist measures. This hurts all countries, but especially small, open trading nations like ourselves. With global warming, the world is also experiencing more extreme weather. From Chinato Japan, to Europe and the US, no region is spared from floods and droughts, heatwaves and wildfires. This will affect food production and prices worldwide. We have not fully felt it in Singapore yet, but it is coming.\\n\\nEconomically, Singapore is keeping up. We expect positive economic growth this year. Hopefully, we will avoid a recession. Inflation is at last coming down, but it will probably stay higher than what we were used to. The cost of living is still on everyone’s minds. In my Chinese speech earlier, I explained how the Government will continue to support you. We will weather this storm together.\\n\\nForward Singapore\\nOur nation must navigate carefully in this increasingly troubled landscape. There is no ready playbook, there is no model answer. I am glad that DPM Lawrence Wong and the 4G team have taken it upon themselves to chart out where Singapore will go from here. They launched Forward Singapore in June last year, to refresh our social compact. They have held dialogues with thousands of Singaporeans who shared their ideas to tackle various issues. For example: how to equip our people with the skills to succeed; how to improve care for the vulnerable; and how to strengthen our solidarity as one people. The Forward Singapore report will be published later this year. It will be a compass to help Singapore navigate through the stormy seas.\\n\\nDespite the dark clouds, the world still offers many opportunities for those who dare to seize them. In my Malay speech just now, I spoke about promising new sectors such as the digital economy. I also shared that the Government will give more support to workers – to help you adapt and upskill, to stay ahead of the game. Our Forward SG plans include financial support for workers who lose your jobs, while you upgrade your skills. It will be a temporary safety net to help you meet immediate needs, to free you to upskill and train, as you prepare yourself for a good long-term job. So long as you are willing to make the effort, the Government will go the extra mile to help you.\\n\\nSECTION 2: RETIREMENT\\nFinancial concerns are top-of-mind not just for younger workers, but also the older ones. These concerns become more urgent as we approach retirement.\\n\\nEspecially for those in their 50s and early 60s. Let us call them the “Young Seniors”. \\\"Young”, because you are younger than the Pioneer Generation and the Merdeka Generation; “Seniors”, because you will soon retire, or maybe you have recently retired.\\n\\nYoung Seniors are in a unique position today. Compared to the Pioneer and Merdeka Generations, you have benefited more from Singapore’s growth, and generally done better in life. But compared to workers younger than you, in their 30s and 40s today, you have generally earned less over your lifetimes. You have also had less time to benefit from improvements to the CPF system, and so have built up less retirement savings. Young Seniors are also in a particularly sandwiched phase of your lives. You have to shoulder the responsibility of caring for both the young and old in your families. Your kids may be young adults, but often are not yet fully independent and still live in the same household. Many of you Young Seniors also have elderly parents at home, who may be beset with the infirmities of old age. You have to shuttle them to medical appointments and hospital visits, plus attend to their everyday needs. All this, while watching your own health, because you are not so youthful yourselves. Responsibilities on all these fronts multiply your burdens. So, as Young Seniors, you are understandably anxious about your retirement needs. Beyond the daily cost of living pressures, you know that retirement is creeping up on you. You wonder: Will I have enough to get by? Can I cope? But do not worry – the Government will help you. You will not be left behind.\\n\\nMajulah Package\\nWe will introduce a package to help Young Seniors meet your retirement needs – let us name it the Majulah Package. This will be for Singaporeans who are 50 and above this year – born in 1973 or earlier. It will benefit those with lower incomes and less wealth. The support will be tiered, depending on your income and your CPF savings. The Majulah Package will comprise three components.\\n\\nFirst, an “Earn and Save” Bonus, to help you build up your CPF savings while you work. Most Young Seniors are still working, and have some years to go before retirement. We encourage you to continue working as long as you can. Lower- and middle-income workers will get a CPF bonus of up to $1,000 a year, depending on your income. The Government will credit this into your CPF account, on top of the usual employer and employee contributions. You will receive this Earn and Save bonus yearly, as long as you are working, whether full-time or part-time. Take for example a lower-income 55 year-old who plans to retire at 65. Over 10 years, her Earn and Save bonus adds up to $12,000 in extra CPF savings if you include the CPF interest, which is not bad.\\n\\nSecond, a Retirement Savings Bonus (RSB). If your CPF balances have not reached the CPF Basic Retirement Sum, you will receive a one-time CPF bonus of up to $1,500. Those who are not working will get this bonus too. This includes homemakers, who have given up their careers and laboured to raise their families, and thus have very low CPF balances.\\n\\nThird, a MediSave Bonus. Most Young Seniors have enough MediSave balances. Nevertheless, many still worry about healthcare costs, because you will soon be Not-So-Young Seniors. So the Majulah Package will include a modest one-time MediSave Bonus of up to $1,000. It will give you some extra buffer, to help pay your medical expenses and insurance premiums.\\n\\nThe Majulah Package will help Young Seniors, in their 50s and early 60s, to meet your retirement needs. But besides Young Seniors, we also want to encourage older seniors to continue working for as long as you can. Hence the Majulah Package also covers the Pioneer and Merdeka Generations.\\n\\nI think quite a few here belong to the Pioneer and Merdeka Generation. Let me say to you, if you are PG and MG: If you are still working and meet the income criteria, you too will receive the Earn and Save Bonus as long as you are working. If you are not working, you can still get something from the one-time Retirement Savings Bonus and MediSave Bonus. This will be in addition to the PG or MG benefits that you are already receiving and will continue to receive. Think of this as a 58th National Day present!\\n\\nThe Majulah Package will cost the Government about $7 billion. MOF will create a new Fund to meet the full lifetime costs of the Package, using resources from this term of Government. We will honour this commitment without burdening future generations.\\n\\nThe Majulah Package will benefit some 1.4 million older people across several generations. We will also be enhancing existing schemes, like Silver Support, Workfare, and the Matched Retirement Savings Scheme and the details will be announced next year. Taken together, these improvements will help seniors to meet basic retirement needs, especially for lower- and middle-income Singaporeans so that you can have greater peace of mind in your golden years.\\n\\nSECTION 3: AGEING\\nI want to talk about two other important issues tonight – caring for our ageing population, and housing our people.\\n\\nSingapore is one of the fastest-ageing nations in the world. Today, about one in five Singaporeans is a senior, aged 65 and above. By 2030, nearly one in four Singaporeans will be a senior. I first talked about ageing in the National Day Rally back in 2007. At that time, we had 500 centenarians – people aged 100 and older. We thought that was a lot. By 2013, which is 6 years later, this had doubled to around 1,000. And by 2030, we are likely to double again to at least 2,000 centenarians! It shows vividly how our society is getting older and older, faster and faster. Today, if you ask – it is not in the chart – but we have about 1,500 already. In 2030, I will not be making this speech, but whoever is doing so will have to take care of all of us seniors, and some of us very senior.\\n\\nToday, we are an aged society; soon, we will be a ‘super-aged’ society. This has massive social and economic implications. We have much to do to help our seniors age well.\\n\\nToday, I will speak on two aspects of our preparations: active ageing; and making homes and precincts more senior-friendly.\\n\\nActive Ageing\\nFirst, on active ageing.\\n\\nWe have invested significantly in healthcare for seniors.\\n\\nThe Government plays a big role in providing care, but seniors must also play our part to look after ourselves. MOH launched Healthier SG last month. Healthier SG aims to get each of us to take more responsibility for our own health, supported by family doctors and community partners. When you enrol, you will get a personalised health plan, including when to go for screenings and vaccinations. Besides medical prescriptions, your doctor will also give you what we call social prescriptions, like advising you to lead a more active lifestyle, to maintain a healthier diet, to lose a little bit of weight, or to quit smoking. But while your GP can suggest or even arrange these for you, only you can decide to follow through and do them. But please do so. Prevention is always better than cure. My wife and I have signed up. I encourage all seniors to sign up for Healthier SG when you get the invitation from MOH.\\n\\nBeyond Healthier SG, how else can we help Singaporeans to age well? It is not just about fending off sickness – it is also about staying well, staying well both physically and mentally. Because mental wellness is just as important as physical wellness. One of the biggest threats to the well-being of seniors is loneliness. Today, many seniors are living alone. They risk becoming socially isolated. Their spouses may have passed on; their children are probably living elsewhere with their own families. So it is important that someone keeps regularly in touch with them. It is also important that they keep active and have a social network for mutual support. During COVID, many old folks were stuck at home, unable to go out for their usual activities. We were very worried that isolated and inactive, they would deteriorate quickly. So we restarted community activities for seniors as soon as we could do so safely – stand further apart, do it outdoors, but gather and do it, and keep that human contact, and that activity.\\n\\nWe will do more to help seniors stay engaged and socially active. That is why we have set up Active Ageing Centres (AACs) all over Singapore. I recently visited this Active Ageing Centre, the Bedok Radiance AAC. It is run by Thye Hua Kwan Moral Charities. I was very happy to see a vibrant community of seniors joining the activities and using the services there. Many of them told me that they were living alone, and always looked forward to coming down to the activities. It gave them something to do with their friends, something to look forward to, a sense of purpose.\\n\\nThe AAC ran a varied weekly programme: art jamming, karaoke and dance classes. When I was there, a HAPPY exercise class was in full swing – HAPPY means Healthy Ageing Promotion Programmes for You, H-A-P-P-Y.\\n\\nThe seniors looked happy, but some of them were not so well. A few were wheelchair-bound, but they still joined in the activities. This cheerful lady told me she hoped to joget again! Why not, even in a wheelchair? Other seniors were using the health services at the AAC. Some were getting their vital signs checked so that doctors could follow up if something was amiss. One was having a teleconsultation – with nurses physically there to help him, and a doctor calling in on Zoom from the polyclinic. It was good that relatives, or neighbours, were making the effort to bring the seniors down to the AAC, for them to socialise and cheer up their lives.\\n\\nWhat I found most encouraging was that many seniors were not just taking part in activities, but also helping to organise and run them – seniors for seniors. I met Mdm Goh, the one in the pink blouse, Mdm Karen, and Mdm Farida. They were preparing to deliver hot meals to frail seniors living in upstairs in the rental flats who could not come down to the AAC. They do this every day. It is a great way to build neighbourly bonds while staying active. Actually, besides meal deliveries, there are also communal meals downstairs at the AAC. The staff told me that these meals were a big draw and an important activity because they encourage the old folks to come down. When they gathered at the AACs for meals, they would socialise and make friends, and the staff could keep an eye on them, made sure they were alright. I also discovered that these meals are actually cooked by the seniors themselves, at least some of the seniors themselves! These three makciks – Mdm Aminah on the left, Mdm Rosnah, and Mdm Fatimah – they used their SkillsFuture credits to attend a food hygiene and preparation course so that they could cook meals for their fellow seniors. Mdm Fatimah told me they use less salt and sugar in their cooking to make it a Healthier Choice. Then I tasted her chicken curry, and I said, \\\"You must have used santan – coconut milk.” She said no – she uses normal milk. But it tasted just as good – sedap sekali! I had a second helping.\\n\\nIf you are observant, you would have noticed that the volunteers I have mentioned are all ladies. But we are starting to see more male seniors coming down to the AACs. The centres are introducing more activities that interest men, such as jamming. Or even something simple like a café corner, where the uncles can catch up over a coffee. There will be something for everybody at the AACs.\\n\\nI was very heartened by my visit to Bedok Radiance AAC. I believe that the network of AACs across Singapore will be a valuable resource for seniors to stay active and healthy. We will invest to expand the network, and work with community partners to enhance the AACs’ services and reach.\\n\\nIf you have elderly family members, especially if they are living on their own, please bring them to join an AAC nearby. And if you are a senior yourself, I strongly encourage you to join a centre near you, because many seniors are having a good time there. Take the first step towards active ageing, so you can live well, and age well. Be like Mdm Wong here. This is Mdm Wong, she is 97 – still going strong, still playing Mahjong! Making HDB Homes and Precincts More Senior-Friendly.\\n\\nBesides encouraging active ageing, we will also make our HDB homes and precincts more senior-friendly. Many seniors have told us that they want to live out their golden years in their own homes and neighbourhoods. It is a familiar environment, a cosy sanctuary, and they have established deep roots and meaningful friendships. This is a very good thing. We will help as many seniors to age in place as we can. We need to make a few moves to realise this.\\n\\nFirst, we will make your homes more senior-friendly. Today, under the EASE programme (Enhancement for Active Seniors), you can install fittings like ramps to help you get in and out of your homes. In toilets, you can install grab bars and make the floors slip-resistant for safety. Soon, seniors can choose from an expanded suite of fittings under EASE 2.0. For example, you can have foldable shower seats, you can have your toilet entrances widened, so that if you or your spouse needs a wheelchair, your wheelchair can be brought into the toilet, and life can be safer and much more convenient.\\n\\nSecondly, we will make it safer and more comfortable for seniors to move about their neighbourhoods. For example: we will revamp streets and linkways frequented by seniors; we will build more shelters and rest points; also more therapeutic gardens, fitness trails, and exercise machines, to encourage seniors to stay active. The roads will be made more pedestrian-friendly. For example, longer green man signals to give seniors more time to cross the road. You see down here, 36 seconds – the motorcycles and cars have to wait, does not matter, old folks’ safety is important. This is their home, their area, we put them first. Barrier-free ramps and raised zebra crossings so that wheelchair users can cross over without having a step to go down and a step to come back up again at the curb; 3D road markings and narrowed roads to slow the cars down. We will also install larger and more colourful block signs, with familiar symbols to help seniors remember their own block and find their way home. This is not where the satay stall is – it is the Satay Block, Block 113 in Kebun Bahru.\\n\\nThird, for those who need a little more help, we will build more assisted living facilities. Take for example IDeAL – the Integrated Dementia Assisted Living project at Block 115. At the Kueh Lapis Block, Block 115 in Kebun Baru. I went to open it last year. It is a ground-up project by Dementia Singapore, with some Government support, to help seniors with mild dementia. Many of the seniors live in their own flats in this block. The void deck has become their community living room, where seniors have fun and games, exercise, get their haircuts, and eat together. Whenever a senior needs anything, he or she will go to the second floor. The residents affectionately call this “Ji Lao” – the Second Floor. There are shared facilities there like a community kitchen, where they cook and hang out, and a telehealth room, where staff can monitor their vital signs and arrange for telemedicine checkups. All at Ji Lao! At IDeAL, seniors with dementia can live happily on their own upstairs, and enjoy the warmth and care of friends and community downstairs. HDB is building similar assisted living projects called Community Care Apartments. They will serve not just seniors suffering from dementia, but also those who are well. We will need a whole range of these facilities – whether for assisted living, or the AACs – to serve old folks with different needs. Some of these already exist today. But we need to improve them, scale them up, and get ready for the large numbers down the road.\\n\\nWe will keep making Singapore a more friendly home for current and future seniors: investing resources to senior-proof your homes; making precincts safer and easier to navigate; and constructing more assisted living residences, with integrated accommodation, care, and community facilities. We will do this across Singapore, starting with the towns with the most seniors like Ang Mo Kio and Bukit Merah.\\n\\nSo we are taking major steps to prepare for a super-aged society. It is part of a new national programme called “Age Well SG”, which will complement Healthier SG in improving the health of our seniors. The Ministries will share more about this in the coming months.\\n\\nTogether, we will make Singapore an endearing home for all ages, where seniors can age with dignity and grace, connected with friends and family.\\n\\nSECTION 4: HOUSING\\nNow I want to speak about public housing. HDB is a vital part of the Singapore story. Right from the very start, the PAP Government put heavy emphasis on public housing. Here is Mr Lee Kuan Yew laying the foundation stone at the Cantonment Road Housing Estate in March 1963. This was HDB’s earliest projects, one of them. Mr Lee was convinced that housing would give Singaporeans a stake in our nation’s future. Because, he explained, housing “gives more than a sensation of permanence; it is permanent…then we dig our toes in and we fight!” So, housing has always meant much more to us than a roof over our heads. It also gives every Singaporean a valuable asset and a powerful reason to fight for our country and our future. Fast forward 60 years, today we have one of the highest home ownership rates in the world. Nine in ten Singaporeans own our homes. Eight in ten live in HDB flats. Our Singaporean identity is deeply intertwined with our HDB flats and towns. These are homes we are proud to own, neighbourhoods we raise our families in, and communities we build together.\\n\\nOver the decades, the Government has kept housing affordable and accessible for Singaporeans. We price HDB flats at a substantial discount below their market value. We also provide a wide range of generous grants to first-timers, families, and the lower-income.\\n\\nCOVID disrupted our public housing programme. BTO projects were delayed. The shortfall of new flats pushed up prices of resale flats. MND and HDB have been working very hard to catch up. They are making good progress. So far, HDB has completed and delivered more than 70% of the flats that had been delayed by the pandemic. We are also ramping up supply. We have launched 50,000 flats since 2021. By 2025, in two years’ time, we will have launched another 50,000 flats, making a total of 100,000 flats. With supply catching up, the market is calming down. First-timer BTO application rates are lower. Waiting times are shorter. Resale prices are gradually stabilising.\\n\\nRecently, MND announced changes to help Singaporeans with urgent housing needs get their flats earlier. Families with young children and young married couples buying their first home will receive more ballot chances, and higher priority in flat allocation. HDB will also launch more BTO flats with shorter waiting times of two to three years. We are working extra hard, and I am confident that we will get over this hump soon.\\n\\nChanging housing landscape\\nTonight, I want to look beyond this hump, to the longer-term public housing landscape.\\n\\nSince the early 90s, HDB has used a simple framework to guide the public in buying flats. We distinguish between Mature Estates and Non-Mature Estates. Mature Estates are places like Ang Mo Kio, Toa Payoh, or Queenstown. This is a picture of Dawson, in Queenstown, where I recorded my National Day Message this year. Mature Estates are usually more centrally located, better connected, and with more amenities. Naturally these places are more popular, and their prices reflect the higher demand. Then there are the Non-Mature Estates: These are less central and further out, like Jurong East, Woodlands, and Punggol. What Non-Mature Estates lose in terms of location and convenience initially, they make up for in lower BTO prices. Between Mature and Non-Mature Estates, HDB has been able to offer a flat for every household’s budget. This framework is easy to understand, and has worked well for many years.\\n\\nBut our housing landscape is evolving. Firstly, we have fewer and fewer large tracts of undeveloped land left to build new towns and estates. Tengah will be the last new town for quite some time, at least until Paya Lebar Air Base moves out to Changi and the site is cleared and redeveloped. Increasingly, we will have to build new HDB flats within or near to existing estates. These will often be more centrally located. For example, at Mount Pleasant, where the Police Academy used to be, we are planning to build 5,000 new homes there. New projects like these – nestled in older, more developed areas with a lot more amenities – will be more popular, and will naturally cost more. Secondly, even what we call “Non-Mature Estates” today have become much more developed. We imagine non-mature estates as being very barebones. Blocks of flats surrounded by empty barren ground. Our mental image is this photo, and once upon a time it looked like this – this was Toa Payoh in the 1960s. Toa Payoh does not look like this today. But look around you now. Towns like Jurong East, Woodlands, or Punggol, that is not barebones. These towns have matured, and now have excellent connectivity and a full suite of amenities, so the distinction between Mature and Non-Mature Estates is blurring. This is reflected in BTO applications. Some choicer projects in Non-Mature Estates are even more popular than projects in Mature Estates. It shows that buyers are discerning – you know when you see a good deal, and what matters to you are the specific attributes of the project, rather than whether we call it Mature or Non-Mature.\\n\\nIn future, many more BTO developments will be in estates or locations that are effectively “mature”. That means that the framework of Mature and Non-Mature Estates will no longer work and we need a new framework. This framework has to achieve three important objectives: One, it has to keep home ownership affordable to all income groups. Two, it has to maintain a good social mix in every town and every region. And three, it has to keep the system fair for everyone. And here is how we will do it.\\n\\nFor a start, we will keep HDB flat prices affordable. We will gradually provide more housing grants, especially grants that are means-tested, like the Enhanced Housing Grant. This way, lower- and middle-income households will get the most support to own their homes. There will always be an HDB flat to meet every budget. And we can maintain a good social mix in every town and region.\\n\\nThis will work for most HDB projects, but it will still leave one particular problem and that is, with projects in choicer locations within a region. For example, projects near an MRT station or near the town centre. Such flats see the highest demand during BTO exercises. People know that HDB is offering a good deal, because these flats will fetch much higher resale prices afterwards. This turns the BTO exercise into a lottery. Those who are lucky enough to ballot such a flat stand to reap a windfall upon resale. This will not be fair to the many more who miss out.\\n\\nTake for example one recent BTO project: Central Weave at Ang Mo Kio. This is Ang Mo Kio; let me zoom in, Central Weave is right at the town centre. Let me zoom in a little bit more. It is next to the MRT and bus interchange. The market is there, the hawker centre is there, Ang Mo Kio Hub is nearby. So location, location, location. This is an excellent location; this is a highly desirable project. HDB’s selling price had to reflect these attributes. So, the prices for the biggest flats at Central Weave – the 5-Room and 3-Gen flats – ranged from $713,000 to $877,000, before grants. Even then, these flats were heavily discounted off their true market value. Some people complained that these prices were exorbitant and unaffordable. Yet these units were heavily oversubscribed. More than 6,500 households applied for just 372 such flats – 17 applicants for every flat! Clearly, these applicants must have found the Central Weave project affordable, and thought that the prices offered them good value. And no doubt many hoped their flats would fetch strong resale prices later on.\\n\\nSo think about it. If you were HDB CEO sitting down, confronted with this problem, what will you do? You have a dilemma, a dilemma with projects at choicer locations like Central Weave: should we price them higher, or lower? If we price them higher, we will shrink the windfall gains, reduce the lottery effect. This will moderate demand and that is good. But there will be sticker shock – these flats will become expensive and unaffordable to most families. And we will not get a good social mix. Some people will still afford them, but mainly those near the income ceiling, or those whose parents can help them pay for the flat. The result: the precinct will become a higher-income enclave, and that is not what we want. But if HDB prices such prices lower, more households can afford them; we achieve a better social mix, that is good, but we exacerbate the lottery effect, because the potential windfall will be even richer. Even more families will try for these flats. For every one happy successful buyer, there will be 20 or more unsuccessful buyers, and they will understandably and justifiably frustrated and very unhappy. And this is not fair. So under the present framework, whether we price such flats higher or lower, we cannot fully achieve all three objectives: affordability, a good social mix, and a fair outcome.\\n\\nSo what do we do? Central Weave is already sold, but we can expect more such situations as we build more flats in existing towns.\\n\\nHow do we solve this problem?\\n\\nNew “Plus” model\\nOur solution is to introduce a new “Plus” model for selling HDB flats at choicer locations, with stricter sale conditions so that we can moderate the prices. Let me explain carefully what I mean.\\n\\nToday, HDB launches BTO projects all over Singapore. We are all familiar with them. Everybody knows the BTO rules. For example, a 5-year Minimum Occupation Period, or MOP, after which the owner can resell the flat. There is no income ceiling for resale buyers. These are the standard rules and apply to what I will call “Standard” projects. In future, most HDB projects will still be Standard projects.\\n\\nBut within each region, some HDB projects will be in choicer locations. Take for example, Bayshore, in Bedok. This is Bedok town. Bayshore is there, let me zoom in. And you can see, Bayshore is a very good location for homes, because you have got two MRT stations, Bedok South and Bayshore MRT stations. Shopping malls will be built in this corner, Siglap CC is there. East Coast Park is across the road, and then you have the waterfront, 有山有水.\\n\\nWe will have both private and public housing in Bayshore. The HDB projects will likely be Plus projects and will be sold under different rules. HDB will give more subsidies for these Plus flats, over and above the subsidies for Standard BTO flats. This will moderate the prices of Plus flats and put them within reach of more households. But to make the scheme fair, HDB will also impose more restrictive sale conditions. For example: A longer MOP of 10 years, to favour buyers who are planning to stay there for the longer term, and discourage those who may be thinking of flipping the property and moving out as soon as they can. Tighter restrictions when the home-owner resells the Plus flat later on, such as a subsidy recovery applied on the resale price, certain percentage when you sell the flat, you pay back a certain percentage back to HDB to take back the extra discounts you enjoyed upfront since you are moving out. This is to be fair to other buyers who did not get these Plus flats. Also there will be an income ceiling on resale buyers, just like how we have an income ceiling on first-time buyers. This will moderate resale prices and help to maintain a better social mix, even in the resale market in the longer term.\\n\\nAs we build more projects in mature areas, this Plus model will help us to meet our three objectives: affordability, good social mix, and fairness. I keep on showing you this slide because this is crucial. These are the three fundamental objectives and we must bear that in mind, when we think about what is HDB doing, why is HDB doing this, how does doing this help us to achieve these objectives? It will help Singaporeans find a house that suits your needs, even in good locations. Not just for you, but for your children too.\\n\\nStandard, Plus and Prime\\nActually, the Plus model is not entirely new; we already have something similar, called the Prime Location Public Housing Model. Let us call them Prime projects for short. One example is Bukit Merah Ridge. Like other Prime projects, it is very close to the city centre. Naturally, these flats are very desirable, and will be more expensive. But we have been able to keep their selling prices reasonable by imposing tight restrictions and a subsidy recovery to moderate the windfall gains. The Prime model has shown good outcomes so far. In Bukit Merah Ridge. The selling price for a four-room flat ranged from $540,000 to $737,000, before grants. Each flat attracted 5.4 applicants – far fewer than Central Weave, even if you compare to the four-room flats in Central Weave. And we hope that Plus projects will achieve similarly good outcomes. So, let me go back to Central Weave because you are probably thinking and asking: had we sold Central Weave as a Plus project, with the tighter restrictions and additional subsidies, would HDB have priced it lower than it actually did? The answer is yes, it would, because that is the whole point of Plus projects: to enable HDB to moderate the prices of flats in choicer locations, and still be fair to all flat buyers.\\n\\nSo think of it like this. Standard flats are good flats built all over Singapore, and will have HDB’s standard subsidies and standard restrictions. Plus flats are in the choicer locations within a region, and will have more subsidies and tighter restrictions than Standard flats. And Prime flats are in the choicest and most central locations in the whole of Singapore, and they will have the most subsidies and tightest restrictions. Let me show you the whole picture in one slide.\\n\\nThe new framework of Standard, Plus, and Prime. Standard islandwide, subsidies are standard and restrictions are standard – that is why we called it standard. Plus flats have choicer region, more subsidies and tighter restrictions. Prime flats, have the choicest locations, most subsidies and tightest restrictions. Actually the quality of the flats, they are all good flats, good flats, good flats. But the locations are different, the subsidies are different and the restrictions are different. And this new framework – Standard, Plus and Prime will be a major change to the way HDB sells flats. HDB will roll out this framework for all new projects from the second half of next year. It will not affect existing projects. Your current homes, or the homes you have already booked, will not be reclassified.\\n\\nIn time to come, we will no longer refer to new projects as Mature and Non-Mature. Instead, we will build a good mix of projects within and across regions, to cater to different needs and budgets. And that is how we can fulfil our commitment to keep high-quality HDB flats accessible and affordable to you and your children for a very long time to come.\\n\\nEnhancing Access for Singles\\nThe new framework – Standard, Plus, and Prime – will affect everyone buying a new HDB flat, but there is one special group I want to address: the singles. More and more Singaporeans are choosing to be single. Singles too hope to own their homes and have more housing choices. We hear your concerns.\\n\\nToday, first-timer singles can apply for new flats, but only 2-room Flexi flats and only in Non-Mature Estates. They cannot buy new Flexi flats in Mature Estates. Singles are also not allowed to buy Prime flats. These rules are to prioritise our limited supply of flats, but unfortunately, they have restricted singles’ choices. We will do something about this.\\n\\nWhen we roll out the new framework, singles will be allowed to buy 2-room Flexi flats across all types of BTO projects – Standard, Plus, and Prime. HDB will tell you the details soon. But I am sure singles will welcome this move to have more choices to find your own home and to write your own part in Singapore’s housing story.\\n\\nOur Housing Foundations\\nI spoke earlier about the foundation stone that Mr Lee laid back in 1963. Today, Cantonment Road Housing Estate has been redeveloped into our most iconic public housing project – The Pinnacle @ Duxton. But 60 years on, that original foundation stone is still there, at the Heritage Garden at the Pinnacle. It occupies pride of place, to remind each new generation that our housing programme is a vital part of the Singapore story; that the Singapore we live in today, is what we have inherited from those who came before us; and that we owe an immense debt to the hard work and good governance of the founding fathers and the pioneer generation.\\n\\nSECTION 5: CONCLUSION\\nOur Founding Values\\nIn a few weeks’ time, we will be marking the 100th birth anniversary of Mr Lee Kuan Yew. It is timely to reflect upon the values and ideals championed by Mr Lee and the founding fathers., and for us to renew our commitment to these enduring values and ideals.\\n\\nI spoke in my Malay speech earlier about an exhibition now on at the National Museum: Semangat yang Baru: Forging a New Singapore Spirit. The exhibition tells the story of the birth of our nation. It transports us back to our early years of nation-building. It honours the indomitable spirit of the Pioneer Generation. They dared; they fought ferociously for Singapore; they never gave up. And thus they turned mudflats into a metropolis, and took us from Third World to First.\\n\\nBut our forefathers built more than a nation of bricks and mortar, skyscrapers and a thriving economy. They created a nation founded on ideals: justice and equality; religious freedom and racial harmony; a commitment to excellence; a fair system of meritocracy; and an uncompromising insistence on honest, clean government.\\n\\nIntegrity and incorruptibility are fundamental to Singapore. They are the foundation on which we run a clean and effective Government, and deliver results for Singaporeans. Mr Lee Kuan Yew considered these the most crucial ideals of all. On his 90th birthday, he came to Parliament to attend the sitting. We celebrated his birthday in the Members’ Room. We were all there – PAP MPs and Ministers, Opposition MPs led by Mr Low Thia Khiang, as well as NMPs. Frail and ill, Mr Lee said just a few words. He spoke only about one thing – he reminded us Singapore must always remain clean and incorruptible, and Ministers and MPs have to set the example. Otherwise, he said, we are finished. I will never forget those brief words. For the sake of the country, I will do all I can to keep faith with Mr Lee’s hope. No matter the price; no matter the embarrassment or political cost – I will do my utmost to keep the system clean. Every generation of PAP leaders must also stand by this – this is what Singapore depends upon.\\n\\nThe ideals I spoke about are not just abstract aspirations. They are our compass; they guide every decision we make. They give purpose and meaning to our nation building. They make Singapore stand tall amongst the nations of the world.\\n\\nBy upholding these ideals, we have over decades built a high trust society. One where people trust one another – “regardless of race, language or religion”. Where the people and the Government trust each other too, in big ways and small. This is what saw us through the ups and downs over the past 58 years, and this is how we weathered COVID-19.\\n\\nCOVID now seems like a bad dream. Confused, receding, getting forgotten. But the pandemic could well have been a real nightmare. Things could easily have gone horribly wrong, as they did in many other countries. Thankfully, we avoided disastrous outcomes, and averted the loss of many, many lives. Our people came through safe and sound; our economy revived in good shape; and our society has grown more united, not less. We owe this to our collective efforts, and our strong mutual trust, which we must strengthen and deepen to secure a bright future for our people.\\n\\nSuccession\\nAs we prepare for the future, one crucial task is leadership renewal. As you all know, my original plan was to hand over and step down as Prime Minister by 2022, before my 70th birthday. But the pandemic disrupted this plan. I promised Singaporeans that I would see the nation through the crisis, together with both the current and the 4G leadership. Now COVID is behind us, and my succession plans are back on track.\\n\\nRecently, several controversial issues have drawn Singaporeans’ attention. I have spoken about them in Parliament, and in my National Day Message. We dealt with each of them thoroughly and transparently. Let me assure you: these incidents will not delay my timetable for renewal. We are on track.\\n\\nMore and more, my task is to support the 4G team and their agenda. I want to get them off to the best start possible. They are increasingly setting the pace. My themes in this Rally are all Forward SG themes. The 4G will soon wrap up the Forward SG exercise, but their journey is just beginning. Our nation’s future depends on them, working as one with you to take Singapore forward.\\n\\nI have every confidence in Lawrence Wong and his team. We share the same core convictions – that we are stewards of Singapore, entrusted with the immense responsibility to lead and care for our nation; that our time as stewards is transient, but we are building a Singapore for the ages; and that our best service to this nation is to hand over a better, stronger Singapore to those who follow us. My team and I are deeply grateful to you for standing with us through thick and thin. Please give Lawrence and his team your fullest support too, now and after they take over.\\n\\nClosing\\nThe Singapore story has been an unlikely one from the start. Our nation is still young, and we will always be tiny. We will forever be an unlikely nation, created out of the sheer collective will of our people. Nobody expected us to survive, much less to flourish. But each time, we beat the odds; each time, we showed the world what Singapore can be.\\n\\nIt has been an exceptional story; but I believe the best parts are still to be written. Let us hold fast to: our values, which anchor us and guide our way; our mutual trust, which is the bedrock of our success; and our dreams, which drive us ever forward. Let us come together with a renewed spirit and vigour, a semangat yang baru, to build a better, brighter Singapore for generations to come. Majulah Singapura!\",\"Source\":\"https://www.pmo.gov.sg/Newsroom/National-Day-Rally-2023\",\"Abstract\":null,\"Authors\":null,\"Title\":null,\"Publisher\":null,\"PublishedDate\":null,\"Comments\":null,\"Keywords\":null,\"CreatedAt\":\"2024-09-05T01:10:45.099828\",\"UpdatedAt\":\"2024-09-05T01:10:45.099838\",\"IsActive\":true,\"ChunkGroups\":[{\"Id\":\"ea55e9d0-5c25-4dcf-a1dd-1e4f174b25f0\",\"DocumentId\":\"PwR6VmXqAfwjn84ZM6dePsLWTldPv8cNS5dESYlsY2U\",\"SplitAlgo\":\"recursive_split\",\"ChunkCount\":66,\"ChunkSize\":1000,\"Overlap\":100,\"IsActive\":true,\"ChunksDir\":\"/tmp/chunks/03fdbcae1174401899859449c8c81ba6\"}]}}"
     ]
    }
   ],
   "source": [
    "%%bash\n",
    "curl -X POST 'http://localhost:12036/gen/v1/rag/collection/demo/document/exists' \\\n",
    "    -H 'accept: application/json' \\\n",
    "    -H 'Content-Type: multipart/form-data' \\\n",
    "    -s \\\n",
    "    -F 'file=@./pm_long_speech_2023.txt' "
   ]
  },
  {
   "cell_type": "markdown",
   "metadata": {},
   "source": [
    "#### e) retrieve"
   ]
  },
  {
   "cell_type": "code",
   "execution_count": 9,
   "metadata": {},
   "outputs": [
    {
     "name": "stdout",
     "output_type": "stream",
     "text": [
      "{\"retrieved\":[{\"documents\":\"Especially for those in their 50s and early 60s. Let us call them the “Young Seniors”. \\\"Young”, because you are younger than the Pioneer Generation and the Merdeka Generation; “Seniors”, because you will soon retire, or maybe you have recently retired.\",\"metadatas\":{\"Abstract\":\"\",\"ChunkGroupId\":\"ea55e9d0-5c25-4dcf-a1dd-1e4f174b25f0\",\"DocumentId\":\"PwR6VmXqAfwjn84ZM6dePsLWTldPv8cNS5dESYlsY2U\",\"Keywords\":\"\",\"PublishedDate\":\"\",\"Source\":\"https://www.pmo.gov.sg/Newsroom/National-Day-Rally-2023\",\"Title\":\"\"},\"distances\":0.09020859003067017,\"ids\":\"f17ff36a-ab58-4b15-b5b6-9349aa3ef87c\"},{\"documents\":\"Young Seniors are in a unique position today. Compared to the Pioneer and Merdeka Generations, you have benefited more from Singapore’s growth, and generally done better in life. But compared to workers younger than you, in their 30s and 40s today, you have generally earned less over your lifetimes. You have also had less time to benefit from improvements to the CPF system, and so have built up less retirement savings. Young Seniors are also in a particularly sandwiched phase of your lives. You have to shoulder the responsibility of caring for both the young and old in your families. Your kids may be young adults, but often are not yet fully independent and still live in the same household. Many of you Young Seniors also have elderly parents at home, who may be beset with the infirmities of old age. You have to shuttle them to medical appointments and hospital visits, plus attend to their everyday needs. All this, while watching your own health, because you are not so youthful\",\"metadatas\":{\"Abstract\":\"\",\"ChunkGroupId\":\"ea55e9d0-5c25-4dcf-a1dd-1e4f174b25f0\",\"DocumentId\":\"PwR6VmXqAfwjn84ZM6dePsLWTldPv8cNS5dESYlsY2U\",\"Keywords\":\"\",\"PublishedDate\":\"\",\"Source\":\"https://www.pmo.gov.sg/Newsroom/National-Day-Rally-2023\",\"Title\":\"\"},\"distances\":0.11518943309783936,\"ids\":\"888868f1-dda5-4ebb-8d15-e81d1425cfbb\"},{\"documents\":\"to their everyday needs. All this, while watching your own health, because you are not so youthful yourselves. Responsibilities on all these fronts multiply your burdens. So, as Young Seniors, you are understandably anxious about your retirement needs. Beyond the daily cost of living pressures, you know that retirement is creeping up on you. You wonder: Will I have enough to get by? Can I cope? But do not worry – the Government will help you. You will not be left behind.\",\"metadatas\":{\"Abstract\":\"\",\"ChunkGroupId\":\"ea55e9d0-5c25-4dcf-a1dd-1e4f174b25f0\",\"DocumentId\":\"PwR6VmXqAfwjn84ZM6dePsLWTldPv8cNS5dESYlsY2U\",\"Keywords\":\"\",\"PublishedDate\":\"\",\"Source\":\"https://www.pmo.gov.sg/Newsroom/National-Day-Rally-2023\",\"Title\":\"\"},\"distances\":0.11691617965698242,\"ids\":\"bd43d37d-1a09-4a79-919a-63354c6103ab\"},{\"documents\":\"What I found most encouraging was that many seniors were not just taking part in activities, but also helping to organise and run them – seniors for seniors. I met Mdm Goh, the one in the pink blouse, Mdm Karen, and Mdm Farida. They were preparing to deliver hot meals to frail seniors living in upstairs in the rental flats who could not come down to the AAC. They do this every day. It is a great way to build neighbourly bonds while staying active. Actually, besides meal deliveries, there are also communal meals downstairs at the AAC. The staff told me that these meals were a big draw and an important activity because they encourage the old folks to come down. When they gathered at the AACs for meals, they would socialise and make friends, and the staff could keep an eye on them, made sure they were alright. I also discovered that these meals are actually cooked by the seniors themselves, at least some of the seniors themselves! These three makciks – Mdm Aminah on the left, Mdm Rosnah,\",\"metadatas\":{\"Abstract\":\"\",\"ChunkGroupId\":\"ea55e9d0-5c25-4dcf-a1dd-1e4f174b25f0\",\"DocumentId\":\"PwR6VmXqAfwjn84ZM6dePsLWTldPv8cNS5dESYlsY2U\",\"Keywords\":\"\",\"PublishedDate\":\"\",\"Source\":\"https://www.pmo.gov.sg/Newsroom/National-Day-Rally-2023\",\"Title\":\"\"},\"distances\":0.11718982458114624,\"ids\":\"f1d70598-10a4-493f-b0c3-abc6800eb156\"}]}"
     ]
    }
   ],
   "source": [
    "%%bash\n",
    "curl -X POST 'http://localhost:12036/gen/v1/rag/retrieve' \\\n",
    "    -s \\\n",
    "    -H \"Content-Type: application/json\" \\\n",
    "    -d '{\"collection_name\":\"demo\",\"query_texts\":\"Who are the young seniors?\",\"n_results\":4}'\n"
   ]
  },
  {
   "cell_type": "markdown",
   "metadata": {},
   "source": [
    "g) list documents"
   ]
  },
  {
   "cell_type": "code",
   "execution_count": 10,
   "metadata": {},
   "outputs": [
    {
     "name": "stdout",
     "output_type": "stream",
     "text": [
      "{\"documents\":[{\"Id\":\"PwR6VmXqAfwjn84ZM6dePsLWTldPv8cNS5dESYlsY2U\",\"CollectionName\":\"demo\",\"ByteSize\":43352,\"FileName\":\"pm_long_speech_2023.txt\",\"FileType\":\".txt\",\"File\":\"PM Lee Hsien Loong delivered his National Day Rally speech on 20 August 2023 at the Institute of Technical Education (ITE) Headquarters. PM spoke in Malay and Chinese, followed by English.\\n\\n \\n“A BETTER HOME, A BRIGHTER FUTURE”\\nSECTION 1: INTRODUCTION\\nMy fellow Singaporeans, good evening.\\n\\nReturn to Normalcy\\nWe are all relieved that COVID is behind us. Life as we knew it has resumed.\\n\\nCOVID-19 was the most challenging ordeal for our nation since Independence. We can all be proud of how we pulled through together. Unlike many other countries, Singapore has emerged from the pandemic stronger, more resilient, and more united. This is a tribute to the indomitable spirit of our nation.\\n\\nGlobal situation and economic outlook\\nHaving come through COVID, we are once again being tested. The international environment is fraught with geopolitical tension and economic uncertainty.\\n\\nWe feel acutely the pressures mounting all around us. The rivalry between the US and China affects every country and region in the world. Their mutual wariness and distrust has deepened. The rest of the world has to tread a careful path, to avoid being caught in the cross-fire. The war in Europe rages on. Russia’s invasion of Ukraine is a continuing human tragedy, and an assault on international norms and values. It is a cautionary warning to the rest of the world never to take peace for granted, and a reminder to us of the vital importance of a strong SAF. Meanwhile, the global economic order is fraying. Globalisation is weakening. Supply chains are splitting up. Countries are layering on multiple protectionist measures. This hurts all countries, but especially small, open trading nations like ourselves. With global warming, the world is also experiencing more extreme weather. From Chinato Japan, to Europe and the US, no region is spared from floods and droughts, heatwaves and wildfires. This will affect food production and prices worldwide. We have not fully felt it in Singapore yet, but it is coming.\\n\\nEconomically, Singapore is keeping up. We expect positive economic growth this year. Hopefully, we will avoid a recession. Inflation is at last coming down, but it will probably stay higher than what we were used to. The cost of living is still on everyone’s minds. In my Chinese speech earlier, I explained how the Government will continue to support you. We will weather this storm together.\\n\\nForward Singapore\\nOur nation must navigate carefully in this increasingly troubled landscape. There is no ready playbook, there is no model answer. I am glad that DPM Lawrence Wong and the 4G team have taken it upon themselves to chart out where Singapore will go from here. They launched Forward Singapore in June last year, to refresh our social compact. They have held dialogues with thousands of Singaporeans who shared their ideas to tackle various issues. For example: how to equip our people with the skills to succeed; how to improve care for the vulnerable; and how to strengthen our solidarity as one people. The Forward Singapore report will be published later this year. It will be a compass to help Singapore navigate through the stormy seas.\\n\\nDespite the dark clouds, the world still offers many opportunities for those who dare to seize them. In my Malay speech just now, I spoke about promising new sectors such as the digital economy. I also shared that the Government will give more support to workers – to help you adapt and upskill, to stay ahead of the game. Our Forward SG plans include financial support for workers who lose your jobs, while you upgrade your skills. It will be a temporary safety net to help you meet immediate needs, to free you to upskill and train, as you prepare yourself for a good long-term job. So long as you are willing to make the effort, the Government will go the extra mile to help you.\\n\\nSECTION 2: RETIREMENT\\nFinancial concerns are top-of-mind not just for younger workers, but also the older ones. These concerns become more urgent as we approach retirement.\\n\\nEspecially for those in their 50s and early 60s. Let us call them the “Young Seniors”. \\\"Young”, because you are younger than the Pioneer Generation and the Merdeka Generation; “Seniors”, because you will soon retire, or maybe you have recently retired.\\n\\nYoung Seniors are in a unique position today. Compared to the Pioneer and Merdeka Generations, you have benefited more from Singapore’s growth, and generally done better in life. But compared to workers younger than you, in their 30s and 40s today, you have generally earned less over your lifetimes. You have also had less time to benefit from improvements to the CPF system, and so have built up less retirement savings. Young Seniors are also in a particularly sandwiched phase of your lives. You have to shoulder the responsibility of caring for both the young and old in your families. Your kids may be young adults, but often are not yet fully independent and still live in the same household. Many of you Young Seniors also have elderly parents at home, who may be beset with the infirmities of old age. You have to shuttle them to medical appointments and hospital visits, plus attend to their everyday needs. All this, while watching your own health, because you are not so youthful yourselves. Responsibilities on all these fronts multiply your burdens. So, as Young Seniors, you are understandably anxious about your retirement needs. Beyond the daily cost of living pressures, you know that retirement is creeping up on you. You wonder: Will I have enough to get by? Can I cope? But do not worry – the Government will help you. You will not be left behind.\\n\\nMajulah Package\\nWe will introduce a package to help Young Seniors meet your retirement needs – let us name it the Majulah Package. This will be for Singaporeans who are 50 and above this year – born in 1973 or earlier. It will benefit those with lower incomes and less wealth. The support will be tiered, depending on your income and your CPF savings. The Majulah Package will comprise three components.\\n\\nFirst, an “Earn and Save” Bonus, to help you build up your CPF savings while you work. Most Young Seniors are still working, and have some years to go before retirement. We encourage you to continue working as long as you can. Lower- and middle-income workers will get a CPF bonus of up to $1,000 a year, depending on your income. The Government will credit this into your CPF account, on top of the usual employer and employee contributions. You will receive this Earn and Save bonus yearly, as long as you are working, whether full-time or part-time. Take for example a lower-income 55 year-old who plans to retire at 65. Over 10 years, her Earn and Save bonus adds up to $12,000 in extra CPF savings if you include the CPF interest, which is not bad.\\n\\nSecond, a Retirement Savings Bonus (RSB). If your CPF balances have not reached the CPF Basic Retirement Sum, you will receive a one-time CPF bonus of up to $1,500. Those who are not working will get this bonus too. This includes homemakers, who have given up their careers and laboured to raise their families, and thus have very low CPF balances.\\n\\nThird, a MediSave Bonus. Most Young Seniors have enough MediSave balances. Nevertheless, many still worry about healthcare costs, because you will soon be Not-So-Young Seniors. So the Majulah Package will include a modest one-time MediSave Bonus of up to $1,000. It will give you some extra buffer, to help pay your medical expenses and insurance premiums.\\n\\nThe Majulah Package will help Young Seniors, in their 50s and early 60s, to meet your retirement needs. But besides Young Seniors, we also want to encourage older seniors to continue working for as long as you can. Hence the Majulah Package also covers the Pioneer and Merdeka Generations.\\n\\nI think quite a few here belong to the Pioneer and Merdeka Generation. Let me say to you, if you are PG and MG: If you are still working and meet the income criteria, you too will receive the Earn and Save Bonus as long as you are working. If you are not working, you can still get something from the one-time Retirement Savings Bonus and MediSave Bonus. This will be in addition to the PG or MG benefits that you are already receiving and will continue to receive. Think of this as a 58th National Day present!\\n\\nThe Majulah Package will cost the Government about $7 billion. MOF will create a new Fund to meet the full lifetime costs of the Package, using resources from this term of Government. We will honour this commitment without burdening future generations.\\n\\nThe Majulah Package will benefit some 1.4 million older people across several generations. We will also be enhancing existing schemes, like Silver Support, Workfare, and the Matched Retirement Savings Scheme and the details will be announced next year. Taken together, these improvements will help seniors to meet basic retirement needs, especially for lower- and middle-income Singaporeans so that you can have greater peace of mind in your golden years.\\n\\nSECTION 3: AGEING\\nI want to talk about two other important issues tonight – caring for our ageing population, and housing our people.\\n\\nSingapore is one of the fastest-ageing nations in the world. Today, about one in five Singaporeans is a senior, aged 65 and above. By 2030, nearly one in four Singaporeans will be a senior. I first talked about ageing in the National Day Rally back in 2007. At that time, we had 500 centenarians – people aged 100 and older. We thought that was a lot. By 2013, which is 6 years later, this had doubled to around 1,000. And by 2030, we are likely to double again to at least 2,000 centenarians! It shows vividly how our society is getting older and older, faster and faster. Today, if you ask – it is not in the chart – but we have about 1,500 already. In 2030, I will not be making this speech, but whoever is doing so will have to take care of all of us seniors, and some of us very senior.\\n\\nToday, we are an aged society; soon, we will be a ‘super-aged’ society. This has massive social and economic implications. We have much to do to help our seniors age well.\\n\\nToday, I will speak on two aspects of our preparations: active ageing; and making homes and precincts more senior-friendly.\\n\\nActive Ageing\\nFirst, on active ageing.\\n\\nWe have invested significantly in healthcare for seniors.\\n\\nThe Government plays a big role in providing care, but seniors must also play our part to look after ourselves. MOH launched Healthier SG last month. Healthier SG aims to get each of us to take more responsibility for our own health, supported by family doctors and community partners. When you enrol, you will get a personalised health plan, including when to go for screenings and vaccinations. Besides medical prescriptions, your doctor will also give you what we call social prescriptions, like advising you to lead a more active lifestyle, to maintain a healthier diet, to lose a little bit of weight, or to quit smoking. But while your GP can suggest or even arrange these for you, only you can decide to follow through and do them. But please do so. Prevention is always better than cure. My wife and I have signed up. I encourage all seniors to sign up for Healthier SG when you get the invitation from MOH.\\n\\nBeyond Healthier SG, how else can we help Singaporeans to age well? It is not just about fending off sickness – it is also about staying well, staying well both physically and mentally. Because mental wellness is just as important as physical wellness. One of the biggest threats to the well-being of seniors is loneliness. Today, many seniors are living alone. They risk becoming socially isolated. Their spouses may have passed on; their children are probably living elsewhere with their own families. So it is important that someone keeps regularly in touch with them. It is also important that they keep active and have a social network for mutual support. During COVID, many old folks were stuck at home, unable to go out for their usual activities. We were very worried that isolated and inactive, they would deteriorate quickly. So we restarted community activities for seniors as soon as we could do so safely – stand further apart, do it outdoors, but gather and do it, and keep that human contact, and that activity.\\n\\nWe will do more to help seniors stay engaged and socially active. That is why we have set up Active Ageing Centres (AACs) all over Singapore. I recently visited this Active Ageing Centre, the Bedok Radiance AAC. It is run by Thye Hua Kwan Moral Charities. I was very happy to see a vibrant community of seniors joining the activities and using the services there. Many of them told me that they were living alone, and always looked forward to coming down to the activities. It gave them something to do with their friends, something to look forward to, a sense of purpose.\\n\\nThe AAC ran a varied weekly programme: art jamming, karaoke and dance classes. When I was there, a HAPPY exercise class was in full swing – HAPPY means Healthy Ageing Promotion Programmes for You, H-A-P-P-Y.\\n\\nThe seniors looked happy, but some of them were not so well. A few were wheelchair-bound, but they still joined in the activities. This cheerful lady told me she hoped to joget again! Why not, even in a wheelchair? Other seniors were using the health services at the AAC. Some were getting their vital signs checked so that doctors could follow up if something was amiss. One was having a teleconsultation – with nurses physically there to help him, and a doctor calling in on Zoom from the polyclinic. It was good that relatives, or neighbours, were making the effort to bring the seniors down to the AAC, for them to socialise and cheer up their lives.\\n\\nWhat I found most encouraging was that many seniors were not just taking part in activities, but also helping to organise and run them – seniors for seniors. I met Mdm Goh, the one in the pink blouse, Mdm Karen, and Mdm Farida. They were preparing to deliver hot meals to frail seniors living in upstairs in the rental flats who could not come down to the AAC. They do this every day. It is a great way to build neighbourly bonds while staying active. Actually, besides meal deliveries, there are also communal meals downstairs at the AAC. The staff told me that these meals were a big draw and an important activity because they encourage the old folks to come down. When they gathered at the AACs for meals, they would socialise and make friends, and the staff could keep an eye on them, made sure they were alright. I also discovered that these meals are actually cooked by the seniors themselves, at least some of the seniors themselves! These three makciks – Mdm Aminah on the left, Mdm Rosnah, and Mdm Fatimah – they used their SkillsFuture credits to attend a food hygiene and preparation course so that they could cook meals for their fellow seniors. Mdm Fatimah told me they use less salt and sugar in their cooking to make it a Healthier Choice. Then I tasted her chicken curry, and I said, \\\"You must have used santan – coconut milk.” She said no – she uses normal milk. But it tasted just as good – sedap sekali! I had a second helping.\\n\\nIf you are observant, you would have noticed that the volunteers I have mentioned are all ladies. But we are starting to see more male seniors coming down to the AACs. The centres are introducing more activities that interest men, such as jamming. Or even something simple like a café corner, where the uncles can catch up over a coffee. There will be something for everybody at the AACs.\\n\\nI was very heartened by my visit to Bedok Radiance AAC. I believe that the network of AACs across Singapore will be a valuable resource for seniors to stay active and healthy. We will invest to expand the network, and work with community partners to enhance the AACs’ services and reach.\\n\\nIf you have elderly family members, especially if they are living on their own, please bring them to join an AAC nearby. And if you are a senior yourself, I strongly encourage you to join a centre near you, because many seniors are having a good time there. Take the first step towards active ageing, so you can live well, and age well. Be like Mdm Wong here. This is Mdm Wong, she is 97 – still going strong, still playing Mahjong! Making HDB Homes and Precincts More Senior-Friendly.\\n\\nBesides encouraging active ageing, we will also make our HDB homes and precincts more senior-friendly. Many seniors have told us that they want to live out their golden years in their own homes and neighbourhoods. It is a familiar environment, a cosy sanctuary, and they have established deep roots and meaningful friendships. This is a very good thing. We will help as many seniors to age in place as we can. We need to make a few moves to realise this.\\n\\nFirst, we will make your homes more senior-friendly. Today, under the EASE programme (Enhancement for Active Seniors), you can install fittings like ramps to help you get in and out of your homes. In toilets, you can install grab bars and make the floors slip-resistant for safety. Soon, seniors can choose from an expanded suite of fittings under EASE 2.0. For example, you can have foldable shower seats, you can have your toilet entrances widened, so that if you or your spouse needs a wheelchair, your wheelchair can be brought into the toilet, and life can be safer and much more convenient.\\n\\nSecondly, we will make it safer and more comfortable for seniors to move about their neighbourhoods. For example: we will revamp streets and linkways frequented by seniors; we will build more shelters and rest points; also more therapeutic gardens, fitness trails, and exercise machines, to encourage seniors to stay active. The roads will be made more pedestrian-friendly. For example, longer green man signals to give seniors more time to cross the road. You see down here, 36 seconds – the motorcycles and cars have to wait, does not matter, old folks’ safety is important. This is their home, their area, we put them first. Barrier-free ramps and raised zebra crossings so that wheelchair users can cross over without having a step to go down and a step to come back up again at the curb; 3D road markings and narrowed roads to slow the cars down. We will also install larger and more colourful block signs, with familiar symbols to help seniors remember their own block and find their way home. This is not where the satay stall is – it is the Satay Block, Block 113 in Kebun Bahru.\\n\\nThird, for those who need a little more help, we will build more assisted living facilities. Take for example IDeAL – the Integrated Dementia Assisted Living project at Block 115. At the Kueh Lapis Block, Block 115 in Kebun Baru. I went to open it last year. It is a ground-up project by Dementia Singapore, with some Government support, to help seniors with mild dementia. Many of the seniors live in their own flats in this block. The void deck has become their community living room, where seniors have fun and games, exercise, get their haircuts, and eat together. Whenever a senior needs anything, he or she will go to the second floor. The residents affectionately call this “Ji Lao” – the Second Floor. There are shared facilities there like a community kitchen, where they cook and hang out, and a telehealth room, where staff can monitor their vital signs and arrange for telemedicine checkups. All at Ji Lao! At IDeAL, seniors with dementia can live happily on their own upstairs, and enjoy the warmth and care of friends and community downstairs. HDB is building similar assisted living projects called Community Care Apartments. They will serve not just seniors suffering from dementia, but also those who are well. We will need a whole range of these facilities – whether for assisted living, or the AACs – to serve old folks with different needs. Some of these already exist today. But we need to improve them, scale them up, and get ready for the large numbers down the road.\\n\\nWe will keep making Singapore a more friendly home for current and future seniors: investing resources to senior-proof your homes; making precincts safer and easier to navigate; and constructing more assisted living residences, with integrated accommodation, care, and community facilities. We will do this across Singapore, starting with the towns with the most seniors like Ang Mo Kio and Bukit Merah.\\n\\nSo we are taking major steps to prepare for a super-aged society. It is part of a new national programme called “Age Well SG”, which will complement Healthier SG in improving the health of our seniors. The Ministries will share more about this in the coming months.\\n\\nTogether, we will make Singapore an endearing home for all ages, where seniors can age with dignity and grace, connected with friends and family.\\n\\nSECTION 4: HOUSING\\nNow I want to speak about public housing. HDB is a vital part of the Singapore story. Right from the very start, the PAP Government put heavy emphasis on public housing. Here is Mr Lee Kuan Yew laying the foundation stone at the Cantonment Road Housing Estate in March 1963. This was HDB’s earliest projects, one of them. Mr Lee was convinced that housing would give Singaporeans a stake in our nation’s future. Because, he explained, housing “gives more than a sensation of permanence; it is permanent…then we dig our toes in and we fight!” So, housing has always meant much more to us than a roof over our heads. It also gives every Singaporean a valuable asset and a powerful reason to fight for our country and our future. Fast forward 60 years, today we have one of the highest home ownership rates in the world. Nine in ten Singaporeans own our homes. Eight in ten live in HDB flats. Our Singaporean identity is deeply intertwined with our HDB flats and towns. These are homes we are proud to own, neighbourhoods we raise our families in, and communities we build together.\\n\\nOver the decades, the Government has kept housing affordable and accessible for Singaporeans. We price HDB flats at a substantial discount below their market value. We also provide a wide range of generous grants to first-timers, families, and the lower-income.\\n\\nCOVID disrupted our public housing programme. BTO projects were delayed. The shortfall of new flats pushed up prices of resale flats. MND and HDB have been working very hard to catch up. They are making good progress. So far, HDB has completed and delivered more than 70% of the flats that had been delayed by the pandemic. We are also ramping up supply. We have launched 50,000 flats since 2021. By 2025, in two years’ time, we will have launched another 50,000 flats, making a total of 100,000 flats. With supply catching up, the market is calming down. First-timer BTO application rates are lower. Waiting times are shorter. Resale prices are gradually stabilising.\\n\\nRecently, MND announced changes to help Singaporeans with urgent housing needs get their flats earlier. Families with young children and young married couples buying their first home will receive more ballot chances, and higher priority in flat allocation. HDB will also launch more BTO flats with shorter waiting times of two to three years. We are working extra hard, and I am confident that we will get over this hump soon.\\n\\nChanging housing landscape\\nTonight, I want to look beyond this hump, to the longer-term public housing landscape.\\n\\nSince the early 90s, HDB has used a simple framework to guide the public in buying flats. We distinguish between Mature Estates and Non-Mature Estates. Mature Estates are places like Ang Mo Kio, Toa Payoh, or Queenstown. This is a picture of Dawson, in Queenstown, where I recorded my National Day Message this year. Mature Estates are usually more centrally located, better connected, and with more amenities. Naturally these places are more popular, and their prices reflect the higher demand. Then there are the Non-Mature Estates: These are less central and further out, like Jurong East, Woodlands, and Punggol. What Non-Mature Estates lose in terms of location and convenience initially, they make up for in lower BTO prices. Between Mature and Non-Mature Estates, HDB has been able to offer a flat for every household’s budget. This framework is easy to understand, and has worked well for many years.\\n\\nBut our housing landscape is evolving. Firstly, we have fewer and fewer large tracts of undeveloped land left to build new towns and estates. Tengah will be the last new town for quite some time, at least until Paya Lebar Air Base moves out to Changi and the site is cleared and redeveloped. Increasingly, we will have to build new HDB flats within or near to existing estates. These will often be more centrally located. For example, at Mount Pleasant, where the Police Academy used to be, we are planning to build 5,000 new homes there. New projects like these – nestled in older, more developed areas with a lot more amenities – will be more popular, and will naturally cost more. Secondly, even what we call “Non-Mature Estates” today have become much more developed. We imagine non-mature estates as being very barebones. Blocks of flats surrounded by empty barren ground. Our mental image is this photo, and once upon a time it looked like this – this was Toa Payoh in the 1960s. Toa Payoh does not look like this today. But look around you now. Towns like Jurong East, Woodlands, or Punggol, that is not barebones. These towns have matured, and now have excellent connectivity and a full suite of amenities, so the distinction between Mature and Non-Mature Estates is blurring. This is reflected in BTO applications. Some choicer projects in Non-Mature Estates are even more popular than projects in Mature Estates. It shows that buyers are discerning – you know when you see a good deal, and what matters to you are the specific attributes of the project, rather than whether we call it Mature or Non-Mature.\\n\\nIn future, many more BTO developments will be in estates or locations that are effectively “mature”. That means that the framework of Mature and Non-Mature Estates will no longer work and we need a new framework. This framework has to achieve three important objectives: One, it has to keep home ownership affordable to all income groups. Two, it has to maintain a good social mix in every town and every region. And three, it has to keep the system fair for everyone. And here is how we will do it.\\n\\nFor a start, we will keep HDB flat prices affordable. We will gradually provide more housing grants, especially grants that are means-tested, like the Enhanced Housing Grant. This way, lower- and middle-income households will get the most support to own their homes. There will always be an HDB flat to meet every budget. And we can maintain a good social mix in every town and region.\\n\\nThis will work for most HDB projects, but it will still leave one particular problem and that is, with projects in choicer locations within a region. For example, projects near an MRT station or near the town centre. Such flats see the highest demand during BTO exercises. People know that HDB is offering a good deal, because these flats will fetch much higher resale prices afterwards. This turns the BTO exercise into a lottery. Those who are lucky enough to ballot such a flat stand to reap a windfall upon resale. This will not be fair to the many more who miss out.\\n\\nTake for example one recent BTO project: Central Weave at Ang Mo Kio. This is Ang Mo Kio; let me zoom in, Central Weave is right at the town centre. Let me zoom in a little bit more. It is next to the MRT and bus interchange. The market is there, the hawker centre is there, Ang Mo Kio Hub is nearby. So location, location, location. This is an excellent location; this is a highly desirable project. HDB’s selling price had to reflect these attributes. So, the prices for the biggest flats at Central Weave – the 5-Room and 3-Gen flats – ranged from $713,000 to $877,000, before grants. Even then, these flats were heavily discounted off their true market value. Some people complained that these prices were exorbitant and unaffordable. Yet these units were heavily oversubscribed. More than 6,500 households applied for just 372 such flats – 17 applicants for every flat! Clearly, these applicants must have found the Central Weave project affordable, and thought that the prices offered them good value. And no doubt many hoped their flats would fetch strong resale prices later on.\\n\\nSo think about it. If you were HDB CEO sitting down, confronted with this problem, what will you do? You have a dilemma, a dilemma with projects at choicer locations like Central Weave: should we price them higher, or lower? If we price them higher, we will shrink the windfall gains, reduce the lottery effect. This will moderate demand and that is good. But there will be sticker shock – these flats will become expensive and unaffordable to most families. And we will not get a good social mix. Some people will still afford them, but mainly those near the income ceiling, or those whose parents can help them pay for the flat. The result: the precinct will become a higher-income enclave, and that is not what we want. But if HDB prices such prices lower, more households can afford them; we achieve a better social mix, that is good, but we exacerbate the lottery effect, because the potential windfall will be even richer. Even more families will try for these flats. For every one happy successful buyer, there will be 20 or more unsuccessful buyers, and they will understandably and justifiably frustrated and very unhappy. And this is not fair. So under the present framework, whether we price such flats higher or lower, we cannot fully achieve all three objectives: affordability, a good social mix, and a fair outcome.\\n\\nSo what do we do? Central Weave is already sold, but we can expect more such situations as we build more flats in existing towns.\\n\\nHow do we solve this problem?\\n\\nNew “Plus” model\\nOur solution is to introduce a new “Plus” model for selling HDB flats at choicer locations, with stricter sale conditions so that we can moderate the prices. Let me explain carefully what I mean.\\n\\nToday, HDB launches BTO projects all over Singapore. We are all familiar with them. Everybody knows the BTO rules. For example, a 5-year Minimum Occupation Period, or MOP, after which the owner can resell the flat. There is no income ceiling for resale buyers. These are the standard rules and apply to what I will call “Standard” projects. In future, most HDB projects will still be Standard projects.\\n\\nBut within each region, some HDB projects will be in choicer locations. Take for example, Bayshore, in Bedok. This is Bedok town. Bayshore is there, let me zoom in. And you can see, Bayshore is a very good location for homes, because you have got two MRT stations, Bedok South and Bayshore MRT stations. Shopping malls will be built in this corner, Siglap CC is there. East Coast Park is across the road, and then you have the waterfront, 有山有水.\\n\\nWe will have both private and public housing in Bayshore. The HDB projects will likely be Plus projects and will be sold under different rules. HDB will give more subsidies for these Plus flats, over and above the subsidies for Standard BTO flats. This will moderate the prices of Plus flats and put them within reach of more households. But to make the scheme fair, HDB will also impose more restrictive sale conditions. For example: A longer MOP of 10 years, to favour buyers who are planning to stay there for the longer term, and discourage those who may be thinking of flipping the property and moving out as soon as they can. Tighter restrictions when the home-owner resells the Plus flat later on, such as a subsidy recovery applied on the resale price, certain percentage when you sell the flat, you pay back a certain percentage back to HDB to take back the extra discounts you enjoyed upfront since you are moving out. This is to be fair to other buyers who did not get these Plus flats. Also there will be an income ceiling on resale buyers, just like how we have an income ceiling on first-time buyers. This will moderate resale prices and help to maintain a better social mix, even in the resale market in the longer term.\\n\\nAs we build more projects in mature areas, this Plus model will help us to meet our three objectives: affordability, good social mix, and fairness. I keep on showing you this slide because this is crucial. These are the three fundamental objectives and we must bear that in mind, when we think about what is HDB doing, why is HDB doing this, how does doing this help us to achieve these objectives? It will help Singaporeans find a house that suits your needs, even in good locations. Not just for you, but for your children too.\\n\\nStandard, Plus and Prime\\nActually, the Plus model is not entirely new; we already have something similar, called the Prime Location Public Housing Model. Let us call them Prime projects for short. One example is Bukit Merah Ridge. Like other Prime projects, it is very close to the city centre. Naturally, these flats are very desirable, and will be more expensive. But we have been able to keep their selling prices reasonable by imposing tight restrictions and a subsidy recovery to moderate the windfall gains. The Prime model has shown good outcomes so far. In Bukit Merah Ridge. The selling price for a four-room flat ranged from $540,000 to $737,000, before grants. Each flat attracted 5.4 applicants – far fewer than Central Weave, even if you compare to the four-room flats in Central Weave. And we hope that Plus projects will achieve similarly good outcomes. So, let me go back to Central Weave because you are probably thinking and asking: had we sold Central Weave as a Plus project, with the tighter restrictions and additional subsidies, would HDB have priced it lower than it actually did? The answer is yes, it would, because that is the whole point of Plus projects: to enable HDB to moderate the prices of flats in choicer locations, and still be fair to all flat buyers.\\n\\nSo think of it like this. Standard flats are good flats built all over Singapore, and will have HDB’s standard subsidies and standard restrictions. Plus flats are in the choicer locations within a region, and will have more subsidies and tighter restrictions than Standard flats. And Prime flats are in the choicest and most central locations in the whole of Singapore, and they will have the most subsidies and tightest restrictions. Let me show you the whole picture in one slide.\\n\\nThe new framework of Standard, Plus, and Prime. Standard islandwide, subsidies are standard and restrictions are standard – that is why we called it standard. Plus flats have choicer region, more subsidies and tighter restrictions. Prime flats, have the choicest locations, most subsidies and tightest restrictions. Actually the quality of the flats, they are all good flats, good flats, good flats. But the locations are different, the subsidies are different and the restrictions are different. And this new framework – Standard, Plus and Prime will be a major change to the way HDB sells flats. HDB will roll out this framework for all new projects from the second half of next year. It will not affect existing projects. Your current homes, or the homes you have already booked, will not be reclassified.\\n\\nIn time to come, we will no longer refer to new projects as Mature and Non-Mature. Instead, we will build a good mix of projects within and across regions, to cater to different needs and budgets. And that is how we can fulfil our commitment to keep high-quality HDB flats accessible and affordable to you and your children for a very long time to come.\\n\\nEnhancing Access for Singles\\nThe new framework – Standard, Plus, and Prime – will affect everyone buying a new HDB flat, but there is one special group I want to address: the singles. More and more Singaporeans are choosing to be single. Singles too hope to own their homes and have more housing choices. We hear your concerns.\\n\\nToday, first-timer singles can apply for new flats, but only 2-room Flexi flats and only in Non-Mature Estates. They cannot buy new Flexi flats in Mature Estates. Singles are also not allowed to buy Prime flats. These rules are to prioritise our limited supply of flats, but unfortunately, they have restricted singles’ choices. We will do something about this.\\n\\nWhen we roll out the new framework, singles will be allowed to buy 2-room Flexi flats across all types of BTO projects – Standard, Plus, and Prime. HDB will tell you the details soon. But I am sure singles will welcome this move to have more choices to find your own home and to write your own part in Singapore’s housing story.\\n\\nOur Housing Foundations\\nI spoke earlier about the foundation stone that Mr Lee laid back in 1963. Today, Cantonment Road Housing Estate has been redeveloped into our most iconic public housing project – The Pinnacle @ Duxton. But 60 years on, that original foundation stone is still there, at the Heritage Garden at the Pinnacle. It occupies pride of place, to remind each new generation that our housing programme is a vital part of the Singapore story; that the Singapore we live in today, is what we have inherited from those who came before us; and that we owe an immense debt to the hard work and good governance of the founding fathers and the pioneer generation.\\n\\nSECTION 5: CONCLUSION\\nOur Founding Values\\nIn a few weeks’ time, we will be marking the 100th birth anniversary of Mr Lee Kuan Yew. It is timely to reflect upon the values and ideals championed by Mr Lee and the founding fathers., and for us to renew our commitment to these enduring values and ideals.\\n\\nI spoke in my Malay speech earlier about an exhibition now on at the National Museum: Semangat yang Baru: Forging a New Singapore Spirit. The exhibition tells the story of the birth of our nation. It transports us back to our early years of nation-building. It honours the indomitable spirit of the Pioneer Generation. They dared; they fought ferociously for Singapore; they never gave up. And thus they turned mudflats into a metropolis, and took us from Third World to First.\\n\\nBut our forefathers built more than a nation of bricks and mortar, skyscrapers and a thriving economy. They created a nation founded on ideals: justice and equality; religious freedom and racial harmony; a commitment to excellence; a fair system of meritocracy; and an uncompromising insistence on honest, clean government.\\n\\nIntegrity and incorruptibility are fundamental to Singapore. They are the foundation on which we run a clean and effective Government, and deliver results for Singaporeans. Mr Lee Kuan Yew considered these the most crucial ideals of all. On his 90th birthday, he came to Parliament to attend the sitting. We celebrated his birthday in the Members’ Room. We were all there – PAP MPs and Ministers, Opposition MPs led by Mr Low Thia Khiang, as well as NMPs. Frail and ill, Mr Lee said just a few words. He spoke only about one thing – he reminded us Singapore must always remain clean and incorruptible, and Ministers and MPs have to set the example. Otherwise, he said, we are finished. I will never forget those brief words. For the sake of the country, I will do all I can to keep faith with Mr Lee’s hope. No matter the price; no matter the embarrassment or political cost – I will do my utmost to keep the system clean. Every generation of PAP leaders must also stand by this – this is what Singapore depends upon.\\n\\nThe ideals I spoke about are not just abstract aspirations. They are our compass; they guide every decision we make. They give purpose and meaning to our nation building. They make Singapore stand tall amongst the nations of the world.\\n\\nBy upholding these ideals, we have over decades built a high trust society. One where people trust one another – “regardless of race, language or religion”. Where the people and the Government trust each other too, in big ways and small. This is what saw us through the ups and downs over the past 58 years, and this is how we weathered COVID-19.\\n\\nCOVID now seems like a bad dream. Confused, receding, getting forgotten. But the pandemic could well have been a real nightmare. Things could easily have gone horribly wrong, as they did in many other countries. Thankfully, we avoided disastrous outcomes, and averted the loss of many, many lives. Our people came through safe and sound; our economy revived in good shape; and our society has grown more united, not less. We owe this to our collective efforts, and our strong mutual trust, which we must strengthen and deepen to secure a bright future for our people.\\n\\nSuccession\\nAs we prepare for the future, one crucial task is leadership renewal. As you all know, my original plan was to hand over and step down as Prime Minister by 2022, before my 70th birthday. But the pandemic disrupted this plan. I promised Singaporeans that I would see the nation through the crisis, together with both the current and the 4G leadership. Now COVID is behind us, and my succession plans are back on track.\\n\\nRecently, several controversial issues have drawn Singaporeans’ attention. I have spoken about them in Parliament, and in my National Day Message. We dealt with each of them thoroughly and transparently. Let me assure you: these incidents will not delay my timetable for renewal. We are on track.\\n\\nMore and more, my task is to support the 4G team and their agenda. I want to get them off to the best start possible. They are increasingly setting the pace. My themes in this Rally are all Forward SG themes. The 4G will soon wrap up the Forward SG exercise, but their journey is just beginning. Our nation’s future depends on them, working as one with you to take Singapore forward.\\n\\nI have every confidence in Lawrence Wong and his team. We share the same core convictions – that we are stewards of Singapore, entrusted with the immense responsibility to lead and care for our nation; that our time as stewards is transient, but we are building a Singapore for the ages; and that our best service to this nation is to hand over a better, stronger Singapore to those who follow us. My team and I are deeply grateful to you for standing with us through thick and thin. Please give Lawrence and his team your fullest support too, now and after they take over.\\n\\nClosing\\nThe Singapore story has been an unlikely one from the start. Our nation is still young, and we will always be tiny. We will forever be an unlikely nation, created out of the sheer collective will of our people. Nobody expected us to survive, much less to flourish. But each time, we beat the odds; each time, we showed the world what Singapore can be.\\n\\nIt has been an exceptional story; but I believe the best parts are still to be written. Let us hold fast to: our values, which anchor us and guide our way; our mutual trust, which is the bedrock of our success; and our dreams, which drive us ever forward. Let us come together with a renewed spirit and vigour, a semangat yang baru, to build a better, brighter Singapore for generations to come. Majulah Singapura!\",\"Source\":\"https://www.pmo.gov.sg/Newsroom/National-Day-Rally-2023\",\"Abstract\":null,\"Authors\":null,\"Title\":null,\"Publisher\":null,\"PublishedDate\":null,\"Comments\":null,\"Keywords\":null,\"CreatedAt\":\"2024-09-05T01:10:45.099828\",\"UpdatedAt\":\"2024-09-05T01:10:45.099838\",\"IsActive\":true,\"ChunkGroups\":[{\"Id\":\"ea55e9d0-5c25-4dcf-a1dd-1e4f174b25f0\",\"DocumentId\":\"PwR6VmXqAfwjn84ZM6dePsLWTldPv8cNS5dESYlsY2U\",\"SplitAlgo\":\"recursive_split\",\"ChunkCount\":66,\"ChunkSize\":1000,\"Overlap\":100,\"IsActive\":true,\"ChunksDir\":\"/tmp/chunks/03fdbcae1174401899859449c8c81ba6\"}]}]}"
     ]
    }
   ],
   "source": [
    "%%bash\n",
    "curl -s 'http://localhost:12036/gen/v1/rag/collection/demo/documents'"
   ]
  },
  {
   "cell_type": "markdown",
   "metadata": {},
   "source": [
    "h) get document"
   ]
  },
  {
   "cell_type": "code",
   "execution_count": 11,
   "metadata": {},
   "outputs": [
    {
     "name": "stdout",
     "output_type": "stream",
     "text": [
      "{\"document\":{\"Id\":\"PwR6VmXqAfwjn84ZM6dePsLWTldPv8cNS5dESYlsY2U\",\"CollectionName\":\"demo\",\"ByteSize\":43352,\"FileName\":\"pm_long_speech_2023.txt\",\"FileType\":\".txt\",\"File\":\"PM Lee Hsien Loong delivered his National Day Rally speech on 20 August 2023 at the Institute of Technical Education (ITE) Headquarters. PM spoke in Malay and Chinese, followed by English.\\n\\n \\n“A BETTER HOME, A BRIGHTER FUTURE”\\nSECTION 1: INTRODUCTION\\nMy fellow Singaporeans, good evening.\\n\\nReturn to Normalcy\\nWe are all relieved that COVID is behind us. Life as we knew it has resumed.\\n\\nCOVID-19 was the most challenging ordeal for our nation since Independence. We can all be proud of how we pulled through together. Unlike many other countries, Singapore has emerged from the pandemic stronger, more resilient, and more united. This is a tribute to the indomitable spirit of our nation.\\n\\nGlobal situation and economic outlook\\nHaving come through COVID, we are once again being tested. The international environment is fraught with geopolitical tension and economic uncertainty.\\n\\nWe feel acutely the pressures mounting all around us. The rivalry between the US and China affects every country and region in the world. Their mutual wariness and distrust has deepened. The rest of the world has to tread a careful path, to avoid being caught in the cross-fire. The war in Europe rages on. Russia’s invasion of Ukraine is a continuing human tragedy, and an assault on international norms and values. It is a cautionary warning to the rest of the world never to take peace for granted, and a reminder to us of the vital importance of a strong SAF. Meanwhile, the global economic order is fraying. Globalisation is weakening. Supply chains are splitting up. Countries are layering on multiple protectionist measures. This hurts all countries, but especially small, open trading nations like ourselves. With global warming, the world is also experiencing more extreme weather. From Chinato Japan, to Europe and the US, no region is spared from floods and droughts, heatwaves and wildfires. This will affect food production and prices worldwide. We have not fully felt it in Singapore yet, but it is coming.\\n\\nEconomically, Singapore is keeping up. We expect positive economic growth this year. Hopefully, we will avoid a recession. Inflation is at last coming down, but it will probably stay higher than what we were used to. The cost of living is still on everyone’s minds. In my Chinese speech earlier, I explained how the Government will continue to support you. We will weather this storm together.\\n\\nForward Singapore\\nOur nation must navigate carefully in this increasingly troubled landscape. There is no ready playbook, there is no model answer. I am glad that DPM Lawrence Wong and the 4G team have taken it upon themselves to chart out where Singapore will go from here. They launched Forward Singapore in June last year, to refresh our social compact. They have held dialogues with thousands of Singaporeans who shared their ideas to tackle various issues. For example: how to equip our people with the skills to succeed; how to improve care for the vulnerable; and how to strengthen our solidarity as one people. The Forward Singapore report will be published later this year. It will be a compass to help Singapore navigate through the stormy seas.\\n\\nDespite the dark clouds, the world still offers many opportunities for those who dare to seize them. In my Malay speech just now, I spoke about promising new sectors such as the digital economy. I also shared that the Government will give more support to workers – to help you adapt and upskill, to stay ahead of the game. Our Forward SG plans include financial support for workers who lose your jobs, while you upgrade your skills. It will be a temporary safety net to help you meet immediate needs, to free you to upskill and train, as you prepare yourself for a good long-term job. So long as you are willing to make the effort, the Government will go the extra mile to help you.\\n\\nSECTION 2: RETIREMENT\\nFinancial concerns are top-of-mind not just for younger workers, but also the older ones. These concerns become more urgent as we approach retirement.\\n\\nEspecially for those in their 50s and early 60s. Let us call them the “Young Seniors”. \\\"Young”, because you are younger than the Pioneer Generation and the Merdeka Generation; “Seniors”, because you will soon retire, or maybe you have recently retired.\\n\\nYoung Seniors are in a unique position today. Compared to the Pioneer and Merdeka Generations, you have benefited more from Singapore’s growth, and generally done better in life. But compared to workers younger than you, in their 30s and 40s today, you have generally earned less over your lifetimes. You have also had less time to benefit from improvements to the CPF system, and so have built up less retirement savings. Young Seniors are also in a particularly sandwiched phase of your lives. You have to shoulder the responsibility of caring for both the young and old in your families. Your kids may be young adults, but often are not yet fully independent and still live in the same household. Many of you Young Seniors also have elderly parents at home, who may be beset with the infirmities of old age. You have to shuttle them to medical appointments and hospital visits, plus attend to their everyday needs. All this, while watching your own health, because you are not so youthful yourselves. Responsibilities on all these fronts multiply your burdens. So, as Young Seniors, you are understandably anxious about your retirement needs. Beyond the daily cost of living pressures, you know that retirement is creeping up on you. You wonder: Will I have enough to get by? Can I cope? But do not worry – the Government will help you. You will not be left behind.\\n\\nMajulah Package\\nWe will introduce a package to help Young Seniors meet your retirement needs – let us name it the Majulah Package. This will be for Singaporeans who are 50 and above this year – born in 1973 or earlier. It will benefit those with lower incomes and less wealth. The support will be tiered, depending on your income and your CPF savings. The Majulah Package will comprise three components.\\n\\nFirst, an “Earn and Save” Bonus, to help you build up your CPF savings while you work. Most Young Seniors are still working, and have some years to go before retirement. We encourage you to continue working as long as you can. Lower- and middle-income workers will get a CPF bonus of up to $1,000 a year, depending on your income. The Government will credit this into your CPF account, on top of the usual employer and employee contributions. You will receive this Earn and Save bonus yearly, as long as you are working, whether full-time or part-time. Take for example a lower-income 55 year-old who plans to retire at 65. Over 10 years, her Earn and Save bonus adds up to $12,000 in extra CPF savings if you include the CPF interest, which is not bad.\\n\\nSecond, a Retirement Savings Bonus (RSB). If your CPF balances have not reached the CPF Basic Retirement Sum, you will receive a one-time CPF bonus of up to $1,500. Those who are not working will get this bonus too. This includes homemakers, who have given up their careers and laboured to raise their families, and thus have very low CPF balances.\\n\\nThird, a MediSave Bonus. Most Young Seniors have enough MediSave balances. Nevertheless, many still worry about healthcare costs, because you will soon be Not-So-Young Seniors. So the Majulah Package will include a modest one-time MediSave Bonus of up to $1,000. It will give you some extra buffer, to help pay your medical expenses and insurance premiums.\\n\\nThe Majulah Package will help Young Seniors, in their 50s and early 60s, to meet your retirement needs. But besides Young Seniors, we also want to encourage older seniors to continue working for as long as you can. Hence the Majulah Package also covers the Pioneer and Merdeka Generations.\\n\\nI think quite a few here belong to the Pioneer and Merdeka Generation. Let me say to you, if you are PG and MG: If you are still working and meet the income criteria, you too will receive the Earn and Save Bonus as long as you are working. If you are not working, you can still get something from the one-time Retirement Savings Bonus and MediSave Bonus. This will be in addition to the PG or MG benefits that you are already receiving and will continue to receive. Think of this as a 58th National Day present!\\n\\nThe Majulah Package will cost the Government about $7 billion. MOF will create a new Fund to meet the full lifetime costs of the Package, using resources from this term of Government. We will honour this commitment without burdening future generations.\\n\\nThe Majulah Package will benefit some 1.4 million older people across several generations. We will also be enhancing existing schemes, like Silver Support, Workfare, and the Matched Retirement Savings Scheme and the details will be announced next year. Taken together, these improvements will help seniors to meet basic retirement needs, especially for lower- and middle-income Singaporeans so that you can have greater peace of mind in your golden years.\\n\\nSECTION 3: AGEING\\nI want to talk about two other important issues tonight – caring for our ageing population, and housing our people.\\n\\nSingapore is one of the fastest-ageing nations in the world. Today, about one in five Singaporeans is a senior, aged 65 and above. By 2030, nearly one in four Singaporeans will be a senior. I first talked about ageing in the National Day Rally back in 2007. At that time, we had 500 centenarians – people aged 100 and older. We thought that was a lot. By 2013, which is 6 years later, this had doubled to around 1,000. And by 2030, we are likely to double again to at least 2,000 centenarians! It shows vividly how our society is getting older and older, faster and faster. Today, if you ask – it is not in the chart – but we have about 1,500 already. In 2030, I will not be making this speech, but whoever is doing so will have to take care of all of us seniors, and some of us very senior.\\n\\nToday, we are an aged society; soon, we will be a ‘super-aged’ society. This has massive social and economic implications. We have much to do to help our seniors age well.\\n\\nToday, I will speak on two aspects of our preparations: active ageing; and making homes and precincts more senior-friendly.\\n\\nActive Ageing\\nFirst, on active ageing.\\n\\nWe have invested significantly in healthcare for seniors.\\n\\nThe Government plays a big role in providing care, but seniors must also play our part to look after ourselves. MOH launched Healthier SG last month. Healthier SG aims to get each of us to take more responsibility for our own health, supported by family doctors and community partners. When you enrol, you will get a personalised health plan, including when to go for screenings and vaccinations. Besides medical prescriptions, your doctor will also give you what we call social prescriptions, like advising you to lead a more active lifestyle, to maintain a healthier diet, to lose a little bit of weight, or to quit smoking. But while your GP can suggest or even arrange these for you, only you can decide to follow through and do them. But please do so. Prevention is always better than cure. My wife and I have signed up. I encourage all seniors to sign up for Healthier SG when you get the invitation from MOH.\\n\\nBeyond Healthier SG, how else can we help Singaporeans to age well? It is not just about fending off sickness – it is also about staying well, staying well both physically and mentally. Because mental wellness is just as important as physical wellness. One of the biggest threats to the well-being of seniors is loneliness. Today, many seniors are living alone. They risk becoming socially isolated. Their spouses may have passed on; their children are probably living elsewhere with their own families. So it is important that someone keeps regularly in touch with them. It is also important that they keep active and have a social network for mutual support. During COVID, many old folks were stuck at home, unable to go out for their usual activities. We were very worried that isolated and inactive, they would deteriorate quickly. So we restarted community activities for seniors as soon as we could do so safely – stand further apart, do it outdoors, but gather and do it, and keep that human contact, and that activity.\\n\\nWe will do more to help seniors stay engaged and socially active. That is why we have set up Active Ageing Centres (AACs) all over Singapore. I recently visited this Active Ageing Centre, the Bedok Radiance AAC. It is run by Thye Hua Kwan Moral Charities. I was very happy to see a vibrant community of seniors joining the activities and using the services there. Many of them told me that they were living alone, and always looked forward to coming down to the activities. It gave them something to do with their friends, something to look forward to, a sense of purpose.\\n\\nThe AAC ran a varied weekly programme: art jamming, karaoke and dance classes. When I was there, a HAPPY exercise class was in full swing – HAPPY means Healthy Ageing Promotion Programmes for You, H-A-P-P-Y.\\n\\nThe seniors looked happy, but some of them were not so well. A few were wheelchair-bound, but they still joined in the activities. This cheerful lady told me she hoped to joget again! Why not, even in a wheelchair? Other seniors were using the health services at the AAC. Some were getting their vital signs checked so that doctors could follow up if something was amiss. One was having a teleconsultation – with nurses physically there to help him, and a doctor calling in on Zoom from the polyclinic. It was good that relatives, or neighbours, were making the effort to bring the seniors down to the AAC, for them to socialise and cheer up their lives.\\n\\nWhat I found most encouraging was that many seniors were not just taking part in activities, but also helping to organise and run them – seniors for seniors. I met Mdm Goh, the one in the pink blouse, Mdm Karen, and Mdm Farida. They were preparing to deliver hot meals to frail seniors living in upstairs in the rental flats who could not come down to the AAC. They do this every day. It is a great way to build neighbourly bonds while staying active. Actually, besides meal deliveries, there are also communal meals downstairs at the AAC. The staff told me that these meals were a big draw and an important activity because they encourage the old folks to come down. When they gathered at the AACs for meals, they would socialise and make friends, and the staff could keep an eye on them, made sure they were alright. I also discovered that these meals are actually cooked by the seniors themselves, at least some of the seniors themselves! These three makciks – Mdm Aminah on the left, Mdm Rosnah, and Mdm Fatimah – they used their SkillsFuture credits to attend a food hygiene and preparation course so that they could cook meals for their fellow seniors. Mdm Fatimah told me they use less salt and sugar in their cooking to make it a Healthier Choice. Then I tasted her chicken curry, and I said, \\\"You must have used santan – coconut milk.” She said no – she uses normal milk. But it tasted just as good – sedap sekali! I had a second helping.\\n\\nIf you are observant, you would have noticed that the volunteers I have mentioned are all ladies. But we are starting to see more male seniors coming down to the AACs. The centres are introducing more activities that interest men, such as jamming. Or even something simple like a café corner, where the uncles can catch up over a coffee. There will be something for everybody at the AACs.\\n\\nI was very heartened by my visit to Bedok Radiance AAC. I believe that the network of AACs across Singapore will be a valuable resource for seniors to stay active and healthy. We will invest to expand the network, and work with community partners to enhance the AACs’ services and reach.\\n\\nIf you have elderly family members, especially if they are living on their own, please bring them to join an AAC nearby. And if you are a senior yourself, I strongly encourage you to join a centre near you, because many seniors are having a good time there. Take the first step towards active ageing, so you can live well, and age well. Be like Mdm Wong here. This is Mdm Wong, she is 97 – still going strong, still playing Mahjong! Making HDB Homes and Precincts More Senior-Friendly.\\n\\nBesides encouraging active ageing, we will also make our HDB homes and precincts more senior-friendly. Many seniors have told us that they want to live out their golden years in their own homes and neighbourhoods. It is a familiar environment, a cosy sanctuary, and they have established deep roots and meaningful friendships. This is a very good thing. We will help as many seniors to age in place as we can. We need to make a few moves to realise this.\\n\\nFirst, we will make your homes more senior-friendly. Today, under the EASE programme (Enhancement for Active Seniors), you can install fittings like ramps to help you get in and out of your homes. In toilets, you can install grab bars and make the floors slip-resistant for safety. Soon, seniors can choose from an expanded suite of fittings under EASE 2.0. For example, you can have foldable shower seats, you can have your toilet entrances widened, so that if you or your spouse needs a wheelchair, your wheelchair can be brought into the toilet, and life can be safer and much more convenient.\\n\\nSecondly, we will make it safer and more comfortable for seniors to move about their neighbourhoods. For example: we will revamp streets and linkways frequented by seniors; we will build more shelters and rest points; also more therapeutic gardens, fitness trails, and exercise machines, to encourage seniors to stay active. The roads will be made more pedestrian-friendly. For example, longer green man signals to give seniors more time to cross the road. You see down here, 36 seconds – the motorcycles and cars have to wait, does not matter, old folks’ safety is important. This is their home, their area, we put them first. Barrier-free ramps and raised zebra crossings so that wheelchair users can cross over without having a step to go down and a step to come back up again at the curb; 3D road markings and narrowed roads to slow the cars down. We will also install larger and more colourful block signs, with familiar symbols to help seniors remember their own block and find their way home. This is not where the satay stall is – it is the Satay Block, Block 113 in Kebun Bahru.\\n\\nThird, for those who need a little more help, we will build more assisted living facilities. Take for example IDeAL – the Integrated Dementia Assisted Living project at Block 115. At the Kueh Lapis Block, Block 115 in Kebun Baru. I went to open it last year. It is a ground-up project by Dementia Singapore, with some Government support, to help seniors with mild dementia. Many of the seniors live in their own flats in this block. The void deck has become their community living room, where seniors have fun and games, exercise, get their haircuts, and eat together. Whenever a senior needs anything, he or she will go to the second floor. The residents affectionately call this “Ji Lao” – the Second Floor. There are shared facilities there like a community kitchen, where they cook and hang out, and a telehealth room, where staff can monitor their vital signs and arrange for telemedicine checkups. All at Ji Lao! At IDeAL, seniors with dementia can live happily on their own upstairs, and enjoy the warmth and care of friends and community downstairs. HDB is building similar assisted living projects called Community Care Apartments. They will serve not just seniors suffering from dementia, but also those who are well. We will need a whole range of these facilities – whether for assisted living, or the AACs – to serve old folks with different needs. Some of these already exist today. But we need to improve them, scale them up, and get ready for the large numbers down the road.\\n\\nWe will keep making Singapore a more friendly home for current and future seniors: investing resources to senior-proof your homes; making precincts safer and easier to navigate; and constructing more assisted living residences, with integrated accommodation, care, and community facilities. We will do this across Singapore, starting with the towns with the most seniors like Ang Mo Kio and Bukit Merah.\\n\\nSo we are taking major steps to prepare for a super-aged society. It is part of a new national programme called “Age Well SG”, which will complement Healthier SG in improving the health of our seniors. The Ministries will share more about this in the coming months.\\n\\nTogether, we will make Singapore an endearing home for all ages, where seniors can age with dignity and grace, connected with friends and family.\\n\\nSECTION 4: HOUSING\\nNow I want to speak about public housing. HDB is a vital part of the Singapore story. Right from the very start, the PAP Government put heavy emphasis on public housing. Here is Mr Lee Kuan Yew laying the foundation stone at the Cantonment Road Housing Estate in March 1963. This was HDB’s earliest projects, one of them. Mr Lee was convinced that housing would give Singaporeans a stake in our nation’s future. Because, he explained, housing “gives more than a sensation of permanence; it is permanent…then we dig our toes in and we fight!” So, housing has always meant much more to us than a roof over our heads. It also gives every Singaporean a valuable asset and a powerful reason to fight for our country and our future. Fast forward 60 years, today we have one of the highest home ownership rates in the world. Nine in ten Singaporeans own our homes. Eight in ten live in HDB flats. Our Singaporean identity is deeply intertwined with our HDB flats and towns. These are homes we are proud to own, neighbourhoods we raise our families in, and communities we build together.\\n\\nOver the decades, the Government has kept housing affordable and accessible for Singaporeans. We price HDB flats at a substantial discount below their market value. We also provide a wide range of generous grants to first-timers, families, and the lower-income.\\n\\nCOVID disrupted our public housing programme. BTO projects were delayed. The shortfall of new flats pushed up prices of resale flats. MND and HDB have been working very hard to catch up. They are making good progress. So far, HDB has completed and delivered more than 70% of the flats that had been delayed by the pandemic. We are also ramping up supply. We have launched 50,000 flats since 2021. By 2025, in two years’ time, we will have launched another 50,000 flats, making a total of 100,000 flats. With supply catching up, the market is calming down. First-timer BTO application rates are lower. Waiting times are shorter. Resale prices are gradually stabilising.\\n\\nRecently, MND announced changes to help Singaporeans with urgent housing needs get their flats earlier. Families with young children and young married couples buying their first home will receive more ballot chances, and higher priority in flat allocation. HDB will also launch more BTO flats with shorter waiting times of two to three years. We are working extra hard, and I am confident that we will get over this hump soon.\\n\\nChanging housing landscape\\nTonight, I want to look beyond this hump, to the longer-term public housing landscape.\\n\\nSince the early 90s, HDB has used a simple framework to guide the public in buying flats. We distinguish between Mature Estates and Non-Mature Estates. Mature Estates are places like Ang Mo Kio, Toa Payoh, or Queenstown. This is a picture of Dawson, in Queenstown, where I recorded my National Day Message this year. Mature Estates are usually more centrally located, better connected, and with more amenities. Naturally these places are more popular, and their prices reflect the higher demand. Then there are the Non-Mature Estates: These are less central and further out, like Jurong East, Woodlands, and Punggol. What Non-Mature Estates lose in terms of location and convenience initially, they make up for in lower BTO prices. Between Mature and Non-Mature Estates, HDB has been able to offer a flat for every household’s budget. This framework is easy to understand, and has worked well for many years.\\n\\nBut our housing landscape is evolving. Firstly, we have fewer and fewer large tracts of undeveloped land left to build new towns and estates. Tengah will be the last new town for quite some time, at least until Paya Lebar Air Base moves out to Changi and the site is cleared and redeveloped. Increasingly, we will have to build new HDB flats within or near to existing estates. These will often be more centrally located. For example, at Mount Pleasant, where the Police Academy used to be, we are planning to build 5,000 new homes there. New projects like these – nestled in older, more developed areas with a lot more amenities – will be more popular, and will naturally cost more. Secondly, even what we call “Non-Mature Estates” today have become much more developed. We imagine non-mature estates as being very barebones. Blocks of flats surrounded by empty barren ground. Our mental image is this photo, and once upon a time it looked like this – this was Toa Payoh in the 1960s. Toa Payoh does not look like this today. But look around you now. Towns like Jurong East, Woodlands, or Punggol, that is not barebones. These towns have matured, and now have excellent connectivity and a full suite of amenities, so the distinction between Mature and Non-Mature Estates is blurring. This is reflected in BTO applications. Some choicer projects in Non-Mature Estates are even more popular than projects in Mature Estates. It shows that buyers are discerning – you know when you see a good deal, and what matters to you are the specific attributes of the project, rather than whether we call it Mature or Non-Mature.\\n\\nIn future, many more BTO developments will be in estates or locations that are effectively “mature”. That means that the framework of Mature and Non-Mature Estates will no longer work and we need a new framework. This framework has to achieve three important objectives: One, it has to keep home ownership affordable to all income groups. Two, it has to maintain a good social mix in every town and every region. And three, it has to keep the system fair for everyone. And here is how we will do it.\\n\\nFor a start, we will keep HDB flat prices affordable. We will gradually provide more housing grants, especially grants that are means-tested, like the Enhanced Housing Grant. This way, lower- and middle-income households will get the most support to own their homes. There will always be an HDB flat to meet every budget. And we can maintain a good social mix in every town and region.\\n\\nThis will work for most HDB projects, but it will still leave one particular problem and that is, with projects in choicer locations within a region. For example, projects near an MRT station or near the town centre. Such flats see the highest demand during BTO exercises. People know that HDB is offering a good deal, because these flats will fetch much higher resale prices afterwards. This turns the BTO exercise into a lottery. Those who are lucky enough to ballot such a flat stand to reap a windfall upon resale. This will not be fair to the many more who miss out.\\n\\nTake for example one recent BTO project: Central Weave at Ang Mo Kio. This is Ang Mo Kio; let me zoom in, Central Weave is right at the town centre. Let me zoom in a little bit more. It is next to the MRT and bus interchange. The market is there, the hawker centre is there, Ang Mo Kio Hub is nearby. So location, location, location. This is an excellent location; this is a highly desirable project. HDB’s selling price had to reflect these attributes. So, the prices for the biggest flats at Central Weave – the 5-Room and 3-Gen flats – ranged from $713,000 to $877,000, before grants. Even then, these flats were heavily discounted off their true market value. Some people complained that these prices were exorbitant and unaffordable. Yet these units were heavily oversubscribed. More than 6,500 households applied for just 372 such flats – 17 applicants for every flat! Clearly, these applicants must have found the Central Weave project affordable, and thought that the prices offered them good value. And no doubt many hoped their flats would fetch strong resale prices later on.\\n\\nSo think about it. If you were HDB CEO sitting down, confronted with this problem, what will you do? You have a dilemma, a dilemma with projects at choicer locations like Central Weave: should we price them higher, or lower? If we price them higher, we will shrink the windfall gains, reduce the lottery effect. This will moderate demand and that is good. But there will be sticker shock – these flats will become expensive and unaffordable to most families. And we will not get a good social mix. Some people will still afford them, but mainly those near the income ceiling, or those whose parents can help them pay for the flat. The result: the precinct will become a higher-income enclave, and that is not what we want. But if HDB prices such prices lower, more households can afford them; we achieve a better social mix, that is good, but we exacerbate the lottery effect, because the potential windfall will be even richer. Even more families will try for these flats. For every one happy successful buyer, there will be 20 or more unsuccessful buyers, and they will understandably and justifiably frustrated and very unhappy. And this is not fair. So under the present framework, whether we price such flats higher or lower, we cannot fully achieve all three objectives: affordability, a good social mix, and a fair outcome.\\n\\nSo what do we do? Central Weave is already sold, but we can expect more such situations as we build more flats in existing towns.\\n\\nHow do we solve this problem?\\n\\nNew “Plus” model\\nOur solution is to introduce a new “Plus” model for selling HDB flats at choicer locations, with stricter sale conditions so that we can moderate the prices. Let me explain carefully what I mean.\\n\\nToday, HDB launches BTO projects all over Singapore. We are all familiar with them. Everybody knows the BTO rules. For example, a 5-year Minimum Occupation Period, or MOP, after which the owner can resell the flat. There is no income ceiling for resale buyers. These are the standard rules and apply to what I will call “Standard” projects. In future, most HDB projects will still be Standard projects.\\n\\nBut within each region, some HDB projects will be in choicer locations. Take for example, Bayshore, in Bedok. This is Bedok town. Bayshore is there, let me zoom in. And you can see, Bayshore is a very good location for homes, because you have got two MRT stations, Bedok South and Bayshore MRT stations. Shopping malls will be built in this corner, Siglap CC is there. East Coast Park is across the road, and then you have the waterfront, 有山有水.\\n\\nWe will have both private and public housing in Bayshore. The HDB projects will likely be Plus projects and will be sold under different rules. HDB will give more subsidies for these Plus flats, over and above the subsidies for Standard BTO flats. This will moderate the prices of Plus flats and put them within reach of more households. But to make the scheme fair, HDB will also impose more restrictive sale conditions. For example: A longer MOP of 10 years, to favour buyers who are planning to stay there for the longer term, and discourage those who may be thinking of flipping the property and moving out as soon as they can. Tighter restrictions when the home-owner resells the Plus flat later on, such as a subsidy recovery applied on the resale price, certain percentage when you sell the flat, you pay back a certain percentage back to HDB to take back the extra discounts you enjoyed upfront since you are moving out. This is to be fair to other buyers who did not get these Plus flats. Also there will be an income ceiling on resale buyers, just like how we have an income ceiling on first-time buyers. This will moderate resale prices and help to maintain a better social mix, even in the resale market in the longer term.\\n\\nAs we build more projects in mature areas, this Plus model will help us to meet our three objectives: affordability, good social mix, and fairness. I keep on showing you this slide because this is crucial. These are the three fundamental objectives and we must bear that in mind, when we think about what is HDB doing, why is HDB doing this, how does doing this help us to achieve these objectives? It will help Singaporeans find a house that suits your needs, even in good locations. Not just for you, but for your children too.\\n\\nStandard, Plus and Prime\\nActually, the Plus model is not entirely new; we already have something similar, called the Prime Location Public Housing Model. Let us call them Prime projects for short. One example is Bukit Merah Ridge. Like other Prime projects, it is very close to the city centre. Naturally, these flats are very desirable, and will be more expensive. But we have been able to keep their selling prices reasonable by imposing tight restrictions and a subsidy recovery to moderate the windfall gains. The Prime model has shown good outcomes so far. In Bukit Merah Ridge. The selling price for a four-room flat ranged from $540,000 to $737,000, before grants. Each flat attracted 5.4 applicants – far fewer than Central Weave, even if you compare to the four-room flats in Central Weave. And we hope that Plus projects will achieve similarly good outcomes. So, let me go back to Central Weave because you are probably thinking and asking: had we sold Central Weave as a Plus project, with the tighter restrictions and additional subsidies, would HDB have priced it lower than it actually did? The answer is yes, it would, because that is the whole point of Plus projects: to enable HDB to moderate the prices of flats in choicer locations, and still be fair to all flat buyers.\\n\\nSo think of it like this. Standard flats are good flats built all over Singapore, and will have HDB’s standard subsidies and standard restrictions. Plus flats are in the choicer locations within a region, and will have more subsidies and tighter restrictions than Standard flats. And Prime flats are in the choicest and most central locations in the whole of Singapore, and they will have the most subsidies and tightest restrictions. Let me show you the whole picture in one slide.\\n\\nThe new framework of Standard, Plus, and Prime. Standard islandwide, subsidies are standard and restrictions are standard – that is why we called it standard. Plus flats have choicer region, more subsidies and tighter restrictions. Prime flats, have the choicest locations, most subsidies and tightest restrictions. Actually the quality of the flats, they are all good flats, good flats, good flats. But the locations are different, the subsidies are different and the restrictions are different. And this new framework – Standard, Plus and Prime will be a major change to the way HDB sells flats. HDB will roll out this framework for all new projects from the second half of next year. It will not affect existing projects. Your current homes, or the homes you have already booked, will not be reclassified.\\n\\nIn time to come, we will no longer refer to new projects as Mature and Non-Mature. Instead, we will build a good mix of projects within and across regions, to cater to different needs and budgets. And that is how we can fulfil our commitment to keep high-quality HDB flats accessible and affordable to you and your children for a very long time to come.\\n\\nEnhancing Access for Singles\\nThe new framework – Standard, Plus, and Prime – will affect everyone buying a new HDB flat, but there is one special group I want to address: the singles. More and more Singaporeans are choosing to be single. Singles too hope to own their homes and have more housing choices. We hear your concerns.\\n\\nToday, first-timer singles can apply for new flats, but only 2-room Flexi flats and only in Non-Mature Estates. They cannot buy new Flexi flats in Mature Estates. Singles are also not allowed to buy Prime flats. These rules are to prioritise our limited supply of flats, but unfortunately, they have restricted singles’ choices. We will do something about this.\\n\\nWhen we roll out the new framework, singles will be allowed to buy 2-room Flexi flats across all types of BTO projects – Standard, Plus, and Prime. HDB will tell you the details soon. But I am sure singles will welcome this move to have more choices to find your own home and to write your own part in Singapore’s housing story.\\n\\nOur Housing Foundations\\nI spoke earlier about the foundation stone that Mr Lee laid back in 1963. Today, Cantonment Road Housing Estate has been redeveloped into our most iconic public housing project – The Pinnacle @ Duxton. But 60 years on, that original foundation stone is still there, at the Heritage Garden at the Pinnacle. It occupies pride of place, to remind each new generation that our housing programme is a vital part of the Singapore story; that the Singapore we live in today, is what we have inherited from those who came before us; and that we owe an immense debt to the hard work and good governance of the founding fathers and the pioneer generation.\\n\\nSECTION 5: CONCLUSION\\nOur Founding Values\\nIn a few weeks’ time, we will be marking the 100th birth anniversary of Mr Lee Kuan Yew. It is timely to reflect upon the values and ideals championed by Mr Lee and the founding fathers., and for us to renew our commitment to these enduring values and ideals.\\n\\nI spoke in my Malay speech earlier about an exhibition now on at the National Museum: Semangat yang Baru: Forging a New Singapore Spirit. The exhibition tells the story of the birth of our nation. It transports us back to our early years of nation-building. It honours the indomitable spirit of the Pioneer Generation. They dared; they fought ferociously for Singapore; they never gave up. And thus they turned mudflats into a metropolis, and took us from Third World to First.\\n\\nBut our forefathers built more than a nation of bricks and mortar, skyscrapers and a thriving economy. They created a nation founded on ideals: justice and equality; religious freedom and racial harmony; a commitment to excellence; a fair system of meritocracy; and an uncompromising insistence on honest, clean government.\\n\\nIntegrity and incorruptibility are fundamental to Singapore. They are the foundation on which we run a clean and effective Government, and deliver results for Singaporeans. Mr Lee Kuan Yew considered these the most crucial ideals of all. On his 90th birthday, he came to Parliament to attend the sitting. We celebrated his birthday in the Members’ Room. We were all there – PAP MPs and Ministers, Opposition MPs led by Mr Low Thia Khiang, as well as NMPs. Frail and ill, Mr Lee said just a few words. He spoke only about one thing – he reminded us Singapore must always remain clean and incorruptible, and Ministers and MPs have to set the example. Otherwise, he said, we are finished. I will never forget those brief words. For the sake of the country, I will do all I can to keep faith with Mr Lee’s hope. No matter the price; no matter the embarrassment or political cost – I will do my utmost to keep the system clean. Every generation of PAP leaders must also stand by this – this is what Singapore depends upon.\\n\\nThe ideals I spoke about are not just abstract aspirations. They are our compass; they guide every decision we make. They give purpose and meaning to our nation building. They make Singapore stand tall amongst the nations of the world.\\n\\nBy upholding these ideals, we have over decades built a high trust society. One where people trust one another – “regardless of race, language or religion”. Where the people and the Government trust each other too, in big ways and small. This is what saw us through the ups and downs over the past 58 years, and this is how we weathered COVID-19.\\n\\nCOVID now seems like a bad dream. Confused, receding, getting forgotten. But the pandemic could well have been a real nightmare. Things could easily have gone horribly wrong, as they did in many other countries. Thankfully, we avoided disastrous outcomes, and averted the loss of many, many lives. Our people came through safe and sound; our economy revived in good shape; and our society has grown more united, not less. We owe this to our collective efforts, and our strong mutual trust, which we must strengthen and deepen to secure a bright future for our people.\\n\\nSuccession\\nAs we prepare for the future, one crucial task is leadership renewal. As you all know, my original plan was to hand over and step down as Prime Minister by 2022, before my 70th birthday. But the pandemic disrupted this plan. I promised Singaporeans that I would see the nation through the crisis, together with both the current and the 4G leadership. Now COVID is behind us, and my succession plans are back on track.\\n\\nRecently, several controversial issues have drawn Singaporeans’ attention. I have spoken about them in Parliament, and in my National Day Message. We dealt with each of them thoroughly and transparently. Let me assure you: these incidents will not delay my timetable for renewal. We are on track.\\n\\nMore and more, my task is to support the 4G team and their agenda. I want to get them off to the best start possible. They are increasingly setting the pace. My themes in this Rally are all Forward SG themes. The 4G will soon wrap up the Forward SG exercise, but their journey is just beginning. Our nation’s future depends on them, working as one with you to take Singapore forward.\\n\\nI have every confidence in Lawrence Wong and his team. We share the same core convictions – that we are stewards of Singapore, entrusted with the immense responsibility to lead and care for our nation; that our time as stewards is transient, but we are building a Singapore for the ages; and that our best service to this nation is to hand over a better, stronger Singapore to those who follow us. My team and I are deeply grateful to you for standing with us through thick and thin. Please give Lawrence and his team your fullest support too, now and after they take over.\\n\\nClosing\\nThe Singapore story has been an unlikely one from the start. Our nation is still young, and we will always be tiny. We will forever be an unlikely nation, created out of the sheer collective will of our people. Nobody expected us to survive, much less to flourish. But each time, we beat the odds; each time, we showed the world what Singapore can be.\\n\\nIt has been an exceptional story; but I believe the best parts are still to be written. Let us hold fast to: our values, which anchor us and guide our way; our mutual trust, which is the bedrock of our success; and our dreams, which drive us ever forward. Let us come together with a renewed spirit and vigour, a semangat yang baru, to build a better, brighter Singapore for generations to come. Majulah Singapura!\",\"Source\":\"https://www.pmo.gov.sg/Newsroom/National-Day-Rally-2023\",\"Abstract\":null,\"Authors\":null,\"Title\":null,\"Publisher\":null,\"PublishedDate\":null,\"Comments\":null,\"Keywords\":null,\"CreatedAt\":\"2024-09-05T01:10:45.099828\",\"UpdatedAt\":\"2024-09-05T01:10:45.099838\",\"IsActive\":true,\"ChunkGroups\":[{\"Id\":\"ea55e9d0-5c25-4dcf-a1dd-1e4f174b25f0\",\"DocumentId\":\"PwR6VmXqAfwjn84ZM6dePsLWTldPv8cNS5dESYlsY2U\",\"SplitAlgo\":\"recursive_split\",\"ChunkCount\":66,\"ChunkSize\":1000,\"Overlap\":100,\"IsActive\":true,\"ChunksDir\":\"/tmp/chunks/03fdbcae1174401899859449c8c81ba6\"}]}}"
     ]
    }
   ],
   "source": [
    "%%bash\n",
    "curl -s 'http://localhost:12036/gen/v1/rag/collection/demo/document/PwR6VmXqAfwjn84ZM6dePsLWTldPv8cNS5dESYlsY2U'"
   ]
  },
  {
   "cell_type": "markdown",
   "metadata": {},
   "source": [
    "i) update document"
   ]
  },
  {
   "cell_type": "code",
   "execution_count": 12,
   "metadata": {},
   "outputs": [
    {
     "name": "stdout",
     "output_type": "stream",
     "text": [
      "{\"message\":\"Document updated successfully\",\"document\":\"PwR6VmXqAfwjn84ZM6dePsLWTldPv8cNS5dESYlsY2U\"}"
     ]
    }
   ],
   "source": [
    "%%bash\n",
    "curl -X PUT \\\n",
    "    http://localhost:12036/gen/v1/rag/collection/demo/document/PwR6VmXqAfwjn84ZM6dePsLWTldPv8cNS5dESYlsY2U \\\n",
    "    -H 'Content-Type: application/json' \\\n",
    "    -s \\\n",
    "    -d '{\n",
    "            \"Publisher\": \"ABC\"\n",
    "        }'\n"
   ]
  },
  {
   "cell_type": "markdown",
   "metadata": {},
   "source": [
    "j) delete document"
   ]
  },
  {
   "cell_type": "code",
   "execution_count": 13,
   "metadata": {},
   "outputs": [
    {
     "name": "stdout",
     "output_type": "stream",
     "text": [
      "{\"message\":\"Document with id PwR6VmXqAfwjn84ZM6dePsLWTldPv8cNS5dESYlsY2U deleted successfully\"}"
     ]
    }
   ],
   "source": [
    "%%bash\n",
    "curl -s -X DELETE http://localhost:12036/gen/v1/rag/collection/demo/document/PwR6VmXqAfwjn84ZM6dePsLWTldPv8cNS5dESYlsY2U"
   ]
  },
  {
   "cell_type": "markdown",
   "metadata": {},
   "source": [
    "---\n",
    "#### Example : Index PDF using Multi-Step Indexing\n",
    "\n",
    "The purpose for multi-step is to support interactive status update so that the client can make use of the websocket manager to get the status of the indexing process in a step-by-step manner.\n",
    "\n",
    "NOTE: The same is achievable using the single-step indexing as well as before.\n",
    "\n",
    "```\n",
    "curl -X POST 'http://localhost:12036/gen/v1/rag/index-file' \\\n",
    "    -H 'accept: application/json' \\\n",
    "    -H 'Content-Type: multipart/form-data' \\\n",
    "    -s \\\n",
    "    -F 'collection_name=demo' \\\n",
    "    -F 'file=@./attention-is-all-you-need.pdf' \\\n",
    "    -F 'req={\"CollectionName\":\"demo\",\"Source\": \"https://arxiv.org/abs/1706.03762\",\"FilePath\":\"attention-is-all-you-need.pdf\"}'\n",
    "```\n"
   ]
  },
  {
   "cell_type": "markdown",
   "metadata": {},
   "source": [
    "##### Step 1: Index document header"
   ]
  },
  {
   "cell_type": "code",
   "execution_count": 35,
   "metadata": {},
   "outputs": [
    {
     "name": "stdout",
     "output_type": "stream",
     "text": [
      "{\"Id\":\"-Sc9eXzUiSlaFV3qEDaKam33Boamkvv4tea8YPsjpy0\",\"CollectionName\":\"demo\",\"ByteSize\":2215244,\"FileName\":\"attention-is-all-you-need.pdf\",\"FileType\":\".pdf\",\"File\":null,\"Source\":\"https://arxiv.org/abs/1706.03762\",\"Abstract\":null,\"Authors\":null,\"Title\":null,\"Publisher\":null,\"PublishedDate\":null,\"Comments\":null,\"Keywords\":null,\"CreatedAt\":\"2024-09-05T01:44:49.849553\",\"UpdatedAt\":\"2024-09-05T01:44:49.849564\",\"IsActive\":true,\"ChunkGroups\":[]}"
     ]
    }
   ],
   "source": [
    "%%bash\n",
    "curl -X POST 'http://localhost:12036/gen/v1/rag/step/header' \\\n",
    "    -H 'accept: application/json' \\\n",
    "    -H 'Content-Type: multipart/form-data' \\\n",
    "    -s \\\n",
    "    -F 'file=@./attention-is-all-you-need.pdf' \\\n",
    "    -F 'req={\"CollectionName\":\"demo\",\"Source\": \"https://arxiv.org/abs/1706.03762\",\"FilePath\":\"attention-is-all-you-need.pdf\"}'"
   ]
  },
  {
   "cell_type": "markdown",
   "metadata": {},
   "source": [
    "##### Step 2: Split document into a group of chunks"
   ]
  },
  {
   "cell_type": "code",
   "execution_count": 36,
   "metadata": {},
   "outputs": [
    {
     "name": "stdout",
     "output_type": "stream",
     "text": [
      "17ab24db-1ea4-4fc1-bae2-698df2068e13\n"
     ]
    }
   ],
   "source": [
    "import json\n",
    "import os\n",
    "\n",
    "# Execute the curl command and capture the response\n",
    "response = !curl -X POST 'http://localhost:12036/gen/v1/rag/step/split' \\\n",
    "    -H 'Content-Type: application/json' \\\n",
    "    -s \\\n",
    "    -d '{\\\n",
    "            \"collection_name\": \"demo\",\\\n",
    "            \"document_id\": \"-Sc9eXzUiSlaFV3qEDaKam33Boamkvv4tea8YPsjpy0\",\\\n",
    "            \"chunk_size\": 1000,\\\n",
    "            \"chunk_overlap\": 100\\\n",
    "        }'\n",
    "\n",
    "# Convert response to string, then load it as JSON\n",
    "response_json = json.loads(''.join(response))\n",
    "\n",
    "# Extract the Id\n",
    "document_id = response_json[\"Id\"]\n",
    "print(document_id)\n",
    "\n",
    "# Set environment variable\n",
    "os.environ['DOCUMENT_ID'] = document_id\n"
   ]
  },
  {
   "cell_type": "markdown",
   "metadata": {},
   "source": [
    "##### Step 3: Index each chunk in the database"
   ]
  },
  {
   "cell_type": "code",
   "execution_count": 37,
   "metadata": {},
   "outputs": [
    {
     "name": "stdout",
     "output_type": "stream",
     "text": [
      "17ab24db-1ea4-4fc1-bae2-698df2068e13\n"
     ]
    },
    {
     "name": "stdout",
     "output_type": "stream",
     "text": [
      "{\"chunk_ids\":[\"bd195379-81ae-48a3-8666-a193756e121c\",\"8ff2ec50-3bb7-4639-9da3-cbb4cae3482e\",\"561e1ea2-a9d8-4857-9800-0abecb0d84bf\",\"92fa074f-a4c4-488c-9fb7-b07365f5a53b\",\"1cf78885-c926-4390-ae2d-435696f74d2d\",\"bb222005-174e-47de-a5c7-329bef6380e1\",\"6715da3c-0238-43a4-90b5-612fd9467d4e\",\"bba19556-11e7-40e6-b444-043b9d85c589\",\"f77468fa-a302-422d-9d7c-7284855cb0d4\",\"99124602-20be-4eab-a296-a9e537a257f8\",\"d2c2e01c-95ed-41bc-9a0f-f5f3ec8eeb16\",\"3e610487-1b14-4dee-92dd-0213d0241eca\",\"507558d5-257b-4437-b39b-e557c4e58f5b\",\"94dc9e93-3148-402e-a4d8-0b6cbf581571\",\"2ac4ac47-e8b9-4020-b87f-8b08cb37d716\",\"e452e91c-c4d4-4b77-bde3-2300dd093e9c\",\"d8371791-1636-403f-8218-0b1fb9ba1783\",\"43d5c392-bc5e-48be-b696-52d863bcef0f\",\"1d8a47cd-134d-4f06-a657-fe856cc7a0f1\",\"983e25f5-9108-4975-8b05-d018ae4336f9\",\"20f1e559-506d-43ea-a56a-e19f4e656c59\",\"1318da34-8186-45a4-ae58-1715483535ae\",\"26ee7b2e-e564-49a3-b8e1-60f0bf96e35c\",\"43e72e92-9e08-4ad9-8b75-f8d46ddcfaff\",\"ded714f6-d2d3-44d9-9342-1c973fe0eaea\",\"06c66333-e12b-439f-9742-cfbc36baee27\",\"5ed2f3e2-2774-472a-9fb9-e5349d7210f9\",\"79f7ef62-e9ef-4959-8bc7-5c2aa2f90eac\",\"3cdfd733-5ae3-4a2e-9782-6a662b1fbcf0\",\"5972980b-e84e-471b-81b1-6af2cbd5119e\",\"a558f2bf-c9a6-44ec-840f-d86d3d304a42\",\"9a69ed84-b439-495f-9002-46e3857a4cf0\",\"7d34f07d-72d7-4179-b785-a80879aef5e2\",\"ff90672e-3150-48ab-b38b-8ad11230ee51\",\"bb77db9f-c63a-4fa1-be25-94d16c5f8e66\",\"fa52d2e1-8df4-4d2f-af16-9e5d00f40628\",\"1060d0f6-594c-4229-ab16-4d4e05d88025\",\"7815af83-c8cf-4116-8517-4a1ba547df75\",\"57a26f54-d474-409f-a42b-57e6786ace34\",\"c4067dbc-4641-4eb7-aab5-810819c07007\",\"eb5b4964-ed8e-4d64-aa39-0487769c206e\",\"36973f99-15db-4509-b38f-771d65cdfaf8\",\"47eca5ec-218a-45d2-b643-339234dc48d2\",\"b63ddc53-2422-4ece-8f3e-11e92c6b9004\"]}"
     ]
    }
   ],
   "source": [
    "%%bash\n",
    "echo $DOCUMENT_ID\n",
    "curl -X POST 'http://localhost:12036/gen/v1/rag/step/index' \\\n",
    "    -H 'Content-Type: application/json' \\\n",
    "    -s \\\n",
    "    -d '{\n",
    "            \"collection_name\": \"demo\",\n",
    "            \"document_id\": \"-Sc9eXzUiSlaFV3qEDaKam33Boamkvv4tea8YPsjpy0\",\n",
    "            \"chunkgroup_id\": \"'$DOCUMENT_ID'\"\n",
    "        }'"
   ]
  },
  {
   "cell_type": "markdown",
   "metadata": {},
   "source": [
    "---\n",
    "\n",
    "## 5. Docker\n",
    "\n",
    "**Instructions:** \n",
    "\n",
    "- Press **CTRL+SHIFT+P** > **Tasks: Run Task** > **docker-compose: up**\n",
    "\n",
    "#### Smoke Test"
   ]
  },
  {
   "cell_type": "code",
   "execution_count": null,
   "metadata": {},
   "outputs": [],
   "source": [
    "%%bash\n",
    "curl http://localhost:12036\n"
   ]
  },
  {
   "cell_type": "markdown",
   "metadata": {},
   "source": [
    "**Tests:**\n",
    "\n",
    "Repeat the API test (#)\n",
    "\n",
    "**Tear Down:**\n",
    "\n",
    "- Press **CTRL+SHIFT+P** > **Tasks: Run Task** > **docker-compose: down**\n",
    "\n",
    "### Debugging\n",
    "\n",
    "a) Container must be started with \"python -m debugpy --listen 0.0.0.0:5678 main.py\"\n",
    "\n",
    "b) Port 5678 must be opened.\n",
    "\n",
    "c) Click on \"Debug\" in Tool bar\n",
    "\n",
    "d) Select \"Attach\" > \"Run and Debug\"\n",
    "\n",
    "e) Add a \"breakpoint\" in the code\n",
    "\n",
    "f) Run the API test to see if it trigger the breakpoint."
   ]
  }
 ],
 "metadata": {
  "kernelspec": {
   "display_name": "gai-rag-svr",
   "language": "python",
   "name": "python3"
  },
  "language_info": {
   "codemirror_mode": {
    "name": "ipython",
    "version": 3
   },
   "file_extension": ".py",
   "mimetype": "text/x-python",
   "name": "python",
   "nbconvert_exporter": "python",
   "pygments_lexer": "ipython3",
   "version": "3.10.13"
  }
 },
 "nbformat": 4,
 "nbformat_minor": 2
}
